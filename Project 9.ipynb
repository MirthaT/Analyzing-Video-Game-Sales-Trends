{
 "cells": [
  {
   "cell_type": "markdown",
   "metadata": {},
   "source": [
    "# Hola Cece! <a class=\"tocSkip\"></a>\n",
    "\n",
    "Mi nombre es Oscar Flores y tengo el gusto de revisar tu proyecto. Si tienes algún comentario que quieras agregar en tus respuestas te puedes referir a mi como Oscar, no hay problema que me trates de tú.\n",
    "\n",
    "Si veo un error en la primera revisión solamente lo señalaré y dejaré que tú encuentres de qué se trata y cómo arreglarlo. Debo prepararte para que te desempeñes como especialista en Data, en un trabajo real, el responsable a cargo tuyo hará lo mismo. Si aún tienes dificultades para resolver esta tarea, te daré indicaciones más precisas en una siguiente iteración.\n",
    "\n",
    "Te dejaré mis comentarios más abajo - **por favor, no los muevas, modifiques o borres**\n",
    "\n",
    "Comenzaré mis comentarios con un resumen de los puntos que están bien, aquellos que debes corregir y aquellos que puedes mejorar. Luego deberás revisar todo el notebook para leer mis comentarios, los cuales estarán en rectángulos de color verde, amarillo o rojo como siguen:\n",
    "\n",
    "<div class=\"alert alert-block alert-success\">\n",
    "<b>Comentario de Reviewer</b> <a class=\"tocSkip\"></a>\n",
    "    \n",
    "Muy bien! Toda la respuesta fue lograda satisfactoriamente.\n",
    "</div>\n",
    "\n",
    "<div class=\"alert alert-block alert-warning\">\n",
    "<b>Comentario de Reviewer</b> <a class=\"tocSkip\"></a>\n",
    "\n",
    "Existen detalles a mejorar. Existen recomendaciones.\n",
    "</div>\n",
    "\n",
    "<div class=\"alert alert-block alert-danger\">\n",
    "\n",
    "<b>Comentario de Reviewer</b> <a class=\"tocSkip\"></a>\n",
    "\n",
    "Se necesitan correcciones en el bloque. El trabajo no puede ser aceptado con comentarios en rojo sin solucionar.\n",
    "</div>\n",
    "\n",
    "Cualquier comentario que quieras agregar entre iteraciones de revisión lo puedes hacer de la siguiente manera:\n",
    "\n",
    "<div class=\"alert alert-block alert-info\">\n",
    "<b>Respuesta estudiante.</b> <a class=\"tocSkip\"></a>\n",
    "</div>\n"
   ]
  },
  {
   "cell_type": "markdown",
   "metadata": {},
   "source": [
    "## Resumen de la revisión 1 <a class=\"tocSkip\"></a>"
   ]
  },
  {
   "cell_type": "markdown",
   "metadata": {},
   "source": [
    "<div class=\"alert alert-block alert-success\">\n",
    "<b>Comentario de Reviewer</b> <a class=\"tocSkip\"></a>\n",
    "\n",
    "Bien hecho! Has completado correctamente todo lo necesario en el notebook, tu proyecto está aprobado!.\n",
    "    \n",
    "Saludos    \n",
    "</div>"
   ]
  },
  {
   "cell_type": "markdown",
   "metadata": {},
   "source": [
    "----"
   ]
  },
  {
   "cell_type": "markdown",
   "metadata": {
    "toc": true
   },
   "source": [
    "<h1>Table of Contents<span class=\"tocSkip\"></span></h1>\n",
    "<div class=\"toc\"><ul class=\"toc-item\"><li><span><a href=\"#Inicialización\" data-toc-modified-id=\"Inicialización-1\"><span class=\"toc-item-num\">1&nbsp;&nbsp;</span>Inicialización</a></span></li><li><span><a href=\"#Cargar-datos\" data-toc-modified-id=\"Cargar-datos-2\"><span class=\"toc-item-num\">2&nbsp;&nbsp;</span>Cargar datos</a></span></li><li><span><a href=\"#Análisis-exploratorio-de-los-datos\" data-toc-modified-id=\"Análisis-exploratorio-de-los-datos-3\"><span class=\"toc-item-num\">3&nbsp;&nbsp;</span>Análisis exploratorio de los datos</a></span><ul class=\"toc-item\"><li><span><a href=\"#Verificación-de-valores-ausentes\" data-toc-modified-id=\"Verificación-de-valores-ausentes-3.1\"><span class=\"toc-item-num\">3.1&nbsp;&nbsp;</span>Verificación de valores ausentes</a></span></li><li><span><a href=\"#Verificacion-de-datos-duplicados\" data-toc-modified-id=\"Verificacion-de-datos-duplicados-3.2\"><span class=\"toc-item-num\">3.2&nbsp;&nbsp;</span>Verificacion de datos duplicados</a></span></li><li><span><a href=\"#Imputación-de-valores-ausentes\" data-toc-modified-id=\"Imputación-de-valores-ausentes-3.3\"><span class=\"toc-item-num\">3.3&nbsp;&nbsp;</span>Imputación de valores ausentes</a></span></li></ul></li><li><span><a href=\"#Análisis-de-datos\" data-toc-modified-id=\"Análisis-de-datos-4\"><span class=\"toc-item-num\">4&nbsp;&nbsp;</span>Análisis de datos</a></span><ul class=\"toc-item\"><li><span><a href=\"#Proporciones-de-los-distintos-tipos-de-establecimientos.-Traza-un-gráfico.\" data-toc-modified-id=\"Proporciones-de-los-distintos-tipos-de-establecimientos.-Traza-un-gráfico.-4.1\"><span class=\"toc-item-num\">4.1&nbsp;&nbsp;</span>Proporciones de los distintos tipos de establecimientos. Traza un gráfico.</a></span></li><li><span><a href=\"#Proporciones-de-los-establecimientos-que-pertenecen-a-una-cadena-y-de-los-que-no.-Traza-un-gráfico.\" data-toc-modified-id=\"Proporciones-de-los-establecimientos-que-pertenecen-a-una-cadena-y-de-los-que-no.-Traza-un-gráfico.-4.2\"><span class=\"toc-item-num\">4.2&nbsp;&nbsp;</span>Proporciones de los establecimientos que pertenecen a una cadena y de los que no. Traza un gráfico.</a></span></li><li><span><a href=\"#Distribución-del-número-de-asientos-por-tipo-de-establecimiento-y-cadena\" data-toc-modified-id=\"Distribución-del-número-de-asientos-por-tipo-de-establecimiento-y-cadena-4.3\"><span class=\"toc-item-num\">4.3&nbsp;&nbsp;</span>Distribución del número de asientos por tipo de establecimiento y cadena</a></span></li><li><span><a href=\"#Promedio-de-número-de-asientos-para-cada-tipo-de-restaurante.-De-promedio,-¿qué-tipo-de-restaurante-tiene-el-mayor-número-de-asientos?-Traza-gráficos.\" data-toc-modified-id=\"Promedio-de-número-de-asientos-para-cada-tipo-de-restaurante.-De-promedio,-¿qué-tipo-de-restaurante-tiene-el-mayor-número-de-asientos?-Traza-gráficos.-4.4\"><span class=\"toc-item-num\">4.4&nbsp;&nbsp;</span>Promedio de número de asientos para cada tipo de restaurante. De promedio, ¿qué tipo de restaurante tiene el mayor número de asientos? Traza gráficos.</a></span></li><li><span><a href=\"#Coloca-los-datos-de-los-nombres-de-las-calles-de-la-columna-address-en-una-columna-separada.\" data-toc-modified-id=\"Coloca-los-datos-de-los-nombres-de-las-calles-de-la-columna-address-en-una-columna-separada.-4.5\"><span class=\"toc-item-num\">4.5&nbsp;&nbsp;</span>Coloca los datos de los nombres de las calles de la columna address en una columna separada.</a></span></li><li><span><a href=\"#10-Principales-calles-con-mayor-concetración-de-restaurantes\" data-toc-modified-id=\"10-Principales-calles-con-mayor-concetración-de-restaurantes-4.6\"><span class=\"toc-item-num\">4.6&nbsp;&nbsp;</span>10 Principales calles con mayor concetración de restaurantes</a></span></li><li><span><a href=\"#Número-de-calles-que-solo-tienen-un-restaurante\" data-toc-modified-id=\"Número-de-calles-que-solo-tienen-un-restaurante-4.7\"><span class=\"toc-item-num\">4.7&nbsp;&nbsp;</span>Número de calles que solo tienen un restaurante</a></span></li><li><span><a href=\"#Para-las-calles-con-muchos-restaurantes,-analiza-la-distribución-del-número-de-asientos.-¿Qué-tendencias-puedes-ver?\" data-toc-modified-id=\"Para-las-calles-con-muchos-restaurantes,-analiza-la-distribución-del-número-de-asientos.-¿Qué-tendencias-puedes-ver?-4.8\"><span class=\"toc-item-num\">4.8&nbsp;&nbsp;</span>Para las calles con muchos restaurantes, analiza la distribución del número de asientos. ¿Qué tendencias puedes ver?</a></span></li></ul></li><li><span><a href=\"#Conclusión\" data-toc-modified-id=\"Conclusión-5\"><span class=\"toc-item-num\">5&nbsp;&nbsp;</span>Conclusión</a></span></li></ul></div>"
   ]
  },
  {
   "cell_type": "markdown",
   "metadata": {},
   "source": [
    "#  Descripción del proyecto\n",
    "\n",
    "\n",
    "Has decidido abrir un pequeño café regentado por robots en Los Ángeles. El proyecto es prometedor pero caro, así que tú y tus compañeros decidís intentar atraer inversionistas. Están interesados en las condiciones actuales del mercado, ¿serás capaz de mantener tu éxito cuando la novedad de los camareros robot desaparezca?\n",
    "Eres un gurú del análisis así que te han pedido que prepares un estudio de mercado. Tienes datos procedentes de fuentes abiertas sobre restaurantes en LA."
   ]
  },
  {
   "cell_type": "markdown",
   "metadata": {},
   "source": [
    "## Inicialización\n",
    "\n",
    "A continuación cargaré las librerias necesarias para el desarrollo del proyecto."
   ]
  },
  {
   "cell_type": "code",
   "execution_count": 1,
   "metadata": {},
   "outputs": [],
   "source": [
    "import matplotlib.pyplot as plt\n",
    "import seaborn as sns\n",
    "import scipy.stats as stats\n",
    "import numpy as np\n",
    "import pandas as pd"
   ]
  },
  {
   "cell_type": "markdown",
   "metadata": {},
   "source": [
    "## Cargar datos"
   ]
  },
  {
   "cell_type": "code",
   "execution_count": 2,
   "metadata": {},
   "outputs": [],
   "source": [
    "rest_data = pd.read_csv('/datasets/rest_data_us.csv')"
   ]
  },
  {
   "cell_type": "markdown",
   "metadata": {},
   "source": [
    "## Análisis exploratorio de los datos\n",
    "\n",
    "Comenzaré explorando del dataset 'rest_la' para obtener una comprensión inicial de los datos y, si es necesario, realizar correcciones o ajustes para garantizar que estén en un formato adecuado para el análisis."
   ]
  },
  {
   "cell_type": "code",
   "execution_count": 3,
   "metadata": {},
   "outputs": [
    {
     "name": "stdout",
     "output_type": "stream",
     "text": [
      "<class 'pandas.core.frame.DataFrame'>\n",
      "RangeIndex: 9651 entries, 0 to 9650\n",
      "Data columns (total 6 columns):\n",
      " #   Column       Non-Null Count  Dtype \n",
      "---  ------       --------------  ----- \n",
      " 0   id           9651 non-null   int64 \n",
      " 1   object_name  9651 non-null   object\n",
      " 2   address      9651 non-null   object\n",
      " 3   chain        9648 non-null   object\n",
      " 4   object_type  9651 non-null   object\n",
      " 5   number       9651 non-null   int64 \n",
      "dtypes: int64(2), object(4)\n",
      "memory usage: 452.5+ KB\n"
     ]
    },
    {
     "data": {
      "text/html": [
       "<div>\n",
       "<style scoped>\n",
       "    .dataframe tbody tr th:only-of-type {\n",
       "        vertical-align: middle;\n",
       "    }\n",
       "\n",
       "    .dataframe tbody tr th {\n",
       "        vertical-align: top;\n",
       "    }\n",
       "\n",
       "    .dataframe thead th {\n",
       "        text-align: right;\n",
       "    }\n",
       "</style>\n",
       "<table border=\"1\" class=\"dataframe\">\n",
       "  <thead>\n",
       "    <tr style=\"text-align: right;\">\n",
       "      <th></th>\n",
       "      <th>id</th>\n",
       "      <th>number</th>\n",
       "    </tr>\n",
       "  </thead>\n",
       "  <tbody>\n",
       "    <tr>\n",
       "      <th>count</th>\n",
       "      <td>9651.000000</td>\n",
       "      <td>9651.000000</td>\n",
       "    </tr>\n",
       "    <tr>\n",
       "      <th>mean</th>\n",
       "      <td>16611.000000</td>\n",
       "      <td>43.695161</td>\n",
       "    </tr>\n",
       "    <tr>\n",
       "      <th>std</th>\n",
       "      <td>2786.148058</td>\n",
       "      <td>47.622874</td>\n",
       "    </tr>\n",
       "    <tr>\n",
       "      <th>min</th>\n",
       "      <td>11786.000000</td>\n",
       "      <td>1.000000</td>\n",
       "    </tr>\n",
       "    <tr>\n",
       "      <th>25%</th>\n",
       "      <td>14198.500000</td>\n",
       "      <td>14.000000</td>\n",
       "    </tr>\n",
       "    <tr>\n",
       "      <th>50%</th>\n",
       "      <td>16611.000000</td>\n",
       "      <td>27.000000</td>\n",
       "    </tr>\n",
       "    <tr>\n",
       "      <th>75%</th>\n",
       "      <td>19023.500000</td>\n",
       "      <td>46.000000</td>\n",
       "    </tr>\n",
       "    <tr>\n",
       "      <th>max</th>\n",
       "      <td>21436.000000</td>\n",
       "      <td>229.000000</td>\n",
       "    </tr>\n",
       "  </tbody>\n",
       "</table>\n",
       "</div>"
      ],
      "text/plain": [
       "                 id       number\n",
       "count   9651.000000  9651.000000\n",
       "mean   16611.000000    43.695161\n",
       "std     2786.148058    47.622874\n",
       "min    11786.000000     1.000000\n",
       "25%    14198.500000    14.000000\n",
       "50%    16611.000000    27.000000\n",
       "75%    19023.500000    46.000000\n",
       "max    21436.000000   229.000000"
      ]
     },
     "metadata": {},
     "output_type": "display_data"
    },
    {
     "data": {
      "text/html": [
       "<div>\n",
       "<style scoped>\n",
       "    .dataframe tbody tr th:only-of-type {\n",
       "        vertical-align: middle;\n",
       "    }\n",
       "\n",
       "    .dataframe tbody tr th {\n",
       "        vertical-align: top;\n",
       "    }\n",
       "\n",
       "    .dataframe thead th {\n",
       "        text-align: right;\n",
       "    }\n",
       "</style>\n",
       "<table border=\"1\" class=\"dataframe\">\n",
       "  <thead>\n",
       "    <tr style=\"text-align: right;\">\n",
       "      <th></th>\n",
       "      <th>id</th>\n",
       "      <th>object_name</th>\n",
       "      <th>address</th>\n",
       "      <th>chain</th>\n",
       "      <th>object_type</th>\n",
       "      <th>number</th>\n",
       "    </tr>\n",
       "  </thead>\n",
       "  <tbody>\n",
       "    <tr>\n",
       "      <th>0</th>\n",
       "      <td>11786</td>\n",
       "      <td>HABITAT COFFEE SHOP</td>\n",
       "      <td>3708 N EAGLE ROCK BLVD</td>\n",
       "      <td>False</td>\n",
       "      <td>Cafe</td>\n",
       "      <td>26</td>\n",
       "    </tr>\n",
       "    <tr>\n",
       "      <th>1</th>\n",
       "      <td>11787</td>\n",
       "      <td>REILLY'S</td>\n",
       "      <td>100 WORLD WAY # 120</td>\n",
       "      <td>False</td>\n",
       "      <td>Restaurant</td>\n",
       "      <td>9</td>\n",
       "    </tr>\n",
       "    <tr>\n",
       "      <th>2</th>\n",
       "      <td>11788</td>\n",
       "      <td>STREET CHURROS</td>\n",
       "      <td>6801 HOLLYWOOD BLVD # 253</td>\n",
       "      <td>False</td>\n",
       "      <td>Fast Food</td>\n",
       "      <td>20</td>\n",
       "    </tr>\n",
       "    <tr>\n",
       "      <th>3</th>\n",
       "      <td>11789</td>\n",
       "      <td>TRINITI ECHO PARK</td>\n",
       "      <td>1814 W SUNSET BLVD</td>\n",
       "      <td>False</td>\n",
       "      <td>Restaurant</td>\n",
       "      <td>22</td>\n",
       "    </tr>\n",
       "    <tr>\n",
       "      <th>4</th>\n",
       "      <td>11790</td>\n",
       "      <td>POLLEN</td>\n",
       "      <td>2100 ECHO PARK AVE</td>\n",
       "      <td>False</td>\n",
       "      <td>Restaurant</td>\n",
       "      <td>20</td>\n",
       "    </tr>\n",
       "    <tr>\n",
       "      <th>5</th>\n",
       "      <td>11791</td>\n",
       "      <td>THE SPOT GRILL</td>\n",
       "      <td>10004 NATIONAL BLVD</td>\n",
       "      <td>False</td>\n",
       "      <td>Restaurant</td>\n",
       "      <td>14</td>\n",
       "    </tr>\n",
       "    <tr>\n",
       "      <th>6</th>\n",
       "      <td>11792</td>\n",
       "      <td>CPK</td>\n",
       "      <td>100 WORLD WAY # 126</td>\n",
       "      <td>False</td>\n",
       "      <td>Restaurant</td>\n",
       "      <td>100</td>\n",
       "    </tr>\n",
       "    <tr>\n",
       "      <th>7</th>\n",
       "      <td>11793</td>\n",
       "      <td>PHO LALA</td>\n",
       "      <td>3500 W 6TH ST STE 226</td>\n",
       "      <td>False</td>\n",
       "      <td>Restaurant</td>\n",
       "      <td>7</td>\n",
       "    </tr>\n",
       "    <tr>\n",
       "      <th>8</th>\n",
       "      <td>11794</td>\n",
       "      <td>ABC DONUTS</td>\n",
       "      <td>3027 N SAN FERNANDO RD UNIT 103</td>\n",
       "      <td>True</td>\n",
       "      <td>Fast Food</td>\n",
       "      <td>1</td>\n",
       "    </tr>\n",
       "    <tr>\n",
       "      <th>9</th>\n",
       "      <td>11795</td>\n",
       "      <td>UPSTAIRS</td>\n",
       "      <td>3707 N CAHUENGA BLVD</td>\n",
       "      <td>False</td>\n",
       "      <td>Restaurant</td>\n",
       "      <td>35</td>\n",
       "    </tr>\n",
       "  </tbody>\n",
       "</table>\n",
       "</div>"
      ],
      "text/plain": [
       "      id          object_name                          address  chain  \\\n",
       "0  11786  HABITAT COFFEE SHOP           3708 N EAGLE ROCK BLVD  False   \n",
       "1  11787             REILLY'S              100 WORLD WAY # 120  False   \n",
       "2  11788       STREET CHURROS        6801 HOLLYWOOD BLVD # 253  False   \n",
       "3  11789    TRINITI ECHO PARK               1814 W SUNSET BLVD  False   \n",
       "4  11790               POLLEN               2100 ECHO PARK AVE  False   \n",
       "5  11791       THE SPOT GRILL              10004 NATIONAL BLVD  False   \n",
       "6  11792                  CPK              100 WORLD WAY # 126  False   \n",
       "7  11793             PHO LALA            3500 W 6TH ST STE 226  False   \n",
       "8  11794           ABC DONUTS  3027 N SAN FERNANDO RD UNIT 103   True   \n",
       "9  11795             UPSTAIRS             3707 N CAHUENGA BLVD  False   \n",
       "\n",
       "  object_type  number  \n",
       "0        Cafe      26  \n",
       "1  Restaurant       9  \n",
       "2   Fast Food      20  \n",
       "3  Restaurant      22  \n",
       "4  Restaurant      20  \n",
       "5  Restaurant      14  \n",
       "6  Restaurant     100  \n",
       "7  Restaurant       7  \n",
       "8   Fast Food       1  \n",
       "9  Restaurant      35  "
      ]
     },
     "execution_count": 3,
     "metadata": {},
     "output_type": "execute_result"
    }
   ],
   "source": [
    "rest_data.info()\n",
    "display (rest_data.describe())\n",
    "rest_data.head(10)"
   ]
  },
  {
   "cell_type": "markdown",
   "metadata": {},
   "source": [
    "El DataFrame 'rest_data' contiene 9651 filas, se observa que existen valores ausentes en la columna 'chain'(3 en total). "
   ]
  },
  {
   "cell_type": "markdown",
   "metadata": {},
   "source": [
    "<div class=\"alert alert-block alert-success\">\n",
    "<b>Comentario de Reviewer</b> <a class=\"tocSkip\"></a>\n",
    "\n",
    "Ok, bien con el análisis inicial\n",
    "</div>"
   ]
  },
  {
   "cell_type": "markdown",
   "metadata": {},
   "source": [
    "### Verificación de valores ausentes"
   ]
  },
  {
   "cell_type": "code",
   "execution_count": 4,
   "metadata": {},
   "outputs": [
    {
     "data": {
      "text/html": [
       "<div>\n",
       "<style scoped>\n",
       "    .dataframe tbody tr th:only-of-type {\n",
       "        vertical-align: middle;\n",
       "    }\n",
       "\n",
       "    .dataframe tbody tr th {\n",
       "        vertical-align: top;\n",
       "    }\n",
       "\n",
       "    .dataframe thead th {\n",
       "        text-align: right;\n",
       "    }\n",
       "</style>\n",
       "<table border=\"1\" class=\"dataframe\">\n",
       "  <thead>\n",
       "    <tr style=\"text-align: right;\">\n",
       "      <th></th>\n",
       "      <th>id</th>\n",
       "      <th>object_name</th>\n",
       "      <th>address</th>\n",
       "      <th>chain</th>\n",
       "      <th>object_type</th>\n",
       "      <th>number</th>\n",
       "    </tr>\n",
       "  </thead>\n",
       "  <tbody>\n",
       "    <tr>\n",
       "      <th>7408</th>\n",
       "      <td>19194</td>\n",
       "      <td>TAQUERIA LOS 3 CARNALES</td>\n",
       "      <td>5000 E WHITTIER BLVD</td>\n",
       "      <td>NaN</td>\n",
       "      <td>Restaurant</td>\n",
       "      <td>14</td>\n",
       "    </tr>\n",
       "    <tr>\n",
       "      <th>7523</th>\n",
       "      <td>19309</td>\n",
       "      <td>JAMMIN JIMMY'S PIZZA</td>\n",
       "      <td>1641 FIRESTONE BLVD</td>\n",
       "      <td>NaN</td>\n",
       "      <td>Pizza</td>\n",
       "      <td>1</td>\n",
       "    </tr>\n",
       "    <tr>\n",
       "      <th>8648</th>\n",
       "      <td>20434</td>\n",
       "      <td>THE LEXINGTON THEATER</td>\n",
       "      <td>129 E 3RD ST</td>\n",
       "      <td>NaN</td>\n",
       "      <td>Restaurant</td>\n",
       "      <td>35</td>\n",
       "    </tr>\n",
       "  </tbody>\n",
       "</table>\n",
       "</div>"
      ],
      "text/plain": [
       "         id              object_name               address chain object_type  \\\n",
       "7408  19194  TAQUERIA LOS 3 CARNALES  5000 E WHITTIER BLVD   NaN  Restaurant   \n",
       "7523  19309     JAMMIN JIMMY'S PIZZA   1641 FIRESTONE BLVD   NaN       Pizza   \n",
       "8648  20434    THE LEXINGTON THEATER          129 E 3RD ST   NaN  Restaurant   \n",
       "\n",
       "      number  \n",
       "7408      14  \n",
       "7523       1  \n",
       "8648      35  "
      ]
     },
     "execution_count": 4,
     "metadata": {},
     "output_type": "execute_result"
    }
   ],
   "source": [
    "# Verificar los valores faltantes en la columna 'chain'\n",
    "isna_chain = rest_data[rest_data['chain'].isnull()]\n",
    "isna_chain"
   ]
  },
  {
   "cell_type": "markdown",
   "metadata": {},
   "source": [
    "Se identificaron tres registros ausentes, ahora es necesario verificar si exiten mas de esos establecimientos que esten asociados a otra cadena."
   ]
  },
  {
   "cell_type": "code",
   "execution_count": 5,
   "metadata": {},
   "outputs": [
    {
     "data": {
      "text/html": [
       "<div>\n",
       "<style scoped>\n",
       "    .dataframe tbody tr th:only-of-type {\n",
       "        vertical-align: middle;\n",
       "    }\n",
       "\n",
       "    .dataframe tbody tr th {\n",
       "        vertical-align: top;\n",
       "    }\n",
       "\n",
       "    .dataframe thead th {\n",
       "        text-align: right;\n",
       "    }\n",
       "</style>\n",
       "<table border=\"1\" class=\"dataframe\">\n",
       "  <thead>\n",
       "    <tr style=\"text-align: right;\">\n",
       "      <th></th>\n",
       "      <th>id</th>\n",
       "      <th>object_name</th>\n",
       "      <th>address</th>\n",
       "      <th>chain</th>\n",
       "      <th>object_type</th>\n",
       "      <th>number</th>\n",
       "    </tr>\n",
       "  </thead>\n",
       "  <tbody>\n",
       "  </tbody>\n",
       "</table>\n",
       "</div>"
      ],
      "text/plain": [
       "Empty DataFrame\n",
       "Columns: [id, object_name, address, chain, object_type, number]\n",
       "Index: []"
      ]
     },
     "execution_count": 5,
     "metadata": {},
     "output_type": "execute_result"
    }
   ],
   "source": [
    "isna_names = ['TAQUERIA LOS 3 CARNALES', 'JAMMIN JIMMY\\'S PIZZA', 'THE LEXINGTON THEATER']\n",
    "\n",
    "# Filtrar los registros con los nombres específicos\n",
    "records = rest_data[rest_data['object_name'].isin(isna_names) & rest_data['chain'].notnull()]\n",
    "records"
   ]
  },
  {
   "cell_type": "markdown",
   "metadata": {},
   "source": [
    "No se encontraron mas establecimientos con esos nombres.\n",
    "Verifiquemos a continuación si existen datos duplicados."
   ]
  },
  {
   "cell_type": "markdown",
   "metadata": {},
   "source": [
    "<div class=\"alert alert-block alert-success\">\n",
    "<b>Comentario de Reviewer</b> <a class=\"tocSkip\"></a>\n",
    "\n",
    "Bien\n",
    "</div>"
   ]
  },
  {
   "cell_type": "markdown",
   "metadata": {},
   "source": [
    "### Verificacion de datos duplicados"
   ]
  },
  {
   "cell_type": "code",
   "execution_count": 6,
   "metadata": {},
   "outputs": [
    {
     "name": "stdout",
     "output_type": "stream",
     "text": [
      "Registros duplicados en 'id' y 'address':\n",
      "Empty DataFrame\n",
      "Columns: [id, object_name, address, chain, object_type, number]\n",
      "Index: []\n",
      "\n",
      "Número total de registros duplicados: 0\n"
     ]
    }
   ],
   "source": [
    "# Verificar duplicados en 'id' y 'address'\n",
    "duplicados_id_address = rest_data[rest_data.duplicated(subset=['id', 'address'], keep=False)]\n",
    "\n",
    "# Mostrar los duplicados encontrados\n",
    "print(\"Registros duplicados en 'id' y 'address':\")\n",
    "print(duplicados_id_address)\n",
    "\n",
    "# Contar la cantidad de registros duplicados encontrados\n",
    "cantidad_duplicados= duplicados_id_address.shape[0]\n",
    "print(f\"\\nNúmero total de registros duplicados: {cantidad_duplicados}\")"
   ]
  },
  {
   "cell_type": "markdown",
   "metadata": {},
   "source": [
    "No se encontraron datos duplicados"
   ]
  },
  {
   "cell_type": "markdown",
   "metadata": {},
   "source": [
    "<div class=\"alert alert-block alert-success\">\n",
    "<b>Comentario de Reviewer</b> <a class=\"tocSkip\"></a>\n",
    "\n",
    "Bien\n",
    "</div>"
   ]
  },
  {
   "cell_type": "markdown",
   "metadata": {},
   "source": [
    "### Imputación de valores ausentes\n",
    "\n"
   ]
  },
  {
   "cell_type": "markdown",
   "metadata": {},
   "source": [
    "Es necesario mantener esos tres registros ausentes por sus demás campos que pueden resultar válidos para los próximos análisis. Para imputar esos valores solo le agregaré una categoría en la columna 'chain' como \"desconocido\""
   ]
  },
  {
   "cell_type": "code",
   "execution_count": 7,
   "metadata": {},
   "outputs": [
    {
     "name": "stdout",
     "output_type": "stream",
     "text": [
      "         id              object_name               address        chain  \\\n",
      "7408  19194  TAQUERIA LOS 3 CARNALES  5000 E WHITTIER BLVD  Desconocido   \n",
      "7523  19309     JAMMIN JIMMY'S PIZZA   1641 FIRESTONE BLVD  Desconocido   \n",
      "8648  20434    THE LEXINGTON THEATER          129 E 3RD ST  Desconocido   \n",
      "\n",
      "     object_type  number  \n",
      "7408  Restaurant      14  \n",
      "7523       Pizza       1  \n",
      "8648  Restaurant      35  \n"
     ]
    }
   ],
   "source": [
    "# Rellenar los valores faltantes en la columna 'chain' con 'Desconocido'\n",
    "rest_data.loc[rest_data['object_name'].isin(isna_names), 'chain'] = 'Desconocido'\n",
    "\n",
    "print(rest_data[rest_data['object_name'].isin(isna_names)])"
   ]
  },
  {
   "cell_type": "markdown",
   "metadata": {},
   "source": [
    "<div class=\"alert alert-block alert-success\">\n",
    "<b>Comentario de Reviewer</b> <a class=\"tocSkip\"></a>\n",
    "\n",
    "Ok, de acuerdo\n",
    "</div>"
   ]
  },
  {
   "cell_type": "markdown",
   "metadata": {},
   "source": [
    "## Análisis de datos"
   ]
  },
  {
   "cell_type": "markdown",
   "metadata": {},
   "source": [
    "### Proporciones de los distintos tipos de establecimientos. Traza un gráfico.\n"
   ]
  },
  {
   "cell_type": "code",
   "execution_count": 8,
   "metadata": {},
   "outputs": [
    {
     "data": {
      "text/plain": [
       "Restaurant    75.173557\n",
       "Fast Food     11.045488\n",
       "Cafe           4.507305\n",
       "Pizza          3.315719\n",
       "Bar            3.025593\n",
       "Bakery         2.932339\n",
       "Name: object_type, dtype: float64"
      ]
     },
     "execution_count": 8,
     "metadata": {},
     "output_type": "execute_result"
    }
   ],
   "source": [
    "# Calcular las proporciones de los tipos de establecimientos\n",
    "restaurants = rest_data['object_type'].value_counts(normalize=True) * 100\n",
    "restaurants"
   ]
  },
  {
   "cell_type": "code",
   "execution_count": 9,
   "metadata": {},
   "outputs": [
    {
     "data": {
      "image/png": "[encoded data removed]",
      "text/plain": [
       "<Figure size 720x432 with 1 Axes>"
      ]
     },
     "metadata": {
      "needs_background": "light"
     },
     "output_type": "display_data"
    }
   ],
   "source": [
    "# Gráfico de barras \n",
    "plt.figure(figsize=(10, 6))\n",
    "restaurants.plot(kind='bar', color='skyblue')\n",
    "plt.title('Proporciones de Tipos de Establecimientos')\n",
    "plt.xlabel('Tipo de Establecimiento')\n",
    "plt.ylabel('Proporción (%)')\n",
    "plt.xticks(rotation=45)\n",
    "plt.tight_layout()\n",
    "plt.show()"
   ]
  },
  {
   "cell_type": "markdown",
   "metadata": {},
   "source": [
    "Se evidencia 6 tipos de establecimientos y el 75% de ellos pertenecen a la categoría de restaurantes, seguido de un 11% de Fast food."
   ]
  },
  {
   "cell_type": "markdown",
   "metadata": {},
   "source": [
    "<div class=\"alert alert-block alert-success\">\n",
    "<b>Comentario de Reviewer</b> <a class=\"tocSkip\"></a>\n",
    "\n",
    "Muy bien, buen gráfico\n",
    "</div>"
   ]
  },
  {
   "cell_type": "markdown",
   "metadata": {},
   "source": [
    "### Proporciones de los establecimientos que pertenecen a una cadena y de los que no. Traza un gráfico."
   ]
  },
  {
   "cell_type": "code",
   "execution_count": 10,
   "metadata": {},
   "outputs": [
    {
     "data": {
      "text/plain": [
       "False          61.879598\n",
       "True           38.089317\n",
       "Desconocido     0.031085\n",
       "Name: chain, dtype: float64"
      ]
     },
     "execution_count": 10,
     "metadata": {},
     "output_type": "execute_result"
    }
   ],
   "source": [
    "# Calcular las proporciones de establecimientos que pertenecen a una cadena y de los que no\n",
    "chain_proportions = rest_data['chain'].value_counts(normalize=True) * 100\n",
    "chain_proportions"
   ]
  },
  {
   "cell_type": "code",
   "execution_count": 11,
   "metadata": {},
   "outputs": [
    {
     "data": {
      "image/png": "[encoded data removed]",
      "text/plain": [
       "<Figure size 432x432 with 1 Axes>"
      ]
     },
     "metadata": {
      "needs_background": "light"
     },
     "output_type": "display_data"
    }
   ],
   "source": [
    "# Gráfico de barras\n",
    "plt.figure(figsize=(6, 6))\n",
    "chain_proportions.plot(kind='bar', color=['skyblue', 'orange'])\n",
    "plt.title('Proporciones de Establecimientos por Cadena')\n",
    "plt.xlabel('Pertenencia a Cadena')\n",
    "plt.ylabel('Proporción (%)')\n",
    "plt.xticks(rotation=0)\n",
    "plt.tight_layout()\n",
    "plt.show()\n",
    " "
   ]
  },
  {
   "cell_type": "markdown",
   "metadata": {},
   "source": [
    "El 61% de los establecimientos no están asociados a una cadena mientras que el 38% si. "
   ]
  },
  {
   "cell_type": "markdown",
   "metadata": {},
   "source": [
    "<div class=\"alert alert-block alert-success\">\n",
    "<b>Comentario de Reviewer</b> <a class=\"tocSkip\"></a>\n",
    "\n",
    "Correcto\n",
    "</div>"
   ]
  },
  {
   "cell_type": "markdown",
   "metadata": {},
   "source": [
    "### Distribución del número de asientos por tipo de establecimiento y cadena"
   ]
  },
  {
   "cell_type": "code",
   "execution_count": 12,
   "metadata": {},
   "outputs": [
    {
     "data": {
      "image/png": "[encoded data removed]",
      "text/plain": [
       "<Figure size 864x576 with 1 Axes>"
      ]
     },
     "metadata": {},
     "output_type": "display_data"
    }
   ],
   "source": [
    "# Tipos de establecimientos que pertenecen a una cadena\n",
    "chain_data = rest_data[rest_data['chain'].notnull()]\n",
    "\n",
    "\n",
    "sns.set(style=\"whitegrid\")\n",
    "# Crear el gráfico de caja y bigotes\n",
    "plt.figure(figsize=(12, 8))\n",
    "sns.boxplot(x='object_type', y='number', hue='chain', data=chain_data)\n",
    "plt.title('Distribución del número de asientos por tipo de establecimiento y cadena')\n",
    "plt.xlabel('Tipo de Establecimiento')\n",
    "plt.ylabel('Número de Asientos')\n",
    "plt.xticks(rotation=45)\n",
    "plt.legend(title='Cadena')\n",
    "plt.show()"
   ]
  },
  {
   "cell_type": "markdown",
   "metadata": {},
   "source": [
    "Podemos concluir según lo que observamos en este gráfico que la cantidad de asientos no es una \n",
    "característica distintiva de las cadenas como en el caso de los restaurantes que en promedio tiene el mayor número de asientos y que la mayoría de ellos no pertenecen a una cadena, el mismo caso se replica para los Bares.\n",
    "Para los estableciemientos de pizza y cafés tienen en promedio la misma cantidad de asientos independientemente si pertenecen a una cadena o no."
   ]
  },
  {
   "cell_type": "markdown",
   "metadata": {},
   "source": [
    "<div class=\"alert alert-block alert-success\">\n",
    "<b>Comentario de Reviewer</b> <a class=\"tocSkip\"></a>\n",
    "\n",
    "Muy bien, efectivamente no se observa una distinción entre las distribuciones. Si quisieramos responder esta pregunta con más seguridad, podríamos hacer un test de hipótesis.\n",
    "</div>"
   ]
  },
  {
   "cell_type": "markdown",
   "metadata": {},
   "source": [
    "### Promedio de número de asientos para cada tipo de restaurante. De promedio, ¿qué tipo de restaurante tiene el mayor número de asientos? Traza gráficos."
   ]
  },
  {
   "cell_type": "code",
   "execution_count": 13,
   "metadata": {},
   "outputs": [
    {
     "data": {
      "image/png": "[encoded data removed]",
      "text/plain": [
       "<Figure size 864x576 with 1 Axes>"
      ]
     },
     "metadata": {},
     "output_type": "display_data"
    }
   ],
   "source": [
    "# Calcular el promedio del número de asientos para cada tipo de restaurante\n",
    "promedio_asientos = rest_data.groupby('object_type')['number'].mean().sort_values(ascending=False)\n",
    "\n",
    "# Configurar el estilo de Seaborn\n",
    "sns.set(style=\"whitegrid\")\n",
    "\n",
    "# Crear el gráfico de barras\n",
    "plt.figure(figsize=(12, 8))\n",
    "sns.barplot(x=promedio_asientos.index, y=promedio_asientos.values, palette='viridis')\n",
    "plt.title('Promedio del número de asientos por tipo de restaurante')\n",
    "plt.xlabel('Tipo de Restaurante')\n",
    "plt.ylabel('Promedio de Asientos')\n",
    "plt.xticks(rotation=45)\n",
    "plt.show()"
   ]
  },
  {
   "cell_type": "markdown",
   "metadata": {},
   "source": [
    "\n",
    "Los promedios del número de asientos por tipo de establaciemento:\n",
    "1. Restaurant: 48% asientos en promedio\n",
    "2. Bar: 45% asientos en promedio\n",
    "3. Fast Food: 32% asientos en promedio\n",
    "4. Pizza: 28% asientos en promedio\n",
    "5. Cafe: 25% asientos en promedio\n",
    "6. Bakery: 22% asientos en promedio\n",
    "\n",
    "Observamos en la gráfica que los restaurantes tienen en promedio el 48% de asientos en promedio, seguido de los bares con un 45% en comparación de los demás estableciemientos."
   ]
  },
  {
   "cell_type": "markdown",
   "metadata": {},
   "source": [
    "<div class=\"alert alert-block alert-warning\">\n",
    "<b>Comentario de Reviewer</b> <a class=\"tocSkip\"></a>\n",
    "\n",
    "Está bien el gráfico, pero en las conclusiones anotas porcentajes, por ej.: \"Restaurant: 48% asientos en promedio\", qué significa eso? no será más bien, 48 asientos en promedio?\n",
    "</div>"
   ]
  },
  {
   "cell_type": "markdown",
   "metadata": {},
   "source": [
    "### Coloca los datos de los nombres de las calles de la columna address en una columna separada."
   ]
  },
  {
   "cell_type": "code",
   "execution_count": 14,
   "metadata": {},
   "outputs": [
    {
     "data": {
      "text/html": [
       "<div>\n",
       "<style scoped>\n",
       "    .dataframe tbody tr th:only-of-type {\n",
       "        vertical-align: middle;\n",
       "    }\n",
       "\n",
       "    .dataframe tbody tr th {\n",
       "        vertical-align: top;\n",
       "    }\n",
       "\n",
       "    .dataframe thead th {\n",
       "        text-align: right;\n",
       "    }\n",
       "</style>\n",
       "<table border=\"1\" class=\"dataframe\">\n",
       "  <thead>\n",
       "    <tr style=\"text-align: right;\">\n",
       "      <th></th>\n",
       "      <th>id</th>\n",
       "      <th>object_name</th>\n",
       "      <th>address</th>\n",
       "      <th>chain</th>\n",
       "      <th>object_type</th>\n",
       "      <th>number</th>\n",
       "      <th>street_name</th>\n",
       "    </tr>\n",
       "  </thead>\n",
       "  <tbody>\n",
       "    <tr>\n",
       "      <th>0</th>\n",
       "      <td>11786</td>\n",
       "      <td>HABITAT COFFEE SHOP</td>\n",
       "      <td>3708 N EAGLE ROCK BLVD</td>\n",
       "      <td>False</td>\n",
       "      <td>Cafe</td>\n",
       "      <td>26</td>\n",
       "      <td>N EAGLE ROCK BLVD</td>\n",
       "    </tr>\n",
       "    <tr>\n",
       "      <th>1</th>\n",
       "      <td>11787</td>\n",
       "      <td>REILLY'S</td>\n",
       "      <td>100 WORLD WAY # 120</td>\n",
       "      <td>False</td>\n",
       "      <td>Restaurant</td>\n",
       "      <td>9</td>\n",
       "      <td>WORLD WAY</td>\n",
       "    </tr>\n",
       "    <tr>\n",
       "      <th>2</th>\n",
       "      <td>11788</td>\n",
       "      <td>STREET CHURROS</td>\n",
       "      <td>6801 HOLLYWOOD BLVD # 253</td>\n",
       "      <td>False</td>\n",
       "      <td>Fast Food</td>\n",
       "      <td>20</td>\n",
       "      <td>HOLLYWOOD BLVD</td>\n",
       "    </tr>\n",
       "    <tr>\n",
       "      <th>3</th>\n",
       "      <td>11789</td>\n",
       "      <td>TRINITI ECHO PARK</td>\n",
       "      <td>1814 W SUNSET BLVD</td>\n",
       "      <td>False</td>\n",
       "      <td>Restaurant</td>\n",
       "      <td>22</td>\n",
       "      <td>W SUNSET BLVD</td>\n",
       "    </tr>\n",
       "    <tr>\n",
       "      <th>4</th>\n",
       "      <td>11790</td>\n",
       "      <td>POLLEN</td>\n",
       "      <td>2100 ECHO PARK AVE</td>\n",
       "      <td>False</td>\n",
       "      <td>Restaurant</td>\n",
       "      <td>20</td>\n",
       "      <td>ECHO PARK AVE</td>\n",
       "    </tr>\n",
       "  </tbody>\n",
       "</table>\n",
       "</div>"
      ],
      "text/plain": [
       "      id          object_name                    address  chain object_type  \\\n",
       "0  11786  HABITAT COFFEE SHOP     3708 N EAGLE ROCK BLVD  False        Cafe   \n",
       "1  11787             REILLY'S        100 WORLD WAY # 120  False  Restaurant   \n",
       "2  11788       STREET CHURROS  6801 HOLLYWOOD BLVD # 253  False   Fast Food   \n",
       "3  11789    TRINITI ECHO PARK         1814 W SUNSET BLVD  False  Restaurant   \n",
       "4  11790               POLLEN         2100 ECHO PARK AVE  False  Restaurant   \n",
       "\n",
       "   number        street_name  \n",
       "0      26  N EAGLE ROCK BLVD  \n",
       "1       9         WORLD WAY   \n",
       "2      20    HOLLYWOOD BLVD   \n",
       "3      22      W SUNSET BLVD  \n",
       "4      20      ECHO PARK AVE  "
      ]
     },
     "execution_count": 14,
     "metadata": {},
     "output_type": "execute_result"
    }
   ],
   "source": [
    "# Crear una nueva columna 'street_name' con los nombres de las calles\n",
    "rest_data['street_name'] = rest_data['address'].str.extract(r'\\d+\\s([A-Z0-9\\s]+)')\n",
    "\n",
    "rest_data.head()"
   ]
  },
  {
   "cell_type": "markdown",
   "metadata": {},
   "source": [
    "<div class=\"alert alert-block alert-success\">\n",
    "<b>Comentario de Reviewer</b> <a class=\"tocSkip\"></a>\n",
    "\n",
    "Bien, esta parte es de libre elección, pero tal vez que se podría haber explorado un poco más en los tipos de nombres de calles. Es posible que al quitar números se hayan mezclado algunas calles. De todas formas, lo revisé y me parece una simple y buena forma de obtener los nombres de las calles, muy bien!\n",
    "</div>"
   ]
  },
  {
   "cell_type": "markdown",
   "metadata": {},
   "source": [
    "### 10 Principales calles con mayor concetración de restaurantes"
   ]
  },
  {
   "cell_type": "code",
   "execution_count": 15,
   "metadata": {},
   "outputs": [
    {
     "data": {
      "image/png": "[encoded data removed]",
      "text/plain": [
       "<Figure size 864x576 with 1 Axes>"
      ]
     },
     "metadata": {},
     "output_type": "display_data"
    }
   ],
   "source": [
    "restaurantes_data = rest_data[rest_data['object_type'] == 'Restaurant']\n",
    "top_streets = restaurantes_data['street_name'].value_counts().head(10)\n",
    "\n",
    "# Gráfico de barras\n",
    "plt.figure(figsize=(12, 8))\n",
    "sns.barplot(x=top_streets.index, y=top_streets.values, palette='viridis')\n",
    "plt.title('10 principales Calles por Número de Restaurantes')\n",
    "plt.xlabel('Calle')\n",
    "plt.ylabel('Número de Restaurantes')\n",
    "plt.xticks(rotation=45)\n",
    "plt.show()"
   ]
  },
  {
   "cell_type": "markdown",
   "metadata": {},
   "source": [
    "Se puede observar en el gráfico de barras las 10 calles con la mayor concetración de restaurantes.\n",
    "En el top 1 y 2 se encuentran la calle W PICO BLVD y W sunset BLVD y   con aproximadamente 215 restaurante cada una."
   ]
  },
  {
   "cell_type": "markdown",
   "metadata": {},
   "source": [
    "<div class=\"alert alert-block alert-success\">\n",
    "<b>Comentario de Reviewer</b> <a class=\"tocSkip\"></a>\n",
    "\n",
    "Correcto\n",
    "</div>"
   ]
  },
  {
   "cell_type": "markdown",
   "metadata": {},
   "source": [
    "### Número de calles que solo tienen un restaurante"
   ]
  },
  {
   "cell_type": "code",
   "execution_count": 16,
   "metadata": {},
   "outputs": [
    {
     "name": "stdout",
     "output_type": "stream",
     "text": [
      "Número de calles con un solo restaurante: 1101\n"
     ]
    }
   ],
   "source": [
    "restaurantes_por_calle = restaurantes_data['street_name'].value_counts()\n",
    "# Contar el número de calles que solo tienen un restaurante\n",
    "calles_con_un_restaurante = restaurantes_por_calle[restaurantes_por_calle == 1]\n",
    "num_rest = len(calles_con_un_restaurante)\n",
    "\n",
    "print(f\"Número de calles con un solo restaurante: {num_rest}\")\n"
   ]
  },
  {
   "cell_type": "markdown",
   "metadata": {},
   "source": [
    "Se ha encontrado que hay un total de 1101 calles que solo tienen un restaurante en toda la lista de establecimientos."
   ]
  },
  {
   "cell_type": "markdown",
   "metadata": {},
   "source": [
    "<div class=\"alert alert-block alert-success\">\n",
    "<b>Comentario de Reviewer</b> <a class=\"tocSkip\"></a>\n",
    "\n",
    "Correcto\n",
    "</div>"
   ]
  },
  {
   "cell_type": "markdown",
   "metadata": {},
   "source": [
    "### Para las calles con muchos restaurantes, analiza la distribución del número de asientos. ¿Qué tendencias puedes ver?"
   ]
  },
  {
   "cell_type": "code",
   "execution_count": 17,
   "metadata": {},
   "outputs": [
    {
     "data": {
      "image/png": "[encoded data removed]",
      "text/plain": [
       "<Figure size 864x576 with 1 Axes>"
      ]
     },
     "metadata": {},
     "output_type": "display_data"
    }
   ],
   "source": [
    "# Filtrar el DataFrame solo para las calles con muchos restaurantes\n",
    "data_rest = restaurantes_data[restaurantes_data['street_name'].isin(top_streets.index)]\n",
    "sns.set(style=\"whitegrid\")\n",
    "\n",
    "# Crear un gráfico de caja y bigotes\n",
    "plt.figure(figsize=(12, 8))\n",
    "sns.boxplot(x='street_name', y='number', data=data_rest, palette='viridis')\n",
    "plt.title('Distribución del número de asientos en Calles con muchos Restaurantes')\n",
    "plt.xlabel('Calle')\n",
    "plt.ylabel('Número de Asientos')\n",
    "plt.xticks(rotation=45)\n",
    "plt.show()"
   ]
  },
  {
   "cell_type": "markdown",
   "metadata": {},
   "source": [
    "Se observa que la distribución del número de asientos puede variar incluso entre calles con una cantidad similar de restaurantes. La calle Wilshire, se destaca por tener menos restaurantes pero una mayor cantidad de asientos promedio por restaurante en comparación con otras calles.\n",
    "\n",
    "Esta variación podría deberse a diversas razones, como el tamaño de los locales, el tipo de establecimiento (por ejemplo, restaurantes pequeños frente a grandes cadenas), o incluso las preferencias y tendencias de los propietarios de los restaurantes en diferentes áreas."
   ]
  },
  {
   "cell_type": "markdown",
   "metadata": {},
   "source": [
    "<div class=\"alert alert-block alert-success\">\n",
    "<b>Comentario de Reviewer</b> <a class=\"tocSkip\"></a>\n",
    "\n",
    "Correcto\n",
    "</div>"
   ]
  },
  {
   "cell_type": "markdown",
   "metadata": {},
   "source": [
    "## Conclusión"
   ]
  },
  {
   "cell_type": "markdown",
   "metadata": {},
   "source": [
    "Al analizar los datos de los restaurantes en Los Ángeles, se observa una variabilidad significativa en el número de asientos en función de la ubicación, la calle y el tipo de restaurante. Algunas calles, como Wilshire, muestran una concentración menor de restaurantes pero con un mayor número promedio de asientos, lo que sugiere una posible preferencia por establecimientos más grandes en esas áreas. En contraste, otras calles, como W Sunset y W Pico, tienen una mayor concentración de restaurantes, pero con un número promedio de asientos más bajo.\n",
    "\n",
    "Recomandaciones:\n",
    "\n",
    "1. Adaptación al Tipo de Establecimiento: Considerar el tipo de restaurante al planificar el número de asientos. Los restaurantes de comida rápida pueden requerir menos asientos en comparación con los restaurantes de servicio completo. Ajustar la capacidad según el concepto y el estilo de cada establecimiento puede optimizar el uso del espacio y mejorar la experiencia del cliente.\n",
    "\n",
    "2. Exploración de Oportunidades de Desarrollo de Cadenas: Dada la variabilidad en el número de asientos y la concentración de restaurantes en diferentes calles, explorar la posibilidad de desarrollar una cadena podría ser beneficioso. Desarrollar una cadena permite estandarizar operaciones y optimizar costos. "
   ]
  },
  {
   "cell_type": "markdown",
   "metadata": {},
   "source": [
    "<div class=\"alert alert-block alert-success\">\n",
    "<b>Comentario de Reviewer</b> <a class=\"tocSkip\"></a>\n",
    "\n",
    "Muy bien con las conclusiones. Cuando sea posible, incluye resultados numéricos (porcentajes, medias, p-values, etc) que soportan las afirmaciones realizadas en las conclusiones.\n",
    "</div>"
   ]
  },
  {
   "cell_type": "markdown",
   "metadata": {},
   "source": [
    "Presentation: <https://drive.google.com/file/d/1e4csvoJAzRlhlrjPkm1DILvVvSaEV3yK/view?usp=drive_link> "
   ]
  }
 ],
 "metadata": {
  "kernelspec": {
   "display_name": "Python 3 (ipykernel)",
   "language": "python",
   "name": "python3"
  },
  "language_info": {
   "codemirror_mode": {
    "name": "ipython",
    "version": 3
   },
   "file_extension": ".py",
   "mimetype": "text/x-python",
   "name": "python",
   "nbconvert_exporter": "python",
   "pygments_lexer": "ipython3",
   "version": "3.9.5"
  },
  "toc": {
   "base_numbering": 1,
   "nav_menu": {},
   "number_sections": true,
   "sideBar": true,
   "skip_h1_title": true,
   "title_cell": "Table of Contents",
   "title_sidebar": "Contents",
   "toc_cell": true,
   "toc_position": {
    "height": "calc(100% - 180px)",
    "left": "10px",
    "top": "150px",
    "width": "165px"
   },
   "toc_section_display": true,
   "toc_window_display": true
  }
 },
 "nbformat": 4,
 "nbformat_minor": 2
}
