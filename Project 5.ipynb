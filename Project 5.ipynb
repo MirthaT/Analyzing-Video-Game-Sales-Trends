{
 "cells": [
  {
   "cell_type": "markdown",
   "id": "0c38815f",
   "metadata": {},
   "source": [
    "# ¡Hola, Cece!  \n",
    "\n",
    "Mi nombre es Carlos Ortiz, soy code reviewer de Practicum y voy a revisar el proyecto que acabas de desarrollar.\n",
    "\n",
    "Cuando vea un error la primera vez, lo señalaré. Deberás encontrarlo y arreglarlo. La intención es que te prepares para un espacio real de trabajo. En un trabajo, el líder de tu equipo hará lo mismo. Si no puedes solucionar el error, te daré más información en la próxima ocasión. \n",
    "\n",
    "Encontrarás mis comentarios más abajo - **por favor, no los muevas, no los modifiques ni los borres**.\n",
    "\n",
    "¿Cómo lo voy a hacer? Voy a leer detenidamente cada una de las implementaciones que has llevado a cabo para cumplir con lo solicitado. Verás los comentarios de esta forma:\n",
    "\n",
    "<div class=\"alert alert-block alert-success\">\n",
    "<b>Comentario del revisor</b> <a class=\"tocSkip\"></a>\n",
    "    \n",
    "Si todo está perfecto.\n",
    "</div>\n",
    "\n",
    "\n",
    "<div class=\"alert alert-block alert-warning\">\n",
    "<b>Comentario del revisor</b> <a class=\"tocSkip\"></a>\n",
    "    \n",
    "Si tu código está bien pero se puede mejorar o hay algún detalle que le hace falta.\n",
    "</div>\n",
    "\n",
    "\n",
    "<div class=\"alert alert-block alert-danger\">\n",
    "    \n",
    "<b>Comentario del revisor</b> <a class=\"tocSkip\"></a>\n",
    "    \n",
    "    \n",
    "Si de pronto hace falta algo o existe algún problema con tu código o conclusiones.\n",
    "</div>\n",
    "\n",
    "\n",
    "Puedes responderme de esta forma: \n",
    "\n",
    "<div class=\"alert alert-block alert-info\">\n",
    "<b>Respuesta del estudiante</b> <a class=\"tocSkip\"></a>\n",
    "</div>\n",
    "\n",
    "¡Empecemos!"
   ]
  },
  {
   "cell_type": "markdown",
   "id": "8f777857",
   "metadata": {
    "toc": true
   },
   "source": [
    "<h1>Table of Contents<span class=\"tocSkip\"></span></h1>\n",
    "<div class=\"toc\"><ul class=\"toc-item\"><li><span><a href=\"#¡Hola,-Cece!\" data-toc-modified-id=\"¡Hola,-Cece!-1\"><span class=\"toc-item-num\">1&nbsp;&nbsp;</span>¡Hola, Cece!</a></span></li><li><span><a href=\"#Descripción-del-Proyecto\" data-toc-modified-id=\"Descripción-del-Proyecto-2\"><span class=\"toc-item-num\">2&nbsp;&nbsp;</span>Descripción del Proyecto</a></span><ul class=\"toc-item\"><li><span><a href=\"#Propósito-del-proyecto\" data-toc-modified-id=\"Propósito-del-proyecto-2.1\"><span class=\"toc-item-num\">2.1&nbsp;&nbsp;</span>Propósito del proyecto</a></span></li><li><span><a href=\"#Acciones-a-tomar\" data-toc-modified-id=\"Acciones-a-tomar-2.2\"><span class=\"toc-item-num\">2.2&nbsp;&nbsp;</span>Acciones a tomar</a></span></li><li><span><a href=\"#Inicialización\" data-toc-modified-id=\"Inicialización-2.3\"><span class=\"toc-item-num\">2.3&nbsp;&nbsp;</span>Inicialización</a></span></li><li><span><a href=\"#Cargar-datos\" data-toc-modified-id=\"Cargar-datos-2.4\"><span class=\"toc-item-num\">2.4&nbsp;&nbsp;</span>Cargar datos</a></span></li><li><span><a href=\"#Preparar-los-datos\" data-toc-modified-id=\"Preparar-los-datos-2.5\"><span class=\"toc-item-num\">2.5&nbsp;&nbsp;</span>Preparar los datos</a></span><ul class=\"toc-item\"><li><span><a href=\"#Modificar-nombres-de-columnas\" data-toc-modified-id=\"Modificar-nombres-de-columnas-2.5.1\"><span class=\"toc-item-num\">2.5.1&nbsp;&nbsp;</span>Modificar nombres de columnas</a></span></li><li><span><a href=\"#Convertir-columnas-a-tipo-de-datos-adecuados\" data-toc-modified-id=\"Convertir-columnas-a-tipo-de-datos-adecuados-2.5.2\"><span class=\"toc-item-num\">2.5.2&nbsp;&nbsp;</span>Convertir columnas a tipo de datos adecuados</a></span></li><li><span><a href=\"#Verificación-de-valores-ausentes\" data-toc-modified-id=\"Verificación-de-valores-ausentes-2.5.3\"><span class=\"toc-item-num\">2.5.3&nbsp;&nbsp;</span>Verificación de valores ausentes</a></span><ul class=\"toc-item\"><li><span><a href=\"#Imputación-de-'user_score'-y-'critic_Score:\" data-toc-modified-id=\"Imputación-de-'user_score'-y-'critic_Score:-2.5.3.1\"><span class=\"toc-item-num\">2.5.3.1&nbsp;&nbsp;</span>Imputación de 'user_score' y 'critic_Score:</a></span></li><li><span><a href=\"#Análisis-de-valores-ausentes-por-columna-'user_score',-'critic_score'-agrupadas-por-'year_of_release'\" data-toc-modified-id=\"Análisis-de-valores-ausentes-por-columna-'user_score',-'critic_score'-agrupadas-por-'year_of_release'-2.5.3.2\"><span class=\"toc-item-num\">2.5.3.2&nbsp;&nbsp;</span>Análisis de valores ausentes por columna 'user_score', 'critic_score' agrupadas por 'year_of_release'</a></span></li></ul></li></ul></li><li><span><a href=\"#Tratamiento-de-Valores-ausentes\" data-toc-modified-id=\"Tratamiento-de-Valores-ausentes-2.6\"><span class=\"toc-item-num\">2.6&nbsp;&nbsp;</span>Tratamiento de Valores ausentes</a></span><ul class=\"toc-item\"><li><ul class=\"toc-item\"><li><span><a href=\"#Imputación-de-valores-ausentes-en-'rating':\" data-toc-modified-id=\"Imputación-de-valores-ausentes-en-'rating':-2.6.0.1\"><span class=\"toc-item-num\">2.6.0.1&nbsp;&nbsp;</span>Imputación de valores ausentes en 'rating':</a></span></li><li><span><a href=\"#Imputación-de-valores-ausentes-en-'year_of_release':\" data-toc-modified-id=\"Imputación-de-valores-ausentes-en-'year_of_release':-2.6.0.2\"><span class=\"toc-item-num\">2.6.0.2&nbsp;&nbsp;</span>Imputación de valores ausentes en 'year_of_release':</a></span></li><li><span><a href=\"#Imputación-de-valores-ausentes-en-'user_score'-y-'critic_score'\" data-toc-modified-id=\"Imputación-de-valores-ausentes-en-'user_score'-y-'critic_score'-2.6.0.3\"><span class=\"toc-item-num\">2.6.0.3&nbsp;&nbsp;</span>Imputación de valores ausentes en 'user_score' y 'critic_score'</a></span></li><li><span><a href=\"#Valores-ausentes-en-'name'-y-'genre'\" data-toc-modified-id=\"Valores-ausentes-en-'name'-y-'genre'-2.6.0.4\"><span class=\"toc-item-num\">2.6.0.4&nbsp;&nbsp;</span>Valores ausentes en 'name' y 'genre'</a></span></li></ul></li></ul></li><li><span><a href=\"#Análisis-de-datos\" data-toc-modified-id=\"Análisis-de-datos-2.7\"><span class=\"toc-item-num\">2.7&nbsp;&nbsp;</span>Análisis de datos</a></span><ul class=\"toc-item\"><li><span><a href=\"#Calcular-ventas-totales:\" data-toc-modified-id=\"Calcular-ventas-totales:-2.7.1\"><span class=\"toc-item-num\">2.7.1&nbsp;&nbsp;</span>Calcular ventas totales:</a></span></li><li><span><a href=\"#Análisis-de-ventas-por-plataforma\" data-toc-modified-id=\"Análisis-de-ventas-por-plataforma-2.7.2\"><span class=\"toc-item-num\">2.7.2&nbsp;&nbsp;</span>Análisis de ventas por plataforma</a></span><ul class=\"toc-item\"><li><span><a href=\"#Estimación-del-tiempo-promedio-que-suelen-durar-las-plataformas-populares-en-términos-de-años-desde-su-lanzamiento-hasta-que-dejan-de-tener-ventas.\" data-toc-modified-id=\"Estimación-del-tiempo-promedio-que-suelen-durar-las-plataformas-populares-en-términos-de-años-desde-su-lanzamiento-hasta-que-dejan-de-tener-ventas.-2.7.2.1\"><span class=\"toc-item-num\">2.7.2.1&nbsp;&nbsp;</span>Estimación del tiempo promedio que suelen durar las plataformas populares en términos de años desde su lanzamiento hasta que dejan de tener ventas.</a></span></li></ul></li><li><span><a href=\"#Visualizacion-de-ventas-globales-por-plataforma\" data-toc-modified-id=\"Visualizacion-de-ventas-globales-por-plataforma-2.7.3\"><span class=\"toc-item-num\">2.7.3&nbsp;&nbsp;</span>Visualizacion de ventas globales por plataforma</a></span></li><li><span><a href=\"#Análisis-de-reseña-de-usuarios-en-la-plataforma-de-juegos-'PS3'\" data-toc-modified-id=\"Análisis-de-reseña-de-usuarios-en-la-plataforma-de-juegos-'PS3'-2.7.4\"><span class=\"toc-item-num\">2.7.4&nbsp;&nbsp;</span>Análisis de reseña de usuarios en la plataforma de juegos 'PS3'</a></span></li><li><span><a href=\"#Ventas-totales-por-'gener'\" data-toc-modified-id=\"Ventas-totales-por-'gener'-2.7.5\"><span class=\"toc-item-num\">2.7.5&nbsp;&nbsp;</span>Ventas totales por 'gener'</a></span></li><li><span><a href=\"#Análisis-de-regiones\" data-toc-modified-id=\"Análisis-de-regiones-2.7.6\"><span class=\"toc-item-num\">2.7.6&nbsp;&nbsp;</span>Análisis de regiones</a></span></li><li><span><a href=\"#Análisis-de-las-calificaciones-en-ventas-por-regiones\" data-toc-modified-id=\"Análisis-de-las-calificaciones-en-ventas-por-regiones-2.7.7\"><span class=\"toc-item-num\">2.7.7&nbsp;&nbsp;</span>Análisis de las calificaciones en ventas por regiones</a></span></li></ul></li><li><span><a href=\"#Prueba-de-hipótesis\" data-toc-modified-id=\"Prueba-de-hipótesis-2.8\"><span class=\"toc-item-num\">2.8&nbsp;&nbsp;</span>Prueba de hipótesis</a></span></li><li><span><a href=\"#Conclusión-general\" data-toc-modified-id=\"Conclusión-general-2.9\"><span class=\"toc-item-num\">2.9&nbsp;&nbsp;</span>Conclusión general</a></span></li></ul></li><li><span><a href=\"#Comentarios-generales\" data-toc-modified-id=\"Comentarios-generales-3\"><span class=\"toc-item-num\">3&nbsp;&nbsp;</span>Comentarios generales</a></span></li><li><span><a href=\"#Comentarios-generales\" data-toc-modified-id=\"Comentarios-generales-4\"><span class=\"toc-item-num\">4&nbsp;&nbsp;</span>Comentarios generales</a></span></li><li><span><a href=\"#Comentarios-generales\" data-toc-modified-id=\"Comentarios-generales-5\"><span class=\"toc-item-num\">5&nbsp;&nbsp;</span>Comentarios generales</a></span></li></ul></div>"
   ]
  },
  {
   "cell_type": "markdown",
   "id": "59182917",
   "metadata": {},
   "source": [
    "# Descripción del Proyecto\n",
    "\n",
    "Trabajas para la tienda online Ice que vende videojuegos por todo el mundo. Las reseñas de usuarios y expertos, los géneros, las plataformas (por ejemplo, Xbox o PlayStation) y los datos históricos sobre las ventas de juegos están disponibles en fuentes abiertas. Tienes que identificar patrones que determinen si un juego tiene éxito o no. Esto te permitirá detectar proyectos prometedores y planificar campañas publicitarias.\n",
    "Delante de ti hay datos que se remontan a 2016. Imaginemos que es diciembre de 2016 y estás planeando una campaña para 2017.\n",
    "(Lo importante es adquirir experiencia de trabajo con datos. Realmente no importa si estás pronosticando las ventas de 2017 en función de los datos de 2016 o las ventas de 2027 en función de los datos de 2026.)\n",
    "El dataset contiene la abreviatura ESRB. The Entertainment Software Rating Board (la Junta de clasificación de software de entretenimiento) evalúa el contenido de un juego y asigna una clasificación de edad como Adolescente o Adulto."
   ]
  },
  {
   "cell_type": "markdown",
   "id": "6972bcb4",
   "metadata": {},
   "source": [
    "## Propósito del proyecto\n",
    "\n",
    "El objetivo es identificar patrones que determinen si un juego tendrá éxito o no, utilizando datos disponibles desde 2016 y planificando una campaña para 2017. El conjunto de datos incluye información sobre reseñas de usuarios y expertos, géneros, plataformas y datos históricos de ventas de juegos, así como la clasificación de edad ESRB."
   ]
  },
  {
   "cell_type": "markdown",
   "id": "14847326",
   "metadata": {},
   "source": [
    "## Acciones a tomar\n",
    "\n",
    "1. Entendimiento de los Datos: Comprender completamente los datos disponibles. Examinar las características del conjunto de datos, comprender su significado y verificar si hay datos faltantes o inconsistentes que se deba abordar. Familiarizarme con las variables disponibles, como reseñas, géneros, plataformas, clasificación ESRB y ventas históricas.\n",
    "\n",
    "2. Análisis Exploratorio de Datos (EDA): Realizar un EDA para descubrir tendencias y patrones en los datos. Esto puede incluir gráficos y estadísticas descriptivas que me ayuden a comprender mejor la distribución de las variables y las relaciones entre ellas.\n",
    "\n",
    "3. Selecci'on y evaluación de modelos.\n",
    "\n",
    "4. Prueba de hipótesis."
   ]
  },
  {
   "cell_type": "markdown",
   "id": "b7b5e3f3",
   "metadata": {},
   "source": [
    "## Inicialización\n",
    "\n",
    "A continuación cargaré las librerias necesarias para el desarrollo de la investigación y análisis.\n"
   ]
  },
  {
   "cell_type": "code",
   "execution_count": 1,
   "id": "add1848d",
   "metadata": {},
   "outputs": [],
   "source": [
    "# Cargar todas las librerías\n",
    "\n",
    "import pandas as pd\n",
    "import matplotlib.pyplot as plt\n",
    "import seaborn as sns\n",
    "from IPython.display import display\n",
    "import scipy.stats as stats\n",
    "import re\n"
   ]
  },
  {
   "cell_type": "markdown",
   "id": "2416b493",
   "metadata": {},
   "source": [
    "## Cargar datos"
   ]
  },
  {
   "cell_type": "code",
   "execution_count": 2,
   "id": "94e6816d",
   "metadata": {},
   "outputs": [],
   "source": [
    "# Carga los archivos de datos en diferentes DataFrames\n",
    "games = pd.read_csv('/datasets/games.csv')"
   ]
  },
  {
   "cell_type": "markdown",
   "id": "3799ce16",
   "metadata": {},
   "source": [
    "<div class=\"alert alert-block alert-success\">\n",
    "<b>Comentario del revisor</b> <a class=\"tocSkip\"></a>\n",
    "    \n",
    "Buen trabajo con esta importación de datos y de librerías.\n",
    "</div>\n"
   ]
  },
  {
   "cell_type": "markdown",
   "id": "f7400ff0",
   "metadata": {},
   "source": [
    "## Preparar los datos\n",
    "\n",
    "Comenzaré explorando el dataset 'game' para obtener una comprensión inicial de los datos y, si es necesario, realizar correcciones o ajustes para garantizar que estén en un formato adecuado para el análisis."
   ]
  },
  {
   "cell_type": "code",
   "execution_count": 3,
   "id": "b1f874d2",
   "metadata": {},
   "outputs": [
    {
     "name": "stdout",
     "output_type": "stream",
     "text": [
      "<class 'pandas.core.frame.DataFrame'>\n",
      "RangeIndex: 16715 entries, 0 to 16714\n",
      "Data columns (total 11 columns):\n",
      " #   Column           Non-Null Count  Dtype  \n",
      "---  ------           --------------  -----  \n",
      " 0   Name             16713 non-null  object \n",
      " 1   Platform         16715 non-null  object \n",
      " 2   Year_of_Release  16446 non-null  float64\n",
      " 3   Genre            16713 non-null  object \n",
      " 4   NA_sales         16715 non-null  float64\n",
      " 5   EU_sales         16715 non-null  float64\n",
      " 6   JP_sales         16715 non-null  float64\n",
      " 7   Other_sales      16715 non-null  float64\n",
      " 8   Critic_Score     8137 non-null   float64\n",
      " 9   User_Score       10014 non-null  object \n",
      " 10  Rating           9949 non-null   object \n",
      "dtypes: float64(6), object(5)\n",
      "memory usage: 1.4+ MB\n"
     ]
    },
    {
     "data": {
      "text/html": [
       "<div>\n",
       "<style scoped>\n",
       "    .dataframe tbody tr th:only-of-type {\n",
       "        vertical-align: middle;\n",
       "    }\n",
       "\n",
       "    .dataframe tbody tr th {\n",
       "        vertical-align: top;\n",
       "    }\n",
       "\n",
       "    .dataframe thead th {\n",
       "        text-align: right;\n",
       "    }\n",
       "</style>\n",
       "<table border=\"1\" class=\"dataframe\">\n",
       "  <thead>\n",
       "    <tr style=\"text-align: right;\">\n",
       "      <th></th>\n",
       "      <th>Year_of_Release</th>\n",
       "      <th>NA_sales</th>\n",
       "      <th>EU_sales</th>\n",
       "      <th>JP_sales</th>\n",
       "      <th>Other_sales</th>\n",
       "      <th>Critic_Score</th>\n",
       "    </tr>\n",
       "  </thead>\n",
       "  <tbody>\n",
       "    <tr>\n",
       "      <th>count</th>\n",
       "      <td>16446.000000</td>\n",
       "      <td>16715.000000</td>\n",
       "      <td>16715.000000</td>\n",
       "      <td>16715.000000</td>\n",
       "      <td>16715.000000</td>\n",
       "      <td>8137.000000</td>\n",
       "    </tr>\n",
       "    <tr>\n",
       "      <th>mean</th>\n",
       "      <td>2006.484616</td>\n",
       "      <td>0.263377</td>\n",
       "      <td>0.145060</td>\n",
       "      <td>0.077617</td>\n",
       "      <td>0.047342</td>\n",
       "      <td>68.967679</td>\n",
       "    </tr>\n",
       "    <tr>\n",
       "      <th>std</th>\n",
       "      <td>5.877050</td>\n",
       "      <td>0.813604</td>\n",
       "      <td>0.503339</td>\n",
       "      <td>0.308853</td>\n",
       "      <td>0.186731</td>\n",
       "      <td>13.938165</td>\n",
       "    </tr>\n",
       "    <tr>\n",
       "      <th>min</th>\n",
       "      <td>1980.000000</td>\n",
       "      <td>0.000000</td>\n",
       "      <td>0.000000</td>\n",
       "      <td>0.000000</td>\n",
       "      <td>0.000000</td>\n",
       "      <td>13.000000</td>\n",
       "    </tr>\n",
       "    <tr>\n",
       "      <th>25%</th>\n",
       "      <td>2003.000000</td>\n",
       "      <td>0.000000</td>\n",
       "      <td>0.000000</td>\n",
       "      <td>0.000000</td>\n",
       "      <td>0.000000</td>\n",
       "      <td>60.000000</td>\n",
       "    </tr>\n",
       "    <tr>\n",
       "      <th>50%</th>\n",
       "      <td>2007.000000</td>\n",
       "      <td>0.080000</td>\n",
       "      <td>0.020000</td>\n",
       "      <td>0.000000</td>\n",
       "      <td>0.010000</td>\n",
       "      <td>71.000000</td>\n",
       "    </tr>\n",
       "    <tr>\n",
       "      <th>75%</th>\n",
       "      <td>2010.000000</td>\n",
       "      <td>0.240000</td>\n",
       "      <td>0.110000</td>\n",
       "      <td>0.040000</td>\n",
       "      <td>0.030000</td>\n",
       "      <td>79.000000</td>\n",
       "    </tr>\n",
       "    <tr>\n",
       "      <th>max</th>\n",
       "      <td>2016.000000</td>\n",
       "      <td>41.360000</td>\n",
       "      <td>28.960000</td>\n",
       "      <td>10.220000</td>\n",
       "      <td>10.570000</td>\n",
       "      <td>98.000000</td>\n",
       "    </tr>\n",
       "  </tbody>\n",
       "</table>\n",
       "</div>"
      ],
      "text/plain": [
       "       Year_of_Release      NA_sales      EU_sales      JP_sales  \\\n",
       "count     16446.000000  16715.000000  16715.000000  16715.000000   \n",
       "mean       2006.484616      0.263377      0.145060      0.077617   \n",
       "std           5.877050      0.813604      0.503339      0.308853   \n",
       "min        1980.000000      0.000000      0.000000      0.000000   \n",
       "25%        2003.000000      0.000000      0.000000      0.000000   \n",
       "50%        2007.000000      0.080000      0.020000      0.000000   \n",
       "75%        2010.000000      0.240000      0.110000      0.040000   \n",
       "max        2016.000000     41.360000     28.960000     10.220000   \n",
       "\n",
       "        Other_sales  Critic_Score  \n",
       "count  16715.000000   8137.000000  \n",
       "mean       0.047342     68.967679  \n",
       "std        0.186731     13.938165  \n",
       "min        0.000000     13.000000  \n",
       "25%        0.000000     60.000000  \n",
       "50%        0.010000     71.000000  \n",
       "75%        0.030000     79.000000  \n",
       "max       10.570000     98.000000  "
      ]
     },
     "metadata": {},
     "output_type": "display_data"
    },
    {
     "data": {
      "text/html": [
       "<div>\n",
       "<style scoped>\n",
       "    .dataframe tbody tr th:only-of-type {\n",
       "        vertical-align: middle;\n",
       "    }\n",
       "\n",
       "    .dataframe tbody tr th {\n",
       "        vertical-align: top;\n",
       "    }\n",
       "\n",
       "    .dataframe thead th {\n",
       "        text-align: right;\n",
       "    }\n",
       "</style>\n",
       "<table border=\"1\" class=\"dataframe\">\n",
       "  <thead>\n",
       "    <tr style=\"text-align: right;\">\n",
       "      <th></th>\n",
       "      <th>Name</th>\n",
       "      <th>Platform</th>\n",
       "      <th>Year_of_Release</th>\n",
       "      <th>Genre</th>\n",
       "      <th>NA_sales</th>\n",
       "      <th>EU_sales</th>\n",
       "      <th>JP_sales</th>\n",
       "      <th>Other_sales</th>\n",
       "      <th>Critic_Score</th>\n",
       "      <th>User_Score</th>\n",
       "      <th>Rating</th>\n",
       "    </tr>\n",
       "  </thead>\n",
       "  <tbody>\n",
       "    <tr>\n",
       "      <th>0</th>\n",
       "      <td>Wii Sports</td>\n",
       "      <td>Wii</td>\n",
       "      <td>2006.0</td>\n",
       "      <td>Sports</td>\n",
       "      <td>41.36</td>\n",
       "      <td>28.96</td>\n",
       "      <td>3.77</td>\n",
       "      <td>8.45</td>\n",
       "      <td>76.0</td>\n",
       "      <td>8</td>\n",
       "      <td>E</td>\n",
       "    </tr>\n",
       "    <tr>\n",
       "      <th>1</th>\n",
       "      <td>Super Mario Bros.</td>\n",
       "      <td>NES</td>\n",
       "      <td>1985.0</td>\n",
       "      <td>Platform</td>\n",
       "      <td>29.08</td>\n",
       "      <td>3.58</td>\n",
       "      <td>6.81</td>\n",
       "      <td>0.77</td>\n",
       "      <td>NaN</td>\n",
       "      <td>NaN</td>\n",
       "      <td>NaN</td>\n",
       "    </tr>\n",
       "    <tr>\n",
       "      <th>2</th>\n",
       "      <td>Mario Kart Wii</td>\n",
       "      <td>Wii</td>\n",
       "      <td>2008.0</td>\n",
       "      <td>Racing</td>\n",
       "      <td>15.68</td>\n",
       "      <td>12.76</td>\n",
       "      <td>3.79</td>\n",
       "      <td>3.29</td>\n",
       "      <td>82.0</td>\n",
       "      <td>8.3</td>\n",
       "      <td>E</td>\n",
       "    </tr>\n",
       "    <tr>\n",
       "      <th>3</th>\n",
       "      <td>Wii Sports Resort</td>\n",
       "      <td>Wii</td>\n",
       "      <td>2009.0</td>\n",
       "      <td>Sports</td>\n",
       "      <td>15.61</td>\n",
       "      <td>10.93</td>\n",
       "      <td>3.28</td>\n",
       "      <td>2.95</td>\n",
       "      <td>80.0</td>\n",
       "      <td>8</td>\n",
       "      <td>E</td>\n",
       "    </tr>\n",
       "    <tr>\n",
       "      <th>4</th>\n",
       "      <td>Pokemon Red/Pokemon Blue</td>\n",
       "      <td>GB</td>\n",
       "      <td>1996.0</td>\n",
       "      <td>Role-Playing</td>\n",
       "      <td>11.27</td>\n",
       "      <td>8.89</td>\n",
       "      <td>10.22</td>\n",
       "      <td>1.00</td>\n",
       "      <td>NaN</td>\n",
       "      <td>NaN</td>\n",
       "      <td>NaN</td>\n",
       "    </tr>\n",
       "  </tbody>\n",
       "</table>\n",
       "</div>"
      ],
      "text/plain": [
       "                       Name Platform  Year_of_Release         Genre  NA_sales  \\\n",
       "0                Wii Sports      Wii           2006.0        Sports     41.36   \n",
       "1         Super Mario Bros.      NES           1985.0      Platform     29.08   \n",
       "2            Mario Kart Wii      Wii           2008.0        Racing     15.68   \n",
       "3         Wii Sports Resort      Wii           2009.0        Sports     15.61   \n",
       "4  Pokemon Red/Pokemon Blue       GB           1996.0  Role-Playing     11.27   \n",
       "\n",
       "   EU_sales  JP_sales  Other_sales  Critic_Score User_Score Rating  \n",
       "0     28.96      3.77         8.45          76.0          8      E  \n",
       "1      3.58      6.81         0.77           NaN        NaN    NaN  \n",
       "2     12.76      3.79         3.29          82.0        8.3      E  \n",
       "3     10.93      3.28         2.95          80.0          8      E  \n",
       "4      8.89     10.22         1.00           NaN        NaN    NaN  "
      ]
     },
     "execution_count": 3,
     "metadata": {},
     "output_type": "execute_result"
    }
   ],
   "source": [
    "games.info()\n",
    "display (games.describe())\n",
    "games.head()"
   ]
  },
  {
   "cell_type": "markdown",
   "id": "0aea96dc",
   "metadata": {},
   "source": [
    "Observaciones sobre los datos:\n",
    "\n",
    "1. Hay valores ausentes en varias columnas, como 'Name', 'Year_of_Release', 'Critic_Score', 'User_Score', y 'Rating'.\n",
    "\n",
    "2. La columna 'User_Score' está representada como tipo 'object', lo que podría ser un problema si deseo usarla como una característica numérica.\n",
    "\n",
    "3. La columna 'Rating' contiene clasificaciones ESRB, lo que puede ser útil para determinar la edad apropiada para el juego.\n",
    "\n",
    "4. Será útil modificar el nombre de las columnas, reemplazándo Mayúsculas por minúsculas y mantener un estándar."
   ]
  },
  {
   "cell_type": "markdown",
   "id": "74eef446",
   "metadata": {},
   "source": [
    "### Modificar nombres de columnas"
   ]
  },
  {
   "cell_type": "code",
   "execution_count": 4,
   "id": "676584f2",
   "metadata": {},
   "outputs": [
    {
     "data": {
      "text/html": [
       "<div>\n",
       "<style scoped>\n",
       "    .dataframe tbody tr th:only-of-type {\n",
       "        vertical-align: middle;\n",
       "    }\n",
       "\n",
       "    .dataframe tbody tr th {\n",
       "        vertical-align: top;\n",
       "    }\n",
       "\n",
       "    .dataframe thead th {\n",
       "        text-align: right;\n",
       "    }\n",
       "</style>\n",
       "<table border=\"1\" class=\"dataframe\">\n",
       "  <thead>\n",
       "    <tr style=\"text-align: right;\">\n",
       "      <th></th>\n",
       "      <th>name</th>\n",
       "      <th>platform</th>\n",
       "      <th>year_of_release</th>\n",
       "      <th>genre</th>\n",
       "      <th>na_sales</th>\n",
       "      <th>eu_sales</th>\n",
       "      <th>jp_sales</th>\n",
       "      <th>other_sales</th>\n",
       "      <th>critic_score</th>\n",
       "      <th>user_score</th>\n",
       "      <th>rating</th>\n",
       "    </tr>\n",
       "  </thead>\n",
       "  <tbody>\n",
       "    <tr>\n",
       "      <th>0</th>\n",
       "      <td>Wii Sports</td>\n",
       "      <td>Wii</td>\n",
       "      <td>2006.0</td>\n",
       "      <td>Sports</td>\n",
       "      <td>41.36</td>\n",
       "      <td>28.96</td>\n",
       "      <td>3.77</td>\n",
       "      <td>8.45</td>\n",
       "      <td>76.0</td>\n",
       "      <td>8</td>\n",
       "      <td>E</td>\n",
       "    </tr>\n",
       "    <tr>\n",
       "      <th>1</th>\n",
       "      <td>Super Mario Bros.</td>\n",
       "      <td>NES</td>\n",
       "      <td>1985.0</td>\n",
       "      <td>Platform</td>\n",
       "      <td>29.08</td>\n",
       "      <td>3.58</td>\n",
       "      <td>6.81</td>\n",
       "      <td>0.77</td>\n",
       "      <td>NaN</td>\n",
       "      <td>NaN</td>\n",
       "      <td>NaN</td>\n",
       "    </tr>\n",
       "    <tr>\n",
       "      <th>2</th>\n",
       "      <td>Mario Kart Wii</td>\n",
       "      <td>Wii</td>\n",
       "      <td>2008.0</td>\n",
       "      <td>Racing</td>\n",
       "      <td>15.68</td>\n",
       "      <td>12.76</td>\n",
       "      <td>3.79</td>\n",
       "      <td>3.29</td>\n",
       "      <td>82.0</td>\n",
       "      <td>8.3</td>\n",
       "      <td>E</td>\n",
       "    </tr>\n",
       "    <tr>\n",
       "      <th>3</th>\n",
       "      <td>Wii Sports Resort</td>\n",
       "      <td>Wii</td>\n",
       "      <td>2009.0</td>\n",
       "      <td>Sports</td>\n",
       "      <td>15.61</td>\n",
       "      <td>10.93</td>\n",
       "      <td>3.28</td>\n",
       "      <td>2.95</td>\n",
       "      <td>80.0</td>\n",
       "      <td>8</td>\n",
       "      <td>E</td>\n",
       "    </tr>\n",
       "    <tr>\n",
       "      <th>4</th>\n",
       "      <td>Pokemon Red/Pokemon Blue</td>\n",
       "      <td>GB</td>\n",
       "      <td>1996.0</td>\n",
       "      <td>Role-Playing</td>\n",
       "      <td>11.27</td>\n",
       "      <td>8.89</td>\n",
       "      <td>10.22</td>\n",
       "      <td>1.00</td>\n",
       "      <td>NaN</td>\n",
       "      <td>NaN</td>\n",
       "      <td>NaN</td>\n",
       "    </tr>\n",
       "  </tbody>\n",
       "</table>\n",
       "</div>"
      ],
      "text/plain": [
       "                       name platform  year_of_release         genre  na_sales  \\\n",
       "0                Wii Sports      Wii           2006.0        Sports     41.36   \n",
       "1         Super Mario Bros.      NES           1985.0      Platform     29.08   \n",
       "2            Mario Kart Wii      Wii           2008.0        Racing     15.68   \n",
       "3         Wii Sports Resort      Wii           2009.0        Sports     15.61   \n",
       "4  Pokemon Red/Pokemon Blue       GB           1996.0  Role-Playing     11.27   \n",
       "\n",
       "   eu_sales  jp_sales  other_sales  critic_score user_score rating  \n",
       "0     28.96      3.77         8.45          76.0          8      E  \n",
       "1      3.58      6.81         0.77           NaN        NaN    NaN  \n",
       "2     12.76      3.79         3.29          82.0        8.3      E  \n",
       "3     10.93      3.28         2.95          80.0          8      E  \n",
       "4      8.89     10.22         1.00           NaN        NaN    NaN  "
      ]
     },
     "execution_count": 4,
     "metadata": {},
     "output_type": "execute_result"
    }
   ],
   "source": [
    "games.columns = games.columns.str.lower()\n",
    "games.head()"
   ]
  },
  {
   "cell_type": "markdown",
   "id": "840da697",
   "metadata": {},
   "source": [
    "### Convertir columnas a tipo de datos adecuados\n",
    "\n",
    "1. La columna 'year_of_release' representa años, es apropiado convertirla a tipo de datos entero (int) para eliminar los decimales.\n",
    "2. las columnas 'critic_score' y 'user_score'representan puntuaciones, convertiré 'critic_score'a float y 'user_score' a float después de manejar los valores no numéricos (como \"tbd\").\n",
    "3. Modificar el tipo de dato a la columna 'rating' a category"
   ]
  },
  {
   "cell_type": "markdown",
   "id": "7d4df628",
   "metadata": {},
   "source": [
    "La columna 'user_score' contiene un regitro string 'tbd'. Para poder modificar el tipo de dato a esta columna, marcaré este registro como 'NaN'"
   ]
  },
  {
   "cell_type": "code",
   "execution_count": 5,
   "id": "691841fe",
   "metadata": {},
   "outputs": [],
   "source": [
    "# Reemplazo \"tbd\" con None y modificación del tipo de dato\n",
    "games['user_score'] = games['user_score'].replace('tbd',None).astype(float)"
   ]
  },
  {
   "cell_type": "code",
   "execution_count": 6,
   "id": "43d859c3",
   "metadata": {},
   "outputs": [],
   "source": [
    "# Convertir la columna rating a tipo categórico (opcional)\n",
    "#games['rating'] = games['rating'].astype('category')"
   ]
  },
  {
   "cell_type": "code",
   "execution_count": 7,
   "id": "567a2b77",
   "metadata": {},
   "outputs": [
    {
     "name": "stdout",
     "output_type": "stream",
     "text": [
      "<class 'pandas.core.frame.DataFrame'>\n",
      "RangeIndex: 16715 entries, 0 to 16714\n",
      "Data columns (total 11 columns):\n",
      " #   Column           Non-Null Count  Dtype  \n",
      "---  ------           --------------  -----  \n",
      " 0   name             16713 non-null  object \n",
      " 1   platform         16715 non-null  object \n",
      " 2   year_of_release  16446 non-null  float64\n",
      " 3   genre            16713 non-null  object \n",
      " 4   na_sales         16715 non-null  float64\n",
      " 5   eu_sales         16715 non-null  float64\n",
      " 6   jp_sales         16715 non-null  float64\n",
      " 7   other_sales      16715 non-null  float64\n",
      " 8   critic_score     8137 non-null   float64\n",
      " 9   user_score       8760 non-null   float64\n",
      " 10  rating           9949 non-null   object \n",
      "dtypes: float64(7), object(4)\n",
      "memory usage: 1.4+ MB\n"
     ]
    }
   ],
   "source": [
    "# Verificando los cambios realizados\n",
    "games.info()"
   ]
  },
  {
   "cell_type": "markdown",
   "id": "abc2b5af",
   "metadata": {},
   "source": [
    "### Verificación de valores ausentes"
   ]
  },
  {
   "cell_type": "code",
   "execution_count": 8,
   "id": "6d7ed704",
   "metadata": {},
   "outputs": [
    {
     "data": {
      "image/png": "[encoded data removed]",
      "text/plain": [
       "<Figure size 720x432 with 1 Axes>"
      ]
     },
     "metadata": {
      "needs_background": "light"
     },
     "output_type": "display_data"
    }
   ],
   "source": [
    "#Utilizando un gráfico de barras para la visualización de los valores ausentes\n",
    "\n",
    "missing_values_count = games.isnull().sum()\n",
    "\n",
    "plt.figure(figsize=(10, 6))\n",
    "missing_columns = missing_values_count[missing_values_count > 0]\n",
    "sns.barplot(x=missing_columns.index, y=missing_columns.values)\n",
    "plt.title('Valores ausentes')\n",
    "plt.xticks(rotation=50)\n",
    "plt.show()"
   ]
  },
  {
   "cell_type": "code",
   "execution_count": 9,
   "id": "f0a7b041",
   "metadata": {},
   "outputs": [
    {
     "name": "stdout",
     "output_type": "stream",
     "text": [
      "Porcentaje total de valores ausentes en el DataFrame: 12.82%\n",
      "Porcentaje de valores ausentes por columna:\n",
      "name: 0%\n",
      "year_of_release: 1%\n",
      "genre: 0%\n",
      "critic_score: 51%\n",
      "user_score: 47%\n",
      "rating: 40%\n"
     ]
    }
   ],
   "source": [
    "# Verificando el porcentaje de valores ausentes\n",
    "\n",
    "total_missing = games.isnull().sum().sum()\n",
    "total_cells = games.size\n",
    "\n",
    "missing_percentage_total = (total_missing / total_cells) * 100\n",
    "\n",
    "print(f\"Porcentaje total de valores ausentes en el DataFrame: {missing_percentage_total:.2f}%\")\n",
    "\n",
    "missing_values_count = games.isnull().sum()\n",
    "total_rows = len(games)\n",
    "\n",
    "missing_percentage = (missing_values_count / total_rows) * 100\n",
    "\n",
    "print(\"Porcentaje de valores ausentes por columna:\")\n",
    "for column, percentage in missing_percentage.items():\n",
    "    if percentage > 0:\n",
    "        print(f\"{column}: {int(percentage)}%\")"
   ]
  },
  {
   "cell_type": "markdown",
   "id": "06e1a88b",
   "metadata": {},
   "source": [
    "Se puede observa que el en Dataset 'games':\n",
    "\n",
    "1. critic_score: 51% de valores ausentes. Esta columna tiene un alto porcentaje de valores ausentes, lo que indica que más de la mitad de las observaciones no tienen una puntuación registrada.\n",
    "\n",
    "2. user_score: 54% de valores ausentes. Más del 50% de las observaciones no tienen una puntuación de usuario registrada.\n",
    "\n",
    "3. rating: 40% de valores ausentes. La columna de clasificación ESRB también tiene un porcentaje considerable de valores faltantes.\n",
    "\n",
    "Realizaré la imputación de valores para las columnas 'critic_score', 'user_score' y 'rating' dado que estas características son críticas para el análisis."
   ]
  },
  {
   "cell_type": "markdown",
   "id": "c9f23b97",
   "metadata": {},
   "source": [
    "#### Imputación de 'user_score' y 'critic_Score:\n",
    "\n",
    "Comparar la distribución de 'user_score' con 'critic_score' y determinar si tienen similitudes o diferencias notables."
   ]
  },
  {
   "cell_type": "code",
   "execution_count": 10,
   "id": "a76dfd03",
   "metadata": {},
   "outputs": [
    {
     "data": {
      "text/plain": [
       "count    8760.000000\n",
       "mean        7.099749\n",
       "std         1.520065\n",
       "min         0.000000\n",
       "25%         6.400000\n",
       "50%         7.500000\n",
       "75%         8.200000\n",
       "max         9.700000\n",
       "Name: user_score, dtype: float64"
      ]
     },
     "metadata": {},
     "output_type": "display_data"
    },
    {
     "data": {
      "text/plain": [
       "count    8137.000000\n",
       "mean       68.967679\n",
       "std        13.938165\n",
       "min        13.000000\n",
       "25%        60.000000\n",
       "50%        71.000000\n",
       "75%        79.000000\n",
       "max        98.000000\n",
       "Name: critic_score, dtype: float64"
      ]
     },
     "metadata": {},
     "output_type": "display_data"
    }
   ],
   "source": [
    "# Estadisticas resumidas comparativas:\n",
    "display(games['user_score'].describe())\n",
    "display(games['critic_score'].describe())"
   ]
  },
  {
   "cell_type": "code",
   "execution_count": 11,
   "id": "452cd613",
   "metadata": {},
   "outputs": [
    {
     "data": {
      "image/png": "[encoded data removed]",
      "text/plain": [
       "<Figure size 864x432 with 2 Axes>"
      ]
     },
     "metadata": {
      "needs_background": "light"
     },
     "output_type": "display_data"
    }
   ],
   "source": [
    "import matplotlib.pyplot as plt\n",
    "import seaborn as sns\n",
    "\n",
    "# Crear histogramas para 'user_score' y 'critic_score'\n",
    "plt.figure(figsize=(12, 6))\n",
    "plt.subplot(1, 2, 1)\n",
    "sns.histplot(data=games, x='user_score', bins=20, kde=True, color='blue')\n",
    "plt.title('Distribución de User Scores')\n",
    "\n",
    "plt.subplot(1, 2, 2)\n",
    "sns.histplot(data=games, x='critic_score', bins=20, kde=True, color='green')\n",
    "plt.title('Distribución de Critic Scores')\n",
    "\n",
    "plt.tight_layout()\n",
    "plt.show()"
   ]
  },
  {
   "cell_type": "code",
   "execution_count": 12,
   "id": "b4f8875a",
   "metadata": {},
   "outputs": [
    {
     "data": {
      "image/png": "[encoded data removed]",
      "text/plain": [
       "<Figure size 720x432 with 1 Axes>"
      ]
     },
     "metadata": {
      "needs_background": "light"
     },
     "output_type": "display_data"
    }
   ],
   "source": [
    "plt.figure(figsize=(10, 6))\n",
    "sns.boxplot(data=games[['user_score', 'critic_score']], palette=['blue', 'green'])\n",
    "plt.title('Comparación de User Score y Critic Score')\n",
    "plt.ylabel('Puntuación')\n",
    "plt.show()"
   ]
  },
  {
   "cell_type": "markdown",
   "id": "acb85070",
   "metadata": {},
   "source": [
    "Al comparar estas estadísticas, puedes observar que las puntuaciones de críticos ('critic_score') tienden a ser más altas en promedio que las puntuaciones de usuarios ('user_score'). También hay una mayor variabilidad en las puntuaciones de usuarios. Además, se observa que 'user_score' tiene un valor mínimo inusualmente bajo de 0, lo que podría ser un valor atípico o un error en los datos"
   ]
  },
  {
   "cell_type": "code",
   "execution_count": 13,
   "id": "6f8bf531",
   "metadata": {},
   "outputs": [
    {
     "data": {
      "text/html": [
       "<div>\n",
       "<style scoped>\n",
       "    .dataframe tbody tr th:only-of-type {\n",
       "        vertical-align: middle;\n",
       "    }\n",
       "\n",
       "    .dataframe tbody tr th {\n",
       "        vertical-align: top;\n",
       "    }\n",
       "\n",
       "    .dataframe thead th {\n",
       "        text-align: right;\n",
       "    }\n",
       "</style>\n",
       "<table border=\"1\" class=\"dataframe\">\n",
       "  <thead>\n",
       "    <tr style=\"text-align: right;\">\n",
       "      <th></th>\n",
       "      <th>name</th>\n",
       "      <th>platform</th>\n",
       "      <th>year_of_release</th>\n",
       "      <th>genre</th>\n",
       "      <th>na_sales</th>\n",
       "      <th>eu_sales</th>\n",
       "      <th>jp_sales</th>\n",
       "      <th>other_sales</th>\n",
       "      <th>critic_score</th>\n",
       "      <th>user_score</th>\n",
       "      <th>rating</th>\n",
       "    </tr>\n",
       "  </thead>\n",
       "  <tbody>\n",
       "    <tr>\n",
       "      <th>2835</th>\n",
       "      <td>My Little Pony: Pinkie Pie's Party</td>\n",
       "      <td>DS</td>\n",
       "      <td>2008.0</td>\n",
       "      <td>Adventure</td>\n",
       "      <td>0.66</td>\n",
       "      <td>0.0</td>\n",
       "      <td>0.0</td>\n",
       "      <td>0.06</td>\n",
       "      <td>NaN</td>\n",
       "      <td>0.0</td>\n",
       "      <td>E</td>\n",
       "    </tr>\n",
       "  </tbody>\n",
       "</table>\n",
       "</div>"
      ],
      "text/plain": [
       "                                    name platform  year_of_release      genre  \\\n",
       "2835  My Little Pony: Pinkie Pie's Party       DS           2008.0  Adventure   \n",
       "\n",
       "      na_sales  eu_sales  jp_sales  other_sales  critic_score  user_score  \\\n",
       "2835      0.66       0.0       0.0         0.06           NaN         0.0   \n",
       "\n",
       "     rating  \n",
       "2835      E  "
      ]
     },
     "execution_count": 13,
     "metadata": {},
     "output_type": "execute_result"
    }
   ],
   "source": [
    "cero_user_score = games[games['user_score'] == 0]\n",
    "cero_user_score"
   ]
  },
  {
   "cell_type": "markdown",
   "id": "51a50fca",
   "metadata": {},
   "source": [
    "Es solo un registro con score 0.0, no representa mayor problema para mi aanálisis por lo que lo dejaré intacto."
   ]
  },
  {
   "cell_type": "markdown",
   "id": "12900302",
   "metadata": {},
   "source": [
    "#### Análisis de valores ausentes por columna 'user_score', 'critic_score' agrupadas por 'year_of_release'"
   ]
  },
  {
   "cell_type": "code",
   "execution_count": 14,
   "id": "92cfed26",
   "metadata": {},
   "outputs": [
    {
     "name": "stdout",
     "output_type": "stream",
     "text": [
      "                 user_score_missing_value  critic_score_missing_value\n",
      "year_of_release                                                      \n",
      "1980.0                           1.000000                    1.000000\n",
      "1981.0                           1.000000                    1.000000\n",
      "1982.0                           1.000000                    1.000000\n",
      "1983.0                           1.000000                    1.000000\n",
      "1984.0                           1.000000                    1.000000\n",
      "1985.0                           0.928571                    0.928571\n",
      "1986.0                           1.000000                    1.000000\n",
      "1987.0                           1.000000                    1.000000\n",
      "1988.0                           0.933333                    0.933333\n",
      "1989.0                           1.000000                    1.000000\n",
      "1990.0                           1.000000                    1.000000\n",
      "1991.0                           1.000000                    1.000000\n",
      "1992.0                           0.976744                    0.976744\n",
      "1993.0                           1.000000                    1.000000\n",
      "1994.0                           0.991736                    0.991736\n",
      "1995.0                           1.000000                    1.000000\n",
      "1996.0                           0.969582                    0.969582\n",
      "1997.0                           0.934256                    0.941176\n",
      "1998.0                           0.918206                    0.926121\n",
      "1999.0                           0.893491                    0.884615\n",
      "2000.0                           0.628571                    0.591429\n",
      "2001.0                           0.387967                    0.323651\n",
      "2002.0                           0.341375                    0.243667\n",
      "2003.0                           0.273548                    0.245161\n",
      "2004.0                           0.292651                    0.263780\n",
      "2005.0                           0.318424                    0.302449\n",
      "2006.0                           0.405567                    0.383698\n",
      "2007.0                           0.395990                    0.421888\n",
      "2008.0                           0.417659                    0.498949\n",
      "2009.0                           0.420757                    0.543478\n",
      "2010.0                           0.495618                    0.601594\n",
      "2011.0                           0.466549                    0.559859\n",
      "2012.0                           0.471669                    0.508423\n",
      "2013.0                           0.428309                    0.498162\n",
      "2014.0                           0.414802                    0.550775\n",
      "2015.0                           0.485149                    0.628713\n",
      "2016.0                           0.456175                    0.537849\n"
     ]
    }
   ],
   "source": [
    "\n",
    "# Calcula la proporción de valores ausentes en 'user_score' y 'critic_score' dentro de cada categoría\n",
    "missing_data_analysis = games.groupby('year_of_release')[['user_score', 'critic_score']].apply(lambda x: x.isnull().mean())\n",
    "\n",
    "# Renombra las columnas\n",
    "missing_data_analysis.columns = ['user_score_missing_value', 'critic_score_missing_value']\n",
    "\n",
    "# Compara las proporciones de valores ausentes\n",
    "print(missing_data_analysis)"
   ]
  },
  {
   "cell_type": "markdown",
   "id": "fad15d26",
   "metadata": {},
   "source": [
    "Se puede observa que la proporción de valores ausentes en 'User Score' es más baja que en 'critic_score' a lo largo de la mayoría de los años.\n",
    "\n",
    "En los primeros años, prácticamente todos los juegos tienen valores ausentes en 'user_score' y 'critic_score'. Esto podría deberse a la falta de datos históricos.\n",
    "\n",
    "A partir de la década de 1990, la proporción de valores ausentes disminuye en general, lo que sugiere que se registraron más puntuaciones a medida que la industria crecía.\n",
    "\n",
    "Hay un aumento notable en la proporción de valores ausentes en los últimos años (2014, 2015 y 2016), especialmente en 'critic_score'. Esto podría deberse a una falta de datos actualizados o a cambios en la forma en que se registran las puntuaciones.\n",
    "\n",
    "En la década de 2000, se observa una disminución en la proporción de valores ausentes en 'user_score', pero un aumento en 'critic_score'. Esto podría sugerir que los juegos comenzaron a recibir más puntuaciones.\n",
    "\n",
    "\n"
   ]
  },
  {
   "cell_type": "markdown",
   "id": "fcdb6468",
   "metadata": {},
   "source": [
    "## Tratamiento de Valores ausentes"
   ]
  },
  {
   "cell_type": "markdown",
   "id": "9b950fb9",
   "metadata": {},
   "source": [
    "#### Imputación de valores ausentes en 'rating':\n",
    "\n",
    "<div class=\"alert alert-block alert-info\">\n",
    "<b>Para manejar los valores ausentes en la columna 'raiting', crearé una categoría \"unknown\" para identificar los registros para los cuales no se tiene información de clasificación</b> <a class=\"tocSkip\"></a>\n",
    "</div>"
   ]
  },
  {
   "cell_type": "code",
   "execution_count": 15,
   "id": "95c46aff",
   "metadata": {},
   "outputs": [],
   "source": [
    "# Identificar valores ausentes en 'rating'\n",
    "missing_rating = games['rating'].isnull()\n",
    "\n",
    "# Reemplazar valores ausentes con la categoría \"unknown\"\n",
    "games.loc[missing_rating, 'rating'] = 'Unknown'"
   ]
  },
  {
   "cell_type": "code",
   "execution_count": 16,
   "id": "60719b3f",
   "metadata": {},
   "outputs": [
    {
     "data": {
      "text/html": [
       "<div>\n",
       "<style scoped>\n",
       "    .dataframe tbody tr th:only-of-type {\n",
       "        vertical-align: middle;\n",
       "    }\n",
       "\n",
       "    .dataframe tbody tr th {\n",
       "        vertical-align: top;\n",
       "    }\n",
       "\n",
       "    .dataframe thead th {\n",
       "        text-align: right;\n",
       "    }\n",
       "</style>\n",
       "<table border=\"1\" class=\"dataframe\">\n",
       "  <thead>\n",
       "    <tr style=\"text-align: right;\">\n",
       "      <th></th>\n",
       "      <th>name</th>\n",
       "      <th>platform</th>\n",
       "      <th>year_of_release</th>\n",
       "      <th>genre</th>\n",
       "      <th>na_sales</th>\n",
       "      <th>eu_sales</th>\n",
       "      <th>jp_sales</th>\n",
       "      <th>other_sales</th>\n",
       "      <th>critic_score</th>\n",
       "      <th>user_score</th>\n",
       "      <th>rating</th>\n",
       "    </tr>\n",
       "  </thead>\n",
       "  <tbody>\n",
       "  </tbody>\n",
       "</table>\n",
       "</div>"
      ],
      "text/plain": [
       "Empty DataFrame\n",
       "Columns: [name, platform, year_of_release, genre, na_sales, eu_sales, jp_sales, other_sales, critic_score, user_score, rating]\n",
       "Index: []"
      ]
     },
     "execution_count": 16,
     "metadata": {},
     "output_type": "execute_result"
    }
   ],
   "source": [
    "# Verificando valores ausentes en la columna 'rating'\n",
    "games[games['rating'].isna()]\n"
   ]
  },
  {
   "cell_type": "markdown",
   "id": "9db82f78",
   "metadata": {},
   "source": [
    "#### Imputación de valores ausentes en 'year_of_release':\n",
    "\n",
    "<div class=\"alert alert-block alert-info\">\n",
    "<b>Imputar los valores ausentes en la columna 'year_of_release', extraeré de la columna 'name' el año del juego, esta modificación será para los registros que lo permitan. </b> <a class=\"tocSkip\"></a>\n",
    "</div>\n"
   ]
  },
  {
   "cell_type": "code",
   "execution_count": 17,
   "id": "4f64aafd",
   "metadata": {},
   "outputs": [
    {
     "data": {
      "text/plain": [
       "0                           Wii Sports\n",
       "1                    Super Mario Bros.\n",
       "2                       Mario Kart Wii\n",
       "3                    Wii Sports Resort\n",
       "4             Pokemon Red/Pokemon Blue\n",
       "                     ...              \n",
       "16710    Samurai Warriors: Sanada Maru\n",
       "16711                 LMA Manager 2007\n",
       "16712          Haitaka no Psychedelica\n",
       "16713                 Spirits & Spells\n",
       "16714              Winning Post 8 2016\n",
       "Name: name, Length: 16715, dtype: object"
      ]
     },
     "execution_count": 17,
     "metadata": {},
     "output_type": "execute_result"
    }
   ],
   "source": [
    "games['name']"
   ]
  },
  {
   "cell_type": "code",
   "execution_count": 18,
   "id": "e85df9e3",
   "metadata": {},
   "outputs": [
    {
     "data": {
      "text/plain": [
       "269"
      ]
     },
     "execution_count": 18,
     "metadata": {},
     "output_type": "execute_result"
    }
   ],
   "source": [
    "games['year_of_release'].isnull().sum()"
   ]
  },
  {
   "cell_type": "code",
   "execution_count": 19,
   "id": "037c3002",
   "metadata": {},
   "outputs": [],
   "source": [
    "# Función para extraer el año del nombre del juego\n",
    "def extract_year_from_name(value):\n",
    "    extracted_years = []\n",
    "    for name in value:\n",
    "        match = re.search(r'\\b\\d{4}\\b', str(name))\n",
    "        if match:\n",
    "            extracted_years.append(int(match.group()))\n",
    "        else:\n",
    "            extracted_years.append(None)\n",
    "    return extracted_years\n",
    "\n",
    "# Aplicar la función y crear una nueva columna 'year_from_name'\n",
    "games['year_from_name'] = extract_year_from_name(games['name'])\n",
    "\n",
    "# Combinar los valores extraídos con los valores existentes en 'year_of_release'\n",
    "games['year_of_release'].fillna(games['year_from_name'], inplace=True)\n",
    "\n",
    "# Eliminar la columna 'year_from_name' si ya no es necesaria\n",
    "games.drop('year_from_name', axis=1, inplace=True)\n"
   ]
  },
  {
   "cell_type": "code",
   "execution_count": 20,
   "id": "0020638a",
   "metadata": {},
   "outputs": [
    {
     "name": "stdout",
     "output_type": "stream",
     "text": [
      "Valores ausentes en 'year_of_release' después de la imputación: 252\n"
     ]
    }
   ],
   "source": [
    "#Verificar que ya no hay valores ausentes en 'year_of_release'\n",
    "print(\"Valores ausentes en 'year_of_release' después de la imputación:\", games['year_of_release'].isnull().sum())"
   ]
  },
  {
   "cell_type": "markdown",
   "id": "84eb329e",
   "metadata": {},
   "source": [
    "<div class=\"alert alert-block alert-info\">\n",
    "<b>Después de la modificación realizada aún se observan muchos valores ausentes en 'year_of_release'(252). Dado que esta variable es de muy importatante para el análisis conservaré los valores ausentes.</b> <a class=\"tocSkip\"></a>\n",
    "</div>\n"
   ]
  },
  {
   "cell_type": "markdown",
   "id": "d604ea2a",
   "metadata": {},
   "source": [
    "#### Imputación de valores ausentes en 'user_score' y 'critic_score'"
   ]
  },
  {
   "cell_type": "code",
   "execution_count": 21,
   "id": "a8f53e13",
   "metadata": {},
   "outputs": [
    {
     "data": {
      "text/html": [
       "<div>\n",
       "<style scoped>\n",
       "    .dataframe tbody tr th:only-of-type {\n",
       "        vertical-align: middle;\n",
       "    }\n",
       "\n",
       "    .dataframe tbody tr th {\n",
       "        vertical-align: top;\n",
       "    }\n",
       "\n",
       "    .dataframe thead tr th {\n",
       "        text-align: left;\n",
       "    }\n",
       "\n",
       "    .dataframe thead tr:last-of-type th {\n",
       "        text-align: right;\n",
       "    }\n",
       "</style>\n",
       "<table border=\"1\" class=\"dataframe\">\n",
       "  <thead>\n",
       "    <tr>\n",
       "      <th></th>\n",
       "      <th colspan=\"8\" halign=\"left\">critic_score</th>\n",
       "      <th colspan=\"8\" halign=\"left\">user_score</th>\n",
       "    </tr>\n",
       "    <tr>\n",
       "      <th></th>\n",
       "      <th>count</th>\n",
       "      <th>mean</th>\n",
       "      <th>std</th>\n",
       "      <th>min</th>\n",
       "      <th>25%</th>\n",
       "      <th>50%</th>\n",
       "      <th>75%</th>\n",
       "      <th>max</th>\n",
       "      <th>count</th>\n",
       "      <th>mean</th>\n",
       "      <th>std</th>\n",
       "      <th>min</th>\n",
       "      <th>25%</th>\n",
       "      <th>50%</th>\n",
       "      <th>75%</th>\n",
       "      <th>max</th>\n",
       "    </tr>\n",
       "    <tr>\n",
       "      <th>genre</th>\n",
       "      <th></th>\n",
       "      <th></th>\n",
       "      <th></th>\n",
       "      <th></th>\n",
       "      <th></th>\n",
       "      <th></th>\n",
       "      <th></th>\n",
       "      <th></th>\n",
       "      <th></th>\n",
       "      <th></th>\n",
       "      <th></th>\n",
       "      <th></th>\n",
       "      <th></th>\n",
       "      <th></th>\n",
       "      <th></th>\n",
       "      <th></th>\n",
       "    </tr>\n",
       "  </thead>\n",
       "  <tbody>\n",
       "    <tr>\n",
       "      <th>Action</th>\n",
       "      <td>1890.0</td>\n",
       "      <td>66.629101</td>\n",
       "      <td>14.206877</td>\n",
       "      <td>19.0</td>\n",
       "      <td>57.00</td>\n",
       "      <td>68.0</td>\n",
       "      <td>77.0</td>\n",
       "      <td>98.0</td>\n",
       "      <td>2019.0</td>\n",
       "      <td>7.050421</td>\n",
       "      <td>1.433879</td>\n",
       "      <td>0.3</td>\n",
       "      <td>6.3</td>\n",
       "      <td>7.40</td>\n",
       "      <td>8.100</td>\n",
       "      <td>9.5</td>\n",
       "    </tr>\n",
       "    <tr>\n",
       "      <th>Adventure</th>\n",
       "      <td>323.0</td>\n",
       "      <td>65.331269</td>\n",
       "      <td>13.920756</td>\n",
       "      <td>17.0</td>\n",
       "      <td>57.00</td>\n",
       "      <td>66.0</td>\n",
       "      <td>76.0</td>\n",
       "      <td>93.0</td>\n",
       "      <td>374.0</td>\n",
       "      <td>7.078610</td>\n",
       "      <td>1.696763</td>\n",
       "      <td>0.0</td>\n",
       "      <td>6.4</td>\n",
       "      <td>7.60</td>\n",
       "      <td>8.200</td>\n",
       "      <td>9.4</td>\n",
       "    </tr>\n",
       "    <tr>\n",
       "      <th>Fighting</th>\n",
       "      <td>409.0</td>\n",
       "      <td>69.217604</td>\n",
       "      <td>14.280079</td>\n",
       "      <td>23.0</td>\n",
       "      <td>61.00</td>\n",
       "      <td>72.0</td>\n",
       "      <td>80.0</td>\n",
       "      <td>98.0</td>\n",
       "      <td>415.0</td>\n",
       "      <td>7.264337</td>\n",
       "      <td>1.427196</td>\n",
       "      <td>0.9</td>\n",
       "      <td>6.6</td>\n",
       "      <td>7.60</td>\n",
       "      <td>8.300</td>\n",
       "      <td>9.2</td>\n",
       "    </tr>\n",
       "    <tr>\n",
       "      <th>Misc</th>\n",
       "      <td>523.0</td>\n",
       "      <td>66.619503</td>\n",
       "      <td>14.152649</td>\n",
       "      <td>19.0</td>\n",
       "      <td>58.50</td>\n",
       "      <td>69.0</td>\n",
       "      <td>77.0</td>\n",
       "      <td>93.0</td>\n",
       "      <td>682.0</td>\n",
       "      <td>6.900147</td>\n",
       "      <td>1.570960</td>\n",
       "      <td>0.2</td>\n",
       "      <td>6.1</td>\n",
       "      <td>7.30</td>\n",
       "      <td>8.000</td>\n",
       "      <td>9.5</td>\n",
       "    </tr>\n",
       "    <tr>\n",
       "      <th>Platform</th>\n",
       "      <td>497.0</td>\n",
       "      <td>68.058350</td>\n",
       "      <td>13.213760</td>\n",
       "      <td>19.0</td>\n",
       "      <td>59.00</td>\n",
       "      <td>69.0</td>\n",
       "      <td>77.0</td>\n",
       "      <td>97.0</td>\n",
       "      <td>486.0</td>\n",
       "      <td>7.217901</td>\n",
       "      <td>1.590354</td>\n",
       "      <td>0.2</td>\n",
       "      <td>6.5</td>\n",
       "      <td>7.70</td>\n",
       "      <td>8.400</td>\n",
       "      <td>9.4</td>\n",
       "    </tr>\n",
       "    <tr>\n",
       "      <th>Puzzle</th>\n",
       "      <td>224.0</td>\n",
       "      <td>67.424107</td>\n",
       "      <td>12.735444</td>\n",
       "      <td>25.0</td>\n",
       "      <td>60.75</td>\n",
       "      <td>70.0</td>\n",
       "      <td>76.0</td>\n",
       "      <td>90.0</td>\n",
       "      <td>208.0</td>\n",
       "      <td>7.049038</td>\n",
       "      <td>1.658443</td>\n",
       "      <td>0.7</td>\n",
       "      <td>6.3</td>\n",
       "      <td>7.40</td>\n",
       "      <td>8.225</td>\n",
       "      <td>9.5</td>\n",
       "    </tr>\n",
       "    <tr>\n",
       "      <th>Racing</th>\n",
       "      <td>742.0</td>\n",
       "      <td>67.963612</td>\n",
       "      <td>14.248234</td>\n",
       "      <td>13.0</td>\n",
       "      <td>59.00</td>\n",
       "      <td>69.0</td>\n",
       "      <td>79.0</td>\n",
       "      <td>96.0</td>\n",
       "      <td>749.0</td>\n",
       "      <td>7.050734</td>\n",
       "      <td>1.526693</td>\n",
       "      <td>0.3</td>\n",
       "      <td>6.2</td>\n",
       "      <td>7.40</td>\n",
       "      <td>8.200</td>\n",
       "      <td>9.7</td>\n",
       "    </tr>\n",
       "    <tr>\n",
       "      <th>Role-Playing</th>\n",
       "      <td>737.0</td>\n",
       "      <td>72.652646</td>\n",
       "      <td>11.999835</td>\n",
       "      <td>35.0</td>\n",
       "      <td>65.00</td>\n",
       "      <td>74.0</td>\n",
       "      <td>82.0</td>\n",
       "      <td>96.0</td>\n",
       "      <td>757.0</td>\n",
       "      <td>7.610964</td>\n",
       "      <td>1.103014</td>\n",
       "      <td>1.4</td>\n",
       "      <td>7.0</td>\n",
       "      <td>7.80</td>\n",
       "      <td>8.400</td>\n",
       "      <td>9.7</td>\n",
       "    </tr>\n",
       "    <tr>\n",
       "      <th>Shooter</th>\n",
       "      <td>944.0</td>\n",
       "      <td>70.181144</td>\n",
       "      <td>14.552571</td>\n",
       "      <td>22.0</td>\n",
       "      <td>61.00</td>\n",
       "      <td>73.0</td>\n",
       "      <td>81.0</td>\n",
       "      <td>97.0</td>\n",
       "      <td>967.0</td>\n",
       "      <td>7.012823</td>\n",
       "      <td>1.544824</td>\n",
       "      <td>1.2</td>\n",
       "      <td>6.3</td>\n",
       "      <td>7.40</td>\n",
       "      <td>8.100</td>\n",
       "      <td>9.3</td>\n",
       "    </tr>\n",
       "    <tr>\n",
       "      <th>Simulation</th>\n",
       "      <td>352.0</td>\n",
       "      <td>68.619318</td>\n",
       "      <td>12.409558</td>\n",
       "      <td>31.0</td>\n",
       "      <td>62.00</td>\n",
       "      <td>70.0</td>\n",
       "      <td>77.0</td>\n",
       "      <td>92.0</td>\n",
       "      <td>465.0</td>\n",
       "      <td>7.100860</td>\n",
       "      <td>1.582133</td>\n",
       "      <td>2.1</td>\n",
       "      <td>6.5</td>\n",
       "      <td>7.50</td>\n",
       "      <td>8.200</td>\n",
       "      <td>9.6</td>\n",
       "    </tr>\n",
       "    <tr>\n",
       "      <th>Sports</th>\n",
       "      <td>1194.0</td>\n",
       "      <td>71.968174</td>\n",
       "      <td>13.878433</td>\n",
       "      <td>19.0</td>\n",
       "      <td>64.00</td>\n",
       "      <td>75.0</td>\n",
       "      <td>82.0</td>\n",
       "      <td>98.0</td>\n",
       "      <td>1314.0</td>\n",
       "      <td>6.954871</td>\n",
       "      <td>1.612015</td>\n",
       "      <td>0.2</td>\n",
       "      <td>6.1</td>\n",
       "      <td>7.40</td>\n",
       "      <td>8.100</td>\n",
       "      <td>9.5</td>\n",
       "    </tr>\n",
       "    <tr>\n",
       "      <th>Strategy</th>\n",
       "      <td>302.0</td>\n",
       "      <td>72.086093</td>\n",
       "      <td>11.828475</td>\n",
       "      <td>35.0</td>\n",
       "      <td>65.00</td>\n",
       "      <td>73.0</td>\n",
       "      <td>80.0</td>\n",
       "      <td>94.0</td>\n",
       "      <td>324.0</td>\n",
       "      <td>7.260494</td>\n",
       "      <td>1.631742</td>\n",
       "      <td>0.6</td>\n",
       "      <td>6.8</td>\n",
       "      <td>7.75</td>\n",
       "      <td>8.325</td>\n",
       "      <td>9.4</td>\n",
       "    </tr>\n",
       "  </tbody>\n",
       "</table>\n",
       "</div>"
      ],
      "text/plain": [
       "             critic_score                                                 \\\n",
       "                    count       mean        std   min    25%   50%   75%   \n",
       "genre                                                                      \n",
       "Action             1890.0  66.629101  14.206877  19.0  57.00  68.0  77.0   \n",
       "Adventure           323.0  65.331269  13.920756  17.0  57.00  66.0  76.0   \n",
       "Fighting            409.0  69.217604  14.280079  23.0  61.00  72.0  80.0   \n",
       "Misc                523.0  66.619503  14.152649  19.0  58.50  69.0  77.0   \n",
       "Platform            497.0  68.058350  13.213760  19.0  59.00  69.0  77.0   \n",
       "Puzzle              224.0  67.424107  12.735444  25.0  60.75  70.0  76.0   \n",
       "Racing              742.0  67.963612  14.248234  13.0  59.00  69.0  79.0   \n",
       "Role-Playing        737.0  72.652646  11.999835  35.0  65.00  74.0  82.0   \n",
       "Shooter             944.0  70.181144  14.552571  22.0  61.00  73.0  81.0   \n",
       "Simulation          352.0  68.619318  12.409558  31.0  62.00  70.0  77.0   \n",
       "Sports             1194.0  71.968174  13.878433  19.0  64.00  75.0  82.0   \n",
       "Strategy            302.0  72.086093  11.828475  35.0  65.00  73.0  80.0   \n",
       "\n",
       "                   user_score                                                  \n",
       "               max      count      mean       std  min  25%   50%    75%  max  \n",
       "genre                                                                          \n",
       "Action        98.0     2019.0  7.050421  1.433879  0.3  6.3  7.40  8.100  9.5  \n",
       "Adventure     93.0      374.0  7.078610  1.696763  0.0  6.4  7.60  8.200  9.4  \n",
       "Fighting      98.0      415.0  7.264337  1.427196  0.9  6.6  7.60  8.300  9.2  \n",
       "Misc          93.0      682.0  6.900147  1.570960  0.2  6.1  7.30  8.000  9.5  \n",
       "Platform      97.0      486.0  7.217901  1.590354  0.2  6.5  7.70  8.400  9.4  \n",
       "Puzzle        90.0      208.0  7.049038  1.658443  0.7  6.3  7.40  8.225  9.5  \n",
       "Racing        96.0      749.0  7.050734  1.526693  0.3  6.2  7.40  8.200  9.7  \n",
       "Role-Playing  96.0      757.0  7.610964  1.103014  1.4  7.0  7.80  8.400  9.7  \n",
       "Shooter       97.0      967.0  7.012823  1.544824  1.2  6.3  7.40  8.100  9.3  \n",
       "Simulation    92.0      465.0  7.100860  1.582133  2.1  6.5  7.50  8.200  9.6  \n",
       "Sports        98.0     1314.0  6.954871  1.612015  0.2  6.1  7.40  8.100  9.5  \n",
       "Strategy      94.0      324.0  7.260494  1.631742  0.6  6.8  7.75  8.325  9.4  "
      ]
     },
     "execution_count": 21,
     "metadata": {},
     "output_type": "execute_result"
    }
   ],
   "source": [
    "# Estadisticar 'critic_score' agrupadas por 'genre'\n",
    "genre_groups = games.groupby('genre')\n",
    "genre_groups[['critic_score', 'user_score']].describe()"
   ]
  },
  {
   "cell_type": "markdown",
   "id": "251c0efe",
   "metadata": {},
   "source": [
    "<div class=\"alert alert-block alert-info\">\n",
    "<b>1. Distribución general: Las puntuaciones de 'critic_score' varían entre géneros, con medias y desviaciones estándar diferentes.\n",
    "\n",
    "2. Mediana: La mediana (valor central) también varía entre géneros. Por ejemplo, los géneros \"Shooter\" y \"Role-Playing\" tienen una mediana relativamente alta, mientras que \"Adventure\" y \"Puzzle\" tienen una mediana más baja.\n",
    "\n",
    "3. Variabilidad: La desviación estándar muestra la variabilidad en las puntuaciones dentro de cada género. Géneros como \"Fighting\" y \"Shooter\" muestran una mayor variabilidad en las puntuaciones, mientras que \"Strategy\" tiene una variabilidad más baja.\n",
    "\n",
    "Existe una variación significativa en las puntuaciones de 'critic_score' entre los diferentes géneros de juegos. Para no alterar el análisis mantendré las puntuaciones de 'critic_score' y 'user_score' como están, ya que cada género tiene sus propias características y tendencias en las puntuaciones.</b> <a class=\"tocSkip\"></a>\n",
    "</div>\n"
   ]
  },
  {
   "cell_type": "code",
   "execution_count": 22,
   "id": "73e3d6d0",
   "metadata": {},
   "outputs": [
    {
     "name": "stdout",
     "output_type": "stream",
     "text": [
      "<class 'pandas.core.frame.DataFrame'>\n",
      "RangeIndex: 16715 entries, 0 to 16714\n",
      "Data columns (total 11 columns):\n",
      " #   Column           Non-Null Count  Dtype  \n",
      "---  ------           --------------  -----  \n",
      " 0   name             16713 non-null  object \n",
      " 1   platform         16715 non-null  object \n",
      " 2   year_of_release  16463 non-null  float64\n",
      " 3   genre            16713 non-null  object \n",
      " 4   na_sales         16715 non-null  float64\n",
      " 5   eu_sales         16715 non-null  float64\n",
      " 6   jp_sales         16715 non-null  float64\n",
      " 7   other_sales      16715 non-null  float64\n",
      " 8   critic_score     8137 non-null   float64\n",
      " 9   user_score       8760 non-null   float64\n",
      " 10  rating           16715 non-null  object \n",
      "dtypes: float64(7), object(4)\n",
      "memory usage: 1.4+ MB\n"
     ]
    }
   ],
   "source": [
    "# Verificando los cambios en todo el Dataset 'games'\n",
    "games.info()"
   ]
  },
  {
   "cell_type": "markdown",
   "id": "0f3f9c09",
   "metadata": {},
   "source": [
    "#### Valores ausentes en 'name' y 'genre'\n",
    "\n",
    "Verifiquemos cuales son esos registros y si tienen algún impacto en el análisis"
   ]
  },
  {
   "cell_type": "code",
   "execution_count": 23,
   "id": "c1855787",
   "metadata": {},
   "outputs": [
    {
     "name": "stdout",
     "output_type": "stream",
     "text": [
      "Registros con valores faltantes en 'genre':\n",
      "      name platform  year_of_release genre  na_sales  eu_sales  jp_sales  \\\n",
      "659    NaN      GEN           1993.0   NaN      1.78      0.53      0.00   \n",
      "14244  NaN      GEN           1993.0   NaN      0.00      0.00      0.03   \n",
      "\n",
      "       other_sales  critic_score  user_score   rating  \n",
      "659           0.08           NaN         NaN  Unknown  \n",
      "14244         0.00           NaN         NaN  Unknown  \n",
      "\n",
      "Registros con valores faltantes en 'name':\n",
      "      name platform  year_of_release genre  na_sales  eu_sales  jp_sales  \\\n",
      "659    NaN      GEN           1993.0   NaN      1.78      0.53      0.00   \n",
      "14244  NaN      GEN           1993.0   NaN      0.00      0.00      0.03   \n",
      "\n",
      "       other_sales  critic_score  user_score   rating  \n",
      "659           0.08           NaN         NaN  Unknown  \n",
      "14244         0.00           NaN         NaN  Unknown  \n"
     ]
    }
   ],
   "source": [
    "# Filtrar los registros con valores faltantes en la columna 'genre'\n",
    "missing_genre_records = games[games['genre'].isnull()]\n",
    "\n",
    "# Filtrar los registros con valores faltantes en la columna 'name'\n",
    "missing_name_records = games[games['name'].isnull()]\n",
    "\n",
    "# Mostrar el detalle de los registros con valores faltantes en 'genre'\n",
    "print(\"Registros con valores faltantes en 'genre':\")\n",
    "print(missing_genre_records)\n",
    "\n",
    "# Mostrar el detalle de los registros con valores faltantes en 'name'\n",
    "print(\"\\nRegistros con valores faltantes en 'name':\")\n",
    "print(missing_name_records)"
   ]
  },
  {
   "cell_type": "markdown",
   "id": "f7fbd17f",
   "metadata": {},
   "source": [
    "Se observa que los valores ausentes en 'name' son los mismos faltantes en 'genre'\n",
    "Buscaré a continuación otros juegos en la plataforma \"GEN\" que tengan información completa en las columnas \"genre\" y \"name\" para verificar si existe un patrón común en esta plataforma."
   ]
  },
  {
   "cell_type": "code",
   "execution_count": 24,
   "id": "c84fa0bd",
   "metadata": {},
   "outputs": [
    {
     "name": "stdout",
     "output_type": "stream",
     "text": [
      "                                                    name         genre  \\\n",
      "145                                 Sonic the Hedgehog 2      Platform   \n",
      "257                                   Sonic the Hedgehog      Platform   \n",
      "564                                        Mortal Kombat      Fighting   \n",
      "588                                      Streets of Rage        Action   \n",
      "832                                              NBA Jam        Sports   \n",
      "960                                     Sonic & Knuckles      Platform   \n",
      "996                                 Sonic the Hedgehog 3      Platform   \n",
      "1099        Street Fighter II': Special Champion Edition      Fighting   \n",
      "1365                              Disney's The Lion King      Platform   \n",
      "1453                                     Mortal Kombat 3      Fighting   \n",
      "1842                          NBA Jam Tournament Edition        Sports   \n",
      "6451                                       Virtua Racing        Racing   \n",
      "7885                                    Shining Force II      Strategy   \n",
      "8893                             Super Street Fighter II      Fighting   \n",
      "9000      Lunar 2: Eternal Blue(sales, but wrong system)  Role-Playing   \n",
      "9563                                      Gunstar Heroes       Shooter   \n",
      "9787                                    Ecco the Dolphin     Adventure   \n",
      "11563                   Yuu Yuu Hakusho: Makyo Toitsusen      Fighting   \n",
      "11660                Dragon Slayer: The Legend of Heroes  Role-Playing   \n",
      "11986                            Ecco: The Tides of Time     Adventure   \n",
      "12098  Street Fighter II': Special Champion Edition (...        Action   \n",
      "12264                                  Streets of Rage 3        Action   \n",
      "12984                                    Dynamite Headdy      Platform   \n",
      "13343                                       Beyond Oasis  Role-Playing   \n",
      "14085                             J-League Pro Striker 2        Sports   \n",
      "14132                             Castlevania Bloodlines      Platform   \n",
      "14488                            Puzzle & Action: Tant-R          Misc   \n",
      "\n",
      "       year_of_release  \n",
      "145             1992.0  \n",
      "257             1991.0  \n",
      "564             1992.0  \n",
      "588             1990.0  \n",
      "832             1992.0  \n",
      "960             1994.0  \n",
      "996             1994.0  \n",
      "1099            1992.0  \n",
      "1365            1994.0  \n",
      "1453            1994.0  \n",
      "1842            1994.0  \n",
      "6451            1994.0  \n",
      "7885            1993.0  \n",
      "8893            1993.0  \n",
      "9000            1994.0  \n",
      "9563            1992.0  \n",
      "9787            1992.0  \n",
      "11563           1994.0  \n",
      "11660           1994.0  \n",
      "11986           1993.0  \n",
      "12098           1993.0  \n",
      "12264           1993.0  \n",
      "12984           1993.0  \n",
      "13343           1993.0  \n",
      "14085           1994.0  \n",
      "14132           1994.0  \n",
      "14488           1994.0  \n"
     ]
    }
   ],
   "source": [
    "# Filtra los juegos de la plataforma \"GEN\"\n",
    "gen_platform_games = games[games['platform'] == 'GEN']\n",
    "\n",
    "# Filtra los juegos de \"GEN\" con información completa en 'genre' y 'name'\n",
    "complete_gen_games = gen_platform_games.dropna(subset=['genre', 'name','year_of_release'])\n",
    "\n",
    "# Muestra los juegos que cumplen con los criterios\n",
    "print(complete_gen_games[['name', 'genre','year_of_release']])"
   ]
  },
  {
   "cell_type": "markdown",
   "id": "8f7eba16",
   "metadata": {},
   "source": [
    "No existe un patrón de estas columnas, dado que son registros del 1993, año que no será relevante para mi posterior análisis. Dejaré esos registros sin modificar."
   ]
  },
  {
   "cell_type": "markdown",
   "id": "48b9072c",
   "metadata": {},
   "source": [
    "## Análisis de datos\n",
    "\n",
    "Veamos a continuación la distribución de los juegos por año de lanzamiento."
   ]
  },
  {
   "cell_type": "code",
   "execution_count": 25,
   "id": "9e48116f",
   "metadata": {},
   "outputs": [
    {
     "data": {
      "image/png": "[encoded data removed]",
      "text/plain": [
       "<Figure size 864x432 with 1 Axes>"
      ]
     },
     "metadata": {
      "needs_background": "light"
     },
     "output_type": "display_data"
    },
    {
     "data": {
      "text/html": [
       "<div>\n",
       "<style scoped>\n",
       "    .dataframe tbody tr th:only-of-type {\n",
       "        vertical-align: middle;\n",
       "    }\n",
       "\n",
       "    .dataframe tbody tr th {\n",
       "        vertical-align: top;\n",
       "    }\n",
       "\n",
       "    .dataframe thead th {\n",
       "        text-align: right;\n",
       "    }\n",
       "</style>\n",
       "<table border=\"1\" class=\"dataframe\">\n",
       "  <thead>\n",
       "    <tr style=\"text-align: right;\">\n",
       "      <th></th>\n",
       "      <th>year_of_release</th>\n",
       "      <th>name</th>\n",
       "    </tr>\n",
       "  </thead>\n",
       "  <tbody>\n",
       "    <tr>\n",
       "      <th>count</th>\n",
       "      <td>37.000000</td>\n",
       "      <td>37.000000</td>\n",
       "    </tr>\n",
       "    <tr>\n",
       "      <th>mean</th>\n",
       "      <td>1998.000000</td>\n",
       "      <td>444.891892</td>\n",
       "    </tr>\n",
       "    <tr>\n",
       "      <th>std</th>\n",
       "      <td>10.824355</td>\n",
       "      <td>452.155073</td>\n",
       "    </tr>\n",
       "    <tr>\n",
       "      <th>min</th>\n",
       "      <td>1980.000000</td>\n",
       "      <td>9.000000</td>\n",
       "    </tr>\n",
       "    <tr>\n",
       "      <th>25%</th>\n",
       "      <td>1989.000000</td>\n",
       "      <td>36.000000</td>\n",
       "    </tr>\n",
       "    <tr>\n",
       "      <th>50%</th>\n",
       "      <td>1998.000000</td>\n",
       "      <td>338.000000</td>\n",
       "    </tr>\n",
       "    <tr>\n",
       "      <th>75%</th>\n",
       "      <td>2007.000000</td>\n",
       "      <td>764.000000</td>\n",
       "    </tr>\n",
       "    <tr>\n",
       "      <th>max</th>\n",
       "      <td>2016.000000</td>\n",
       "      <td>1429.000000</td>\n",
       "    </tr>\n",
       "  </tbody>\n",
       "</table>\n",
       "</div>"
      ],
      "text/plain": [
       "       year_of_release         name\n",
       "count        37.000000    37.000000\n",
       "mean       1998.000000   444.891892\n",
       "std          10.824355   452.155073\n",
       "min        1980.000000     9.000000\n",
       "25%        1989.000000    36.000000\n",
       "50%        1998.000000   338.000000\n",
       "75%        2007.000000   764.000000\n",
       "max        2016.000000  1429.000000"
      ]
     },
     "execution_count": 25,
     "metadata": {},
     "output_type": "execute_result"
    }
   ],
   "source": [
    "# Agrupar los juegos por año de lanzamiento y contar cuántos juegos se lanzaron en cada año\n",
    "games_by_year = games.groupby('year_of_release')['name'].count().reset_index()\n",
    "\n",
    "# Crear un gráfico de barras para visualizar la cantidad de juegos lanzados en cada año\n",
    "plt.figure(figsize=(12, 6))\n",
    "plt.bar(games_by_year['year_of_release'], games_by_year['name'])\n",
    "plt.title('Cantidad de Juegos Lanzados por Año')\n",
    "plt.xlabel('Año de Lanzamiento')\n",
    "plt.ylabel('Cantidad de Juegos')\n",
    "plt.xticks(rotation=90)\n",
    "plt.grid(axis='y', linestyle='--', alpha=0.7)\n",
    "plt.show()\n",
    "\n",
    "# Calcular estadísticas descriptivas básicas\n",
    "games_by_year.describe()\n",
    "\n"
   ]
  },
  {
   "cell_type": "markdown",
   "id": "870abffa",
   "metadata": {},
   "source": [
    "Los datos muestran que los juegos se lanzaron en un rango de años que va desde 1980 hasta 2016. Esto refleja como ha evolucionado con el tiempo.\n",
    "Hay una valiabilidad en los años de lanzamiento esto puede deberse a los cambios tecnológicos en las plataformas de los juegos y preferencia del mercado.\n",
    "El 75% de los juegos se lanzaron después de la década de los 2000.\n",
    "Estos datos siguen siendo significativos para identificar periodos de crecimiento y comprender como ha evolucionado con el tiempo."
   ]
  },
  {
   "cell_type": "markdown",
   "id": "c612446b",
   "metadata": {},
   "source": [
    "<div class=\"alert alert-block alert-success\">\n",
    "<b>Comentario del revisor</b> <a class=\"tocSkip\"></a>\n",
    "    \n",
    "Buen trabajo.\n",
    "    \n",
    "</div>\n"
   ]
  },
  {
   "cell_type": "markdown",
   "id": "d47e9545",
   "metadata": {},
   "source": [
    "### Calcular ventas totales:\n",
    "\n",
    "<div class=\"alert alert-block alert-info\">\n",
    "<b>Para estimar las ventas totales tomaré un periodo de tiempo entre el 2008 y 2012, dado que se observa gran variabilidad en este rango de tiempo.</b> <a class=\"tocSkip\"></a>\n",
    "</div>\n"
   ]
  },
  {
   "cell_type": "code",
   "execution_count": 26,
   "id": "73282725",
   "metadata": {},
   "outputs": [
    {
     "data": {
      "text/plain": [
       "0        2006.0\n",
       "1        1985.0\n",
       "2        2008.0\n",
       "3        2009.0\n",
       "4        1996.0\n",
       "          ...  \n",
       "16710    2016.0\n",
       "16711    2006.0\n",
       "16712    2016.0\n",
       "16713    2003.0\n",
       "16714    2016.0\n",
       "Name: year_of_release, Length: 16715, dtype: float64"
      ]
     },
     "execution_count": 26,
     "metadata": {},
     "output_type": "execute_result"
    }
   ],
   "source": [
    "games['year_of_release']"
   ]
  },
  {
   "cell_type": "code",
   "execution_count": 27,
   "id": "d7aba715",
   "metadata": {},
   "outputs": [
    {
     "name": "stdout",
     "output_type": "stream",
     "text": [
      "                                                   name  total_sales\n",
      "2                                        Mario Kart Wii        35.52\n",
      "3                                     Wii Sports Resort        32.77\n",
      "8                             New Super Mario Bros. Wii        28.32\n",
      "14                                   Kinect Adventures!        21.82\n",
      "15                                         Wii Fit Plus        21.80\n",
      "...                                                 ...          ...\n",
      "16700                          Mezase!! Tsuri Master DS         0.01\n",
      "16702                           STORM: Frontline Nation         0.01\n",
      "16704                                          Plushees         0.01\n",
      "16705                                           15 Days         0.01\n",
      "16709  SCORE International Baja 1000: The Official Game         0.00\n",
      "\n",
      "[5901 rows x 2 columns]\n"
     ]
    },
    {
     "name": "stderr",
     "output_type": "stream",
     "text": [
      "/tmp/ipykernel_70/2415238745.py:5: SettingWithCopyWarning: \n",
      "A value is trying to be set on a copy of a slice from a DataFrame.\n",
      "Try using .loc[row_indexer,col_indexer] = value instead\n",
      "\n",
      "See the caveats in the documentation: https://pandas.pydata.org/pandas-docs/stable/user_guide/indexing.html#returning-a-view-versus-a-copy\n",
      "  filtered_games['total_sales'] = filtered_games['na_sales'] + filtered_games['eu_sales'] + filtered_games['jp_sales'] + filtered_games['other_sales']\n"
     ]
    }
   ],
   "source": [
    "# Filtrar juegos lanzados desde 2008 hasta 2016\n",
    "filtered_games = games[(games['year_of_release'] >= 2008.0) & (games['year_of_release'] <= 2012.0)]\n",
    "\n",
    "# Calcular ventas totales para los juegos filtrados\n",
    "filtered_games['total_sales'] = filtered_games['na_sales'] + filtered_games['eu_sales'] + filtered_games['jp_sales'] + filtered_games['other_sales']\n",
    "\n",
    "# Verificar el resultado\n",
    "print(filtered_games[['name', 'total_sales']])"
   ]
  },
  {
   "cell_type": "markdown",
   "id": "4d01f1d5",
   "metadata": {},
   "source": [
    "### Análisis de ventas por plataforma\n",
    "\n",
    "Analizar cómo varían las ventas de una plataforma a otra y determinar cuánto tiempo tardan las nuevas plataformas en aparecer y las antiguas en desaparecer."
   ]
  },
  {
   "cell_type": "code",
   "execution_count": 28,
   "id": "6a6bee8e",
   "metadata": {},
   "outputs": [
    {
     "data": {
      "text/plain": [
       "platform\n",
       "X360    669.21\n",
       "PS3     655.76\n",
       "Wii     587.60\n",
       "DS      387.07\n",
       "PSP     133.69\n",
       "3DS     114.56\n",
       "PC      111.86\n",
       "PS2      86.39\n",
       "PSV      20.82\n",
       "WiiU     17.56\n",
       "Name: total_sales, dtype: float64"
      ]
     },
     "execution_count": 28,
     "metadata": {},
     "output_type": "execute_result"
    }
   ],
   "source": [
    "# Agrupar por plataforma y calcular las ventas totales\n",
    "platform_sales = filtered_games.groupby('platform')['total_sales'].sum()\n",
    "\n",
    "# Ordenar en orden descendente\n",
    "platform_sales = platform_sales.sort_values(ascending=False)\n",
    "\n",
    "# Mostrar las 10 plataformas con mayores ventas totales\n",
    "top_platforms = platform_sales.head(10)\n",
    "top_platforms"
   ]
  },
  {
   "cell_type": "markdown",
   "id": "769102cd",
   "metadata": {},
   "source": [
    "#### Estimación del tiempo promedio que suelen durar las plataformas populares en términos de años desde su lanzamiento hasta que dejan de tener ventas."
   ]
  },
  {
   "cell_type": "code",
   "execution_count": 29,
   "id": "d2626051",
   "metadata": {},
   "outputs": [
    {
     "name": "stdout",
     "output_type": "stream",
     "text": [
      "Tiempo promedio para que las plataformas aparezcan: 2008.00 años\n",
      "Tiempo promedio para que las plataformas desaparezcan: 2012.00 años\n"
     ]
    }
   ],
   "source": [
    "#Identificar las plataformas con mayores ventas totales\n",
    "top_platforms = filtered_games.groupby('platform')['total_sales'].sum().sort_values(ascending=False).head(5).index\n",
    "\n",
    "#Calcular el tiempo promedio para nuevas y antiguas plataformas\n",
    "new_platforms = filtered_games[filtered_games['platform'].isin(top_platforms)]\n",
    "avg_year_of_appearance = new_platforms.groupby('platform')['year_of_release'].min().mean()\n",
    "avg_year_of_disappearance = new_platforms.groupby('platform')['year_of_release'].max().mean()\n",
    "\n",
    "print(f\"Tiempo promedio para que las plataformas aparezcan: {avg_year_of_appearance:.2f} años\")\n",
    "print(f\"Tiempo promedio para que las plataformas desaparezcan: {avg_year_of_disappearance:.2f} años\")\n"
   ]
  },
  {
   "cell_type": "markdown",
   "id": "c67685f4",
   "metadata": {},
   "source": [
    "### Visualizacion de ventas globales por plataforma\n",
    "\n",
    "Un diagrama de caja (box plot) te proporcionará una visualización de las ventas globales de todos los juegos, desglosadas por plataforma"
   ]
  },
  {
   "cell_type": "code",
   "execution_count": 30,
   "id": "adcb051e",
   "metadata": {},
   "outputs": [
    {
     "data": {
      "image/png": "[encoded data removed]",
      "text/plain": [
       "<Figure size 864x432 with 1 Axes>"
      ]
     },
     "metadata": {
      "needs_background": "light"
     },
     "output_type": "display_data"
    }
   ],
   "source": [
    "# Filtrar las plataformas más vendidas\n",
    "top_platforms = filtered_games.groupby('platform')['total_sales'].sum().sort_values(ascending=False).head(5).index\n",
    "\n",
    "# Filtrar los datos para las plataformas más vendidas\n",
    "data = filtered_games[filtered_games['platform'].isin(top_platforms)]\n",
    "\n",
    "# Crear el diagrama de caja\n",
    "plt.figure(figsize=(12, 6))\n",
    "plt.xticks(rotation=45)\n",
    "plt.title('Ventas Globales de Juegos por Plataforma')\n",
    "plt.xlabel('Plataforma')\n",
    "plt.ylabel('Ventas Globales')\n",
    "plt.grid(axis='y', linestyle='--', alpha=0.7)\n",
    "\n",
    "# Utilizar el método boxplot\n",
    "plt.boxplot([data[data['platform'] == platform]['total_sales'] for platform in top_platforms], labels=top_platforms)\n",
    "\n",
    "# Mostrar el gráfico\n",
    "plt.show()"
   ]
  },
  {
   "cell_type": "markdown",
   "id": "fc5d8e0a",
   "metadata": {},
   "source": [
    "Las diferencias en las ventas entre las plataformas son significativas, y algunas plataformas, como X360, PS3 se destacan claramente en términos de ventas totales y promedio. Esto indica que estas plataformas tuvieron un impacto significativo en la industria de los videojuegos."
   ]
  },
  {
   "cell_type": "markdown",
   "id": "f571df0c",
   "metadata": {},
   "source": [
    "### Análisis de reseña de usuarios en la plataforma de juegos 'PS3'\n",
    "\n",
    "Para analizar cómo las reseñas de usuarios y profesionales afectan las ventas en una plataforma popular, seleccioné la plataforma \"PS3\", que es una de las más vendidas según los datos anteriores. Vamos a crear un gráfico de dispersión y calcular la correlación entre las reseñas y las ventas en esta plataforma."
   ]
  },
  {
   "cell_type": "code",
   "execution_count": 31,
   "id": "c42f3b99",
   "metadata": {},
   "outputs": [
    {
     "data": {
      "text/plain": [
       "2        8.3\n",
       "3        8.0\n",
       "8        8.4\n",
       "14       6.3\n",
       "15       7.4\n",
       "        ... \n",
       "16700    NaN\n",
       "16702    7.2\n",
       "16704    NaN\n",
       "16705    5.8\n",
       "16709    NaN\n",
       "Name: user_score, Length: 5901, dtype: float64"
      ]
     },
     "execution_count": 31,
     "metadata": {},
     "output_type": "execute_result"
    }
   ],
   "source": [
    "filtered_games['user_score']"
   ]
  },
  {
   "cell_type": "code",
   "execution_count": 32,
   "id": "938a150e",
   "metadata": {},
   "outputs": [
    {
     "data": {
      "image/png": "[encoded data removed]",
      "text/plain": [
       "<Figure size 720x432 with 1 Axes>"
      ]
     },
     "metadata": {
      "needs_background": "light"
     },
     "output_type": "display_data"
    }
   ],
   "source": [
    "# Filtrar juegos de la plataforma \"PS3\"\n",
    "ps3_games = filtered_games[filtered_games['platform'] == 'PS3']\n",
    "\n",
    "# Crear un gráfico de dispersión para las reseñas de usuarios y las ventas\n",
    "plt.figure(figsize=(10, 6))\n",
    "plt.scatter(ps3_games['user_score'], ps3_games['total_sales'], alpha=0.5)\n",
    "plt.title('Relación entre Reseñas de Usuarios y Ventas en la Plataforma PS3')\n",
    "plt.xlabel('Puntuación de Usuario')\n",
    "plt.ylabel('Ventas Totales (millones)')\n",
    "plt.grid(True)\n",
    "plt.show()"
   ]
  },
  {
   "cell_type": "markdown",
   "id": "2e01bcb0",
   "metadata": {},
   "source": [
    "Crear el gráfico de dispersión, para calcular la correlación entre las reseñas de usuarios y las ventas."
   ]
  },
  {
   "cell_type": "code",
   "execution_count": 33,
   "id": "06967b08",
   "metadata": {},
   "outputs": [
    {
     "name": "stdout",
     "output_type": "stream",
     "text": [
      "Correlación entre Reseñas de Usuarios y Ventas: 0.16\n",
      "Correlación entre Reseñas de Profesionales y Ventas: 0.47\n"
     ]
    }
   ],
   "source": [
    "# Calcular la correlación entre reseñas de usuarios y ventas\n",
    "user_score_corr = ps3_games['user_score'].corr(ps3_games['total_sales'])\n",
    "\n",
    "# Calcular la correlación entre reseñas de profesionales y ventas\n",
    "critic_score_corr = ps3_games['critic_score'].corr(ps3_games['total_sales'])\n",
    "\n",
    "print(f\"Correlación entre Reseñas de Usuarios y Ventas: {user_score_corr:.2f}\")\n",
    "print(f\"Correlación entre Reseñas de Profesionales y Ventas: {critic_score_corr:.2f}\")"
   ]
  },
  {
   "cell_type": "markdown",
   "id": "95e56dd3",
   "metadata": {},
   "source": [
    "La correlación entre las reseñas de usuarios y las ventas en la plataforma PS3 es de aproximadamente 0.16. Esto sugiere que hay una correlación positiva débil, es decir, las reseñas de usuarios tienen cierta influencia en las ventas, pero no son el factor dominante.\n",
    "\n",
    "La correlación entre las reseñas de criticos y las ventas en la plataforma PS3 es de aproximadamente 0.47. Esto indica que hay una correlación positiva moderada entre las reseñas de criticos y las ventas en esta plataforma. Las opiniones de los críticos parecen tener un impacto más significativo en las ventas que las reseñas de usuarios."
   ]
  },
  {
   "cell_type": "markdown",
   "id": "a0d2e5fb",
   "metadata": {},
   "source": [
    "### Ventas totales por 'gener'"
   ]
  },
  {
   "cell_type": "code",
   "execution_count": 34,
   "id": "a11e4325",
   "metadata": {},
   "outputs": [
    {
     "data": {
      "text/html": [
       "<div>\n",
       "<style scoped>\n",
       "    .dataframe tbody tr th:only-of-type {\n",
       "        vertical-align: middle;\n",
       "    }\n",
       "\n",
       "    .dataframe tbody tr th {\n",
       "        vertical-align: top;\n",
       "    }\n",
       "\n",
       "    .dataframe thead th {\n",
       "        text-align: right;\n",
       "    }\n",
       "</style>\n",
       "<table border=\"1\" class=\"dataframe\">\n",
       "  <thead>\n",
       "    <tr style=\"text-align: right;\">\n",
       "      <th></th>\n",
       "      <th>genre</th>\n",
       "      <th>total_sales</th>\n",
       "    </tr>\n",
       "  </thead>\n",
       "  <tbody>\n",
       "    <tr>\n",
       "      <th>0</th>\n",
       "      <td>Action</td>\n",
       "      <td>623.87</td>\n",
       "    </tr>\n",
       "    <tr>\n",
       "      <th>10</th>\n",
       "      <td>Sports</td>\n",
       "      <td>410.51</td>\n",
       "    </tr>\n",
       "    <tr>\n",
       "      <th>8</th>\n",
       "      <td>Shooter</td>\n",
       "      <td>375.21</td>\n",
       "    </tr>\n",
       "    <tr>\n",
       "      <th>3</th>\n",
       "      <td>Misc</td>\n",
       "      <td>333.61</td>\n",
       "    </tr>\n",
       "    <tr>\n",
       "      <th>7</th>\n",
       "      <td>Role-Playing</td>\n",
       "      <td>275.68</td>\n",
       "    </tr>\n",
       "  </tbody>\n",
       "</table>\n",
       "</div>"
      ],
      "text/plain": [
       "           genre  total_sales\n",
       "0         Action       623.87\n",
       "10        Sports       410.51\n",
       "8        Shooter       375.21\n",
       "3           Misc       333.61\n",
       "7   Role-Playing       275.68"
      ]
     },
     "execution_count": 34,
     "metadata": {},
     "output_type": "execute_result"
    }
   ],
   "source": [
    "# Agrupa los datos por género y suma las ventas totales\n",
    "genre_sales = filtered_games.groupby('genre')['total_sales'].sum().reset_index()\n",
    "\n",
    "# Ordena los géneros por ventas totales en orden descendente\n",
    "genre_sales_sorted = genre_sales.sort_values(by='total_sales', ascending=False)\n",
    "\n",
    "# Muestra los géneros más exitosos en términos de ventas\n",
    "genre_sales_sorted.head()\n"
   ]
  },
  {
   "cell_type": "markdown",
   "id": "abf3d424",
   "metadata": {},
   "source": [
    "Se observa que los géneros suelen ser los más populares y exitosos en la industria de los videojuegos en términos de ventas."
   ]
  },
  {
   "cell_type": "markdown",
   "id": "cb2c6dfc",
   "metadata": {},
   "source": [
    "### Análisis de regiones\n",
    "\n",
    "Principales plataformas por regiones"
   ]
  },
  {
   "cell_type": "code",
   "execution_count": 35,
   "id": "ff7b87cb",
   "metadata": {},
   "outputs": [
    {
     "name": "stdout",
     "output_type": "stream",
     "text": [
      "Las cinco plataformas principales en Norteamerica:\n",
      "   platform  na_sales\n",
      "10     X360    409.03\n",
      "8       Wii    326.31\n",
      "5       PS3    285.63\n",
      "2        DS    198.17\n",
      "0       3DS     44.45\n",
      "\n",
      "Las cinco plataformas principales en la Europa:\n",
      "   platform  eu_sales\n",
      "5       PS3    225.92\n",
      "10     X360    192.40\n",
      "8       Wii    164.81\n",
      "2        DS     85.28\n",
      "3        PC     66.81\n",
      "\n",
      "Las cinco plataformas principales en Japón:\n",
      "  platform  jp_sales\n",
      "2       DS     76.12\n",
      "6      PSP     57.43\n",
      "5      PS3     50.76\n",
      "8      Wii     46.96\n",
      "0      3DS     32.81\n"
     ]
    }
   ],
   "source": [
    "# Calcular las cinco plataformas principales en Norteamerica (NA)\n",
    "top_platforms_na = filtered_games.groupby('platform')['na_sales'].sum().reset_index()\n",
    "top_platforms_na = top_platforms_na.sort_values(by='na_sales', ascending=False).head(5)\n",
    "\n",
    "# Calcular las cinco plataformas principales en la Unión Europea (EU)\n",
    "top_platforms_eu = filtered_games.groupby('platform')['eu_sales'].sum().reset_index()\n",
    "top_platforms_eu = top_platforms_eu.sort_values(by='eu_sales', ascending=False).head(5)\n",
    "\n",
    "# Calcular las cinco plataformas principales en Japón (JP)\n",
    "top_platforms_jp = filtered_games.groupby('platform')['jp_sales'].sum().reset_index()\n",
    "top_platforms_jp = top_platforms_jp.sort_values(by='jp_sales', ascending=False).head(5)\n",
    "\n",
    "# Imprimir los resultados\n",
    "print(\"Las cinco plataformas principales en Norteamerica:\")\n",
    "print(top_platforms_na)\n",
    "print(\"\\nLas cinco plataformas principales en la Europa:\")\n",
    "print(top_platforms_eu)\n",
    "print(\"\\nLas cinco plataformas principales en Japón:\")\n",
    "print(top_platforms_jp)"
   ]
  },
  {
   "cell_type": "markdown",
   "id": "8244ab6e",
   "metadata": {},
   "source": [
    "Las variaciones en las cuotas de mercado entre regiones pueden atribuirse a las preferencias de los consumidores, la disponibilidad de las plataformas y los juegos específicos para cada región. Por ejemplo, Xbox 360 tuvo un fuerte rendimiento en Norteamerica, mientras que las consolas PlayStation y Nintendo DS fueron más populares en Japón. Estos datos reflejan la diversidad en el mercado de videojuegos en diferentes regiones geográficas."
   ]
  },
  {
   "cell_type": "code",
   "execution_count": 36,
   "id": "901f9223",
   "metadata": {},
   "outputs": [],
   "source": [
    "### Análisis de genero por regiones"
   ]
  },
  {
   "cell_type": "code",
   "execution_count": 37,
   "id": "56aacca5",
   "metadata": {},
   "outputs": [
    {
     "name": "stdout",
     "output_type": "stream",
     "text": [
      "Los cinco géneros principales en Norteamerica:\n"
     ]
    },
    {
     "data": {
      "text/plain": [
       "genre\n",
       "Action          307.69\n",
       "Sports          211.06\n",
       "Shooter         201.52\n",
       "Misc            184.12\n",
       "Role-Playing    109.41\n",
       "Name: na_sales, dtype: float64"
      ]
     },
     "execution_count": 37,
     "metadata": {},
     "output_type": "execute_result"
    }
   ],
   "source": [
    "top_genres_na = filtered_games.groupby('genre')['na_sales'].sum().sort_values(ascending=False).head(5)\n",
    "print(\"Los cinco géneros principales en Norteamerica:\")\n",
    "top_genres_na"
   ]
  },
  {
   "cell_type": "code",
   "execution_count": 38,
   "id": "413d731f",
   "metadata": {},
   "outputs": [
    {
     "name": "stdout",
     "output_type": "stream",
     "text": [
      "Los cinco géneros principales en Europa:\n"
     ]
    },
    {
     "data": {
      "text/plain": [
       "genre\n",
       "Action     192.46\n",
       "Sports     125.00\n",
       "Shooter    120.49\n",
       "Misc        86.96\n",
       "Racing      71.47\n",
       "Name: eu_sales, dtype: float64"
      ]
     },
     "execution_count": 38,
     "metadata": {},
     "output_type": "execute_result"
    }
   ],
   "source": [
    "top_genres_eu = filtered_games.groupby('genre')['eu_sales'].sum().sort_values(ascending=False).head(5)\n",
    "print(\"Los cinco géneros principales en Europa:\")\n",
    "top_genres_eu"
   ]
  },
  {
   "cell_type": "code",
   "execution_count": 39,
   "id": "bdf99d29",
   "metadata": {},
   "outputs": [
    {
     "name": "stdout",
     "output_type": "stream",
     "text": [
      "Los cinco géneros principales en Japon:\n"
     ]
    },
    {
     "data": {
      "text/plain": [
       "genre\n",
       "Role-Playing    87.08\n",
       "Action          49.67\n",
       "Misc            28.13\n",
       "Sports          25.54\n",
       "Platform        18.22\n",
       "Name: jp_sales, dtype: float64"
      ]
     },
     "execution_count": 39,
     "metadata": {},
     "output_type": "execute_result"
    }
   ],
   "source": [
    "top_genres_jp = filtered_games.groupby('genre')['jp_sales'].sum().sort_values(ascending=False).head(5)\n",
    "print(\"Los cinco géneros principales en Japon:\")\n",
    "top_genres_jp"
   ]
  },
  {
   "cell_type": "markdown",
   "id": "a9407d30",
   "metadata": {},
   "source": [
    "Las diferencias en los géneros principales reflejan las preferencias culturales y de mercado en cada región. Mientras que en Norteamerica y Europa comparten similitudes en sus géneros principales, Japón tiene una inclinación distintiva hacia los juegos de rol."
   ]
  },
  {
   "cell_type": "markdown",
   "id": "db95a66c",
   "metadata": {},
   "source": [
    "### Análisis de las calificaciones en ventas por regiones\n"
   ]
  },
  {
   "cell_type": "code",
   "execution_count": 40,
   "id": "8c4ae23a",
   "metadata": {},
   "outputs": [
    {
     "name": "stdout",
     "output_type": "stream",
     "text": [
      "Ventas por clasificación ESRB en Norteamerica:\n",
      "rating\n",
      "E          457.88\n",
      "E10+       197.65\n",
      "EC           1.32\n",
      "M          337.39\n",
      "RP           0.00\n",
      "T          253.62\n",
      "Unknown    129.14\n",
      "Name: na_sales, dtype: float64\n",
      "\n",
      "Ventas por clasificación ESRB en Europa:\n",
      "rating\n",
      "E          243.25\n",
      "E10+       101.84\n",
      "EC           0.00\n",
      "M          217.33\n",
      "RP           0.03\n",
      "T          145.67\n",
      "Unknown    110.31\n",
      "Name: eu_sales, dtype: float64\n",
      "\n",
      "Ventas por clasificación ESRB en Japón:\n",
      "rating\n",
      "E           62.03\n",
      "E10+        19.78\n",
      "EC           0.00\n",
      "M           25.22\n",
      "RP           0.00\n",
      "T           43.92\n",
      "Unknown    135.81\n",
      "Name: jp_sales, dtype: float64\n"
     ]
    }
   ],
   "source": [
    "# Calcular las ventas totales por clasificación ESRB en 'na_sales'\n",
    "na_sales_by_esrb = filtered_games.groupby('rating')['na_sales'].sum()\n",
    "\n",
    "# Calcular las ventas totales por clasificación ESRB en 'eu_sales'\n",
    "eu_sales_by_esrb = filtered_games.groupby('rating')['eu_sales'].sum()\n",
    "\n",
    "# Calcular las ventas totales por clasificación ESRB en 'jp_sales'\n",
    "jp_sales_by_esrb = filtered_games.groupby('rating')['jp_sales'].sum()\n",
    "\n",
    "# Realizar un análisis comparativo de las ventas en función de las clasificaciones ESRB en cada región\n",
    "print(\"Ventas por clasificación ESRB en Norteamerica:\")\n",
    "print(na_sales_by_esrb)\n",
    "\n",
    "print(\"\\nVentas por clasificación ESRB en Europa:\")\n",
    "print(eu_sales_by_esrb)\n",
    "\n",
    "print(\"\\nVentas por clasificación ESRB en Japón:\")\n",
    "print(jp_sales_by_esrb)"
   ]
  },
  {
   "cell_type": "markdown",
   "id": "2cce488c",
   "metadata": {},
   "source": [
    "Se observa que las clasificaciones de ESRB pueden tener un impacto significativo en las ventas de juegos en diferentes regiones. Por ejemplo, en Norteamerica y Europa, los juegos con clasificaciones 'E' y 'M' tienden a vender mejor, mientras que en Japón, la clasificación 'E' lidera en ventas. "
   ]
  },
  {
   "cell_type": "markdown",
   "id": "5225b779",
   "metadata": {},
   "source": [
    "## Prueba de hipótesis\n",
    "\n",
    "Utilizaré un valor de alpha de 0.05, lo que significa que aceptaré hasta un 5% de probabilidad de cometer un error tipo I (rechazar una hipótesis nula verdadera).\n",
    "\n",
    "Para ambas prueba, utilizaré una prueba t de dos muestras para comparar las calificaciones promedio de usuarios entre las dos plataformas y generos.\n",
    "\n",
    "Prueba de hipótesis 1: Las calificaciones promedio de los usuarios para las plataformas Xbox One y PC son las mismas.\n",
    "\n",
    "<div class=\"alert alert-block alert-info\">\n",
    "<b>Hipótesis Nula (H0): Las calificaciones promedio de usuarios para las plataformas Xbox One y PC son iguales.\n",
    "\n",
    "Hipótesis Alternativa (H1): Las calificaciones promedio de usuarios para las plataformas Xbox One y PC son diferentes.</b> <a class=\"tocSkip\"></a>\n",
    "</div>"
   ]
  },
  {
   "cell_type": "code",
   "execution_count": 41,
   "id": "6993366d",
   "metadata": {},
   "outputs": [
    {
     "name": "stdout",
     "output_type": "stream",
     "text": [
      "No se puede rechazar la hipótesis nula: Las calificaciones promedio son iguales.\n"
     ]
    }
   ],
   "source": [
    "# Filtra los datos para obtener las calificaciones de usuarios de Xbox One y PC\n",
    "calificaciones_xbox = filtered_games[filtered_games['platform'] == 'Xbox One']['user_score']\n",
    "calificaciones_pc = filtered_games[filtered_games['platform'] == 'PC']['user_score']\n",
    "\n",
    "# Realiza una prueba t de dos muestras para comparar las calificaciones promedio\n",
    "alpha = 0.05\n",
    "t_statistic, p_value = stats.ttest_ind(calificaciones_xbox, calificaciones_pc, nan_policy='omit')\n",
    "\n",
    "# Compara el valor p con el umbral alfa\n",
    "if p_value < alpha:\n",
    "    print(\"Rechazar la hipótesis nula: Las calificaciones promedio son diferentes.\")\n",
    "else:\n",
    "    print(\"No se puede rechazar la hipótesis nula: Las calificaciones promedio son iguales.\")"
   ]
  },
  {
   "cell_type": "markdown",
   "id": "a4c3388c",
   "metadata": {},
   "source": [
    "<div class=\"alert alert-block alert-info\">\n",
    "<b>En el caso de la prueba de hipótesis 1, no se encontraron diferencias significativas en las calificaciones promedio de los usuarios entre las plataformas Xbox One y PC. No hay evidencia suficiente para concluir que las calificaciones promedio de los usuarios son diferentes entre estas dos plataformas.</b> <a class=\"tocSkip\"></a>\n",
    "</div>\n"
   ]
  },
  {
   "cell_type": "markdown",
   "id": "71be8fc9",
   "metadata": {},
   "source": [
    "Prueba de hipótesis 2: Las calificaciones promedio de los usuarios para los géneros de Acción y Deportes son diferentes.\n",
    "\n",
    "\n",
    "<div class=\"alert alert-block alert-info\">\n",
    "<b>Hipótesis Nula (H0): Las calificaciones promedio de usuarios para los géneros de Acción y Deportes son iguales.\n",
    "\n",
    "Hipótesis Alternativa (H1): Las calificaciones promedio de usuarios para los géneros de Acción y Deportes son diferentes.</b> <a class=\"tocSkip\"></a>\n",
    "</div>"
   ]
  },
  {
   "cell_type": "code",
   "execution_count": 42,
   "id": "a517c79c",
   "metadata": {},
   "outputs": [
    {
     "name": "stdout",
     "output_type": "stream",
     "text": [
      "Rechazar la hipótesis nula: Las calificaciones promedio son diferentes.\n"
     ]
    }
   ],
   "source": [
    "# Filtra los datos para obtener las calificaciones de usuarios de los géneros Acción y Deportes\n",
    "calificaciones_accion = filtered_games[filtered_games['genre'] == 'Action']['user_score']\n",
    "calificaciones_deportes = filtered_games[filtered_games['genre'] == 'Sports']['user_score']\n",
    "\n",
    "# Realiza una prueba t de dos muestras para comparar las calificaciones promedio\n",
    "alpha = 0.05\n",
    "t_statistic, p_value = stats.ttest_ind(calificaciones_accion, calificaciones_deportes, nan_policy='omit')\n",
    "\n",
    "# Compara el valor p con el umbral alfa\n",
    "if p_value < alpha:\n",
    "    print(\"Rechazar la hipótesis nula: Las calificaciones promedio son diferentes.\")\n",
    "else:\n",
    "    print(\"No se puede rechazar la hipótesis nula: Las calificaciones promedio son iguales.\")"
   ]
  },
  {
   "cell_type": "markdown",
   "id": "95dc0ecb",
   "metadata": {},
   "source": [
    "<div class=\"alert alert-block alert-info\">\n",
    "<b>Las calificaciones promedio de usuarios para los géneros de Acción y Deportes son diferentes. Esto significa que hay evidencia estadística para afirmar que los usuarios califican de manera diferente los juegos de estos dos géneros en promedio.</b> <a class=\"tocSkip\"></a>\n",
    "</div>\n"
   ]
  },
  {
   "cell_type": "markdown",
   "id": "10c31794",
   "metadata": {},
   "source": [
    "Para probar estas hipótesis, utilicé una prueba t de dos muestras independientes para comparar las medias de dos grupos diferentes (Xbox One vs. PC y Acción vs. Deportes) para determinar si existían diferencias estadísticamente significativas entre ellos en términos de calificaciones promedio de usuarios.\n",
    "\n",
    "El criterio para probar las hipótesis se basa en el valor p resultante de la prueba t. Si el valor p es menor que un umbral alfa predefinido (0.05), se rechaza la hipótesis nula en favor de la hipótesis alternativa. Si el valor p es lo suficientemente bajo, se considera que hay suficiente evidencia estadística para concluir que hay diferencias significativas entre los grupos comparados.\n",
    "\n",
    "En ambos casos, el valor p resultante fue mayor que 0.05, lo que significa que no había evidencia suficiente para rechazar la hipótesis nula."
   ]
  },
  {
   "cell_type": "markdown",
   "id": "6a37917b",
   "metadata": {},
   "source": [
    "## Conclusión general\n",
    "\n",
    "Basándome en el análisis realizado, puedo concluir:\n",
    "\n",
    "Los datos y análisis realizado nos permiten comprender mejor las tendencias en la industria de los videojuegos, identificar los factores que influyen en las ventas y evaluar la importancia de las calificaciones y reseñas en el rendimiento de un juego en el mercado.\n",
    "\n",
    "1. Plataformas Populares: Las plataformas más populares en términos de ventas totales incluyen Xbox 360, PS3, Wii y DS. Sin embargo, estas plataformas varían en popularidad según la región, con la PS2 liderando en Europa y la Xbox 360 en América.\n",
    "\n",
    "2. Géneros de Juegos: La popularidad de estos géneros puede variar según la región. Los géneros más exitosos en términos de ventas globales son Acción, Deportes, Shooter, Rol y Plataforma. Nuevamente, \n",
    "\n",
    "3. Impacto de las Clasificaciones ESRB: Las clasificaciones de ESRB pueden tener un impacto en las ventas de juegos en diferentes regiones. Por ejemplo, los juegos con clasificaciones \"M\"  tienden a venderse mejor en América, mientras que los juegos \"E\"  tienen un rendimiento sólido en todas las regiones.\n",
    "\n",
    "4. Reseñas y Ventas: Existe una correlación positiva entre las reseñas de usuarios y las ventas, los juegos bien calificados tienden a venderse mejor. Sin embargo, esta correlación es más débil que la correlación entre las reseñas de profesionales y las ventas.\n",
    "\n",
    "5. Hipótesis Estadísticas: Las pruebas de hipótesis estadísticas mostraron que no hay diferencias significativas en las calificaciones promedio de usuarios entre las plataformas Xbox One y PC pero si hay evidencia estadística para afirmar que los usuarios califican de manera diferente los juegos de estos dos géneros en promedio."
   ]
  },
  {
   "cell_type": "markdown",
   "id": "bac7b164",
   "metadata": {},
   "source": [
    "<div class=\"alert alert-block alert-danger\">\n",
    "    \n",
    "# Comentarios generales\n",
    "<b>Comentario del revisor</b> <a class=\"tocSkip\"></a>\n",
    "    \n",
    "Buen trabajo, Cece. Nos quedan algunos elementos pendientes tanto de forma como de fondo que debemos solucionar antes de poder aprobar tu proyecto. He dejado comentarios a lo largo del documento para ello.\n",
    "</div>\n"
   ]
  },
  {
   "cell_type": "markdown",
   "id": "881957cd",
   "metadata": {},
   "source": [
    "<div class=\"alert alert-block alert-danger\">\n",
    "    \n",
    "# Comentarios generales\n",
    "<b>Comentario del revisor</b> <a class=\"tocSkip\"></a>\n",
    "    \n",
    "Buen trabajo, Cece. Nos queda un último detalle pendiente.\n",
    "</div>"
   ]
  },
  {
   "cell_type": "markdown",
   "id": "8144a54d",
   "metadata": {},
   "source": [
    "<div class=\"alert alert-block alert-success\">\n",
    "    \n",
    "# Comentarios generales\n",
    "<b>Comentario del revisor</b> <a class=\"tocSkip\"></a>\n",
    "    \n",
    "Todo corregido. Has aprobado un nuevo proyecto. ¡Felicitaciones!\n",
    "</div>"
   ]
  }
 ],
 "metadata": {
  "kernelspec": {
   "display_name": "Python 3 (ipykernel)",
   "language": "python",
   "name": "python3"
  },
  "language_info": {
   "codemirror_mode": {
    "name": "ipython",
    "version": 3
   },
   "file_extension": ".py",
   "mimetype": "text/x-python",
   "name": "python",
   "nbconvert_exporter": "python",
   "pygments_lexer": "ipython3",
   "version": "3.9.5"
  },
  "toc": {
   "base_numbering": 1,
   "nav_menu": {},
   "number_sections": true,
   "sideBar": true,
   "skip_h1_title": false,
   "title_cell": "Table of Contents",
   "title_sidebar": "Contents",
   "toc_cell": true,
   "toc_position": {},
   "toc_section_display": true,
   "toc_window_display": false
  }
 },
 "nbformat": 4,
 "nbformat_minor": 5
}
