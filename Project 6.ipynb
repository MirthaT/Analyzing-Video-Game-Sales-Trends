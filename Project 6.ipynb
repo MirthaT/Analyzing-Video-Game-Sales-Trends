{
 "cells": [
  {
   "cell_type": "markdown",
   "id": "8ff7f49c",
   "metadata": {},
   "source": [
    "# ¡Hola Cece!\n",
    "\n",
    "Mi nombre es Ezequiel Ferrario, soy code reviewer en Tripleten y tengo el agrado de revisar el proyecto que entregaste.\n",
    "\n",
    "Para simular la dinámica de un ambiente de trabajo, si veo algún error, en primer instancia solo los señalaré, dándote la oportunidad de encontrarlos y corregirlos por tu cuenta. En un trabajo real, el líder de tu equipo hará una dinámica similar. En caso de que no puedas resolver la tarea, te daré una información más precisa en la próxima revisión.\n",
    "\n",
    "Encontrarás mis comentarios más abajo - **por favor, no los muevas, no los modifiques ni los borres**.\n",
    "\n",
    "¿Cómo lo voy a hacer? Voy a leer detenidamente cada una de las implementaciones que has llevado a cabo para cumplir con lo solicitado. Verás los comentarios de esta forma:\n",
    "\n",
    "<div class=\"alert alert-block alert-success\">\n",
    "<b>Comentario del revisor</b> <a class=\"tocSkip\"></a>\n",
    "\n",
    "Si todo está perfecto.\n",
    "</div>\n",
    "\n",
    "<div class=\"alert alert-block alert-warning\">\n",
    "<b>Comentario del revisor</b> <a class=\"tocSkip\"></a>\n",
    "\n",
    "Si tu código está bien pero se puede mejorar o hay algún detalle que le hace falta. Se aceptan uno o dos comentarios de este tipo en el borrador, pero si hay más, deberá hacer las correcciones. Es como una tarea de prueba al solicitar un trabajo: muchos pequeños errores pueden hacer que un candidato sea rechazado.\n",
    "</div>\n",
    "\n",
    "<div class=\"alert alert-block alert-danger\">\n",
    "\n",
    "<b>Comentario del revisor</b> <a class=\"tocSkip\"></a>\n",
    "\n",
    "Si de pronto hace falta algo o existe algún problema con tu código o conclusiones.\n",
    "</div>\n",
    "\n",
    "Puedes responderme de esta forma:\n",
    "\n",
    "<div class=\"alert alert-block alert-info\">\n",
    "<b>Respuesta del estudiante</b> <a class=\"tocSkip\"></a>\n",
    "\n",
    "Hola, muchas gracias por tus comentarios y la revisión.\n",
    "</div>\n",
    "\n",
    "¡Empecemos!"
   ]
  },
  {
   "cell_type": "markdown",
   "id": "3839a3c2",
   "metadata": {
    "toc": true
   },
   "source": [
    "<h1>Table of Contents<span class=\"tocSkip\"></span></h1>\n",
    "<div class=\"toc\"><ul class=\"toc-item\"><li><span><a href=\"#¡Hola-Cece!\" data-toc-modified-id=\"¡Hola-Cece!-1\"><span class=\"toc-item-num\">1&nbsp;&nbsp;</span>¡Hola Cece!</a></span></li><li><span><a href=\"#Descripción-del-proyecto\" data-toc-modified-id=\"Descripción-del-proyecto-2\"><span class=\"toc-item-num\">2&nbsp;&nbsp;</span>Descripción del proyecto</a></span><ul class=\"toc-item\"><li><span><a href=\"#Inicialización\" data-toc-modified-id=\"Inicialización-2.1\"><span class=\"toc-item-num\">2.1&nbsp;&nbsp;</span>Inicialización</a></span></li><li><span><a href=\"#Cargar-datos\" data-toc-modified-id=\"Cargar-datos-2.2\"><span class=\"toc-item-num\">2.2&nbsp;&nbsp;</span>Cargar datos</a></span></li><li><span><a href=\"#Análisis-exploratorio-de-los-datos\" data-toc-modified-id=\"Análisis-exploratorio-de-los-datos-2.3\"><span class=\"toc-item-num\">2.3&nbsp;&nbsp;</span>Análisis exploratorio de los datos</a></span><ul class=\"toc-item\"><li><span><a href=\"#Verificación-de-Duplicados-en-'cabs'\" data-toc-modified-id=\"Verificación-de-Duplicados-en-'cabs'-2.3.1\"><span class=\"toc-item-num\">2.3.1&nbsp;&nbsp;</span>Verificación de Duplicados en 'cabs'</a></span></li><li><span><a href=\"#Verificación-de-Duplicados-en-'neighborhoods'\" data-toc-modified-id=\"Verificación-de-Duplicados-en-'neighborhoods'-2.3.2\"><span class=\"toc-item-num\">2.3.2&nbsp;&nbsp;</span>Verificación de Duplicados en 'neighborhoods'</a></span></li><li><span><a href=\"#Verificación-de-duplicados-en-'trips'\" data-toc-modified-id=\"Verificación-de-duplicados-en-'trips'-2.3.3\"><span class=\"toc-item-num\">2.3.3&nbsp;&nbsp;</span>Verificación de duplicados en 'trips'</a></span></li><li><span><a href=\"#Convertir-columna-'start_ts'-en-'trips'-al-tipo-de-dato-datetime.\" data-toc-modified-id=\"Convertir-columna-'start_ts'-en-'trips'-al-tipo-de-dato-datetime.-2.3.4\"><span class=\"toc-item-num\">2.3.4&nbsp;&nbsp;</span>Convertir columna 'start_ts' en 'trips' al tipo de dato datetime.</a></span></li><li><span><a href=\"#Identificación-de-los-10-principales-barrios-en-terminación-de-recorrido\" data-toc-modified-id=\"Identificación-de-los-10-principales-barrios-en-terminación-de-recorrido-2.3.5\"><span class=\"toc-item-num\">2.3.5&nbsp;&nbsp;</span>Identificación de los 10 principales barrios en terminación de recorrido</a></span><ul class=\"toc-item\"><li><span><a href=\"#Representación-gráfica\" data-toc-modified-id=\"Representación-gráfica-2.3.5.1\"><span class=\"toc-item-num\">2.3.5.1&nbsp;&nbsp;</span>Representación gráfica</a></span></li></ul></li><li><span><a href=\"#Identificación-de-los-10-principales-compañias-de-taxis-con-mayor-numero-de-viajes.\" data-toc-modified-id=\"Identificación-de-los-10-principales-compañias-de-taxis-con-mayor-numero-de-viajes.-2.3.6\"><span class=\"toc-item-num\">2.3.6&nbsp;&nbsp;</span>Identificación de los 10 principales compañias de taxis con mayor numero de viajes.</a></span><ul class=\"toc-item\"><li><span><a href=\"#Representación-gráfica\" data-toc-modified-id=\"Representación-gráfica-2.3.6.1\"><span class=\"toc-item-num\">2.3.6.1&nbsp;&nbsp;</span>Representación gráfica</a></span></li></ul></li></ul></li><li><span><a href=\"#Conclusion-del-análisis-exploratorio\" data-toc-modified-id=\"Conclusion-del-análisis-exploratorio-2.4\"><span class=\"toc-item-num\">2.4&nbsp;&nbsp;</span>Conclusion del análisis exploratorio</a></span></li><li><span><a href=\"#Prueba-de-Hipótesis\" data-toc-modified-id=\"Prueba-de-Hipótesis-2.5\"><span class=\"toc-item-num\">2.5&nbsp;&nbsp;</span>Prueba de Hipótesis</a></span><ul class=\"toc-item\"><li><span><a href=\"#Conclusión\" data-toc-modified-id=\"Conclusión-2.5.1\"><span class=\"toc-item-num\">2.5.1&nbsp;&nbsp;</span>Conclusión</a></span></li></ul></li></ul></li><li><span><a href=\"#Conclusion-General\" data-toc-modified-id=\"Conclusion-General-3\"><span class=\"toc-item-num\">3&nbsp;&nbsp;</span>Conclusion General</a></span></li></ul></div>"
   ]
  },
  {
   "cell_type": "markdown",
   "id": "cbfa6353",
   "metadata": {},
   "source": [
    "# Descripción del proyecto\n",
    "\n",
    "Estás trabajando como analista para Zuber, una nueva empresa de viajes compartidos que se está lanzando en Chicago. Tu tarea es encontrar patrones en la información disponible. Quieres comprender las preferencias de los pasajeros y el impacto de los factores externos en los viajes.\n",
    "Al trabajar con una base de datos, analizarás los datos de los competidores y probarás una hipótesis sobre el impacto del clima en la frecuencia de los viajes."
   ]
  },
  {
   "cell_type": "markdown",
   "id": "17c03aa1",
   "metadata": {},
   "source": [
    "## Inicialización\n",
    "\n",
    "A continuación cargaré las librerias necesarias para el desarrollo del proyecto."
   ]
  },
  {
   "cell_type": "code",
   "execution_count": 1,
   "id": "ea00d600",
   "metadata": {},
   "outputs": [
    {
     "name": "stdout",
     "output_type": "stream",
     "text": [
      "Requirement already satisfied: beautifulsoup4 in /opt/conda/lib/python3.9/site-packages (4.9.3)\n",
      "Requirement already satisfied: pandas in /opt/conda/lib/python3.9/site-packages (1.2.4)\n",
      "Requirement already satisfied: soupsieve>1.2 in /opt/conda/lib/python3.9/site-packages (from beautifulsoup4) (2.3.2.post1)\n",
      "Requirement already satisfied: python-dateutil>=2.7.3 in /opt/conda/lib/python3.9/site-packages (from pandas) (2.8.1)\n",
      "Requirement already satisfied: pytz>=2017.3 in /opt/conda/lib/python3.9/site-packages (from pandas) (2021.1)\n",
      "Requirement already satisfied: numpy>=1.16.5 in /opt/conda/lib/python3.9/site-packages (from pandas) (1.21.1)\n",
      "Requirement already satisfied: six>=1.5 in /opt/conda/lib/python3.9/site-packages (from python-dateutil>=2.7.3->pandas) (1.16.0)\n",
      "Note: you may need to restart the kernel to use updated packages.\n"
     ]
    }
   ],
   "source": [
    "pip install beautifulsoup4 pandas"
   ]
  },
  {
   "cell_type": "code",
   "execution_count": 2,
   "id": "2aea5ef2",
   "metadata": {},
   "outputs": [],
   "source": [
    "## Importación de librerias\n",
    "\n",
    "import matplotlib.pyplot as plt\n",
    "import numpy as np\n",
    "import scipy.stats as stats\n",
    "from scipy.stats import levene\n",
    "import requests\n",
    "from bs4 import BeautifulSoup\n",
    "import pandas as pd\n",
    "from IPython.display import display"
   ]
  },
  {
   "cell_type": "markdown",
   "id": "8e2660be",
   "metadata": {},
   "source": [
    "## Cargar datos"
   ]
  },
  {
   "cell_type": "code",
   "execution_count": 3,
   "id": "cc2e536d",
   "metadata": {},
   "outputs": [],
   "source": [
    "## Importación de archivos\n",
    "cabs          = pd.read_csv('/datasets/project_sql_result_01.csv')\n",
    "neighborhoods = pd.read_csv('/datasets/project_sql_result_04.csv')\n",
    "trips         = pd.read_csv('/datasets/project_sql_result_07.csv')\n"
   ]
  },
  {
   "cell_type": "markdown",
   "id": "28a03e44",
   "metadata": {},
   "source": [
    "<div class=\"alert alert-block alert-danger\">\n",
    "\n",
    "<b>Comentario del revisor</b> <a class=\"tocSkip\"></a>\n",
    "\n",
    "Cuidado. Importas dos veces el mismo dataset. En trips deberias importar el 07.</div>\n",
    "\n",
    "\n",
    "<div class=\"alert alert-block alert-success\">\n",
    "\n",
    "<b>Comentario del revisor #2</b> <a class=\"tocSkip\"></a>\n",
    "    \n",
    "Corregido.</div>"
   ]
  },
  {
   "cell_type": "markdown",
   "id": "b4565a94",
   "metadata": {},
   "source": [
    "## Análisis exploratorio de los datos\n",
    "\n",
    "Comenzaré explorandolos dataset 'cabs', 'neighborhoods'y 'trips' para obtener una comprensión inicial de los datos y, si es necesario, realizar correcciones o ajustes para garantizar que estén en un formato adecuado para el análisis."
   ]
  },
  {
   "cell_type": "code",
   "execution_count": 4,
   "id": "1873dc7f",
   "metadata": {
    "scrolled": false
   },
   "outputs": [
    {
     "name": "stdout",
     "output_type": "stream",
     "text": [
      "<class 'pandas.core.frame.DataFrame'>\n",
      "RangeIndex: 64 entries, 0 to 63\n",
      "Data columns (total 2 columns):\n",
      " #   Column        Non-Null Count  Dtype \n",
      "---  ------        --------------  ----- \n",
      " 0   company_name  64 non-null     object\n",
      " 1   trips_amount  64 non-null     int64 \n",
      "dtypes: int64(1), object(1)\n",
      "memory usage: 1.1+ KB\n"
     ]
    },
    {
     "data": {
      "text/html": [
       "<div>\n",
       "<style scoped>\n",
       "    .dataframe tbody tr th:only-of-type {\n",
       "        vertical-align: middle;\n",
       "    }\n",
       "\n",
       "    .dataframe tbody tr th {\n",
       "        vertical-align: top;\n",
       "    }\n",
       "\n",
       "    .dataframe thead th {\n",
       "        text-align: right;\n",
       "    }\n",
       "</style>\n",
       "<table border=\"1\" class=\"dataframe\">\n",
       "  <thead>\n",
       "    <tr style=\"text-align: right;\">\n",
       "      <th></th>\n",
       "      <th>trips_amount</th>\n",
       "    </tr>\n",
       "  </thead>\n",
       "  <tbody>\n",
       "    <tr>\n",
       "      <th>count</th>\n",
       "      <td>64.000000</td>\n",
       "    </tr>\n",
       "    <tr>\n",
       "      <th>mean</th>\n",
       "      <td>2145.484375</td>\n",
       "    </tr>\n",
       "    <tr>\n",
       "      <th>std</th>\n",
       "      <td>3812.310186</td>\n",
       "    </tr>\n",
       "    <tr>\n",
       "      <th>min</th>\n",
       "      <td>2.000000</td>\n",
       "    </tr>\n",
       "    <tr>\n",
       "      <th>25%</th>\n",
       "      <td>20.750000</td>\n",
       "    </tr>\n",
       "    <tr>\n",
       "      <th>50%</th>\n",
       "      <td>178.500000</td>\n",
       "    </tr>\n",
       "    <tr>\n",
       "      <th>75%</th>\n",
       "      <td>2106.500000</td>\n",
       "    </tr>\n",
       "    <tr>\n",
       "      <th>max</th>\n",
       "      <td>19558.000000</td>\n",
       "    </tr>\n",
       "  </tbody>\n",
       "</table>\n",
       "</div>"
      ],
      "text/plain": [
       "       trips_amount\n",
       "count     64.000000\n",
       "mean    2145.484375\n",
       "std     3812.310186\n",
       "min        2.000000\n",
       "25%       20.750000\n",
       "50%      178.500000\n",
       "75%     2106.500000\n",
       "max    19558.000000"
      ]
     },
     "metadata": {},
     "output_type": "display_data"
    },
    {
     "data": {
      "text/html": [
       "<div>\n",
       "<style scoped>\n",
       "    .dataframe tbody tr th:only-of-type {\n",
       "        vertical-align: middle;\n",
       "    }\n",
       "\n",
       "    .dataframe tbody tr th {\n",
       "        vertical-align: top;\n",
       "    }\n",
       "\n",
       "    .dataframe thead th {\n",
       "        text-align: right;\n",
       "    }\n",
       "</style>\n",
       "<table border=\"1\" class=\"dataframe\">\n",
       "  <thead>\n",
       "    <tr style=\"text-align: right;\">\n",
       "      <th></th>\n",
       "      <th>company_name</th>\n",
       "      <th>trips_amount</th>\n",
       "    </tr>\n",
       "  </thead>\n",
       "  <tbody>\n",
       "    <tr>\n",
       "      <th>0</th>\n",
       "      <td>Flash Cab</td>\n",
       "      <td>19558</td>\n",
       "    </tr>\n",
       "    <tr>\n",
       "      <th>1</th>\n",
       "      <td>Taxi Affiliation Services</td>\n",
       "      <td>11422</td>\n",
       "    </tr>\n",
       "    <tr>\n",
       "      <th>2</th>\n",
       "      <td>Medallion Leasing</td>\n",
       "      <td>10367</td>\n",
       "    </tr>\n",
       "    <tr>\n",
       "      <th>3</th>\n",
       "      <td>Yellow Cab</td>\n",
       "      <td>9888</td>\n",
       "    </tr>\n",
       "    <tr>\n",
       "      <th>4</th>\n",
       "      <td>Taxi Affiliation Service Yellow</td>\n",
       "      <td>9299</td>\n",
       "    </tr>\n",
       "  </tbody>\n",
       "</table>\n",
       "</div>"
      ],
      "text/plain": [
       "                      company_name  trips_amount\n",
       "0                        Flash Cab         19558\n",
       "1        Taxi Affiliation Services         11422\n",
       "2                Medallion Leasing         10367\n",
       "3                       Yellow Cab          9888\n",
       "4  Taxi Affiliation Service Yellow          9299"
      ]
     },
     "execution_count": 4,
     "metadata": {},
     "output_type": "execute_result"
    }
   ],
   "source": [
    "##Cabs\n",
    "cabs.info()\n",
    "display (cabs.describe())\n",
    "cabs.head()\n"
   ]
  },
  {
   "cell_type": "markdown",
   "id": "93821bdf",
   "metadata": {},
   "source": [
    "### Verificación de Duplicados en 'cabs'"
   ]
  },
  {
   "cell_type": "code",
   "execution_count": 5,
   "id": "8db65ce6",
   "metadata": {},
   "outputs": [
    {
     "name": "stdout",
     "output_type": "stream",
     "text": [
      "0\n"
     ]
    }
   ],
   "source": [
    "print(cabs.duplicated().sum()) "
   ]
  },
  {
   "cell_type": "markdown",
   "id": "35d71b9e",
   "metadata": {},
   "source": [
    "En la tabla 'cabs' no hay registros duplicados."
   ]
  },
  {
   "cell_type": "markdown",
   "id": "3a77e8f5",
   "metadata": {},
   "source": [
    "<div class=\"alert alert-block alert-danger\">\n",
    "\n",
    "<b>Comentario del revisor</b> <a class=\"tocSkip\"></a>\n",
    "\n",
    "Recorda utilizar el metodo describe() para una exploracion rapida inicial de aquellas variables numericas. Siempre es necesario realizarlo ya que de forma rapida tenemos un panorama muy bueno de que nos espera e incluso encontraremos inconsistencias si existiencen.\n",
    "Describi al respecto lo que ves. </div>\n",
    "\n",
    "<div class=\"alert alert-block alert-danger\">\n",
    "\n",
    "<b>Comentario del revisor</b> <a class=\"tocSkip\"></a>\n",
    "\n",
    "Verifica los duplicados. </div>\n",
    "\n",
    "<div class=\"alert alert-block alert-success\">\n",
    "\n",
    "<b>Comentario del revisor #2</b> <a class=\"tocSkip\"></a>\n",
    "    \n",
    "Corregido.</div>"
   ]
  },
  {
   "cell_type": "markdown",
   "id": "948d5b0e",
   "metadata": {},
   "source": [
    "\"company_name\" almacena los nombres de las compañías de taxis (cadenas de texto), y \"trips_amount\" almacena la cantidad de viajes (valores enteros). Por lo tanto, los tipos de datos son coherentes con los contenidos de las columnas y están correctos."
   ]
  },
  {
   "cell_type": "code",
   "execution_count": 6,
   "id": "4acb0fcc",
   "metadata": {
    "scrolled": false
   },
   "outputs": [
    {
     "name": "stdout",
     "output_type": "stream",
     "text": [
      "<class 'pandas.core.frame.DataFrame'>\n",
      "RangeIndex: 94 entries, 0 to 93\n",
      "Data columns (total 2 columns):\n",
      " #   Column                 Non-Null Count  Dtype  \n",
      "---  ------                 --------------  -----  \n",
      " 0   dropoff_location_name  94 non-null     object \n",
      " 1   average_trips          94 non-null     float64\n",
      "dtypes: float64(1), object(1)\n",
      "memory usage: 1.6+ KB\n"
     ]
    },
    {
     "data": {
      "text/html": [
       "<div>\n",
       "<style scoped>\n",
       "    .dataframe tbody tr th:only-of-type {\n",
       "        vertical-align: middle;\n",
       "    }\n",
       "\n",
       "    .dataframe tbody tr th {\n",
       "        vertical-align: top;\n",
       "    }\n",
       "\n",
       "    .dataframe thead th {\n",
       "        text-align: right;\n",
       "    }\n",
       "</style>\n",
       "<table border=\"1\" class=\"dataframe\">\n",
       "  <thead>\n",
       "    <tr style=\"text-align: right;\">\n",
       "      <th></th>\n",
       "      <th>average_trips</th>\n",
       "    </tr>\n",
       "  </thead>\n",
       "  <tbody>\n",
       "    <tr>\n",
       "      <th>count</th>\n",
       "      <td>94.000000</td>\n",
       "    </tr>\n",
       "    <tr>\n",
       "      <th>mean</th>\n",
       "      <td>599.953728</td>\n",
       "    </tr>\n",
       "    <tr>\n",
       "      <th>std</th>\n",
       "      <td>1714.591098</td>\n",
       "    </tr>\n",
       "    <tr>\n",
       "      <th>min</th>\n",
       "      <td>1.800000</td>\n",
       "    </tr>\n",
       "    <tr>\n",
       "      <th>25%</th>\n",
       "      <td>14.266667</td>\n",
       "    </tr>\n",
       "    <tr>\n",
       "      <th>50%</th>\n",
       "      <td>52.016667</td>\n",
       "    </tr>\n",
       "    <tr>\n",
       "      <th>75%</th>\n",
       "      <td>298.858333</td>\n",
       "    </tr>\n",
       "    <tr>\n",
       "      <th>max</th>\n",
       "      <td>10727.466667</td>\n",
       "    </tr>\n",
       "  </tbody>\n",
       "</table>\n",
       "</div>"
      ],
      "text/plain": [
       "       average_trips\n",
       "count      94.000000\n",
       "mean      599.953728\n",
       "std      1714.591098\n",
       "min         1.800000\n",
       "25%        14.266667\n",
       "50%        52.016667\n",
       "75%       298.858333\n",
       "max     10727.466667"
      ]
     },
     "metadata": {},
     "output_type": "display_data"
    },
    {
     "data": {
      "text/html": [
       "<div>\n",
       "<style scoped>\n",
       "    .dataframe tbody tr th:only-of-type {\n",
       "        vertical-align: middle;\n",
       "    }\n",
       "\n",
       "    .dataframe tbody tr th {\n",
       "        vertical-align: top;\n",
       "    }\n",
       "\n",
       "    .dataframe thead th {\n",
       "        text-align: right;\n",
       "    }\n",
       "</style>\n",
       "<table border=\"1\" class=\"dataframe\">\n",
       "  <thead>\n",
       "    <tr style=\"text-align: right;\">\n",
       "      <th></th>\n",
       "      <th>dropoff_location_name</th>\n",
       "      <th>average_trips</th>\n",
       "    </tr>\n",
       "  </thead>\n",
       "  <tbody>\n",
       "    <tr>\n",
       "      <th>0</th>\n",
       "      <td>Loop</td>\n",
       "      <td>10727.466667</td>\n",
       "    </tr>\n",
       "    <tr>\n",
       "      <th>1</th>\n",
       "      <td>River North</td>\n",
       "      <td>9523.666667</td>\n",
       "    </tr>\n",
       "    <tr>\n",
       "      <th>2</th>\n",
       "      <td>Streeterville</td>\n",
       "      <td>6664.666667</td>\n",
       "    </tr>\n",
       "    <tr>\n",
       "      <th>3</th>\n",
       "      <td>West Loop</td>\n",
       "      <td>5163.666667</td>\n",
       "    </tr>\n",
       "    <tr>\n",
       "      <th>4</th>\n",
       "      <td>O'Hare</td>\n",
       "      <td>2546.900000</td>\n",
       "    </tr>\n",
       "  </tbody>\n",
       "</table>\n",
       "</div>"
      ],
      "text/plain": [
       "  dropoff_location_name  average_trips\n",
       "0                  Loop   10727.466667\n",
       "1           River North    9523.666667\n",
       "2         Streeterville    6664.666667\n",
       "3             West Loop    5163.666667\n",
       "4                O'Hare    2546.900000"
      ]
     },
     "execution_count": 6,
     "metadata": {},
     "output_type": "execute_result"
    }
   ],
   "source": [
    "## neighborhoods\n",
    "neighborhoods.info()\n",
    "display (neighborhoods.describe())\n",
    "neighborhoods.head()"
   ]
  },
  {
   "cell_type": "markdown",
   "id": "feb76092",
   "metadata": {},
   "source": [
    "### Verificación de Duplicados en 'neighborhoods'"
   ]
  },
  {
   "cell_type": "code",
   "execution_count": 7,
   "id": "203de28d",
   "metadata": {},
   "outputs": [
    {
     "name": "stdout",
     "output_type": "stream",
     "text": [
      "0\n"
     ]
    }
   ],
   "source": [
    "print(neighborhoods.duplicated().sum()) "
   ]
  },
  {
   "cell_type": "markdown",
   "id": "c3aa222f",
   "metadata": {},
   "source": [
    "No hay datos duplicados"
   ]
  },
  {
   "cell_type": "markdown",
   "id": "13631996",
   "metadata": {},
   "source": [
    "<div class=\"alert alert-block alert-danger\">\n",
    "\n",
    "<b>Comentario del revisor</b> <a class=\"tocSkip\"></a>\n",
    "\n",
    "Recorda utilizar el metodo describe() para una exploracion rapida inicial de aquellas variables numericas. Siempre es necesario realizarlo ya que de forma rapida tenemos un panorama muy bueno de que nos espera e incluso encontraremos inconsistencias si existiencen.\n",
    "Describi al respecto lo que ves. </div>\n",
    "\n",
    "<div class=\"alert alert-block alert-danger\">\n",
    "\n",
    "<b>Comentario del revisor</b> <a class=\"tocSkip\"></a>\n",
    "\n",
    "Verifica los duplicados. </div>\n",
    "\n",
    "<div class=\"alert alert-block alert-success\">\n",
    "\n",
    "<b>Comentario del revisor #2</b> <a class=\"tocSkip\"></a>\n",
    "    \n",
    "Corregido.</div>"
   ]
  },
  {
   "cell_type": "markdown",
   "id": "240b75ca",
   "metadata": {},
   "source": [
    "Los tipos de datos (dtype) en el DataFrame parecen estar correctos. En este caso, el campo \"dropoff_location_name\" tiene un tipo de dato object, que es apropiado para almacenar cadenas de texto, mientras que el campo \"average_trips\" tiene un tipo de dato float64, que es apropiado para almacenar valores decimales."
   ]
  },
  {
   "cell_type": "code",
   "execution_count": 8,
   "id": "ef6fd179",
   "metadata": {
    "scrolled": false
   },
   "outputs": [
    {
     "name": "stdout",
     "output_type": "stream",
     "text": [
      "<class 'pandas.core.frame.DataFrame'>\n",
      "RangeIndex: 1068 entries, 0 to 1067\n",
      "Data columns (total 3 columns):\n",
      " #   Column              Non-Null Count  Dtype  \n",
      "---  ------              --------------  -----  \n",
      " 0   start_ts            1068 non-null   object \n",
      " 1   weather_conditions  1068 non-null   object \n",
      " 2   duration_seconds    1068 non-null   float64\n",
      "dtypes: float64(1), object(2)\n",
      "memory usage: 25.2+ KB\n"
     ]
    },
    {
     "data": {
      "text/html": [
       "<div>\n",
       "<style scoped>\n",
       "    .dataframe tbody tr th:only-of-type {\n",
       "        vertical-align: middle;\n",
       "    }\n",
       "\n",
       "    .dataframe tbody tr th {\n",
       "        vertical-align: top;\n",
       "    }\n",
       "\n",
       "    .dataframe thead th {\n",
       "        text-align: right;\n",
       "    }\n",
       "</style>\n",
       "<table border=\"1\" class=\"dataframe\">\n",
       "  <thead>\n",
       "    <tr style=\"text-align: right;\">\n",
       "      <th></th>\n",
       "      <th>duration_seconds</th>\n",
       "    </tr>\n",
       "  </thead>\n",
       "  <tbody>\n",
       "    <tr>\n",
       "      <th>count</th>\n",
       "      <td>1068.000000</td>\n",
       "    </tr>\n",
       "    <tr>\n",
       "      <th>mean</th>\n",
       "      <td>2071.731273</td>\n",
       "    </tr>\n",
       "    <tr>\n",
       "      <th>std</th>\n",
       "      <td>769.461125</td>\n",
       "    </tr>\n",
       "    <tr>\n",
       "      <th>min</th>\n",
       "      <td>0.000000</td>\n",
       "    </tr>\n",
       "    <tr>\n",
       "      <th>25%</th>\n",
       "      <td>1438.250000</td>\n",
       "    </tr>\n",
       "    <tr>\n",
       "      <th>50%</th>\n",
       "      <td>1980.000000</td>\n",
       "    </tr>\n",
       "    <tr>\n",
       "      <th>75%</th>\n",
       "      <td>2580.000000</td>\n",
       "    </tr>\n",
       "    <tr>\n",
       "      <th>max</th>\n",
       "      <td>7440.000000</td>\n",
       "    </tr>\n",
       "  </tbody>\n",
       "</table>\n",
       "</div>"
      ],
      "text/plain": [
       "       duration_seconds\n",
       "count       1068.000000\n",
       "mean        2071.731273\n",
       "std          769.461125\n",
       "min            0.000000\n",
       "25%         1438.250000\n",
       "50%         1980.000000\n",
       "75%         2580.000000\n",
       "max         7440.000000"
      ]
     },
     "metadata": {},
     "output_type": "display_data"
    },
    {
     "data": {
      "text/html": [
       "<div>\n",
       "<style scoped>\n",
       "    .dataframe tbody tr th:only-of-type {\n",
       "        vertical-align: middle;\n",
       "    }\n",
       "\n",
       "    .dataframe tbody tr th {\n",
       "        vertical-align: top;\n",
       "    }\n",
       "\n",
       "    .dataframe thead th {\n",
       "        text-align: right;\n",
       "    }\n",
       "</style>\n",
       "<table border=\"1\" class=\"dataframe\">\n",
       "  <thead>\n",
       "    <tr style=\"text-align: right;\">\n",
       "      <th></th>\n",
       "      <th>start_ts</th>\n",
       "      <th>weather_conditions</th>\n",
       "      <th>duration_seconds</th>\n",
       "    </tr>\n",
       "  </thead>\n",
       "  <tbody>\n",
       "    <tr>\n",
       "      <th>0</th>\n",
       "      <td>2017-11-25 16:00:00</td>\n",
       "      <td>Good</td>\n",
       "      <td>2410.0</td>\n",
       "    </tr>\n",
       "    <tr>\n",
       "      <th>1</th>\n",
       "      <td>2017-11-25 14:00:00</td>\n",
       "      <td>Good</td>\n",
       "      <td>1920.0</td>\n",
       "    </tr>\n",
       "    <tr>\n",
       "      <th>2</th>\n",
       "      <td>2017-11-25 12:00:00</td>\n",
       "      <td>Good</td>\n",
       "      <td>1543.0</td>\n",
       "    </tr>\n",
       "    <tr>\n",
       "      <th>3</th>\n",
       "      <td>2017-11-04 10:00:00</td>\n",
       "      <td>Good</td>\n",
       "      <td>2512.0</td>\n",
       "    </tr>\n",
       "    <tr>\n",
       "      <th>4</th>\n",
       "      <td>2017-11-11 07:00:00</td>\n",
       "      <td>Good</td>\n",
       "      <td>1440.0</td>\n",
       "    </tr>\n",
       "  </tbody>\n",
       "</table>\n",
       "</div>"
      ],
      "text/plain": [
       "              start_ts weather_conditions  duration_seconds\n",
       "0  2017-11-25 16:00:00               Good            2410.0\n",
       "1  2017-11-25 14:00:00               Good            1920.0\n",
       "2  2017-11-25 12:00:00               Good            1543.0\n",
       "3  2017-11-04 10:00:00               Good            2512.0\n",
       "4  2017-11-11 07:00:00               Good            1440.0"
      ]
     },
     "execution_count": 8,
     "metadata": {},
     "output_type": "execute_result"
    }
   ],
   "source": [
    "## trips\n",
    "\n",
    "trips.info()\n",
    "display (trips.describe())\n",
    "trips.head()"
   ]
  },
  {
   "cell_type": "markdown",
   "id": "a37a4560",
   "metadata": {},
   "source": [
    "### Verificación de duplicados en 'trips'"
   ]
  },
  {
   "cell_type": "code",
   "execution_count": 9,
   "id": "23277ac4",
   "metadata": {},
   "outputs": [
    {
     "data": {
      "text/html": [
       "<div>\n",
       "<style scoped>\n",
       "    .dataframe tbody tr th:only-of-type {\n",
       "        vertical-align: middle;\n",
       "    }\n",
       "\n",
       "    .dataframe tbody tr th {\n",
       "        vertical-align: top;\n",
       "    }\n",
       "\n",
       "    .dataframe thead th {\n",
       "        text-align: right;\n",
       "    }\n",
       "</style>\n",
       "<table border=\"1\" class=\"dataframe\">\n",
       "  <thead>\n",
       "    <tr style=\"text-align: right;\">\n",
       "      <th></th>\n",
       "      <th>start_ts</th>\n",
       "      <th>weather_conditions</th>\n",
       "      <th>duration_seconds</th>\n",
       "    </tr>\n",
       "  </thead>\n",
       "  <tbody>\n",
       "    <tr>\n",
       "      <th>4</th>\n",
       "      <td>2017-11-11 07:00:00</td>\n",
       "      <td>Good</td>\n",
       "      <td>1440.0</td>\n",
       "    </tr>\n",
       "    <tr>\n",
       "      <th>8</th>\n",
       "      <td>2017-11-11 14:00:00</td>\n",
       "      <td>Good</td>\n",
       "      <td>2460.0</td>\n",
       "    </tr>\n",
       "    <tr>\n",
       "      <th>10</th>\n",
       "      <td>2017-11-18 06:00:00</td>\n",
       "      <td>Good</td>\n",
       "      <td>1500.0</td>\n",
       "    </tr>\n",
       "    <tr>\n",
       "      <th>16</th>\n",
       "      <td>2017-11-04 12:00:00</td>\n",
       "      <td>Good</td>\n",
       "      <td>2640.0</td>\n",
       "    </tr>\n",
       "    <tr>\n",
       "      <th>23</th>\n",
       "      <td>2017-11-04 14:00:00</td>\n",
       "      <td>Good</td>\n",
       "      <td>3360.0</td>\n",
       "    </tr>\n",
       "    <tr>\n",
       "      <th>...</th>\n",
       "      <td>...</td>\n",
       "      <td>...</td>\n",
       "      <td>...</td>\n",
       "    </tr>\n",
       "    <tr>\n",
       "      <th>1054</th>\n",
       "      <td>2017-11-11 07:00:00</td>\n",
       "      <td>Good</td>\n",
       "      <td>1380.0</td>\n",
       "    </tr>\n",
       "    <tr>\n",
       "      <th>1058</th>\n",
       "      <td>2017-11-25 12:00:00</td>\n",
       "      <td>Good</td>\n",
       "      <td>1440.0</td>\n",
       "    </tr>\n",
       "    <tr>\n",
       "      <th>1062</th>\n",
       "      <td>2017-11-11 06:00:00</td>\n",
       "      <td>Good</td>\n",
       "      <td>1500.0</td>\n",
       "    </tr>\n",
       "    <tr>\n",
       "      <th>1065</th>\n",
       "      <td>2017-11-11 13:00:00</td>\n",
       "      <td>Good</td>\n",
       "      <td>2100.0</td>\n",
       "    </tr>\n",
       "    <tr>\n",
       "      <th>1066</th>\n",
       "      <td>2017-11-11 08:00:00</td>\n",
       "      <td>Good</td>\n",
       "      <td>1380.0</td>\n",
       "    </tr>\n",
       "  </tbody>\n",
       "</table>\n",
       "<p>312 rows × 3 columns</p>\n",
       "</div>"
      ],
      "text/plain": [
       "                 start_ts weather_conditions  duration_seconds\n",
       "4     2017-11-11 07:00:00               Good            1440.0\n",
       "8     2017-11-11 14:00:00               Good            2460.0\n",
       "10    2017-11-18 06:00:00               Good            1500.0\n",
       "16    2017-11-04 12:00:00               Good            2640.0\n",
       "23    2017-11-04 14:00:00               Good            3360.0\n",
       "...                   ...                ...               ...\n",
       "1054  2017-11-11 07:00:00               Good            1380.0\n",
       "1058  2017-11-25 12:00:00               Good            1440.0\n",
       "1062  2017-11-11 06:00:00               Good            1500.0\n",
       "1065  2017-11-11 13:00:00               Good            2100.0\n",
       "1066  2017-11-11 08:00:00               Good            1380.0\n",
       "\n",
       "[312 rows x 3 columns]"
      ]
     },
     "execution_count": 9,
     "metadata": {},
     "output_type": "execute_result"
    }
   ],
   "source": [
    "duplicados = trips[trips.duplicated(subset=['start_ts', 'weather_conditions', 'duration_seconds'], keep=False)]\n",
    "duplicados"
   ]
  },
  {
   "cell_type": "markdown",
   "id": "fac5fb84",
   "metadata": {},
   "source": [
    "El dataset 'trips' representa datos de viajes desde el Loop hasta el Aeropuerto Internacional O'Hare, entonces los datos duplicados podrían ser legítimos si se trata de diferentes viajes con exactamente las mismas condiciones, es decir, si hubo múltiples viajes en el mismo día, a la misma hora, con la misma duración y bajo las mismas condiciones climáticas. Viajes distintos que coinciden con esas caraterísticas."
   ]
  },
  {
   "cell_type": "markdown",
   "id": "64066dea",
   "metadata": {},
   "source": [
    "<div class=\"alert alert-block alert-danger\">\n",
    "\n",
    "<b>Comentario del revisor</b> <a class=\"tocSkip\"></a>\n",
    "\n",
    "Cuidado. Trips esta mal importado en este caso.</div>"
   ]
  },
  {
   "cell_type": "markdown",
   "id": "32170563",
   "metadata": {},
   "source": [
    "<div class=\"alert alert-block alert-danger\">\n",
    "\n",
    "<b>Comentario del revisor</b> <a class=\"tocSkip\"></a>\n",
    "\n",
    "Recorda utilizar el metodo describe() para una exploracion rapida inicial de aquellas variables numericas. Siempre es necesario realizarlo ya que de forma rapida tenemos un panorama muy bueno de que nos espera e incluso encontraremos inconsistencias si existiencen.\n",
    "Describi al respecto lo que ves. </div>\n",
    "\n",
    "<div class=\"alert alert-block alert-danger\">\n",
    "\n",
    "<b>Comentario del revisor</b> <a class=\"tocSkip\"></a>\n",
    "\n",
    "Verifica los duplicados. </div>\n",
    "\n",
    "<div class=\"alert alert-block alert-success\">\n",
    "\n",
    "<b>Comentario del revisor #2</b> <a class=\"tocSkip\"></a>\n",
    "    \n",
    "Corregido.</div>"
   ]
  },
  {
   "cell_type": "markdown",
   "id": "5841f9b5",
   "metadata": {},
   "source": [
    "Análisis del tipo de datos en 'trips'\n",
    "1. El campo \"start_ts\" tiene un tipo de dato object. Sin embargo, sería más apropiado convertir este campo a un tipo de dato de fecha y hora (datetime64) para facilitar el análisis.\n",
    "2. El campo \"weather_conditions\" tiene un tipo de dato object, que es apropiado para almacenar cadenas de texto que describen las condiciones climáticas.\n",
    "3. El campo \"duration_seconds\" tiene un tipo de dato float64, que es apropiado para almacenar valores decimales que representan la duración en segundos."
   ]
  },
  {
   "cell_type": "markdown",
   "id": "3d440d9d",
   "metadata": {},
   "source": [
    "### Convertir columna 'start_ts' en 'trips' al tipo de dato datetime."
   ]
  },
  {
   "cell_type": "code",
   "execution_count": 10,
   "id": "90d8a3c0",
   "metadata": {
    "scrolled": false
   },
   "outputs": [],
   "source": [
    "#Convertir columna 'start_ts' a datetime64\n",
    "\n",
    "trips['start_ts'] = pd.to_datetime(trips['start_ts'])"
   ]
  },
  {
   "cell_type": "markdown",
   "id": "c610cfcd",
   "metadata": {},
   "source": [
    "<div class=\"alert alert-block alert-danger\">\n",
    "\n",
    "<b>Comentario del revisor</b> <a class=\"tocSkip\"></a>\n",
    "\n",
    "Trips esta mal importado y por eso te da el error.</div>\n",
    "\n",
    "<div class=\"alert alert-block alert-success\">\n",
    "\n",
    "<b>Comentario del revisor #2</b> <a class=\"tocSkip\"></a>\n",
    "    \n",
    "Corregido.</div>"
   ]
  },
  {
   "cell_type": "code",
   "execution_count": 11,
   "id": "deb595ec",
   "metadata": {},
   "outputs": [
    {
     "name": "stdout",
     "output_type": "stream",
     "text": [
      "<class 'pandas.core.frame.DataFrame'>\n",
      "RangeIndex: 1068 entries, 0 to 1067\n",
      "Data columns (total 3 columns):\n",
      " #   Column              Non-Null Count  Dtype         \n",
      "---  ------              --------------  -----         \n",
      " 0   start_ts            1068 non-null   datetime64[ns]\n",
      " 1   weather_conditions  1068 non-null   object        \n",
      " 2   duration_seconds    1068 non-null   float64       \n",
      "dtypes: datetime64[ns](1), float64(1), object(1)\n",
      "memory usage: 25.2+ KB\n"
     ]
    }
   ],
   "source": [
    "## Verificación de cambios\n",
    "\n",
    "trips.info()"
   ]
  },
  {
   "cell_type": "markdown",
   "id": "b223d112",
   "metadata": {},
   "source": [
    "### Identificación de los 10 principales barrios en terminación de recorrido\n"
   ]
  },
  {
   "cell_type": "code",
   "execution_count": 12,
   "id": "0e56b110",
   "metadata": {},
   "outputs": [
    {
     "name": "stdout",
     "output_type": "stream",
     "text": [
      "Los 10 principales barrios en términos de finalización del recorrido (según el promedio de viajes):\n",
      "  dropoff_location_name  average_trips\n",
      "0                  Loop   10727.466667\n",
      "1           River North    9523.666667\n",
      "2         Streeterville    6664.666667\n",
      "3             West Loop    5163.666667\n",
      "4                O'Hare    2546.900000\n",
      "5             Lake View    2420.966667\n",
      "6            Grant Park    2068.533333\n",
      "7         Museum Campus    1510.000000\n",
      "8            Gold Coast    1364.233333\n",
      "9    Sheffield & DePaul    1259.766667\n"
     ]
    }
   ],
   "source": [
    "# Ordenar los barrios en función del promedio de viajes en orden descendente\n",
    "top_barrios = neighborhoods.sort_values(by='average_trips', ascending=False).head(10)\n",
    "\n",
    "# Imprimir los 10 principales barrios en términos de finalización del recorrido\n",
    "print(\"Los 10 principales barrios en términos de finalización del recorrido (según el promedio de viajes):\")\n",
    "print(top_barrios)"
   ]
  },
  {
   "cell_type": "markdown",
   "id": "c2f8d293",
   "metadata": {},
   "source": [
    "#### Representación gráfica "
   ]
  },
  {
   "cell_type": "code",
   "execution_count": 13,
   "id": "18d006b7",
   "metadata": {},
   "outputs": [
    {
     "data": {
      "image/png": "[encoded data removed]",
      "text/plain": [
       "<Figure size 864x432 with 1 Axes>"
      ]
     },
     "metadata": {
      "needs_background": "light"
     },
     "output_type": "display_data"
    }
   ],
   "source": [
    "# Extraer los nombres de los barrios y sus promedios de viajes\n",
    "barrios = top_barrios['dropoff_location_name']\n",
    "promedio_viajes = top_barrios['average_trips']\n",
    "\n",
    "# Crear el gráfico de barras\n",
    "plt.figure(figsize=(12, 6))\n",
    "plt.barh(barrios, promedio_viajes, color='lightcoral')\n",
    "plt.xlabel('Promedio de Viajes')\n",
    "plt.ylabel('Barrio de Finalización')\n",
    "plt.title('Los 10 Principales Barrios por Número de Finalizaciones (Noviembre de 2017)')\n",
    "plt.gca().invert_yaxis()  \n",
    "plt.show()"
   ]
  },
  {
   "cell_type": "markdown",
   "id": "a7600c06",
   "metadata": {},
   "source": [
    "Podemos visualizar los 10 principales barrios por número de finalizaciones y el top #1 vemos a la empresa de taxi 'Loop' liderando con mas de 10.000 viajes."
   ]
  },
  {
   "cell_type": "markdown",
   "id": "bb272805",
   "metadata": {},
   "source": [
    "<div class=\"alert alert-block alert-success\">\n",
    "\n",
    "<b>Comentario del revisor</b> <a class=\"tocSkip\"></a>\n",
    "    \n",
    "Muy bien!. </div>\n",
    "\n"
   ]
  },
  {
   "cell_type": "markdown",
   "id": "fdde0b76",
   "metadata": {},
   "source": [
    "### Identificación de los 10 principales compañias de taxis con mayor numero de viajes."
   ]
  },
  {
   "cell_type": "code",
   "execution_count": 14,
   "id": "efd06863",
   "metadata": {},
   "outputs": [
    {
     "name": "stdout",
     "output_type": "stream",
     "text": [
      "                        company_name  trips_amount\n",
      "0                          Flash Cab         19558\n",
      "1          Taxi Affiliation Services         11422\n",
      "2                  Medallion Leasing         10367\n",
      "3                         Yellow Cab          9888\n",
      "4    Taxi Affiliation Service Yellow          9299\n",
      "5          Chicago Carriage Cab Corp          9181\n",
      "6                       City Service          8448\n",
      "7                           Sun Taxi          7701\n",
      "8          Star North Management LLC          7455\n",
      "9  Blue Ribbon Taxi Association Inc.          5953\n"
     ]
    }
   ],
   "source": [
    "# Ordenar las empresas de taxis en función del promedio de viajes en orden descendente\n",
    "top_companies = cabs.sort_values(by='trips_amount', ascending=False).head(10)\n",
    "\n",
    "# Imprimir los 10 principales empresas de taxis en términos de viajes\n",
    "print(top_companies)"
   ]
  },
  {
   "cell_type": "markdown",
   "id": "d3f2f2c4",
   "metadata": {},
   "source": [
    "#### Representación gráfica"
   ]
  },
  {
   "cell_type": "code",
   "execution_count": 15,
   "id": "f15881dd",
   "metadata": {},
   "outputs": [
    {
     "data": {
      "image/png": "[encoded data removed]",
      "text/plain": [
       "<Figure size 864x432 with 1 Axes>"
      ]
     },
     "metadata": {
      "needs_background": "light"
     },
     "output_type": "display_data"
    }
   ],
   "source": [
    "# Extraer los nombres de las compañia de taxis y sus promedios de viajes\n",
    "companies  = top_companies['company_name']\n",
    "num_viajes = top_companies['trips_amount']\n",
    "\n",
    "# Crear el gráfico de barras\n",
    "plt.figure(figsize=(12, 6))\n",
    "plt.barh(companies,num_viajes, color='skyblue')\n",
    "plt.xlabel('Número de Viajes')\n",
    "plt.ylabel('Empresa de Taxis')\n",
    "plt.title('Número de Viajes por Empresa de Taxis (15 y 16 de Noviembre de 2017)')\n",
    "plt.gca().invert_yaxis()  \n",
    "plt.show()"
   ]
  },
  {
   "cell_type": "markdown",
   "id": "c0c5b976",
   "metadata": {},
   "source": [
    "Se puede visualizar que durante el 15 y 16 de Noviembre la empresa de taxi 'Flash Cab' tiene el mayor numero de viajes. Seguida de otras empresas que están dentro del rango de los 5000 a 12.000 viajes."
   ]
  },
  {
   "cell_type": "markdown",
   "id": "4010e657",
   "metadata": {},
   "source": [
    "<div class=\"alert alert-block alert-success\">\n",
    "\n",
    "<b>Comentario del revisor</b> <a class=\"tocSkip\"></a>\n",
    "Excelente. </div>\n",
    "\n"
   ]
  },
  {
   "cell_type": "markdown",
   "id": "cc3a8c90",
   "metadata": {},
   "source": [
    "## Conclusion del análisis exploratorio\n",
    "\n",
    "Al observar los dos gráficos proporcionados:\n",
    "\n",
    "Gráfico de las 10 Principales Empresas de Taxis por Número de Viajes:\n",
    "\n",
    "Las tres principales empresas de taxis con el mayor número de viajes en los días 15 y 16 de noviembre de 2017 son \"Flash Cab,\" \"Taxi Affiliation Services,\" y \"Medallion Leasing,\" en ese orden.\n",
    "\"Flash Cab\" lidera claramente con una cantidad significativamente mayor de viajes en comparación con otras empresas además que existe una brecha notable entre las tres principales empresas y las demás en términos de número de viajes.\n",
    "\n",
    "Gráfico de los 10 Principales Barrios por Número de Finalizaciones:\n",
    "\n",
    "Los barrios \"Loop,\" \"River North,\" y \"Streeterville\" son los tres principales en términos de número de finalizaciones de viajes en noviembre de 2017.\n",
    "El barrio \"Loop\" encabeza la lista con un promedio de finalizaciones significativamente alto.\n",
    "Los barrios listados en este gráfico son áreas donde los viajes de taxi tienden a finalizar con mayor frecuencia.\n",
    "Con base en estos gráficos, podemos deducir algunas conclusiones:\n",
    "\n",
    "El mercado de taxis en Chicago está dominado por un pequeño número de empresas, con \"Flash Cab\" liderando en términos de número de viajes. \n",
    "\n",
    "En cuanto a los barrios de finalización de viajes, \"Loop,\" \"River North,\" y \"Streeterville\" son áreas populares donde los viajes de taxi tienden a finalizar con mayor frecuencia."
   ]
  },
  {
   "cell_type": "markdown",
   "id": "7f458af2",
   "metadata": {},
   "source": [
    "<div class=\"alert alert-block alert-success\">\n",
    "\n",
    "<b>Comentario del revisor</b> <a class=\"tocSkip\"></a>\n",
    "    \n",
    "    \n",
    "Buena conclusion. </div>\n",
    "\n"
   ]
  },
  {
   "cell_type": "markdown",
   "id": "7537f00c",
   "metadata": {},
   "source": [
    "## Prueba de Hipótesis\n",
    "\n",
    "Probar la hipótesis \"La duración promedio de los viajes desde el Loop hasta el Aeropuerto Internacional O'Hare cambia los sábados lluviosos\", primero debemos plantear nuestras hipótesis nula (H0) y alternativa (H1), luego decidir el nivel de significación (alfa).\n",
    "\n",
    "Hipótesis Nula (H0): La duración promedio de los viajes desde el Loop hasta el Aeropuerto Internacional O'Hare no cambia los sábados lluviosos.\n",
    "\n",
    "Hipótesis Alternativa (H1): La duración promedio de los viajes desde el Loop hasta el Aeropuerto Internacional O'Hare cambia los sábados lluviosos.\n",
    "\n",
    "El nivel de significación que utilizaré será de 0.05, valor que me permitirá determinar si rechazo o no la hipótesis nula.\n"
   ]
  },
  {
   "cell_type": "code",
   "execution_count": 16,
   "id": "48e1ed90",
   "metadata": {},
   "outputs": [
    {
     "data": {
      "text/html": [
       "<div>\n",
       "<style scoped>\n",
       "    .dataframe tbody tr th:only-of-type {\n",
       "        vertical-align: middle;\n",
       "    }\n",
       "\n",
       "    .dataframe tbody tr th {\n",
       "        vertical-align: top;\n",
       "    }\n",
       "\n",
       "    .dataframe thead th {\n",
       "        text-align: right;\n",
       "    }\n",
       "</style>\n",
       "<table border=\"1\" class=\"dataframe\">\n",
       "  <thead>\n",
       "    <tr style=\"text-align: right;\">\n",
       "      <th></th>\n",
       "      <th>start_ts</th>\n",
       "      <th>weather_conditions</th>\n",
       "      <th>duration_seconds</th>\n",
       "    </tr>\n",
       "  </thead>\n",
       "  <tbody>\n",
       "    <tr>\n",
       "      <th>0</th>\n",
       "      <td>2017-11-25 16:00:00</td>\n",
       "      <td>Good</td>\n",
       "      <td>2410.0</td>\n",
       "    </tr>\n",
       "    <tr>\n",
       "      <th>1</th>\n",
       "      <td>2017-11-25 14:00:00</td>\n",
       "      <td>Good</td>\n",
       "      <td>1920.0</td>\n",
       "    </tr>\n",
       "    <tr>\n",
       "      <th>2</th>\n",
       "      <td>2017-11-25 12:00:00</td>\n",
       "      <td>Good</td>\n",
       "      <td>1543.0</td>\n",
       "    </tr>\n",
       "    <tr>\n",
       "      <th>3</th>\n",
       "      <td>2017-11-04 10:00:00</td>\n",
       "      <td>Good</td>\n",
       "      <td>2512.0</td>\n",
       "    </tr>\n",
       "    <tr>\n",
       "      <th>4</th>\n",
       "      <td>2017-11-11 07:00:00</td>\n",
       "      <td>Good</td>\n",
       "      <td>1440.0</td>\n",
       "    </tr>\n",
       "    <tr>\n",
       "      <th>5</th>\n",
       "      <td>2017-11-11 04:00:00</td>\n",
       "      <td>Good</td>\n",
       "      <td>1320.0</td>\n",
       "    </tr>\n",
       "    <tr>\n",
       "      <th>6</th>\n",
       "      <td>2017-11-04 16:00:00</td>\n",
       "      <td>Bad</td>\n",
       "      <td>2969.0</td>\n",
       "    </tr>\n",
       "    <tr>\n",
       "      <th>7</th>\n",
       "      <td>2017-11-18 11:00:00</td>\n",
       "      <td>Good</td>\n",
       "      <td>2280.0</td>\n",
       "    </tr>\n",
       "    <tr>\n",
       "      <th>8</th>\n",
       "      <td>2017-11-11 14:00:00</td>\n",
       "      <td>Good</td>\n",
       "      <td>2460.0</td>\n",
       "    </tr>\n",
       "    <tr>\n",
       "      <th>9</th>\n",
       "      <td>2017-11-11 12:00:00</td>\n",
       "      <td>Good</td>\n",
       "      <td>2040.0</td>\n",
       "    </tr>\n",
       "  </tbody>\n",
       "</table>\n",
       "</div>"
      ],
      "text/plain": [
       "             start_ts weather_conditions  duration_seconds\n",
       "0 2017-11-25 16:00:00               Good            2410.0\n",
       "1 2017-11-25 14:00:00               Good            1920.0\n",
       "2 2017-11-25 12:00:00               Good            1543.0\n",
       "3 2017-11-04 10:00:00               Good            2512.0\n",
       "4 2017-11-11 07:00:00               Good            1440.0\n",
       "5 2017-11-11 04:00:00               Good            1320.0\n",
       "6 2017-11-04 16:00:00                Bad            2969.0\n",
       "7 2017-11-18 11:00:00               Good            2280.0\n",
       "8 2017-11-11 14:00:00               Good            2460.0\n",
       "9 2017-11-11 12:00:00               Good            2040.0"
      ]
     },
     "execution_count": 16,
     "metadata": {},
     "output_type": "execute_result"
    }
   ],
   "source": [
    "## Exploración del dataset 'trips'\n",
    "\n",
    "trips.head(10)"
   ]
  },
  {
   "cell_type": "code",
   "execution_count": 17,
   "id": "af841b40",
   "metadata": {
    "scrolled": true
   },
   "outputs": [],
   "source": [
    "# Calcular la duración promedio de los viajes para cada grupo\n",
    "sabados_lluviosos    = trips[trips['weather_conditions'] == 'Bad']['duration_seconds'].mean()\n",
    "sabados_no_lluviosos = trips[trips['weather_conditions'] == 'Good']['duration_seconds'].mean()"
   ]
  },
  {
   "cell_type": "markdown",
   "id": "934773bc",
   "metadata": {},
   "source": [
    "<div class=\"alert alert-block alert-danger\">\n",
    "\n",
    "<b>Comentario del revisor</b> <a class=\"tocSkip\"></a>\n",
    "\n",
    "Trips esta mal importado y por eso te da el error.</div>\n",
    "\n",
    "<div class=\"alert alert-block alert-success\">\n",
    "\n",
    "<b>Comentario del revisor #2</b> <a class=\"tocSkip\"></a>\n",
    "    \n",
    "Corregido.</div>"
   ]
  },
  {
   "cell_type": "code",
   "execution_count": 18,
   "id": "fcd82b7f",
   "metadata": {},
   "outputs": [
    {
     "name": "stdout",
     "output_type": "stream",
     "text": [
      "Duración promedio en días lluviosos:    2427.2055555555557\n",
      "Duración promedio en días no lluviosos: 1999.6756756756756\n",
      "Valor p de la prueba t: 6.517970327099473e-12\n"
     ]
    }
   ],
   "source": [
    "\n",
    "# Realizar la prueba de igualdad de varianzas\n",
    "stat, p_var = levene(trips[trips['weather_conditions'] == 'Bad']['duration_seconds'], trips[trips['weather_conditions'] == 'Good']['duration_seconds'])\n",
    "\n",
    "# Establecer el nivel de significación (alfa)\n",
    "alfa = 0.05\n",
    "\n",
    "if p_var < alfa:\n",
    "    # Las varianzas son estadísticamente diferentes, por lo que establecemos equal_var en False\n",
    "    t_statistic, p_value = stats.ttest_ind(trips[trips['weather_conditions'] == 'Bad']['duration_seconds'], trips[trips['weather_conditions'] == 'Good']['duration_seconds'], equal_var=False)\n",
    "else:\n",
    "    # Las varianzas son estadísticamente iguales, por lo que establecemos equal_var en True\n",
    "    t_statistic, p_value = stats.ttest_ind(trips[trips['weather_conditions'] == 'Bad']['duration_seconds'], trips[trips['weather_conditions'] == 'Good']['duration_seconds'], equal_var=True)\n",
    "\n",
    "# Imprimir los resultados\n",
    "print(f\"Duración promedio en días lluviosos:    {sabados_lluviosos}\")\n",
    "print(f\"Duración promedio en días no lluviosos: {sabados_no_lluviosos}\")\n",
    "print(f\"Valor p de la prueba t: {p_value}\")"
   ]
  },
  {
   "cell_type": "markdown",
   "id": "4afa8252",
   "metadata": {},
   "source": [
    "Basandome en los datos y el análisis de la prueba t, puedo concluir lo siguiente:\n",
    "Duración promedio en días lluviosos: 2,427.21 segundos.\n",
    "Duración promedio en días no lluviosos: 1,999.68 segundos.\n",
    "\n",
    "El valor p de la prueba t es extremadamente pequeño (6.52e-12), mucho menor que el nivel de significancia alfa (generalmente 0.05) indicando que esta diferencia es estadísticamente significativa, respaldando la hipótesis de que la duración de los viajes cambia en función de las condiciones climáticas."
   ]
  },
  {
   "cell_type": "markdown",
   "id": "523ad300",
   "metadata": {},
   "source": [
    "Comparar el valor p con el nivel de significación (alfa) establecido. Si el valor p es menor que alfa, rechazamos la hipótesis nula y concluimos que hay evidencia estadística de que la duración promedio de los viajes cambia los sábados lluviosos. Si el valor p es mayor que alfa, no rechazamos la hipótesis nula y no hay evidencia suficiente para afirmar que existe una diferencia significativa."
   ]
  },
  {
   "cell_type": "code",
   "execution_count": 19,
   "id": "d2283b90",
   "metadata": {
    "scrolled": false
   },
   "outputs": [
    {
     "name": "stdout",
     "output_type": "stream",
     "text": [
      "Rechazamos la hipótesis nula.\n",
      "Hay evidencia estadística de que la duración promedio de los viajes cambia los sábados lluviosos.\n"
     ]
    }
   ],
   "source": [
    "# Comparar el valor p con alfa\n",
    "if p_value < alfa:\n",
    "    print(\"Rechazamos la hipótesis nula.\")\n",
    "    print(\"Hay evidencia estadística de que la duración promedio de los viajes cambia los sábados lluviosos.\")\n",
    "else:\n",
    "    print(\"No rechazamos la hipótesis nula.\")\n",
    "    print(\"No hay evidencia suficiente para afirmar que existe una diferencia significativa en la duración promedio.\")"
   ]
  },
  {
   "cell_type": "markdown",
   "id": "f0e0bf3c",
   "metadata": {},
   "source": [
    "<div class=\"alert alert-block alert-danger\">\n",
    "<b>Comentario del revisor</b> <a class=\"tocSkip\"></a>\n",
    "\n",
    "El parametro equal_var es muy importante para este tipo de pruebas ya que le estamos indicando si las varianzas para cada conjunto son diferentes (False). Si fueran iguales (True), puede que el resultado cambie, ya que se calcula de forma diferente. Mas que nada cuando la distribucion de las muestras son desiguales (como en este caso).\n",
    "Por esto es importante, cuando realizamos esta prueba (t student). Confirmar si las varianzas son iguales o no para ambos conjuntos. Para esto se realizan pruebas para identificar si son iguales o no las varianzas.\n",
    "\n",
    "Al realizarla ajusta el parametro.</div>\n",
    "\n",
    "<div class=\"alert alert-block alert-warning\">\n",
    "<b>Comentario del revisor</b> <a class=\"tocSkip\"></a>\n",
    "\n",
    "Simplemente a modo de consejo, cuando realizamos este tipo de prueba, los outliers pueden modificarla. Por lo que generalmente se recomienda tratarlos antes  de realizar la prueba.\n",
    "</div>"
   ]
  },
  {
   "cell_type": "markdown",
   "id": "4589aaa4",
   "metadata": {},
   "source": [
    "<div class=\"alert alert-block alert-success\">\n",
    "\n",
    "<b>Comentario del revisor #2</b> <a class=\"tocSkip\"></a>\n",
    "    \n",
    "Corregido. Muy bien.</div>"
   ]
  },
  {
   "cell_type": "markdown",
   "id": "dc2f70ad",
   "metadata": {},
   "source": [
    "### Conclusión \n",
    "\n",
    "Con base en el análisis realizado, puedo concluir que la duración promedio de los viajes desde el Loop hasta el Aeropuerto Internacional O'Hare es significativamente diferente en los días lluviosos en comparación con los días no lluviosos. Es decir, en días lluviosos, la duración promedio de los viajes tiende a ser más larga en comparación con los días no lluviosos."
   ]
  },
  {
   "cell_type": "markdown",
   "id": "ff2a6d57",
   "metadata": {},
   "source": [
    "# Conclusion General\n",
    "\n",
    "En conclusión, en mi rol como analista de datos para Zuber, he llevado a cabo un análisis integral de los datos disponibles, centrándome en la comprensión de las preferencias de los pasajeros y el impacto de los factores externos en los viajes. A través de este proyecto, se logró lo siguiente:\n",
    "\n",
    "1. Identifiqué las preferencias de los pasajeros al analizar datos de viajes, lo que me permitió comprender cómo las condiciones climáticas, las empresas de taxis y los barrios afectan la duración y la frecuencia de los viajes.\n",
    "\n",
    "2. Probé con éxito la hipótesis sobre el impacto del clima en la duración de los viajes y confirmé que las condiciones climáticas tienen un efecto estadísticamente significativo en la duración de los viajes, con una duración promedio mayor en días lluviosos.\n",
    "\n",
    "3. Hice un análisis detallado de las empresas de taxis más populares en Chicago y los barrios más concurridos en términos de finalización de viajes.\n",
    "\n",
    "4. Generé gráficos que proporcionaron información visualmente impactante sobre el número de viajes y las empresas de taxis más populares, así como los 10 principales barrios en términos de finalización de viajes.\n",
    "\n",
    "Estos hallazgos brindan información valiosa a Zuber para la toma de decisiones estratégicas, como la planificación de rutas, la gestión de cabs y la consideración de las condiciones climáticas al ofrecer servicios de viajes compartidos en Chicago."
   ]
  },
  {
   "cell_type": "markdown",
   "id": "853cc12f",
   "metadata": {},
   "source": [
    "<div class=\"alert alert-block alert-danger\">\n",
    "\n",
    "<b>Comentario del revisor</b> <a class=\"tocSkip\"></a>\n",
    "\n",
    "Recorda realizar una conclusion general. Esta debe contener todo lo que se hizo en el proyecto de forma enumerada o items.\n",
    "\n",
    "Desde la carga e importacion, pasando por los cambios realizado (Y el porque de esas decisiones). Agregando lo que se hizo en cada seccion a modo resumen y las conclusiones del  trabajo.\n",
    "\n",
    "Sirve como resumen de lo realizado en cada proyecto.</div>\n",
    "\n",
    "<div class=\"alert alert-block alert-danger\">\n",
    "\n",
    "<b>Comentario del revisor #2</b> <a class=\"tocSkip\"></a>\n",
    "\n",
    "El error persiste.</div>\n",
    "\n",
    "<div class=\"alert alert-block alert-success\">\n",
    "\n",
    "<b>Comentario del revisor #3</b> <a class=\"tocSkip\"></a>\n",
    "\n",
    "Corregido. Excelente.</div>"
   ]
  },
  {
   "cell_type": "markdown",
   "id": "9f8a9c12",
   "metadata": {},
   "source": [
    "<div class=\"alert alert-block alert-danger\">\n",
    "\n",
    "<b>Comentario general</b> <a class=\"tocSkip\"></a>\n",
    "Cece te felicito por tu trabajo ya que esta muy completo, las conclusiones  intermedias estan muy bien.\n",
    "\n",
    "Lo que si, te marque varias correcciones debido a que importaste dos veces el mismo dataset y eso hizo que se produzcan errores en el notebook. Tene cuidado con esto ya que puede alterar resultados. En este caso al no existir tales columnas simplemente da erorr.\n",
    "\n",
    "Tus graficos me gustaron mucho ya que son simples y legible, algo que es muy importante cuando graficamos este tipo de distribucion.\n",
    "\n",
    "Espero tus correcciones, saludos.</div>"
   ]
  },
  {
   "cell_type": "markdown",
   "id": "948c6fdb",
   "metadata": {},
   "source": [
    "<div class=\"alert alert-block alert-danger\">\n",
    "\n",
    "<b>Comentario general #2</b> <a class=\"tocSkip\"></a>\n",
    "    \n",
    "Cece corregiste todo lo que te marque a nivel codigo y estructura. Muy bien.\n",
    "\n",
    "Queda realizar la conclusion general (no de las hipotesis), algo que es muy importante para terminar de darle un cierre al  gran proyecto que realizaste.\n",
    "\n",
    "Haciendo eso tu trabajo pasa a estar aprobado.\n",
    "\n",
    "Excelente como manejaste el parametro equal var\n",
    "\n",
    "Saludos</div>\n",
    "\n",
    "<div class=\"alert alert-block alert-success\">\n",
    "\n",
    "<b>Comentario general #3</b> <a class=\"tocSkip\"></a>\n",
    "    \n",
    "Muy buena tu conclusion general, quedo muy completa. Te felicito por este gran trabajo que realizaste.\n",
    "\n",
    "Pasa a estar aprobado, exitos en lo que viene.\n",
    "\n",
    "Saludos.</div>"
   ]
  },
  {
   "cell_type": "code",
   "execution_count": null,
   "id": "23c1c7aa",
   "metadata": {},
   "outputs": [],
   "source": []
  }
 ],
 "metadata": {
  "kernelspec": {
   "display_name": "Python 3 (ipykernel)",
   "language": "python",
   "name": "python3"
  },
  "language_info": {
   "codemirror_mode": {
    "name": "ipython",
    "version": 3
   },
   "file_extension": ".py",
   "mimetype": "text/x-python",
   "name": "python",
   "nbconvert_exporter": "python",
   "pygments_lexer": "ipython3",
   "version": "3.9.5"
  },
  "toc": {
   "base_numbering": 1,
   "nav_menu": {},
   "number_sections": true,
   "sideBar": true,
   "skip_h1_title": false,
   "title_cell": "Table of Contents",
   "title_sidebar": "Contents",
   "toc_cell": true,
   "toc_position": {},
   "toc_section_display": true,
   "toc_window_display": false
  }
 },
 "nbformat": 4,
 "nbformat_minor": 5
}
