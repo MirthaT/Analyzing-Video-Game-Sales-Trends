{
 "cells": [
  {
   "cell_type": "markdown",
   "metadata": {},
   "source": [
    "# ¡Hola, Cece!  \n",
    "\n",
    "Mi nombre es Carlos Ortiz, soy code reviewer de Practicum y voy a revisar el proyecto que acabas de desarrollar.\n",
    "\n",
    "Cuando vea un error la primera vez, lo señalaré. Deberás encontrarlo y arreglarlo. La intención es que te prepares para un espacio real de trabajo. En un trabajo, el líder de tu equipo hará lo mismo. Si no puedes solucionar el error, te daré más información en la próxima ocasión. \n",
    "\n",
    "Encontrarás mis comentarios más abajo - **por favor, no los muevas, no los modifiques ni los borres**.\n",
    "\n",
    "¿Cómo lo voy a hacer? Voy a leer detenidamente cada una de las implementaciones que has llevado a cabo para cumplir con lo solicitado. Verás los comentarios de esta forma:\n",
    "\n",
    "<div class=\"alert alert-block alert-success\">\n",
    "<b>Comentario del revisor</b> <a class=\"tocSkip\"></a>\n",
    "    \n",
    "Si todo está perfecto.\n",
    "</div>\n",
    "\n",
    "\n",
    "<div class=\"alert alert-block alert-warning\">\n",
    "<b>Comentario del revisor</b> <a class=\"tocSkip\"></a>\n",
    "    \n",
    "Si tu código está bien pero se puede mejorar o hay algún detalle que le hace falta.\n",
    "</div>\n",
    "\n",
    "\n",
    "<div class=\"alert alert-block alert-danger\">\n",
    "    \n",
    "<b>Comentario del revisor</b> <a class=\"tocSkip\"></a>\n",
    "    \n",
    "    \n",
    "Si de pronto hace falta algo o existe algún problema con tu código o conclusiones.\n",
    "</div>\n",
    "\n",
    "\n",
    "Puedes responderme de esta forma: \n",
    "\n",
    "<div class=\"alert alert-block alert-info\">\n",
    "<b>Respuesta del estudiante</b> <a class=\"tocSkip\"></a>\n",
    "</div>\n",
    "\n",
    "¡Empecemos!"
   ]
  },
  {
   "cell_type": "markdown",
   "metadata": {
    "toc": true
   },
   "source": [
    "<h1>Table of Contents<span class=\"tocSkip\"></span></h1>\n",
    "<div class=\"toc\"><ul class=\"toc-item\"><li><span><a href=\"#Propósito-del-Proyecto:\" data-toc-modified-id=\"Propósito-del-Proyecto:-1\"><span class=\"toc-item-num\">1&nbsp;&nbsp;</span>Propósito del Proyecto:</a></span></li><li><span><a href=\"#Hipótesis-a-evaluar:\" data-toc-modified-id=\"Hipótesis-a-evaluar:-2\"><span class=\"toc-item-num\">2&nbsp;&nbsp;</span>Hipótesis a evaluar:</a></span></li><li><span><a href=\"#Carga-del-archivo:\" data-toc-modified-id=\"Carga-del-archivo:-3\"><span class=\"toc-item-num\">3&nbsp;&nbsp;</span>Carga del archivo:</a></span></li><li><span><a href=\"#Ejercicio-1.-Exploración-de-datos\" data-toc-modified-id=\"Ejercicio-1.-Exploración-de-datos-4\"><span class=\"toc-item-num\">4&nbsp;&nbsp;</span>Ejercicio 1. Exploración de datos</a></span><ul class=\"toc-item\"><li><span><a href=\"#Análisis-de-la-exploración-de-datos.\" data-toc-modified-id=\"Análisis-de-la-exploración-de-datos.-4.1\"><span class=\"toc-item-num\">4.1&nbsp;&nbsp;</span>Análisis de la exploración de datos.</a></span></li></ul></li><li><span><a href=\"#Transformación-de-datos\" data-toc-modified-id=\"Transformación-de-datos-5\"><span class=\"toc-item-num\">5&nbsp;&nbsp;</span>Transformación de datos</a></span></li><li><span><a href=\"#Trabajar-con-valores-ausentes\" data-toc-modified-id=\"Trabajar-con-valores-ausentes-6\"><span class=\"toc-item-num\">6&nbsp;&nbsp;</span>Trabajar con valores ausentes</a></span><ul class=\"toc-item\"><li><span><a href=\"#Restaurar-valores-ausentes-en-total_income\" data-toc-modified-id=\"Restaurar-valores-ausentes-en-total_income-6.1\"><span class=\"toc-item-num\">6.1&nbsp;&nbsp;</span>Restaurar valores ausentes en <code>total_income</code></a></span></li><li><span><a href=\"#Restaurar-valores-en-days_employed\" data-toc-modified-id=\"Restaurar-valores-en-days_employed-6.2\"><span class=\"toc-item-num\">6.2&nbsp;&nbsp;</span>Restaurar valores en <code>days_employed</code></a></span></li></ul></li><li><span><a href=\"#Clasificación-de-datos\" data-toc-modified-id=\"Clasificación-de-datos-7\"><span class=\"toc-item-num\">7&nbsp;&nbsp;</span>Clasificación de datos</a></span></li><li><span><a href=\"#Comprobación-de-las-hipótesis\" data-toc-modified-id=\"Comprobación-de-las-hipótesis-8\"><span class=\"toc-item-num\">8&nbsp;&nbsp;</span>Comprobación de las hipótesis</a></span></li><li><span><a href=\"#Conclusión-general\" data-toc-modified-id=\"Conclusión-general-9\"><span class=\"toc-item-num\">9&nbsp;&nbsp;</span>Conclusión general</a></span></li></ul></div>"
   ]
  },
  {
   "cell_type": "markdown",
   "metadata": {},
   "source": [
    "## Propósito del Proyecto:\n",
    "\n",
    "El propósito de este proyecto es analizar sí, el estado civil y el número de hijos de los clientes tienen un impacto en el incumplimiento de pago de un préstamo. El banco cuenta con datos sobre la solvencia crediticia de los clientes, y el objetivo es determinar si estas variables pueden utilizarse para predecir la capacidad de un prestatario para pagar su préstamo."
   ]
  },
  {
   "cell_type": "markdown",
   "metadata": {},
   "source": [
    "\n",
    "## Hipótesis a evaluar:\n",
    "Para este análisis, se formularán las siguientes hipótesis:\n",
    "\n",
    "**Hipótesis 1:** Los clientes casados tienen una menor probabilidad de incumplir con los pagos de préstamos en comparación con los clientes solteros, divorciados o viudos.\n",
    "\n",
    "**Hipótesis 2:** Los clientes con más hijos tienen una mayor probabilidad de incumplir con los pagos de préstamos en comparación con aquellos con menos o sin hijos.`"
   ]
  },
  {
   "cell_type": "markdown",
   "metadata": {},
   "source": [
    "## Carga del archivo:\n",
    "\n",
    "\n",
    "\n",
    "Se cargará el conjunto de datos y se realizará una exploración inicial para identificar valores faltantes y datos atípicos. Se describirá la estructura general de los datos."
   ]
  },
  {
   "cell_type": "code",
   "execution_count": 1,
   "metadata": {},
   "outputs": [],
   "source": [
    "import pandas as pd                     # Cargar todas las librerías\n",
    "from IPython.display import display\n",
    "import numpy as np\n",
    "\n"
   ]
  },
  {
   "cell_type": "code",
   "execution_count": 2,
   "metadata": {},
   "outputs": [],
   "source": [
    "credit = pd.read_csv('/datasets/credit_scoring_eng.csv')"
   ]
  },
  {
   "cell_type": "markdown",
   "metadata": {},
   "source": [
    "## Ejercicio 1. Exploración de datos\n",
    "\n",
    "**Descripción de los datos**\n",
    "- `children` - el número de hijos en la familia\n",
    "- `days_employed` - experiencia laboral en días\n",
    "- `dob_years` - la edad del cliente en años\n",
    "- `education` - la educación del cliente\n",
    "- `education_id` - identificador de educación\n",
    "- `family_status` - estado civil\n",
    "- `family_status_id` - identificador de estado civil\n",
    "- `gender` - género del cliente\n",
    "- `income_type` - tipo de empleo\n",
    "- `debt` - ¿había alguna deuda en el pago de un préstamo?\n",
    "- `total_income` - ingreso mensual\n",
    "- `purpose` - el propósito de obtener un préstamo\n",
    "\n",
    "Verifiquemos cuantas columnas y filas hay en el conjunto de datos.\n"
   ]
  },
  {
   "cell_type": "code",
   "execution_count": 3,
   "metadata": {},
   "outputs": [
    {
     "data": {
      "text/plain": [
       "(21525, 12)"
      ]
     },
     "execution_count": 3,
     "metadata": {},
     "output_type": "execute_result"
    }
   ],
   "source": [
    "credit.shape\n",
    "\n"
   ]
  },
  {
   "cell_type": "code",
   "execution_count": 4,
   "metadata": {
    "scrolled": true
   },
   "outputs": [
    {
     "data": {
      "text/html": [
       "<div>\n",
       "<style scoped>\n",
       "    .dataframe tbody tr th:only-of-type {\n",
       "        vertical-align: middle;\n",
       "    }\n",
       "\n",
       "    .dataframe tbody tr th {\n",
       "        vertical-align: top;\n",
       "    }\n",
       "\n",
       "    .dataframe thead th {\n",
       "        text-align: right;\n",
       "    }\n",
       "</style>\n",
       "<table border=\"1\" class=\"dataframe\">\n",
       "  <thead>\n",
       "    <tr style=\"text-align: right;\">\n",
       "      <th></th>\n",
       "      <th>children</th>\n",
       "      <th>days_employed</th>\n",
       "      <th>dob_years</th>\n",
       "      <th>education</th>\n",
       "      <th>education_id</th>\n",
       "      <th>family_status</th>\n",
       "      <th>family_status_id</th>\n",
       "      <th>gender</th>\n",
       "      <th>income_type</th>\n",
       "      <th>debt</th>\n",
       "      <th>total_income</th>\n",
       "      <th>purpose</th>\n",
       "    </tr>\n",
       "  </thead>\n",
       "  <tbody>\n",
       "    <tr>\n",
       "      <th>0</th>\n",
       "      <td>1</td>\n",
       "      <td>-8437.673028</td>\n",
       "      <td>42</td>\n",
       "      <td>bachelor's degree</td>\n",
       "      <td>0</td>\n",
       "      <td>married</td>\n",
       "      <td>0</td>\n",
       "      <td>F</td>\n",
       "      <td>employee</td>\n",
       "      <td>0</td>\n",
       "      <td>40620.102</td>\n",
       "      <td>purchase of the house</td>\n",
       "    </tr>\n",
       "    <tr>\n",
       "      <th>1</th>\n",
       "      <td>1</td>\n",
       "      <td>-4024.803754</td>\n",
       "      <td>36</td>\n",
       "      <td>secondary education</td>\n",
       "      <td>1</td>\n",
       "      <td>married</td>\n",
       "      <td>0</td>\n",
       "      <td>F</td>\n",
       "      <td>employee</td>\n",
       "      <td>0</td>\n",
       "      <td>17932.802</td>\n",
       "      <td>car purchase</td>\n",
       "    </tr>\n",
       "    <tr>\n",
       "      <th>2</th>\n",
       "      <td>0</td>\n",
       "      <td>-5623.422610</td>\n",
       "      <td>33</td>\n",
       "      <td>Secondary Education</td>\n",
       "      <td>1</td>\n",
       "      <td>married</td>\n",
       "      <td>0</td>\n",
       "      <td>M</td>\n",
       "      <td>employee</td>\n",
       "      <td>0</td>\n",
       "      <td>23341.752</td>\n",
       "      <td>purchase of the house</td>\n",
       "    </tr>\n",
       "    <tr>\n",
       "      <th>3</th>\n",
       "      <td>3</td>\n",
       "      <td>-4124.747207</td>\n",
       "      <td>32</td>\n",
       "      <td>secondary education</td>\n",
       "      <td>1</td>\n",
       "      <td>married</td>\n",
       "      <td>0</td>\n",
       "      <td>M</td>\n",
       "      <td>employee</td>\n",
       "      <td>0</td>\n",
       "      <td>42820.568</td>\n",
       "      <td>supplementary education</td>\n",
       "    </tr>\n",
       "    <tr>\n",
       "      <th>4</th>\n",
       "      <td>0</td>\n",
       "      <td>340266.072047</td>\n",
       "      <td>53</td>\n",
       "      <td>secondary education</td>\n",
       "      <td>1</td>\n",
       "      <td>civil partnership</td>\n",
       "      <td>1</td>\n",
       "      <td>F</td>\n",
       "      <td>retiree</td>\n",
       "      <td>0</td>\n",
       "      <td>25378.572</td>\n",
       "      <td>to have a wedding</td>\n",
       "    </tr>\n",
       "  </tbody>\n",
       "</table>\n",
       "</div>"
      ],
      "text/plain": [
       "   children  days_employed  dob_years            education  education_id  \\\n",
       "0         1   -8437.673028         42    bachelor's degree             0   \n",
       "1         1   -4024.803754         36  secondary education             1   \n",
       "2         0   -5623.422610         33  Secondary Education             1   \n",
       "3         3   -4124.747207         32  secondary education             1   \n",
       "4         0  340266.072047         53  secondary education             1   \n",
       "\n",
       "       family_status  family_status_id gender income_type  debt  total_income  \\\n",
       "0            married                 0      F    employee     0     40620.102   \n",
       "1            married                 0      F    employee     0     17932.802   \n",
       "2            married                 0      M    employee     0     23341.752   \n",
       "3            married                 0      M    employee     0     42820.568   \n",
       "4  civil partnership                 1      F     retiree     0     25378.572   \n",
       "\n",
       "                   purpose  \n",
       "0    purchase of the house  \n",
       "1             car purchase  \n",
       "2    purchase of the house  \n",
       "3  supplementary education  \n",
       "4        to have a wedding  "
      ]
     },
     "execution_count": 4,
     "metadata": {},
     "output_type": "execute_result"
    }
   ],
   "source": [
    " # vamos a mostrar las primeras filas N\n",
    "\n",
    "credit.head()\n"
   ]
  },
  {
   "cell_type": "markdown",
   "metadata": {},
   "source": [
    "### Análisis de la exploración de datos.\n",
    "\n",
    "Al observar la muestra de datos mostrada en la pantalla, noto lo siguiente:\n",
    "\n",
    " 1. Las columnas \"children\", \"dob_years\", \"education\", \"family_status\",  \"gender\", debt e \"income_type\" parecen contener valores válidos, corresponde con su tipo de datos.\n",
    "\n",
    " 2. La columna \"days_employed\" muestra la experiencia laboral del cliente en días. Sin embargo, noto que algunos valores son negativos y otros son extremadamente altos, como el valor 340266.072047 en la fila 4. Esto parece indicar que hay problemas con los datos en esta columna que requerirían investigación y posiblemente cambios adicionales.\n",
    "\n",
    " 3. La columna \"total_income\" representa el ingreso mensual del cliente. Al igual que con la columna \"days_employed\", noto que hay valores ausentes en esta columna que requerirían investigación y posiblemente cambios adicionales.\n",
    "\n",
    "En resumen, hay algunos problemas en las columnas \"days_employed\" y \"total_income\" que necesitan ser investigados y tratados, ya que contienen valores negativos y ausentes.  Además, sería importante verificar si hay valores atípicos o errores en otras columnas y abordarlos si es necesario para garantizar la calidad y precisión de los datos antes de realizar análisis adicionales.\n"
   ]
  },
  {
   "cell_type": "code",
   "execution_count": 5,
   "metadata": {
    "scrolled": false
   },
   "outputs": [
    {
     "name": "stdout",
     "output_type": "stream",
     "text": [
      "<class 'pandas.core.frame.DataFrame'>\n",
      "RangeIndex: 21525 entries, 0 to 21524\n",
      "Data columns (total 12 columns):\n",
      " #   Column            Non-Null Count  Dtype  \n",
      "---  ------            --------------  -----  \n",
      " 0   children          21525 non-null  int64  \n",
      " 1   days_employed     19351 non-null  float64\n",
      " 2   dob_years         21525 non-null  int64  \n",
      " 3   education         21525 non-null  object \n",
      " 4   education_id      21525 non-null  int64  \n",
      " 5   family_status     21525 non-null  object \n",
      " 6   family_status_id  21525 non-null  int64  \n",
      " 7   gender            21525 non-null  object \n",
      " 8   income_type       21525 non-null  object \n",
      " 9   debt              21525 non-null  int64  \n",
      " 10  total_income      19351 non-null  float64\n",
      " 11  purpose           21525 non-null  object \n",
      "dtypes: float64(2), int64(5), object(5)\n",
      "memory usage: 2.0+ MB\n"
     ]
    },
    {
     "data": {
      "text/plain": [
       "None"
      ]
     },
     "metadata": {},
     "output_type": "display_data"
    },
    {
     "data": {
      "text/html": [
       "<div>\n",
       "<style scoped>\n",
       "    .dataframe tbody tr th:only-of-type {\n",
       "        vertical-align: middle;\n",
       "    }\n",
       "\n",
       "    .dataframe tbody tr th {\n",
       "        vertical-align: top;\n",
       "    }\n",
       "\n",
       "    .dataframe thead th {\n",
       "        text-align: right;\n",
       "    }\n",
       "</style>\n",
       "<table border=\"1\" class=\"dataframe\">\n",
       "  <thead>\n",
       "    <tr style=\"text-align: right;\">\n",
       "      <th></th>\n",
       "      <th>children</th>\n",
       "      <th>days_employed</th>\n",
       "      <th>dob_years</th>\n",
       "      <th>education_id</th>\n",
       "      <th>family_status_id</th>\n",
       "      <th>debt</th>\n",
       "      <th>total_income</th>\n",
       "    </tr>\n",
       "  </thead>\n",
       "  <tbody>\n",
       "    <tr>\n",
       "      <th>count</th>\n",
       "      <td>21525.000000</td>\n",
       "      <td>19351.000000</td>\n",
       "      <td>21525.000000</td>\n",
       "      <td>21525.000000</td>\n",
       "      <td>21525.000000</td>\n",
       "      <td>21525.000000</td>\n",
       "      <td>19351.000000</td>\n",
       "    </tr>\n",
       "    <tr>\n",
       "      <th>mean</th>\n",
       "      <td>0.538908</td>\n",
       "      <td>63046.497661</td>\n",
       "      <td>43.293380</td>\n",
       "      <td>0.817236</td>\n",
       "      <td>0.972544</td>\n",
       "      <td>0.080883</td>\n",
       "      <td>26787.568355</td>\n",
       "    </tr>\n",
       "    <tr>\n",
       "      <th>std</th>\n",
       "      <td>1.381587</td>\n",
       "      <td>140827.311974</td>\n",
       "      <td>12.574584</td>\n",
       "      <td>0.548138</td>\n",
       "      <td>1.420324</td>\n",
       "      <td>0.272661</td>\n",
       "      <td>16475.450632</td>\n",
       "    </tr>\n",
       "    <tr>\n",
       "      <th>min</th>\n",
       "      <td>-1.000000</td>\n",
       "      <td>-18388.949901</td>\n",
       "      <td>0.000000</td>\n",
       "      <td>0.000000</td>\n",
       "      <td>0.000000</td>\n",
       "      <td>0.000000</td>\n",
       "      <td>3306.762000</td>\n",
       "    </tr>\n",
       "    <tr>\n",
       "      <th>25%</th>\n",
       "      <td>0.000000</td>\n",
       "      <td>-2747.423625</td>\n",
       "      <td>33.000000</td>\n",
       "      <td>1.000000</td>\n",
       "      <td>0.000000</td>\n",
       "      <td>0.000000</td>\n",
       "      <td>16488.504500</td>\n",
       "    </tr>\n",
       "    <tr>\n",
       "      <th>50%</th>\n",
       "      <td>0.000000</td>\n",
       "      <td>-1203.369529</td>\n",
       "      <td>42.000000</td>\n",
       "      <td>1.000000</td>\n",
       "      <td>0.000000</td>\n",
       "      <td>0.000000</td>\n",
       "      <td>23202.870000</td>\n",
       "    </tr>\n",
       "    <tr>\n",
       "      <th>75%</th>\n",
       "      <td>1.000000</td>\n",
       "      <td>-291.095954</td>\n",
       "      <td>53.000000</td>\n",
       "      <td>1.000000</td>\n",
       "      <td>1.000000</td>\n",
       "      <td>0.000000</td>\n",
       "      <td>32549.611000</td>\n",
       "    </tr>\n",
       "    <tr>\n",
       "      <th>max</th>\n",
       "      <td>20.000000</td>\n",
       "      <td>401755.400475</td>\n",
       "      <td>75.000000</td>\n",
       "      <td>4.000000</td>\n",
       "      <td>4.000000</td>\n",
       "      <td>1.000000</td>\n",
       "      <td>362496.645000</td>\n",
       "    </tr>\n",
       "  </tbody>\n",
       "</table>\n",
       "</div>"
      ],
      "text/plain": [
       "           children  days_employed     dob_years  education_id  \\\n",
       "count  21525.000000   19351.000000  21525.000000  21525.000000   \n",
       "mean       0.538908   63046.497661     43.293380      0.817236   \n",
       "std        1.381587  140827.311974     12.574584      0.548138   \n",
       "min       -1.000000  -18388.949901      0.000000      0.000000   \n",
       "25%        0.000000   -2747.423625     33.000000      1.000000   \n",
       "50%        0.000000   -1203.369529     42.000000      1.000000   \n",
       "75%        1.000000    -291.095954     53.000000      1.000000   \n",
       "max       20.000000  401755.400475     75.000000      4.000000   \n",
       "\n",
       "       family_status_id          debt   total_income  \n",
       "count      21525.000000  21525.000000   19351.000000  \n",
       "mean           0.972544      0.080883   26787.568355  \n",
       "std            1.420324      0.272661   16475.450632  \n",
       "min            0.000000      0.000000    3306.762000  \n",
       "25%            0.000000      0.000000   16488.504500  \n",
       "50%            0.000000      0.000000   23202.870000  \n",
       "75%            1.000000      0.000000   32549.611000  \n",
       "max            4.000000      1.000000  362496.645000  "
      ]
     },
     "metadata": {},
     "output_type": "display_data"
    }
   ],
   "source": [
    "# Obtener información sobre los datos\n",
    "display(credit.info())\n",
    "display(credit.describe())"
   ]
  },
  {
   "cell_type": "markdown",
   "metadata": {},
   "source": [
    " \n",
    " \n",
    "Obtuve información de los datos usando el método info en donde observo una tabla que contiene 12 Columnas con un total de 21525 registros.\n",
    "\n",
    "Se observa las siguientes problemas:\n",
    "1. Corroboramos que las columnas  'days_employed' y 'total_income' contienen valores ausentes.\n",
    "2. En la descripción de los datos se observa valores negativos en children y days_employed.\n",
    "3. valores atipicos como el máximo de días trabajados en la variable de days_employed."
   ]
  },
  {
   "cell_type": "code",
   "execution_count": 6,
   "metadata": {
    "scrolled": true
   },
   "outputs": [
    {
     "data": {
      "text/html": [
       "<div>\n",
       "<style scoped>\n",
       "    .dataframe tbody tr th:only-of-type {\n",
       "        vertical-align: middle;\n",
       "    }\n",
       "\n",
       "    .dataframe tbody tr th {\n",
       "        vertical-align: top;\n",
       "    }\n",
       "\n",
       "    .dataframe thead th {\n",
       "        text-align: right;\n",
       "    }\n",
       "</style>\n",
       "<table border=\"1\" class=\"dataframe\">\n",
       "  <thead>\n",
       "    <tr style=\"text-align: right;\">\n",
       "      <th></th>\n",
       "      <th>children</th>\n",
       "      <th>days_employed</th>\n",
       "      <th>dob_years</th>\n",
       "      <th>education</th>\n",
       "      <th>education_id</th>\n",
       "      <th>family_status</th>\n",
       "      <th>family_status_id</th>\n",
       "      <th>gender</th>\n",
       "      <th>income_type</th>\n",
       "      <th>debt</th>\n",
       "      <th>total_income</th>\n",
       "      <th>purpose</th>\n",
       "    </tr>\n",
       "  </thead>\n",
       "  <tbody>\n",
       "    <tr>\n",
       "      <th>12</th>\n",
       "      <td>0</td>\n",
       "      <td>NaN</td>\n",
       "      <td>65</td>\n",
       "      <td>secondary education</td>\n",
       "      <td>1</td>\n",
       "      <td>civil partnership</td>\n",
       "      <td>1</td>\n",
       "      <td>M</td>\n",
       "      <td>retiree</td>\n",
       "      <td>0</td>\n",
       "      <td>NaN</td>\n",
       "      <td>to have a wedding</td>\n",
       "    </tr>\n",
       "    <tr>\n",
       "      <th>26</th>\n",
       "      <td>0</td>\n",
       "      <td>NaN</td>\n",
       "      <td>41</td>\n",
       "      <td>secondary education</td>\n",
       "      <td>1</td>\n",
       "      <td>married</td>\n",
       "      <td>0</td>\n",
       "      <td>M</td>\n",
       "      <td>civil servant</td>\n",
       "      <td>0</td>\n",
       "      <td>NaN</td>\n",
       "      <td>education</td>\n",
       "    </tr>\n",
       "    <tr>\n",
       "      <th>29</th>\n",
       "      <td>0</td>\n",
       "      <td>NaN</td>\n",
       "      <td>63</td>\n",
       "      <td>secondary education</td>\n",
       "      <td>1</td>\n",
       "      <td>unmarried</td>\n",
       "      <td>4</td>\n",
       "      <td>F</td>\n",
       "      <td>retiree</td>\n",
       "      <td>0</td>\n",
       "      <td>NaN</td>\n",
       "      <td>building a real estate</td>\n",
       "    </tr>\n",
       "    <tr>\n",
       "      <th>41</th>\n",
       "      <td>0</td>\n",
       "      <td>NaN</td>\n",
       "      <td>50</td>\n",
       "      <td>secondary education</td>\n",
       "      <td>1</td>\n",
       "      <td>married</td>\n",
       "      <td>0</td>\n",
       "      <td>F</td>\n",
       "      <td>civil servant</td>\n",
       "      <td>0</td>\n",
       "      <td>NaN</td>\n",
       "      <td>second-hand car purchase</td>\n",
       "    </tr>\n",
       "    <tr>\n",
       "      <th>55</th>\n",
       "      <td>0</td>\n",
       "      <td>NaN</td>\n",
       "      <td>54</td>\n",
       "      <td>secondary education</td>\n",
       "      <td>1</td>\n",
       "      <td>civil partnership</td>\n",
       "      <td>1</td>\n",
       "      <td>F</td>\n",
       "      <td>retiree</td>\n",
       "      <td>1</td>\n",
       "      <td>NaN</td>\n",
       "      <td>to have a wedding</td>\n",
       "    </tr>\n",
       "    <tr>\n",
       "      <th>...</th>\n",
       "      <td>...</td>\n",
       "      <td>...</td>\n",
       "      <td>...</td>\n",
       "      <td>...</td>\n",
       "      <td>...</td>\n",
       "      <td>...</td>\n",
       "      <td>...</td>\n",
       "      <td>...</td>\n",
       "      <td>...</td>\n",
       "      <td>...</td>\n",
       "      <td>...</td>\n",
       "      <td>...</td>\n",
       "    </tr>\n",
       "    <tr>\n",
       "      <th>21489</th>\n",
       "      <td>2</td>\n",
       "      <td>NaN</td>\n",
       "      <td>47</td>\n",
       "      <td>Secondary Education</td>\n",
       "      <td>1</td>\n",
       "      <td>married</td>\n",
       "      <td>0</td>\n",
       "      <td>M</td>\n",
       "      <td>business</td>\n",
       "      <td>0</td>\n",
       "      <td>NaN</td>\n",
       "      <td>purchase of a car</td>\n",
       "    </tr>\n",
       "    <tr>\n",
       "      <th>21495</th>\n",
       "      <td>1</td>\n",
       "      <td>NaN</td>\n",
       "      <td>50</td>\n",
       "      <td>secondary education</td>\n",
       "      <td>1</td>\n",
       "      <td>civil partnership</td>\n",
       "      <td>1</td>\n",
       "      <td>F</td>\n",
       "      <td>employee</td>\n",
       "      <td>0</td>\n",
       "      <td>NaN</td>\n",
       "      <td>wedding ceremony</td>\n",
       "    </tr>\n",
       "    <tr>\n",
       "      <th>21497</th>\n",
       "      <td>0</td>\n",
       "      <td>NaN</td>\n",
       "      <td>48</td>\n",
       "      <td>BACHELOR'S DEGREE</td>\n",
       "      <td>0</td>\n",
       "      <td>married</td>\n",
       "      <td>0</td>\n",
       "      <td>F</td>\n",
       "      <td>business</td>\n",
       "      <td>0</td>\n",
       "      <td>NaN</td>\n",
       "      <td>building a property</td>\n",
       "    </tr>\n",
       "    <tr>\n",
       "      <th>21502</th>\n",
       "      <td>1</td>\n",
       "      <td>NaN</td>\n",
       "      <td>42</td>\n",
       "      <td>secondary education</td>\n",
       "      <td>1</td>\n",
       "      <td>married</td>\n",
       "      <td>0</td>\n",
       "      <td>F</td>\n",
       "      <td>employee</td>\n",
       "      <td>0</td>\n",
       "      <td>NaN</td>\n",
       "      <td>building a real estate</td>\n",
       "    </tr>\n",
       "    <tr>\n",
       "      <th>21510</th>\n",
       "      <td>2</td>\n",
       "      <td>NaN</td>\n",
       "      <td>28</td>\n",
       "      <td>secondary education</td>\n",
       "      <td>1</td>\n",
       "      <td>married</td>\n",
       "      <td>0</td>\n",
       "      <td>F</td>\n",
       "      <td>employee</td>\n",
       "      <td>0</td>\n",
       "      <td>NaN</td>\n",
       "      <td>car purchase</td>\n",
       "    </tr>\n",
       "  </tbody>\n",
       "</table>\n",
       "<p>2174 rows × 12 columns</p>\n",
       "</div>"
      ],
      "text/plain": [
       "       children  days_employed  dob_years            education  education_id  \\\n",
       "12            0            NaN         65  secondary education             1   \n",
       "26            0            NaN         41  secondary education             1   \n",
       "29            0            NaN         63  secondary education             1   \n",
       "41            0            NaN         50  secondary education             1   \n",
       "55            0            NaN         54  secondary education             1   \n",
       "...         ...            ...        ...                  ...           ...   \n",
       "21489         2            NaN         47  Secondary Education             1   \n",
       "21495         1            NaN         50  secondary education             1   \n",
       "21497         0            NaN         48    BACHELOR'S DEGREE             0   \n",
       "21502         1            NaN         42  secondary education             1   \n",
       "21510         2            NaN         28  secondary education             1   \n",
       "\n",
       "           family_status  family_status_id gender    income_type  debt  \\\n",
       "12     civil partnership                 1      M        retiree     0   \n",
       "26               married                 0      M  civil servant     0   \n",
       "29             unmarried                 4      F        retiree     0   \n",
       "41               married                 0      F  civil servant     0   \n",
       "55     civil partnership                 1      F        retiree     1   \n",
       "...                  ...               ...    ...            ...   ...   \n",
       "21489            married                 0      M       business     0   \n",
       "21495  civil partnership                 1      F       employee     0   \n",
       "21497            married                 0      F       business     0   \n",
       "21502            married                 0      F       employee     0   \n",
       "21510            married                 0      F       employee     0   \n",
       "\n",
       "       total_income                   purpose  \n",
       "12              NaN         to have a wedding  \n",
       "26              NaN                 education  \n",
       "29              NaN    building a real estate  \n",
       "41              NaN  second-hand car purchase  \n",
       "55              NaN         to have a wedding  \n",
       "...             ...                       ...  \n",
       "21489           NaN         purchase of a car  \n",
       "21495           NaN          wedding ceremony  \n",
       "21497           NaN       building a property  \n",
       "21502           NaN    building a real estate  \n",
       "21510           NaN              car purchase  \n",
       "\n",
       "[2174 rows x 12 columns]"
      ]
     },
     "metadata": {},
     "output_type": "display_data"
    }
   ],
   "source": [
    "# Veamos la tabla filtrada con valores ausentes de la primera columna donde faltan datos\n",
    "credit_day_na = credit[credit['days_employed'].isna()]\n",
    "display(credit_day_na)\n"
   ]
  },
  {
   "cell_type": "code",
   "execution_count": 7,
   "metadata": {},
   "outputs": [
    {
     "data": {
      "text/plain": [
       "2174"
      ]
     },
     "execution_count": 7,
     "metadata": {},
     "output_type": "execute_result"
    }
   ],
   "source": [
    "credit_na = credit[credit['days_employed'].isna()&\n",
    "             credit['total_income'].isna()]\n",
    "credit_na.shape[0]                "
   ]
  },
  {
   "cell_type": "markdown",
   "metadata": {},
   "source": [
    "<div class=\"alert alert-block alert-success\">\n",
    "<b>Comentario del revisor</b> <a class=\"tocSkip\"></a>\n",
    "    \n",
    "Bien hecho.\n",
    "</div>"
   ]
  },
  {
   "cell_type": "markdown",
   "metadata": {},
   "source": [
    "La columna \"days_employed\" tiene valores ausentes (NaN) para varias filas de la tabla.\n",
    "\n",
    "También parece que la columna \"total_income\" tiene valores ausentes (NaN) para las mismas filas que la columna \"days_employed\".\n",
    "\n",
    "Otras columnas también tienen valores ausentes (NaN) en algunas filas, como \"total_income\", \"purpose\", entre otras.\n",
    "\n",
    "Es interesante notar que las filas con valores ausentes en \"days_employed\" también tienen valores ausentes en \"total_income\". Esto puede indicar que hay un problema con la recolección de datos o alguna otra razón por la cual estos valores están faltando en conjunto.\n",
    "\n",
    "Las filas con valores ausentes en \"days_employed\" y \"total_income\" también tienen valores ausentes en otras columnas, como \"gender\", \"family_status_id\", \"debt\", entre otras.\n",
    "\n",
    "Dado que varios campos tienen valores ausentes en estas filas, es importante investigar la causa de estos valores faltantes y determinar cómo manejarlos adecuadamente para el análisis de datos. Algunas posibles acciones a considerar son la imputación de valores ausentes utilizando la mediana o la media, la eliminación de las filas con valores ausentes o el uso de técnicas de análisis más avanzadas para tratar con datos faltantes."
   ]
  },
  {
   "cell_type": "code",
   "execution_count": 8,
   "metadata": {},
   "outputs": [
    {
     "data": {
      "text/plain": [
       "2174"
      ]
     },
     "metadata": {},
     "output_type": "display_data"
    }
   ],
   "source": [
    "filtered_data = credit[(credit['days_employed'].isna()) & (credit['total_income'].isna())]\n",
    "display(filtered_data.shape[0])"
   ]
  },
  {
   "cell_type": "code",
   "execution_count": 9,
   "metadata": {},
   "outputs": [
    {
     "data": {
      "text/plain": [
       "10.099883855981417"
      ]
     },
     "execution_count": 9,
     "metadata": {},
     "output_type": "execute_result"
    }
   ],
   "source": [
    "day_employed_nan = credit['days_employed'].isna().sum()\n",
    "\n",
    "# Calcula el porcentaje de valores ausentes\n",
    "porcentaje_nan = (day_employed_nan / len(credit)) * 100\n",
    "porcentaje_nan"
   ]
  },
  {
   "cell_type": "markdown",
   "metadata": {},
   "source": [
    "**Conclusión intermedia**\n",
    "\n",
    "El número de filas en la tabla filtrada (2174) coincide con el número de valores ausentes en las columnas \"days_employed\" y \"total_income\". Esto indica que todos los registros que tienen datos faltantes en una de estas columnas también tienen datos faltantes en la otra columna.\n",
    "\n",
    "Este porcentaje (aproximadamente 10.09%) indica que una porción significativa de los datos tiene valores ausentes. Aunque no es un valor extremo, justifica la necesidad de abordarlos razonablmente.\n",
    "Hay que examinar las caracteristicas del cliente para poder entender si la razón de estos faltantes es que siguen algún patrón o son aleatorios.\n",
    "\n",
    "Los próximos pasos implicarían:\n",
    "\n",
    " 1. Identificar posibles razones para los valores ausentes en las columnas \"days_employed\" y \"total_income\" mediante el análisis de características específicas de los clientes.\n",
    " 2. Verificar si la presencia de valores ausentes en estas columnas está correlacionada con otras características de los clientes.\n",
    "3. Decidir una estrategia de imputación para completar los valores ausentes. Esto podría implicar utilizar la mediana o la media de la columna."
   ]
  },
  {
   "cell_type": "markdown",
   "metadata": {},
   "source": [
    "<div class=\"alert alert-block alert-success\">\n",
    "<b>Comentario del revisor</b> <a class=\"tocSkip\"></a>\n",
    "    \n",
    "Muy buen trabajo realizado en esta sección. \n",
    "</div>"
   ]
  },
  {
   "cell_type": "code",
   "execution_count": 10,
   "metadata": {},
   "outputs": [
    {
     "data": {
      "text/plain": [
       "\"Número de filas con valores ausentes en 'days_employed':\""
      ]
     },
     "metadata": {},
     "output_type": "display_data"
    },
    {
     "data": {
      "text/plain": [
       "2174"
      ]
     },
     "metadata": {},
     "output_type": "display_data"
    },
    {
     "data": {
      "text/html": [
       "<div>\n",
       "<style scoped>\n",
       "    .dataframe tbody tr th:only-of-type {\n",
       "        vertical-align: middle;\n",
       "    }\n",
       "\n",
       "    .dataframe tbody tr th {\n",
       "        vertical-align: top;\n",
       "    }\n",
       "\n",
       "    .dataframe thead th {\n",
       "        text-align: right;\n",
       "    }\n",
       "</style>\n",
       "<table border=\"1\" class=\"dataframe\">\n",
       "  <thead>\n",
       "    <tr style=\"text-align: right;\">\n",
       "      <th></th>\n",
       "      <th>children</th>\n",
       "      <th>days_employed</th>\n",
       "      <th>dob_years</th>\n",
       "      <th>education</th>\n",
       "      <th>education_id</th>\n",
       "      <th>family_status</th>\n",
       "      <th>family_status_id</th>\n",
       "      <th>gender</th>\n",
       "      <th>income_type</th>\n",
       "      <th>debt</th>\n",
       "      <th>total_income</th>\n",
       "      <th>purpose</th>\n",
       "    </tr>\n",
       "  </thead>\n",
       "  <tbody>\n",
       "    <tr>\n",
       "      <th>12</th>\n",
       "      <td>0</td>\n",
       "      <td>NaN</td>\n",
       "      <td>65</td>\n",
       "      <td>secondary education</td>\n",
       "      <td>1</td>\n",
       "      <td>civil partnership</td>\n",
       "      <td>1</td>\n",
       "      <td>M</td>\n",
       "      <td>retiree</td>\n",
       "      <td>0</td>\n",
       "      <td>NaN</td>\n",
       "      <td>to have a wedding</td>\n",
       "    </tr>\n",
       "    <tr>\n",
       "      <th>26</th>\n",
       "      <td>0</td>\n",
       "      <td>NaN</td>\n",
       "      <td>41</td>\n",
       "      <td>secondary education</td>\n",
       "      <td>1</td>\n",
       "      <td>married</td>\n",
       "      <td>0</td>\n",
       "      <td>M</td>\n",
       "      <td>civil servant</td>\n",
       "      <td>0</td>\n",
       "      <td>NaN</td>\n",
       "      <td>education</td>\n",
       "    </tr>\n",
       "    <tr>\n",
       "      <th>29</th>\n",
       "      <td>0</td>\n",
       "      <td>NaN</td>\n",
       "      <td>63</td>\n",
       "      <td>secondary education</td>\n",
       "      <td>1</td>\n",
       "      <td>unmarried</td>\n",
       "      <td>4</td>\n",
       "      <td>F</td>\n",
       "      <td>retiree</td>\n",
       "      <td>0</td>\n",
       "      <td>NaN</td>\n",
       "      <td>building a real estate</td>\n",
       "    </tr>\n",
       "    <tr>\n",
       "      <th>41</th>\n",
       "      <td>0</td>\n",
       "      <td>NaN</td>\n",
       "      <td>50</td>\n",
       "      <td>secondary education</td>\n",
       "      <td>1</td>\n",
       "      <td>married</td>\n",
       "      <td>0</td>\n",
       "      <td>F</td>\n",
       "      <td>civil servant</td>\n",
       "      <td>0</td>\n",
       "      <td>NaN</td>\n",
       "      <td>second-hand car purchase</td>\n",
       "    </tr>\n",
       "    <tr>\n",
       "      <th>55</th>\n",
       "      <td>0</td>\n",
       "      <td>NaN</td>\n",
       "      <td>54</td>\n",
       "      <td>secondary education</td>\n",
       "      <td>1</td>\n",
       "      <td>civil partnership</td>\n",
       "      <td>1</td>\n",
       "      <td>F</td>\n",
       "      <td>retiree</td>\n",
       "      <td>1</td>\n",
       "      <td>NaN</td>\n",
       "      <td>to have a wedding</td>\n",
       "    </tr>\n",
       "  </tbody>\n",
       "</table>\n",
       "</div>"
      ],
      "text/plain": [
       "    children  days_employed  dob_years            education  education_id  \\\n",
       "12         0            NaN         65  secondary education             1   \n",
       "26         0            NaN         41  secondary education             1   \n",
       "29         0            NaN         63  secondary education             1   \n",
       "41         0            NaN         50  secondary education             1   \n",
       "55         0            NaN         54  secondary education             1   \n",
       "\n",
       "        family_status  family_status_id gender    income_type  debt  \\\n",
       "12  civil partnership                 1      M        retiree     0   \n",
       "26            married                 0      M  civil servant     0   \n",
       "29          unmarried                 4      F        retiree     0   \n",
       "41            married                 0      F  civil servant     0   \n",
       "55  civil partnership                 1      F        retiree     1   \n",
       "\n",
       "    total_income                   purpose  \n",
       "12           NaN         to have a wedding  \n",
       "26           NaN                 education  \n",
       "29           NaN    building a real estate  \n",
       "41           NaN  second-hand car purchase  \n",
       "55           NaN         to have a wedding  "
      ]
     },
     "execution_count": 10,
     "metadata": {},
     "output_type": "execute_result"
    }
   ],
   "source": [
    "# Vamos a investigar a los clientes que no tienen datos sobre la característica identificada y la columna con los valores ausentes\n",
    "\n",
    "clientes_nan = credit[credit['days_employed'].isna()]\n",
    "\n",
    "# Imprimir el número de filas en la tabla filtrada\n",
    "display(\"Número de filas con valores ausentes en 'days_employed':\", len(clientes_nan))\n",
    "clientes_nan.head()"
   ]
  },
  {
   "cell_type": "code",
   "execution_count": 11,
   "metadata": {},
   "outputs": [
    {
     "data": {
      "text/plain": [
       "employee         0.508280\n",
       "business         0.233671\n",
       "retiree          0.189972\n",
       "civil servant    0.067617\n",
       "entrepreneur     0.000460\n",
       "Name: income_type, dtype: float64"
      ]
     },
     "execution_count": 11,
     "metadata": {},
     "output_type": "execute_result"
    }
   ],
   "source": [
    "# Miremos cómo se distribuyen los valores de 'income_type' en las filas con valores faltantes en 'days_employed'.\n",
    "credit_day_employed_nan = credit.loc[credit['days_employed'].isna(),'income_type'].value_counts(normalize= True)\n",
    "credit_day_employed_nan"
   ]
  },
  {
   "cell_type": "markdown",
   "metadata": {},
   "source": [
    "Esto significa que el 51% de las filas donde falta el valor en 'days_employed' tienen 'income_type' como 'employee', el 23% tienen 'income_type' como 'business'.\n",
    "\n",
    "Este análisis muestra como se distribuyen los diferentes tipos de ingresos en las filas donde falta la información de 'days_employed', lo que podría proporcionar pistas sobre la naturaleza de los valores ausentes y su posible relación con el tipo de ingreso del cliente."
   ]
  },
  {
   "cell_type": "markdown",
   "metadata": {},
   "source": [
    "**Conclusión intermedia**\n",
    "\n",
    "\n",
    "Los valores ausentes en la columna 'total_income' parecen estar relacionados con la falta de información sobre la experiencia laboral ('days_employed'), ya que el número de filas con valores faltantes en ambas columnas coincide. Esto sugiere que los datos ausentes pueden estar relacionados con la falta de ingresos declarados debido a la falta de información laboral.\n",
    "\n",
    "La distribución de los diferentes tipos de ingresos ('income_type') en las filas con valores faltantes en 'days_employed' muestra que el grupo más representativo es el de empleados ('employee') con alrededor del 51% de las filas con valores faltantes. Esto podría indicar que los valores ausentes en 'days_employed' pueden estar más asociados con los empleados que con otros tipos de ingresos.\n",
    "\n",
    "Según el análisis realizado hasta ahora, podemos identificar algunas posibles razones por las cuales hay valores ausentes:\n",
    "\n",
    " 1. Ingresos no declarados: Los valores ausentes en la columna 'total_income' podrían deberse a que algunos clientes no declararon su ingreso total al momento de proporcionar la información.\n",
    "\n",
    "2. Desempleo: Los valores ausentes en la columna 'days_employed' podrían indicar que algunos clientes están desempleados y, por lo tanto, no tienen información sobre su experiencia laboral.\n",
    "\n",
    "3. Errores de registro: Es posible que algunos valores ausentes sean el resultado de errores de registro.\n",
    "\n",
    "\n",
    "Para comprobar si los valores ausentes son aleatorios o si hay algún patrón, podríamos realizar análisis adicionales para investigar la relación entre la falta de información laboral ('days_employed') y otras caracteristicas, como el estado civil, el tipo de empleo, la educación.\n",
    " "
   ]
  },
  {
   "cell_type": "code",
   "execution_count": 12,
   "metadata": {},
   "outputs": [
    {
     "data": {
      "text/plain": [
       "employee                       0.516562\n",
       "business                       0.236237\n",
       "retiree                        0.179141\n",
       "civil servant                  0.067782\n",
       "unemployed                     0.000093\n",
       "entrepreneur                   0.000093\n",
       "student                        0.000046\n",
       "paternity / maternity leave    0.000046\n",
       "Name: income_type, dtype: float64"
      ]
     },
     "execution_count": 12,
     "metadata": {},
     "output_type": "execute_result"
    }
   ],
   "source": [
    "income_type_distribution = credit['income_type'].value_counts(normalize=True)\n",
    "income_type_distribution"
   ]
  },
  {
   "cell_type": "markdown",
   "metadata": {
    "scrolled": false
   },
   "source": [
    "**Conclusión intermedia**\n",
    "\n",
    "La distribución de los tipos de empleo en el conjunto de datos original es similar a la distribución en la tabla filtrada de valores ausentes en 'days_employed', lo que significa que la presencia de valores ausentes en 'days_employed' no parece depender significativamente del tipo de empleo. Esto sugiere que los valores ausentes en 'days_employed' pueden no estar relacionados directamente con el tipo de empleo del cliente.\n",
    "\n",
    "podríamos comparar los valores de 'days_employed' entre diferentes grupos de clientes para ver si hay alguna diferencia significativa en la experiencia laboral en función de otras características. Por ejemplo, podríamos comparar los días de empleo promedio entre los clientes con diferentes niveles de educación o entre los clientes con diferentes propósitos de préstamo."
   ]
  },
  {
   "cell_type": "code",
   "execution_count": 13,
   "metadata": {},
   "outputs": [
    {
     "data": {
      "text/plain": [
       "'Días de empleo promedio por nivel de educación y propósito de préstamo:'"
      ]
     },
     "metadata": {},
     "output_type": "display_data"
    },
    {
     "data": {
      "text/plain": [
       "education          purpose                                 \n",
       "BACHELOR'S DEGREE  building a property                          -5156.581515\n",
       "                   building a real estate                       67510.208031\n",
       "                   buy commercial real estate                   -4382.444558\n",
       "                   buy real estate                             136497.539116\n",
       "                   buy residential real estate                  -1335.591132\n",
       "                                                                   ...      \n",
       "some college       to own a car                                 -1349.718176\n",
       "                   transactions with commercial real estate     -1167.545171\n",
       "                   transactions with my real estate             15065.596829\n",
       "                   university education                         -2468.220788\n",
       "                   wedding ceremony                             -1827.402290\n",
       "Name: days_employed, Length: 386, dtype: float64"
      ]
     },
     "metadata": {},
     "output_type": "display_data"
    }
   ],
   "source": [
    "# Agrupar por 'education' y 'purpose' y calcular el promedio de 'days_employed' para cada grupo\n",
    "days_employed_by_education_and_purpose = credit.groupby(['education', 'purpose'])['days_employed'].mean()\n",
    "display(\"Días de empleo promedio por nivel de educación y propósito de préstamo:\")\n",
    "display(days_employed_by_education_and_purpose)"
   ]
  },
  {
   "cell_type": "markdown",
   "metadata": {},
   "source": [
    "**Conclusión intermedia**\n",
    "\n",
    "No hay datos suficientes para calcular el promedio: Puede que para ciertas combinaciones de nivel de educación y propósito de préstamo no haya suficientes datos disponibles en la columna 'days_employed' para calcular un promedio significativo.\n",
    "\n",
    "Los valores ausentes están presentes en todas las filas: Si todos los valores de 'days_employed' para una combinación específica de nivel de educación y propósito de préstamo son valores ausentes (NaN), no se puede calcular un promedio válido."
   ]
  },
  {
   "cell_type": "code",
   "execution_count": 14,
   "metadata": {},
   "outputs": [],
   "source": [
    "# Funcion para comparar la distribución de valores faltantes en la columnas con valores ausentes con la distribución del dataframe completa\n",
    "\n",
    "columns_to_verify = [c for c in credit.columns\n",
    "                    if c not in ('total_income','days_employed')]\n",
    "\n",
    "def check_distribution(dataframe,column):\n",
    "    full_counts = dataframe[column].value_counts(normalize= True)\n",
    "    not_na_counts = dataframe.loc[dataframe['total_income'].isna(), column].value_counts(normalize = True)\n",
    "    absdelta = (full_counts - not_na_counts).abs()\n",
    "    \n",
    "    return pd.DataFrame([full_counts, not_na_counts,absdelta], index=['full','not_na','abs_delta'])"
   ]
  },
  {
   "cell_type": "code",
   "execution_count": 15,
   "metadata": {
    "scrolled": true
   },
   "outputs": [
    {
     "data": {
      "text/html": [
       "<div>\n",
       "<style scoped>\n",
       "    .dataframe tbody tr th:only-of-type {\n",
       "        vertical-align: middle;\n",
       "    }\n",
       "\n",
       "    .dataframe tbody tr th {\n",
       "        vertical-align: top;\n",
       "    }\n",
       "\n",
       "    .dataframe thead th {\n",
       "        text-align: right;\n",
       "    }\n",
       "</style>\n",
       "<table border=\"1\" class=\"dataframe\">\n",
       "  <thead>\n",
       "    <tr style=\"text-align: right;\">\n",
       "      <th></th>\n",
       "      <th>-1</th>\n",
       "      <th>0</th>\n",
       "      <th>1</th>\n",
       "      <th>2</th>\n",
       "      <th>3</th>\n",
       "      <th>4</th>\n",
       "      <th>5</th>\n",
       "      <th>20</th>\n",
       "    </tr>\n",
       "  </thead>\n",
       "  <tbody>\n",
       "    <tr>\n",
       "      <th>full</th>\n",
       "      <td>0.002184</td>\n",
       "      <td>0.657329</td>\n",
       "      <td>0.223833</td>\n",
       "      <td>0.095470</td>\n",
       "      <td>0.015331</td>\n",
       "      <td>0.001905</td>\n",
       "      <td>0.000418</td>\n",
       "      <td>0.003531</td>\n",
       "    </tr>\n",
       "    <tr>\n",
       "      <th>not_na</th>\n",
       "      <td>0.001380</td>\n",
       "      <td>0.661914</td>\n",
       "      <td>0.218491</td>\n",
       "      <td>0.093836</td>\n",
       "      <td>0.016559</td>\n",
       "      <td>0.003220</td>\n",
       "      <td>0.000460</td>\n",
       "      <td>0.004140</td>\n",
       "    </tr>\n",
       "    <tr>\n",
       "      <th>abs_delta</th>\n",
       "      <td>0.000804</td>\n",
       "      <td>0.004585</td>\n",
       "      <td>0.005341</td>\n",
       "      <td>0.001634</td>\n",
       "      <td>0.001228</td>\n",
       "      <td>0.001315</td>\n",
       "      <td>0.000042</td>\n",
       "      <td>0.000609</td>\n",
       "    </tr>\n",
       "  </tbody>\n",
       "</table>\n",
       "</div>"
      ],
      "text/plain": [
       "                -1         0         1         2         3         4   \\\n",
       "full       0.002184  0.657329  0.223833  0.095470  0.015331  0.001905   \n",
       "not_na     0.001380  0.661914  0.218491  0.093836  0.016559  0.003220   \n",
       "abs_delta  0.000804  0.004585  0.005341  0.001634  0.001228  0.001315   \n",
       "\n",
       "                 5         20  \n",
       "full       0.000418  0.003531  \n",
       "not_na     0.000460  0.004140  \n",
       "abs_delta  0.000042  0.000609  "
      ]
     },
     "execution_count": 15,
     "metadata": {},
     "output_type": "execute_result"
    }
   ],
   "source": [
    "# Verificando la funcion.\n",
    "check_distribution (credit,'children')"
   ]
  },
  {
   "cell_type": "markdown",
   "metadata": {},
   "source": [
    "Identifiquemos qué columnas tienen la mayor discrepancia en la distribución de valores entre las filas con valores ausentes en 'total_income' y el DataFrame completo. "
   ]
  },
  {
   "cell_type": "code",
   "execution_count": 16,
   "metadata": {},
   "outputs": [
    {
     "data": {
      "text/html": [
       "<div>\n",
       "<style scoped>\n",
       "    .dataframe tbody tr th:only-of-type {\n",
       "        vertical-align: middle;\n",
       "    }\n",
       "\n",
       "    .dataframe tbody tr th {\n",
       "        vertical-align: top;\n",
       "    }\n",
       "\n",
       "    .dataframe thead th {\n",
       "        text-align: right;\n",
       "    }\n",
       "</style>\n",
       "<table border=\"1\" class=\"dataframe\">\n",
       "  <thead>\n",
       "    <tr style=\"text-align: right;\">\n",
       "      <th></th>\n",
       "      <th>column</th>\n",
       "      <th>biggest_change_in</th>\n",
       "      <th>biggest_change_value</th>\n",
       "      <th>description</th>\n",
       "    </tr>\n",
       "  </thead>\n",
       "  <tbody>\n",
       "    <tr>\n",
       "      <th>0</th>\n",
       "      <td>children</td>\n",
       "      <td>1</td>\n",
       "      <td>0.005341</td>\n",
       "      <td>Máximo cambio porcentual:0.53% (en children==...</td>\n",
       "    </tr>\n",
       "    <tr>\n",
       "      <th>1</th>\n",
       "      <td>dob_years</td>\n",
       "      <td>32</td>\n",
       "      <td>0.006674</td>\n",
       "      <td>Máximo cambio porcentual:0.67% (en dob_years=...</td>\n",
       "    </tr>\n",
       "    <tr>\n",
       "      <th>2</th>\n",
       "      <td>education</td>\n",
       "      <td>bachelor's degree</td>\n",
       "      <td>0.008964</td>\n",
       "      <td>Máximo cambio porcentual:0.90% (en education=...</td>\n",
       "    </tr>\n",
       "    <tr>\n",
       "      <th>3</th>\n",
       "      <td>education_id</td>\n",
       "      <td>0</td>\n",
       "      <td>0.005863</td>\n",
       "      <td>Máximo cambio porcentual:0.59% (en education_...</td>\n",
       "    </tr>\n",
       "    <tr>\n",
       "      <th>4</th>\n",
       "      <td>family_status</td>\n",
       "      <td>civil partnership</td>\n",
       "      <td>0.009258</td>\n",
       "      <td>Máximo cambio porcentual:0.93% (en family_sta...</td>\n",
       "    </tr>\n",
       "    <tr>\n",
       "      <th>5</th>\n",
       "      <td>family_status_id</td>\n",
       "      <td>1</td>\n",
       "      <td>0.009258</td>\n",
       "      <td>Máximo cambio porcentual:0.93% (en family_sta...</td>\n",
       "    </tr>\n",
       "    <tr>\n",
       "      <th>6</th>\n",
       "      <td>gender</td>\n",
       "      <td>F</td>\n",
       "      <td>0.021242</td>\n",
       "      <td>Máximo cambio porcentual:2.12% (en gender=='F')</td>\n",
       "    </tr>\n",
       "    <tr>\n",
       "      <th>7</th>\n",
       "      <td>income_type</td>\n",
       "      <td>retiree</td>\n",
       "      <td>0.010832</td>\n",
       "      <td>Máximo cambio porcentual:1.08% (en income_typ...</td>\n",
       "    </tr>\n",
       "    <tr>\n",
       "      <th>8</th>\n",
       "      <td>debt</td>\n",
       "      <td>0</td>\n",
       "      <td>0.002686</td>\n",
       "      <td>Máximo cambio porcentual:0.27% (en debt=='0')</td>\n",
       "    </tr>\n",
       "    <tr>\n",
       "      <th>9</th>\n",
       "      <td>purpose</td>\n",
       "      <td>to buy a car</td>\n",
       "      <td>0.008129</td>\n",
       "      <td>Máximo cambio porcentual:0.81% (en purpose=='...</td>\n",
       "    </tr>\n",
       "  </tbody>\n",
       "</table>\n",
       "</div>"
      ],
      "text/plain": [
       "             column  biggest_change_in  biggest_change_value  \\\n",
       "0          children                  1              0.005341   \n",
       "1         dob_years                 32              0.006674   \n",
       "2         education  bachelor's degree              0.008964   \n",
       "3      education_id                  0              0.005863   \n",
       "4     family_status  civil partnership              0.009258   \n",
       "5  family_status_id                  1              0.009258   \n",
       "6            gender                  F              0.021242   \n",
       "7       income_type            retiree              0.010832   \n",
       "8              debt                  0              0.002686   \n",
       "9           purpose       to buy a car              0.008129   \n",
       "\n",
       "                                         description  \n",
       "0   Máximo cambio porcentual:0.53% (en children==...  \n",
       "1   Máximo cambio porcentual:0.67% (en dob_years=...  \n",
       "2   Máximo cambio porcentual:0.90% (en education=...  \n",
       "3   Máximo cambio porcentual:0.59% (en education_...  \n",
       "4   Máximo cambio porcentual:0.93% (en family_sta...  \n",
       "5   Máximo cambio porcentual:0.93% (en family_sta...  \n",
       "6    Máximo cambio porcentual:2.12% (en gender=='F')  \n",
       "7   Máximo cambio porcentual:1.08% (en income_typ...  \n",
       "8      Máximo cambio porcentual:0.27% (en debt=='0')  \n",
       "9   Máximo cambio porcentual:0.81% (en purpose=='...  "
      ]
     },
     "execution_count": 16,
     "metadata": {},
     "output_type": "execute_result"
    }
   ],
   "source": [
    "data = []\n",
    "\n",
    "for column in columns_to_verify:\n",
    "    results = check_distribution(credit,column)\n",
    "    deltas = results.loc['abs_delta']\n",
    "    biggest_change_name = deltas.idxmax()\n",
    "    biggest_change_value = deltas[biggest_change_name]\n",
    "    text = f\" Máximo cambio porcentual:{biggest_change_value:.02%} (en {column}=='{biggest_change_name}')\"\n",
    "    data.append((column,biggest_change_name,biggest_change_value,text)) \n",
    " \n",
    "changes = pd.DataFrame(data, columns =['column','biggest_change_in','biggest_change_value','description'])\n",
    "changes                                                                     \n",
    "                                                                     "
   ]
  },
  {
   "cell_type": "markdown",
   "metadata": {},
   "source": [
    "**Conclusiones**\n",
    "\n",
    "**Patrones encontrados:** Se observaron diferencias significativas en la distribución de valores entre las filas con valores ausentes en la columna 'total_income' y el DataFrame completo en diversas características de los clientes, como el número de hijos, la edad, el nivel educativo, el estado civil, el género, el tipo de empleo, la presencia de deudas y el propósito del préstamo. Estos patrones sugieren que los valores ausentes pueden no ser aleatorios y podrían estar relacionados con características específicas de los clientes.\n",
    "\n",
    "**Abordar los valores ausentes:** Dado que los valores ausentes pueden estar relacionados con características específicas de los clientes, una estrategia para manejarlos sería completar los valores ausentes utilizando la mediana o la media de 'total_income' y 'days_employed'\n",
    "\n",
    "Próximos pasos en la transformación de datos: Manejar duplicados, completar valores ausentes y verificación de los datos."
   ]
  },
  {
   "cell_type": "markdown",
   "metadata": {},
   "source": [
    "<div class=\"alert alert-block alert-success\">\n",
    "<b>Comentario del revisor</b> <a class=\"tocSkip\"></a>\n",
    "    \n",
    "Excelente trabajo en esta sección. Abordaste las columnas e identificaste posibles patrones de los datos ausentes. En un futuro podrás investigar más a fondo si tus datos son MAR (missing at random), MCAR (missing completely at random) o MNAR (missing not at random).\n",
    "</div>"
   ]
  },
  {
   "cell_type": "markdown",
   "metadata": {},
   "source": [
    "## Transformación de datos\n"
   ]
  },
  {
   "cell_type": "code",
   "execution_count": 17,
   "metadata": {},
   "outputs": [
    {
     "data": {
      "text/plain": [
       "secondary education    13750\n",
       "bachelor's degree       4718\n",
       "SECONDARY EDUCATION      772\n",
       "Secondary Education      711\n",
       "some college             668\n",
       "BACHELOR'S DEGREE        274\n",
       "Bachelor's Degree        268\n",
       "primary education        250\n",
       "Some College              47\n",
       "SOME COLLEGE              29\n",
       "PRIMARY EDUCATION         17\n",
       "Primary Education         15\n",
       "graduate degree            4\n",
       "Graduate Degree            1\n",
       "GRADUATE DEGREE            1\n",
       "Name: education, dtype: int64"
      ]
     },
     "execution_count": 17,
     "metadata": {},
     "output_type": "execute_result"
    }
   ],
   "source": [
    "# Veamos todos los valores en la columna de educación para verificar si será necesario corregir la ortografía y qué habrá que corregir exactamente\n",
    "credit['education'].value_counts()"
   ]
  },
  {
   "cell_type": "code",
   "execution_count": 18,
   "metadata": {
    "scrolled": true
   },
   "outputs": [
    {
     "data": {
      "text/plain": [
       "secondary education    15233\n",
       "bachelor's degree       5260\n",
       "some college             744\n",
       "primary education        282\n",
       "graduate degree            6\n",
       "Name: education, dtype: int64"
      ]
     },
     "execution_count": 18,
     "metadata": {},
     "output_type": "execute_result"
    }
   ],
   "source": [
    "# Arregla los registros si es necesario\n",
    "\n",
    "credit['education'] = credit['education'].str.lower()\n",
    "credit['education'].value_counts()\n"
   ]
  },
  {
   "cell_type": "code",
   "execution_count": 19,
   "metadata": {},
   "outputs": [],
   "source": [
    "credit['education'].replace({\n",
    "    \"secondary education\": \"secondary_education\",\n",
    "    \"some college\": \"some_college\",\n",
    "    \"bachelor's degree\": \"bachelor_degree\",\n",
    "    \"primary education\": \"primary_education\",\n",
    "    \"graduate degree\": \"graduate_degree\"\n",
    "}, inplace=True)"
   ]
  },
  {
   "cell_type": "markdown",
   "metadata": {},
   "source": [
    "<div class=\"alert alert-block alert-success\">\n",
    "<b>Comentario del revisor</b> <a class=\"tocSkip\"></a>\n",
    "    \n",
    "Buen trabajo.\n",
    "</div>"
   ]
  },
  {
   "cell_type": "code",
   "execution_count": 20,
   "metadata": {},
   "outputs": [
    {
     "data": {
      "text/plain": [
       "secondary_education    15233\n",
       "bachelor_degree         5260\n",
       "some_college             744\n",
       "primary_education        282\n",
       "graduate_degree            6\n",
       "Name: education, dtype: int64"
      ]
     },
     "execution_count": 20,
     "metadata": {},
     "output_type": "execute_result"
    }
   ],
   "source": [
    "# Comprobar todos los valores en la columna para asegurarnos de que los hayamos corregido\n",
    "\n",
    "credit['education'].value_counts()"
   ]
  },
  {
   "cell_type": "markdown",
   "metadata": {},
   "source": [
    "**Verificando datos de la columna 'children'**"
   ]
  },
  {
   "cell_type": "code",
   "execution_count": 21,
   "metadata": {},
   "outputs": [
    {
     "data": {
      "text/plain": [
       " 0     0.657329\n",
       " 1     0.223833\n",
       " 2     0.095470\n",
       " 3     0.015331\n",
       " 20    0.003531\n",
       "-1     0.002184\n",
       " 4     0.001905\n",
       " 5     0.000418\n",
       "Name: children, dtype: float64"
      ]
     },
     "execution_count": 21,
     "metadata": {},
     "output_type": "execute_result"
    }
   ],
   "source": [
    "# Veamos la distribución de los valores en la columna `children`\n",
    "children_distribution = credit['children'].value_counts(normalize= True)\n",
    "children_distribution"
   ]
  },
  {
   "cell_type": "markdown",
   "metadata": {},
   "source": [
    "En la columna children, se observan dos valores que pueden considerarse extraños y potencialmente problemáticos: el valor 20 y el valor -1. Ambos valores son atípicos y poco probables en el contexto del número de hijos en una familia.\n",
    "\n",
    "El valor 20 representa aproximadamente el 0.35% de los datos, mientras que el valor -1 representa aproximadamente el 0.22% de los datos. En conjunto, estos dos valores problemáticos representan aproximadamente el 0.57% de los datos en la columna children.\n",
    "\n",
    "Es posible que estos datos incorrectos hayan ocurrido debido a errores humanos o problemas en el proceso de recopilación de datos. \n",
    "\n",
    "Dado que estos valores representan solo un pequeño porcentaje del conjunto de datos, una opción razonable sería o corregirlos. Podemos reemplazar el valor 20 con 2 (asumiendo que es un error tipográfico) y modificar el valor -1 asignándole la mediana de toda la columna."
   ]
  },
  {
   "cell_type": "code",
   "execution_count": 22,
   "metadata": {},
   "outputs": [],
   "source": [
    "# Reemplazar el valor 20 con 2\n",
    "credit['children'] = credit['children'].replace(20, 2)\n",
    "\n",
    "# Obtener la mediana de la columna 'children' excluyendo el valor -1\n",
    "children_median = credit[credit['children'] != -1]['children'].median()\n",
    "\n",
    "# Reemplazar los valores -1 en la columna 'children' con la mediana\n",
    "credit['children'] = credit['children'].replace(-1, children_median)                                                         "
   ]
  },
  {
   "cell_type": "code",
   "execution_count": null,
   "metadata": {},
   "outputs": [],
   "source": []
  },
  {
   "cell_type": "code",
   "execution_count": 23,
   "metadata": {},
   "outputs": [
    {
     "data": {
      "text/plain": [
       "0.0    0.659512\n",
       "1.0    0.223833\n",
       "2.0    0.099001\n",
       "3.0    0.015331\n",
       "4.0    0.001905\n",
       "5.0    0.000418\n",
       "Name: children, dtype: float64"
      ]
     },
     "execution_count": 23,
     "metadata": {},
     "output_type": "execute_result"
    }
   ],
   "source": [
    "# Comprobar la columna `children` de nuevo para asegurarnos de que todo está arreglado\n",
    "children_distribution = credit['children'].value_counts(normalize=True)\n",
    "children_distribution"
   ]
  },
  {
   "cell_type": "markdown",
   "metadata": {},
   "source": [
    "**Verifiquemos la columna 'days_Employed'**\n",
    "\n",
    "En el análisis realizado a la columna days_employed, podemos identificar algunos problemas potenciales:\n",
    "\n",
    "Valores negativos: Los valores negativos en days_employed no tienen sentido, ya que la experiencia laboral no puede ser negativa. Es posible que estos valores sean errores o datos incorrectos.\n",
    "\n",
    "Valores extremadamente grandes: También podemos encontrar valores extremadamente grandes en days_employed, lo que podría indicar datos incorrectos en el conjunto de datos."
   ]
  },
  {
   "cell_type": "code",
   "execution_count": 24,
   "metadata": {},
   "outputs": [
    {
     "data": {
      "text/plain": [
       "count     19351.000000\n",
       "mean      63046.497661\n",
       "std      140827.311974\n",
       "min      -18388.949901\n",
       "25%       -2747.423625\n",
       "50%       -1203.369529\n",
       "75%        -291.095954\n",
       "max      401755.400475\n",
       "Name: days_employed, dtype: float64"
      ]
     },
     "execution_count": 24,
     "metadata": {},
     "output_type": "execute_result"
    }
   ],
   "source": [
    "# Encuentra datos problemáticos en `days_employed`, si existen, y calcula el porcentaje\n",
    "days_employed_check = credit['days_employed'].describe()\n",
    "days_employed_check"
   ]
  },
  {
   "cell_type": "code",
   "execution_count": 25,
   "metadata": {},
   "outputs": [
    {
     "name": "stdout",
     "output_type": "stream",
     "text": [
      "Porcentaje de datos problemáticos en 'days_employed': 89.90%\n"
     ]
    }
   ],
   "source": [
    "# Contar la cantidad de datos problemáticos tomando como referencia un rango valores negativos y un limite de 50 años (18250 dias)\n",
    "days_employed_atipicos = len(credit[(credit['days_employed'] < 0) | (credit['days_employed'] > 18250)])\n",
    "\n",
    "# Calcular el porcentaje de datos problemáticos\n",
    "total_credit = len(credit['days_employed'])\n",
    "porcentage_atipico = (days_employed_atipicos / total_credit) * 100\n",
    "\n",
    "print(\"Porcentaje de datos problemáticos en 'days_employed': {:.2f}%\".format(porcentage_atipico))"
   ]
  },
  {
   "cell_type": "markdown",
   "metadata": {},
   "source": [
    "El 89.89% es un valor alto, es posible que se deba a un error en el proceso de registro de datos o en la codificación de los valores.\n",
    "\n",
    "Para no eliminar las filas problemáticas, podríamos considerar dos enfoques para la imputación de los valores problemáticos en la columna 'days_employed':\n",
    "\n",
    "Reemplazar los valores negativos con sus valores absolutos: Si los valores negativos no tienen sentido en el contexto de la columna 'days_employed', podemos simplemente tomar el valor absoluto de esos valores para corregirlos.\n",
    "\n",
    "Establecer un límite razonable para los días empleados: Dado que los valores extremadamente altos son inverosímiles, podemos establecer un límite superior razonable, como 50 años (aproximadamente 18250 días), y reemplazar los valores que excedan ese límite con el límite establecido.\n"
   ]
  },
  {
   "cell_type": "code",
   "execution_count": 26,
   "metadata": {},
   "outputs": [],
   "source": [
    "\n",
    "# Reemplazando los valores negativos por valor absoluto\n",
    "credit['days_employed'] = credit['days_employed'].apply(lambda x: abs(x) if x < 0 else x)\n"
   ]
  },
  {
   "cell_type": "code",
   "execution_count": 27,
   "metadata": {},
   "outputs": [],
   "source": [
    "# Estableciendo un límite razonable para los días empleados (por ejemplo, 50 años):\n",
    "upper_limit = 50 * 365  # 50 años en días\n",
    "credit['days_employed'] = credit['days_employed'].apply(lambda x: upper_limit if x > upper_limit else x)"
   ]
  },
  {
   "cell_type": "code",
   "execution_count": 28,
   "metadata": {},
   "outputs": [
    {
     "data": {
      "text/plain": [
       "count    19351.000000\n",
       "mean      5183.100742\n",
       "std       6430.122757\n",
       "min         24.141633\n",
       "25%        927.009265\n",
       "50%       2194.220567\n",
       "75%       5537.882441\n",
       "max      18250.000000\n",
       "Name: days_employed, dtype: float64"
      ]
     },
     "execution_count": 28,
     "metadata": {},
     "output_type": "execute_result"
    }
   ],
   "source": [
    "credit['days_employed'].describe()"
   ]
  },
  {
   "cell_type": "markdown",
   "metadata": {},
   "source": [
    "<div class=\"alert alert-block alert-success\">\n",
    "<b>Comentario del revisor</b> <a class=\"tocSkip\"></a>\n",
    "    \n",
    "Muy buen análisis.\n",
    "</div>"
   ]
  },
  {
   "cell_type": "markdown",
   "metadata": {},
   "source": [
    "**Verificando la edad de los clientes 'dob_years'**\n",
    "\n",
    "Observemos la distribución de las edades de los clientes en el conjunto de datos. Veamos la frecuencia de cada edad en orden ascendente:"
   ]
  },
  {
   "cell_type": "code",
   "execution_count": 29,
   "metadata": {
    "scrolled": true
   },
   "outputs": [
    {
     "data": {
      "text/plain": [
       "0     0.004692\n",
       "19    0.000650\n",
       "20    0.002369\n",
       "21    0.005157\n",
       "22    0.008502\n",
       "23    0.011800\n",
       "24    0.012265\n",
       "25    0.016585\n",
       "26    0.018955\n",
       "27    0.022904\n",
       "28    0.023368\n",
       "29    0.025319\n",
       "30    0.025087\n",
       "31    0.026016\n",
       "32    0.023693\n",
       "33    0.026992\n",
       "34    0.028014\n",
       "35    0.028664\n",
       "36    0.025784\n",
       "37    0.024948\n",
       "38    0.027782\n",
       "39    0.026620\n",
       "40    0.028293\n",
       "41    0.028200\n",
       "42    0.027735\n",
       "43    0.023833\n",
       "44    0.025412\n",
       "45    0.023089\n",
       "46    0.022067\n",
       "47    0.022300\n",
       "48    0.024994\n",
       "49    0.023600\n",
       "50    0.023879\n",
       "51    0.020813\n",
       "52    0.022485\n",
       "53    0.021324\n",
       "54    0.022253\n",
       "55    0.020581\n",
       "56    0.022625\n",
       "57    0.021370\n",
       "58    0.021417\n",
       "59    0.020627\n",
       "60    0.017515\n",
       "61    0.016492\n",
       "62    0.016353\n",
       "63    0.012497\n",
       "64    0.012311\n",
       "65    0.009013\n",
       "66    0.008502\n",
       "67    0.007758\n",
       "68    0.004599\n",
       "69    0.003949\n",
       "70    0.003020\n",
       "71    0.002695\n",
       "72    0.001533\n",
       "73    0.000372\n",
       "74    0.000279\n",
       "75    0.000046\n",
       "Name: dob_years, dtype: float64"
      ]
     },
     "execution_count": 29,
     "metadata": {},
     "output_type": "execute_result"
    }
   ],
   "source": [
    "# Revisa `dob_years` en busca de valores sospechosos y cuenta el porcentaje\n",
    "dob_years_counts = credit['dob_years'].value_counts(normalize = True).sort_index(ascending=True)\n",
    "dob_years_counts\n"
   ]
  },
  {
   "cell_type": "markdown",
   "metadata": {},
   "source": [
    "La columna dob_years parece tener una distribución razonable de edades, con valores que aumentan progresivamente a medida que los clientes son más jóvenes y disminuyen hacia edades más avanzadas. Sin embargo, hay algunos valores sospechosos:\n",
    "\n",
    "Hay valores con edad igual a 0, lo cual es poco probable ya que generalmente se requiere que los clientes tengan al menos 18 años para acceder a productos financieros como préstamos.\n",
    "\n"
   ]
  },
  {
   "cell_type": "code",
   "execution_count": 30,
   "metadata": {},
   "outputs": [
    {
     "name": "stdout",
     "output_type": "stream",
     "text": [
      "Porcentaje de valores sospechosos en 'dob_years': 0.47%\n"
     ]
    }
   ],
   "source": [
    "# Vamos a calcular el porcentaje de valores sospechosos para las edades 0 y mayores o iguales a 85 años:\n",
    "\n",
    "age_check = credit[(credit['dob_years'] == 0) | (credit['dob_years'] >= 85)]\n",
    "percentage_age_check = len(age_check) / len(credit['dob_years']) * 100\n",
    "\n",
    "print(f\"Porcentaje de valores sospechosos en 'dob_years': {percentage_age_check:.2f}%\")"
   ]
  },
  {
   "cell_type": "markdown",
   "metadata": {},
   "source": [
    "Para mantener más datos y preservar la información útil de otras columnas, imputando valores en lugar de eliminar los registros tomando variables como  (education e income_type) podría corregir los datos atipicos  "
   ]
  },
  {
   "cell_type": "code",
   "execution_count": 31,
   "metadata": {},
   "outputs": [],
   "source": [
    "# Calculando la mediana de edad por grupos de 'education' y 'income_type'\n",
    "median_age_by_group = credit.groupby(['education', 'income_type'])['dob_years'].median()\n",
    "\n",
    "# Función para imputar la edad basada en la mediana del grupo\n",
    "def age_median (row):\n",
    "    if row['dob_years'] == 0 or row['dob_years'] >= 85:\n",
    "        return median_age_by_group.loc[(row['education'], row['income_type'])]\n",
    "    return row['dob_years']\n",
    "\n",
    "\n",
    "credit['dob_years'] = credit.apply(age_median, axis=1)"
   ]
  },
  {
   "cell_type": "code",
   "execution_count": 32,
   "metadata": {},
   "outputs": [
    {
     "data": {
      "text/plain": [
       "19    0.000650\n",
       "20    0.002369\n",
       "21    0.005157\n",
       "22    0.008502\n",
       "23    0.011800\n",
       "24    0.012265\n",
       "25    0.016585\n",
       "26    0.018955\n",
       "27    0.022904\n",
       "28    0.023368\n",
       "29    0.025319\n",
       "30    0.025087\n",
       "31    0.026109\n",
       "32    0.023693\n",
       "33    0.026992\n",
       "34    0.028014\n",
       "35    0.028664\n",
       "36    0.025784\n",
       "37    0.025784\n",
       "38    0.028293\n",
       "39    0.026620\n",
       "40    0.030105\n",
       "41    0.028618\n",
       "42    0.027828\n",
       "43    0.023833\n",
       "44    0.025412\n",
       "45    0.023089\n",
       "46    0.022067\n",
       "47    0.022300\n",
       "48    0.024994\n",
       "49    0.023600\n",
       "50    0.023879\n",
       "51    0.020813\n",
       "52    0.022485\n",
       "53    0.021324\n",
       "54    0.022253\n",
       "55    0.020581\n",
       "56    0.022625\n",
       "57    0.021370\n",
       "58    0.021417\n",
       "59    0.020906\n",
       "60    0.018165\n",
       "61    0.016492\n",
       "62    0.016353\n",
       "63    0.012497\n",
       "64    0.012311\n",
       "65    0.009013\n",
       "66    0.008502\n",
       "67    0.007758\n",
       "68    0.004599\n",
       "69    0.003949\n",
       "70    0.003020\n",
       "71    0.002695\n",
       "72    0.001533\n",
       "73    0.000372\n",
       "74    0.000279\n",
       "75    0.000046\n",
       "Name: dob_years, dtype: float64"
      ]
     },
     "execution_count": 32,
     "metadata": {},
     "output_type": "execute_result"
    }
   ],
   "source": [
    "\n",
    "# Verificar los cambios realizados\n",
    "credit['dob_years'] = credit['dob_years'].astype(int)\n",
    "dob_years_counts = credit['dob_years'].value_counts(normalize = True).sort_index(ascending=True)\n",
    "dob_years_counts"
   ]
  },
  {
   "cell_type": "markdown",
   "metadata": {},
   "source": [
    "<div class=\"alert alert-block alert-success\">\n",
    "<b>Comentario del revisor</b> <a class=\"tocSkip\"></a>\n",
    "    \n",
    "Muy buen trabajo.\n",
    "</div>"
   ]
  },
  {
   "cell_type": "markdown",
   "metadata": {},
   "source": [
    "**Verificar la columna 'family_status'**"
   ]
  },
  {
   "cell_type": "code",
   "execution_count": 33,
   "metadata": {},
   "outputs": [
    {
     "data": {
      "text/plain": [
       "married              12380\n",
       "civil partnership     4177\n",
       "unmarried             2813\n",
       "divorced              1195\n",
       "widow / widower        960\n",
       "Name: family_status, dtype: int64"
      ]
     },
     "execution_count": 33,
     "metadata": {},
     "output_type": "execute_result"
    }
   ],
   "source": [
    "# Veamos los valores de la columna 'family_status'\n",
    "\n",
    "credit['family_status'].value_counts()"
   ]
  },
  {
   "cell_type": "markdown",
   "metadata": {},
   "source": [
    "Los valores obtenidos parecen ser validos, por lo que no se considera hacer ningún cambio.\n",
    "Por el momento realizaré una actualización de los valores eliminando espacios."
   ]
  },
  {
   "cell_type": "code",
   "execution_count": 34,
   "metadata": {},
   "outputs": [],
   "source": [
    "# eliminando espacios en los valores\n",
    "credit['family_status'].replace({\n",
    "    \"civil partnership\": \"civil_partnership\",\n",
    "    \"widow / widower\": \"widow_widower\"\n",
    "}, inplace=True)\n"
   ]
  },
  {
   "cell_type": "code",
   "execution_count": 35,
   "metadata": {},
   "outputs": [
    {
     "data": {
      "text/plain": [
       "married              12380\n",
       "civil_partnership     4177\n",
       "unmarried             2813\n",
       "divorced              1195\n",
       "widow_widower          960\n",
       "Name: family_status, dtype: int64"
      ]
     },
     "execution_count": 35,
     "metadata": {},
     "output_type": "execute_result"
    }
   ],
   "source": [
    "# Verificando el resultado\n",
    "credit['family_status'].value_counts()"
   ]
  },
  {
   "cell_type": "code",
   "execution_count": null,
   "metadata": {},
   "outputs": [],
   "source": []
  },
  {
   "cell_type": "markdown",
   "metadata": {},
   "source": [
    "**Verificar la columna 'gender'**"
   ]
  },
  {
   "cell_type": "code",
   "execution_count": 36,
   "metadata": {},
   "outputs": [
    {
     "data": {
      "text/plain": [
       "F      14236\n",
       "M       7288\n",
       "XNA        1\n",
       "Name: gender, dtype: int64"
      ]
     },
     "execution_count": 36,
     "metadata": {},
     "output_type": "execute_result"
    }
   ],
   "source": [
    "# Veamos los valores en la columna 'gender'\n",
    "credit['gender'].value_counts()"
   ]
  },
  {
   "cell_type": "markdown",
   "metadata": {},
   "source": [
    "No se evidencia datos incoherentes, el valor XNA se puede interpretar como sexo no determinado y podría ser valido. además que un registro no alteraría el análisis."
   ]
  },
  {
   "cell_type": "markdown",
   "metadata": {},
   "source": [
    "**Verificar la columna 'income_type'**"
   ]
  },
  {
   "cell_type": "code",
   "execution_count": 37,
   "metadata": {},
   "outputs": [
    {
     "data": {
      "text/plain": [
       "employee                       11119\n",
       "business                        5085\n",
       "retiree                         3856\n",
       "civil servant                   1459\n",
       "unemployed                         2\n",
       "entrepreneur                       2\n",
       "student                            1\n",
       "paternity / maternity leave        1\n",
       "Name: income_type, dtype: int64"
      ]
     },
     "execution_count": 37,
     "metadata": {},
     "output_type": "execute_result"
    }
   ],
   "source": [
    "# Veamos los valores en la columna 'income_type'\n",
    "credit['income_type'].value_counts()"
   ]
  },
  {
   "cell_type": "markdown",
   "metadata": {},
   "source": [
    "Los valores obtenidos parecen ser validos, por lo que no se considera hacer ningún cambio.\n",
    "Por el momento realizaré una actualización de los valores eliminando espacios."
   ]
  },
  {
   "cell_type": "code",
   "execution_count": 38,
   "metadata": {},
   "outputs": [],
   "source": [
    "\n",
    "# eliminando espacios en los valores\n",
    "credit['income_type'].replace({\n",
    "    \"civil servant\": \"civil_servant\",\n",
    "    \"paternity / maternity leave\": \"parent_leave\"\n",
    "}, inplace=True)\n"
   ]
  },
  {
   "cell_type": "code",
   "execution_count": 39,
   "metadata": {},
   "outputs": [
    {
     "data": {
      "text/plain": [
       "employee         11119\n",
       "business          5085\n",
       "retiree           3856\n",
       "civil_servant     1459\n",
       "unemployed           2\n",
       "entrepreneur         2\n",
       "parent_leave         1\n",
       "student              1\n",
       "Name: income_type, dtype: int64"
      ]
     },
     "execution_count": 39,
     "metadata": {},
     "output_type": "execute_result"
    }
   ],
   "source": [
    "# Veamos los valores en la columna 'income_type'\n",
    "credit['income_type'].value_counts()"
   ]
  },
  {
   "cell_type": "markdown",
   "metadata": {},
   "source": [
    "**Verificar Duplicados**\n"
   ]
  },
  {
   "cell_type": "code",
   "execution_count": 40,
   "metadata": {},
   "outputs": [
    {
     "data": {
      "text/html": [
       "<div>\n",
       "<style scoped>\n",
       "    .dataframe tbody tr th:only-of-type {\n",
       "        vertical-align: middle;\n",
       "    }\n",
       "\n",
       "    .dataframe tbody tr th {\n",
       "        vertical-align: top;\n",
       "    }\n",
       "\n",
       "    .dataframe thead th {\n",
       "        text-align: right;\n",
       "    }\n",
       "</style>\n",
       "<table border=\"1\" class=\"dataframe\">\n",
       "  <thead>\n",
       "    <tr style=\"text-align: right;\">\n",
       "      <th></th>\n",
       "      <th>children</th>\n",
       "      <th>days_employed</th>\n",
       "      <th>dob_years</th>\n",
       "      <th>education</th>\n",
       "      <th>education_id</th>\n",
       "      <th>family_status</th>\n",
       "      <th>family_status_id</th>\n",
       "      <th>gender</th>\n",
       "      <th>income_type</th>\n",
       "      <th>debt</th>\n",
       "      <th>total_income</th>\n",
       "      <th>purpose</th>\n",
       "    </tr>\n",
       "  </thead>\n",
       "  <tbody>\n",
       "    <tr>\n",
       "      <th>2849</th>\n",
       "      <td>0.0</td>\n",
       "      <td>NaN</td>\n",
       "      <td>41</td>\n",
       "      <td>secondary_education</td>\n",
       "      <td>1</td>\n",
       "      <td>married</td>\n",
       "      <td>0</td>\n",
       "      <td>F</td>\n",
       "      <td>employee</td>\n",
       "      <td>0</td>\n",
       "      <td>NaN</td>\n",
       "      <td>purchase of the house for my family</td>\n",
       "    </tr>\n",
       "    <tr>\n",
       "      <th>3290</th>\n",
       "      <td>0.0</td>\n",
       "      <td>NaN</td>\n",
       "      <td>58</td>\n",
       "      <td>secondary_education</td>\n",
       "      <td>1</td>\n",
       "      <td>civil_partnership</td>\n",
       "      <td>1</td>\n",
       "      <td>F</td>\n",
       "      <td>retiree</td>\n",
       "      <td>0</td>\n",
       "      <td>NaN</td>\n",
       "      <td>to have a wedding</td>\n",
       "    </tr>\n",
       "    <tr>\n",
       "      <th>4182</th>\n",
       "      <td>1.0</td>\n",
       "      <td>NaN</td>\n",
       "      <td>34</td>\n",
       "      <td>bachelor_degree</td>\n",
       "      <td>0</td>\n",
       "      <td>civil_partnership</td>\n",
       "      <td>1</td>\n",
       "      <td>F</td>\n",
       "      <td>employee</td>\n",
       "      <td>0</td>\n",
       "      <td>NaN</td>\n",
       "      <td>wedding ceremony</td>\n",
       "    </tr>\n",
       "    <tr>\n",
       "      <th>4851</th>\n",
       "      <td>0.0</td>\n",
       "      <td>NaN</td>\n",
       "      <td>60</td>\n",
       "      <td>secondary_education</td>\n",
       "      <td>1</td>\n",
       "      <td>civil_partnership</td>\n",
       "      <td>1</td>\n",
       "      <td>F</td>\n",
       "      <td>retiree</td>\n",
       "      <td>0</td>\n",
       "      <td>NaN</td>\n",
       "      <td>wedding ceremony</td>\n",
       "    </tr>\n",
       "    <tr>\n",
       "      <th>5557</th>\n",
       "      <td>0.0</td>\n",
       "      <td>NaN</td>\n",
       "      <td>58</td>\n",
       "      <td>secondary_education</td>\n",
       "      <td>1</td>\n",
       "      <td>civil_partnership</td>\n",
       "      <td>1</td>\n",
       "      <td>F</td>\n",
       "      <td>retiree</td>\n",
       "      <td>0</td>\n",
       "      <td>NaN</td>\n",
       "      <td>to have a wedding</td>\n",
       "    </tr>\n",
       "  </tbody>\n",
       "</table>\n",
       "</div>"
      ],
      "text/plain": [
       "      children  days_employed  dob_years            education  education_id  \\\n",
       "2849       0.0            NaN         41  secondary_education             1   \n",
       "3290       0.0            NaN         58  secondary_education             1   \n",
       "4182       1.0            NaN         34      bachelor_degree             0   \n",
       "4851       0.0            NaN         60  secondary_education             1   \n",
       "5557       0.0            NaN         58  secondary_education             1   \n",
       "\n",
       "          family_status  family_status_id gender income_type  debt  \\\n",
       "2849            married                 0      F    employee     0   \n",
       "3290  civil_partnership                 1      F     retiree     0   \n",
       "4182  civil_partnership                 1      F    employee     0   \n",
       "4851  civil_partnership                 1      F     retiree     0   \n",
       "5557  civil_partnership                 1      F     retiree     0   \n",
       "\n",
       "      total_income                              purpose  \n",
       "2849           NaN  purchase of the house for my family  \n",
       "3290           NaN                    to have a wedding  \n",
       "4182           NaN                     wedding ceremony  \n",
       "4851           NaN                     wedding ceremony  \n",
       "5557           NaN                    to have a wedding  "
      ]
     },
     "metadata": {},
     "output_type": "display_data"
    },
    {
     "data": {
      "text/plain": [
       "71"
      ]
     },
     "metadata": {},
     "output_type": "display_data"
    }
   ],
   "source": [
    "# Comprobar los duplicados\n",
    "\n",
    "duplicated_credit = credit[credit.duplicated()]\n",
    "display(duplicated_credit.head())\n",
    "display(credit.duplicated().sum())"
   ]
  },
  {
   "cell_type": "code",
   "execution_count": 41,
   "metadata": {},
   "outputs": [],
   "source": [
    "# Eliminando duplicados.\n",
    "credit = credit.drop_duplicates().reset_index(drop=True)"
   ]
  },
  {
   "cell_type": "code",
   "execution_count": 42,
   "metadata": {},
   "outputs": [
    {
     "data": {
      "text/plain": [
       "0"
      ]
     },
     "metadata": {},
     "output_type": "display_data"
    }
   ],
   "source": [
    "# Última comprobación para ver si tenemos duplicados\n",
    "display(credit.duplicated().sum())"
   ]
  },
  {
   "cell_type": "code",
   "execution_count": 43,
   "metadata": {},
   "outputs": [
    {
     "name": "stdout",
     "output_type": "stream",
     "text": [
      "<class 'pandas.core.frame.DataFrame'>\n",
      "RangeIndex: 21454 entries, 0 to 21453\n",
      "Data columns (total 12 columns):\n",
      " #   Column            Non-Null Count  Dtype  \n",
      "---  ------            --------------  -----  \n",
      " 0   children          21454 non-null  float64\n",
      " 1   days_employed     19351 non-null  float64\n",
      " 2   dob_years         21454 non-null  int64  \n",
      " 3   education         21454 non-null  object \n",
      " 4   education_id      21454 non-null  int64  \n",
      " 5   family_status     21454 non-null  object \n",
      " 6   family_status_id  21454 non-null  int64  \n",
      " 7   gender            21454 non-null  object \n",
      " 8   income_type       21454 non-null  object \n",
      " 9   debt              21454 non-null  int64  \n",
      " 10  total_income      19351 non-null  float64\n",
      " 11  purpose           21454 non-null  object \n",
      "dtypes: float64(3), int64(4), object(5)\n",
      "memory usage: 2.0+ MB\n"
     ]
    }
   ],
   "source": [
    "# Comprueba el tamaño del conjunto de datos que tienes ahora, después de haber ejecutado estas primeras manipulaciones\n",
    "credit.info()\n"
   ]
  },
  {
   "cell_type": "markdown",
   "metadata": {},
   "source": [
    "Después de realizar las correcciones y la imputación de valores, el nuevo conjunto de datos tiene 21,407 filas y 12 columnas. Los cambios realizados incluyen:\n",
    "\n",
    "1. Imputación de valores faltantes en la columna 'days_employed'\n",
    "2. Imputación de valores faltantes en la columna 'dob_years'\n",
    "3. Eliminacion de duplicados.\n",
    "\n",
    "En general, se han realizado ajustes en aproximadamente el 20.10% del conjunto de datos original para abordar los valores faltantes y sospechosos. Estos cambios deberían ayudar a mejorar la calidad y confiabilidad del análisis de los datos."
   ]
  },
  {
   "cell_type": "markdown",
   "metadata": {},
   "source": [
    "<div class=\"alert alert-block alert-success\">\n",
    "<b>Comentario del revisor</b> <a class=\"tocSkip\"></a>\n",
    "    \n",
    "Gran trabajo en esta sección.\n",
    "</div>"
   ]
  },
  {
   "cell_type": "markdown",
   "metadata": {},
   "source": [
    "## Trabajar con valores ausentes"
   ]
  },
  {
   "cell_type": "markdown",
   "metadata": {},
   "source": [
    "Trabajar con diccionarios puede acelerar y facilitar el procesamiento de datos, especialmente cuando se tienen columnas con valores codificados o representados mediante IDs en lugar de texto legible. Al utilizar diccionarios, podemos mapear los IDs a sus respectivos valores descriptivos, lo que nos permite comprender mejor y analizar los datos de manera más eficiente.\n",
    "\n",
    "En el conjunto de datos proporcionado, hay algunas columnas que contienen valores codificados con IDs, como 'education_id', 'family_status_id', y 'income_type'. En lugar de trabajar directamente con los IDs, podemos crear diccionarios que relacionen cada ID con su descripción correspondiente."
   ]
  },
  {
   "cell_type": "code",
   "execution_count": 44,
   "metadata": {},
   "outputs": [],
   "source": [
    "# Encuentra los diccionarios\n",
    "\n",
    "family_status = {\n",
    "    0: 'civil_partnership',\n",
    "    1: 'married',\n",
    "    2: 'widow_widower',\n",
    "    3: 'divorced',\n",
    "    4: 'unmarried',\n",
    "}\n",
    "\n",
    "\n",
    "\n",
    "education = {\n",
    "    0: 'secondary_education',\n",
    "    1: \"bachelor_degree\",\n",
    "    2: 'some_college',\n",
    "    3: 'primary_education',\n",
    "    4: 'graduate_degree',\n",
    "}"
   ]
  },
  {
   "cell_type": "markdown",
   "metadata": {},
   "source": [
    "<div class=\"alert alert-block alert-success\">\n",
    "<b>Comentario del revisor</b> <a class=\"tocSkip\"></a>\n",
    "    \n",
    "Has identificado los diccionarios correctamente.\n",
    "</div>"
   ]
  },
  {
   "cell_type": "markdown",
   "metadata": {},
   "source": [
    "### Restaurar valores ausentes en `total_income`"
   ]
  },
  {
   "cell_type": "markdown",
   "metadata": {},
   "source": [
    "Las columnas que tienen valores ausentes que debemos abordar son 'days_employed' y 'total_income'.\n",
    "\n",
    "Para abordar los valores ausentes en 'days_employed', utilizaremos un enfoque de imputación. Reemplazaremos los valores negativos con sus valores absolutos y estableceremos un límite razonable para los días empleados (por ejemplo, 50 años) para reemplazar los valores extremadamente altos.\n",
    "\n",
    "En cuanto a los valores ausentes en 'total_income', utilizaremos la mediana de ingresos para cada grupo de 'income_type' y 'education' para reemplazar los valores faltantes. Esto nos permitirá conservar la distribución de ingresos en cada grupo y evitar sesgos en los datos."
   ]
  },
  {
   "cell_type": "code",
   "execution_count": 45,
   "metadata": {},
   "outputs": [
    {
     "data": {
      "text/plain": [
       "19     14\n",
       "20     51\n",
       "21    111\n",
       "22    183\n",
       "23    252\n",
       "24    264\n",
       "25    357\n",
       "26    408\n",
       "27    493\n",
       "28    503\n",
       "29    544\n",
       "30    537\n",
       "31    561\n",
       "32    509\n",
       "33    581\n",
       "34    601\n",
       "35    616\n",
       "36    554\n",
       "37    554\n",
       "38    608\n",
       "39    572\n",
       "40    646\n",
       "41    614\n",
       "42    598\n",
       "43    512\n",
       "44    545\n",
       "45    496\n",
       "46    472\n",
       "47    477\n",
       "48    536\n",
       "49    508\n",
       "50    513\n",
       "51    446\n",
       "52    484\n",
       "53    459\n",
       "54    476\n",
       "55    443\n",
       "56    483\n",
       "57    456\n",
       "58    454\n",
       "59    449\n",
       "60    388\n",
       "61    354\n",
       "62    348\n",
       "63    269\n",
       "64    260\n",
       "65    193\n",
       "66    182\n",
       "67    167\n",
       "68     99\n",
       "69     85\n",
       "70     65\n",
       "71     56\n",
       "72     33\n",
       "73      8\n",
       "74      6\n",
       "75      1\n",
       "Name: dob_years, dtype: int64"
      ]
     },
     "metadata": {},
     "output_type": "display_data"
    }
   ],
   "source": [
    "# Verificando la edad de los clientes\n",
    "display (credit['dob_years'].value_counts().sort_index(ascending=True))\n"
   ]
  },
  {
   "cell_type": "code",
   "execution_count": 46,
   "metadata": {},
   "outputs": [],
   "source": [
    "# Vamos a escribir una función que calcule la categoría de edad\n",
    "\n",
    "def age_group(dob_years):\n",
    "    if dob_years <= 17 or pd.isna(dob_years):\n",
    "        return 'NA'\n",
    "    elif dob_years < 20:\n",
    "        return '18-19'\n",
    "    elif dob_years < 30:\n",
    "        return '20-29'\n",
    "    elif dob_years < 40:\n",
    "        return '30-39'\n",
    "    elif dob_years < 50:\n",
    "        return '40-49'\n",
    "    elif dob_years < 60:\n",
    "        return '50-59'\n",
    "    elif dob_years < 70:\n",
    "        return '60-69'\n",
    "    else:\n",
    "        return '70+'\n",
    "    \n"
   ]
  },
  {
   "cell_type": "code",
   "execution_count": 47,
   "metadata": {},
   "outputs": [
    {
     "data": {
      "text/plain": [
       "'NA'"
      ]
     },
     "execution_count": 47,
     "metadata": {},
     "output_type": "execute_result"
    }
   ],
   "source": [
    "# Prueba si la función funciona bien\n",
    "age_group(0)"
   ]
  },
  {
   "cell_type": "code",
   "execution_count": 48,
   "metadata": {},
   "outputs": [],
   "source": [
    "# Crear una nueva columna basada en la función\n",
    "\n",
    "credit['age_group'] = credit['dob_years'].apply(age_group) \n",
    "\n",
    "    "
   ]
  },
  {
   "cell_type": "code",
   "execution_count": 49,
   "metadata": {
    "scrolled": true
   },
   "outputs": [
    {
     "data": {
      "text/html": [
       "<div>\n",
       "<style scoped>\n",
       "    .dataframe tbody tr th:only-of-type {\n",
       "        vertical-align: middle;\n",
       "    }\n",
       "\n",
       "    .dataframe tbody tr th {\n",
       "        vertical-align: top;\n",
       "    }\n",
       "\n",
       "    .dataframe thead th {\n",
       "        text-align: right;\n",
       "    }\n",
       "</style>\n",
       "<table border=\"1\" class=\"dataframe\">\n",
       "  <thead>\n",
       "    <tr style=\"text-align: right;\">\n",
       "      <th></th>\n",
       "      <th>children</th>\n",
       "      <th>days_employed</th>\n",
       "      <th>dob_years</th>\n",
       "      <th>education</th>\n",
       "      <th>education_id</th>\n",
       "      <th>family_status</th>\n",
       "      <th>family_status_id</th>\n",
       "      <th>gender</th>\n",
       "      <th>income_type</th>\n",
       "      <th>debt</th>\n",
       "      <th>total_income</th>\n",
       "      <th>purpose</th>\n",
       "      <th>age_group</th>\n",
       "    </tr>\n",
       "  </thead>\n",
       "  <tbody>\n",
       "    <tr>\n",
       "      <th>0</th>\n",
       "      <td>1.0</td>\n",
       "      <td>8437.673028</td>\n",
       "      <td>42</td>\n",
       "      <td>bachelor_degree</td>\n",
       "      <td>0</td>\n",
       "      <td>married</td>\n",
       "      <td>0</td>\n",
       "      <td>F</td>\n",
       "      <td>employee</td>\n",
       "      <td>0</td>\n",
       "      <td>40620.102</td>\n",
       "      <td>purchase of the house</td>\n",
       "      <td>40-49</td>\n",
       "    </tr>\n",
       "    <tr>\n",
       "      <th>1</th>\n",
       "      <td>1.0</td>\n",
       "      <td>4024.803754</td>\n",
       "      <td>36</td>\n",
       "      <td>secondary_education</td>\n",
       "      <td>1</td>\n",
       "      <td>married</td>\n",
       "      <td>0</td>\n",
       "      <td>F</td>\n",
       "      <td>employee</td>\n",
       "      <td>0</td>\n",
       "      <td>17932.802</td>\n",
       "      <td>car purchase</td>\n",
       "      <td>30-39</td>\n",
       "    </tr>\n",
       "    <tr>\n",
       "      <th>2</th>\n",
       "      <td>0.0</td>\n",
       "      <td>5623.422610</td>\n",
       "      <td>33</td>\n",
       "      <td>secondary_education</td>\n",
       "      <td>1</td>\n",
       "      <td>married</td>\n",
       "      <td>0</td>\n",
       "      <td>M</td>\n",
       "      <td>employee</td>\n",
       "      <td>0</td>\n",
       "      <td>23341.752</td>\n",
       "      <td>purchase of the house</td>\n",
       "      <td>30-39</td>\n",
       "    </tr>\n",
       "    <tr>\n",
       "      <th>3</th>\n",
       "      <td>3.0</td>\n",
       "      <td>4124.747207</td>\n",
       "      <td>32</td>\n",
       "      <td>secondary_education</td>\n",
       "      <td>1</td>\n",
       "      <td>married</td>\n",
       "      <td>0</td>\n",
       "      <td>M</td>\n",
       "      <td>employee</td>\n",
       "      <td>0</td>\n",
       "      <td>42820.568</td>\n",
       "      <td>supplementary education</td>\n",
       "      <td>30-39</td>\n",
       "    </tr>\n",
       "    <tr>\n",
       "      <th>4</th>\n",
       "      <td>0.0</td>\n",
       "      <td>18250.000000</td>\n",
       "      <td>53</td>\n",
       "      <td>secondary_education</td>\n",
       "      <td>1</td>\n",
       "      <td>civil_partnership</td>\n",
       "      <td>1</td>\n",
       "      <td>F</td>\n",
       "      <td>retiree</td>\n",
       "      <td>0</td>\n",
       "      <td>25378.572</td>\n",
       "      <td>to have a wedding</td>\n",
       "      <td>50-59</td>\n",
       "    </tr>\n",
       "  </tbody>\n",
       "</table>\n",
       "</div>"
      ],
      "text/plain": [
       "   children  days_employed  dob_years            education  education_id  \\\n",
       "0       1.0    8437.673028         42      bachelor_degree             0   \n",
       "1       1.0    4024.803754         36  secondary_education             1   \n",
       "2       0.0    5623.422610         33  secondary_education             1   \n",
       "3       3.0    4124.747207         32  secondary_education             1   \n",
       "4       0.0   18250.000000         53  secondary_education             1   \n",
       "\n",
       "       family_status  family_status_id gender income_type  debt  total_income  \\\n",
       "0            married                 0      F    employee     0     40620.102   \n",
       "1            married                 0      F    employee     0     17932.802   \n",
       "2            married                 0      M    employee     0     23341.752   \n",
       "3            married                 0      M    employee     0     42820.568   \n",
       "4  civil_partnership                 1      F     retiree     0     25378.572   \n",
       "\n",
       "                   purpose age_group  \n",
       "0    purchase of the house     40-49  \n",
       "1             car purchase     30-39  \n",
       "2    purchase of the house     30-39  \n",
       "3  supplementary education     30-39  \n",
       "4        to have a wedding     50-59  "
      ]
     },
     "execution_count": 49,
     "metadata": {},
     "output_type": "execute_result"
    }
   ],
   "source": [
    "# Comprobar cómo los valores en la nueva columna\n",
    "\n",
    "credit.head()"
   ]
  },
  {
   "cell_type": "markdown",
   "metadata": {},
   "source": [
    "En general, es importante tener en cuenta la naturaleza de los datos y las características de la distribución antes de tomar una decisión sobre si utilizar la media o la mediana para imputar los valores ausentes en 'total_income'"
   ]
  },
  {
   "cell_type": "code",
   "execution_count": 50,
   "metadata": {},
   "outputs": [
    {
     "data": {
      "text/html": [
       "<div>\n",
       "<style scoped>\n",
       "    .dataframe tbody tr th:only-of-type {\n",
       "        vertical-align: middle;\n",
       "    }\n",
       "\n",
       "    .dataframe tbody tr th {\n",
       "        vertical-align: top;\n",
       "    }\n",
       "\n",
       "    .dataframe thead th {\n",
       "        text-align: right;\n",
       "    }\n",
       "</style>\n",
       "<table border=\"1\" class=\"dataframe\">\n",
       "  <thead>\n",
       "    <tr style=\"text-align: right;\">\n",
       "      <th></th>\n",
       "      <th>children</th>\n",
       "      <th>days_employed</th>\n",
       "      <th>dob_years</th>\n",
       "      <th>education</th>\n",
       "      <th>education_id</th>\n",
       "      <th>family_status</th>\n",
       "      <th>family_status_id</th>\n",
       "      <th>gender</th>\n",
       "      <th>income_type</th>\n",
       "      <th>debt</th>\n",
       "      <th>total_income</th>\n",
       "      <th>purpose</th>\n",
       "      <th>age_group</th>\n",
       "    </tr>\n",
       "  </thead>\n",
       "  <tbody>\n",
       "    <tr>\n",
       "      <th>0</th>\n",
       "      <td>1.0</td>\n",
       "      <td>8437.673028</td>\n",
       "      <td>42</td>\n",
       "      <td>bachelor_degree</td>\n",
       "      <td>0</td>\n",
       "      <td>married</td>\n",
       "      <td>0</td>\n",
       "      <td>F</td>\n",
       "      <td>employee</td>\n",
       "      <td>0</td>\n",
       "      <td>40620.102</td>\n",
       "      <td>purchase of the house</td>\n",
       "      <td>40-49</td>\n",
       "    </tr>\n",
       "    <tr>\n",
       "      <th>1</th>\n",
       "      <td>1.0</td>\n",
       "      <td>4024.803754</td>\n",
       "      <td>36</td>\n",
       "      <td>secondary_education</td>\n",
       "      <td>1</td>\n",
       "      <td>married</td>\n",
       "      <td>0</td>\n",
       "      <td>F</td>\n",
       "      <td>employee</td>\n",
       "      <td>0</td>\n",
       "      <td>17932.802</td>\n",
       "      <td>car purchase</td>\n",
       "      <td>30-39</td>\n",
       "    </tr>\n",
       "    <tr>\n",
       "      <th>2</th>\n",
       "      <td>0.0</td>\n",
       "      <td>5623.422610</td>\n",
       "      <td>33</td>\n",
       "      <td>secondary_education</td>\n",
       "      <td>1</td>\n",
       "      <td>married</td>\n",
       "      <td>0</td>\n",
       "      <td>M</td>\n",
       "      <td>employee</td>\n",
       "      <td>0</td>\n",
       "      <td>23341.752</td>\n",
       "      <td>purchase of the house</td>\n",
       "      <td>30-39</td>\n",
       "    </tr>\n",
       "    <tr>\n",
       "      <th>3</th>\n",
       "      <td>3.0</td>\n",
       "      <td>4124.747207</td>\n",
       "      <td>32</td>\n",
       "      <td>secondary_education</td>\n",
       "      <td>1</td>\n",
       "      <td>married</td>\n",
       "      <td>0</td>\n",
       "      <td>M</td>\n",
       "      <td>employee</td>\n",
       "      <td>0</td>\n",
       "      <td>42820.568</td>\n",
       "      <td>supplementary education</td>\n",
       "      <td>30-39</td>\n",
       "    </tr>\n",
       "    <tr>\n",
       "      <th>4</th>\n",
       "      <td>0.0</td>\n",
       "      <td>18250.000000</td>\n",
       "      <td>53</td>\n",
       "      <td>secondary_education</td>\n",
       "      <td>1</td>\n",
       "      <td>civil_partnership</td>\n",
       "      <td>1</td>\n",
       "      <td>F</td>\n",
       "      <td>retiree</td>\n",
       "      <td>0</td>\n",
       "      <td>25378.572</td>\n",
       "      <td>to have a wedding</td>\n",
       "      <td>50-59</td>\n",
       "    </tr>\n",
       "  </tbody>\n",
       "</table>\n",
       "</div>"
      ],
      "text/plain": [
       "   children  days_employed  dob_years            education  education_id  \\\n",
       "0       1.0    8437.673028         42      bachelor_degree             0   \n",
       "1       1.0    4024.803754         36  secondary_education             1   \n",
       "2       0.0    5623.422610         33  secondary_education             1   \n",
       "3       3.0    4124.747207         32  secondary_education             1   \n",
       "4       0.0   18250.000000         53  secondary_education             1   \n",
       "\n",
       "       family_status  family_status_id gender income_type  debt  total_income  \\\n",
       "0            married                 0      F    employee     0     40620.102   \n",
       "1            married                 0      F    employee     0     17932.802   \n",
       "2            married                 0      M    employee     0     23341.752   \n",
       "3            married                 0      M    employee     0     42820.568   \n",
       "4  civil_partnership                 1      F     retiree     0     25378.572   \n",
       "\n",
       "                   purpose age_group  \n",
       "0    purchase of the house     40-49  \n",
       "1             car purchase     30-39  \n",
       "2    purchase of the house     30-39  \n",
       "3  supplementary education     30-39  \n",
       "4        to have a wedding     50-59  "
      ]
     },
     "execution_count": 50,
     "metadata": {},
     "output_type": "execute_result"
    }
   ],
   "source": [
    "# Crea una tabla sin valores ausentes y muestra algunas de sus filas para asegurarte de que se ve bien\n",
    "credit_no_nan = credit.dropna(inplace=False)\n",
    "credit_no_nan.head()"
   ]
  },
  {
   "cell_type": "code",
   "execution_count": 51,
   "metadata": {},
   "outputs": [
    {
     "data": {
      "text/plain": [
       "'mean:'"
      ]
     },
     "metadata": {},
     "output_type": "display_data"
    },
    {
     "data": {
      "text/html": [
       "<div>\n",
       "<style scoped>\n",
       "    .dataframe tbody tr th:only-of-type {\n",
       "        vertical-align: middle;\n",
       "    }\n",
       "\n",
       "    .dataframe tbody tr th {\n",
       "        vertical-align: top;\n",
       "    }\n",
       "\n",
       "    .dataframe thead th {\n",
       "        text-align: right;\n",
       "    }\n",
       "</style>\n",
       "<table border=\"1\" class=\"dataframe\">\n",
       "  <thead>\n",
       "    <tr style=\"text-align: right;\">\n",
       "      <th></th>\n",
       "      <th></th>\n",
       "      <th>total_income</th>\n",
       "    </tr>\n",
       "    <tr>\n",
       "      <th>children</th>\n",
       "      <th>income_type</th>\n",
       "      <th></th>\n",
       "    </tr>\n",
       "  </thead>\n",
       "  <tbody>\n",
       "    <tr>\n",
       "      <th rowspan=\"7\" valign=\"top\">0.0</th>\n",
       "      <th>business</th>\n",
       "      <td>32385.039986</td>\n",
       "    </tr>\n",
       "    <tr>\n",
       "      <th>civil_servant</th>\n",
       "      <td>27939.766263</td>\n",
       "    </tr>\n",
       "    <tr>\n",
       "      <th>employee</th>\n",
       "      <td>25823.504156</td>\n",
       "    </tr>\n",
       "    <tr>\n",
       "      <th>entrepreneur</th>\n",
       "      <td>79866.103000</td>\n",
       "    </tr>\n",
       "    <tr>\n",
       "      <th>retiree</th>\n",
       "      <td>21792.006266</td>\n",
       "    </tr>\n",
       "    <tr>\n",
       "      <th>student</th>\n",
       "      <td>15712.260000</td>\n",
       "    </tr>\n",
       "    <tr>\n",
       "      <th>unemployed</th>\n",
       "      <td>32435.602000</td>\n",
       "    </tr>\n",
       "    <tr>\n",
       "      <th rowspan=\"5\" valign=\"top\">1.0</th>\n",
       "      <th>business</th>\n",
       "      <td>32228.141977</td>\n",
       "    </tr>\n",
       "    <tr>\n",
       "      <th>civil_servant</th>\n",
       "      <td>26151.320474</td>\n",
       "    </tr>\n",
       "    <tr>\n",
       "      <th>employee</th>\n",
       "      <td>25777.135121</td>\n",
       "    </tr>\n",
       "    <tr>\n",
       "      <th>retiree</th>\n",
       "      <td>23286.985710</td>\n",
       "    </tr>\n",
       "    <tr>\n",
       "      <th>unemployed</th>\n",
       "      <td>9593.119000</td>\n",
       "    </tr>\n",
       "    <tr>\n",
       "      <th rowspan=\"5\" valign=\"top\">2.0</th>\n",
       "      <th>business</th>\n",
       "      <td>32610.332073</td>\n",
       "    </tr>\n",
       "    <tr>\n",
       "      <th>civil_servant</th>\n",
       "      <td>26365.038181</td>\n",
       "    </tr>\n",
       "    <tr>\n",
       "      <th>employee</th>\n",
       "      <td>25591.072475</td>\n",
       "    </tr>\n",
       "    <tr>\n",
       "      <th>parent_leave</th>\n",
       "      <td>8612.661000</td>\n",
       "    </tr>\n",
       "    <tr>\n",
       "      <th>retiree</th>\n",
       "      <td>26391.040250</td>\n",
       "    </tr>\n",
       "    <tr>\n",
       "      <th rowspan=\"4\" valign=\"top\">3.0</th>\n",
       "      <th>business</th>\n",
       "      <td>33816.952569</td>\n",
       "    </tr>\n",
       "    <tr>\n",
       "      <th>civil_servant</th>\n",
       "      <td>29140.416917</td>\n",
       "    </tr>\n",
       "    <tr>\n",
       "      <th>employee</th>\n",
       "      <td>27695.360922</td>\n",
       "    </tr>\n",
       "    <tr>\n",
       "      <th>retiree</th>\n",
       "      <td>25301.815667</td>\n",
       "    </tr>\n",
       "    <tr>\n",
       "      <th rowspan=\"4\" valign=\"top\">4.0</th>\n",
       "      <th>business</th>\n",
       "      <td>23488.481500</td>\n",
       "    </tr>\n",
       "    <tr>\n",
       "      <th>civil_servant</th>\n",
       "      <td>31861.001000</td>\n",
       "    </tr>\n",
       "    <tr>\n",
       "      <th>employee</th>\n",
       "      <td>26996.704630</td>\n",
       "    </tr>\n",
       "    <tr>\n",
       "      <th>retiree</th>\n",
       "      <td>24522.216000</td>\n",
       "    </tr>\n",
       "    <tr>\n",
       "      <th rowspan=\"3\" valign=\"top\">5.0</th>\n",
       "      <th>business</th>\n",
       "      <td>29816.225500</td>\n",
       "    </tr>\n",
       "    <tr>\n",
       "      <th>civil_servant</th>\n",
       "      <td>20176.344000</td>\n",
       "    </tr>\n",
       "    <tr>\n",
       "      <th>employee</th>\n",
       "      <td>27668.396600</td>\n",
       "    </tr>\n",
       "  </tbody>\n",
       "</table>\n",
       "</div>"
      ],
      "text/plain": [
       "                        total_income\n",
       "children income_type                \n",
       "0.0      business       32385.039986\n",
       "         civil_servant  27939.766263\n",
       "         employee       25823.504156\n",
       "         entrepreneur   79866.103000\n",
       "         retiree        21792.006266\n",
       "         student        15712.260000\n",
       "         unemployed     32435.602000\n",
       "1.0      business       32228.141977\n",
       "         civil_servant  26151.320474\n",
       "         employee       25777.135121\n",
       "         retiree        23286.985710\n",
       "         unemployed      9593.119000\n",
       "2.0      business       32610.332073\n",
       "         civil_servant  26365.038181\n",
       "         employee       25591.072475\n",
       "         parent_leave    8612.661000\n",
       "         retiree        26391.040250\n",
       "3.0      business       33816.952569\n",
       "         civil_servant  29140.416917\n",
       "         employee       27695.360922\n",
       "         retiree        25301.815667\n",
       "4.0      business       23488.481500\n",
       "         civil_servant  31861.001000\n",
       "         employee       26996.704630\n",
       "         retiree        24522.216000\n",
       "5.0      business       29816.225500\n",
       "         civil_servant  20176.344000\n",
       "         employee       27668.396600"
      ]
     },
     "metadata": {},
     "output_type": "display_data"
    },
    {
     "data": {
      "text/plain": [
       "'medians:'"
      ]
     },
     "metadata": {},
     "output_type": "display_data"
    },
    {
     "data": {
      "text/html": [
       "<div>\n",
       "<style scoped>\n",
       "    .dataframe tbody tr th:only-of-type {\n",
       "        vertical-align: middle;\n",
       "    }\n",
       "\n",
       "    .dataframe tbody tr th {\n",
       "        vertical-align: top;\n",
       "    }\n",
       "\n",
       "    .dataframe thead th {\n",
       "        text-align: right;\n",
       "    }\n",
       "</style>\n",
       "<table border=\"1\" class=\"dataframe\">\n",
       "  <thead>\n",
       "    <tr style=\"text-align: right;\">\n",
       "      <th></th>\n",
       "      <th></th>\n",
       "      <th>total_income</th>\n",
       "    </tr>\n",
       "    <tr>\n",
       "      <th>children</th>\n",
       "      <th>income_type</th>\n",
       "      <th></th>\n",
       "    </tr>\n",
       "  </thead>\n",
       "  <tbody>\n",
       "    <tr>\n",
       "      <th rowspan=\"7\" valign=\"top\">0.0</th>\n",
       "      <th>business</th>\n",
       "      <td>27929.0980</td>\n",
       "    </tr>\n",
       "    <tr>\n",
       "      <th>civil_servant</th>\n",
       "      <td>24969.7880</td>\n",
       "    </tr>\n",
       "    <tr>\n",
       "      <th>employee</th>\n",
       "      <td>22872.1825</td>\n",
       "    </tr>\n",
       "    <tr>\n",
       "      <th>entrepreneur</th>\n",
       "      <td>79866.1030</td>\n",
       "    </tr>\n",
       "    <tr>\n",
       "      <th>retiree</th>\n",
       "      <td>18781.1670</td>\n",
       "    </tr>\n",
       "    <tr>\n",
       "      <th>student</th>\n",
       "      <td>15712.2600</td>\n",
       "    </tr>\n",
       "    <tr>\n",
       "      <th>unemployed</th>\n",
       "      <td>32435.6020</td>\n",
       "    </tr>\n",
       "    <tr>\n",
       "      <th rowspan=\"5\" valign=\"top\">1.0</th>\n",
       "      <th>business</th>\n",
       "      <td>26909.7545</td>\n",
       "    </tr>\n",
       "    <tr>\n",
       "      <th>civil_servant</th>\n",
       "      <td>22553.6195</td>\n",
       "    </tr>\n",
       "    <tr>\n",
       "      <th>employee</th>\n",
       "      <td>22944.8310</td>\n",
       "    </tr>\n",
       "    <tr>\n",
       "      <th>retiree</th>\n",
       "      <td>20051.6480</td>\n",
       "    </tr>\n",
       "    <tr>\n",
       "      <th>unemployed</th>\n",
       "      <td>9593.1190</td>\n",
       "    </tr>\n",
       "    <tr>\n",
       "      <th rowspan=\"5\" valign=\"top\">2.0</th>\n",
       "      <th>business</th>\n",
       "      <td>27387.2650</td>\n",
       "    </tr>\n",
       "    <tr>\n",
       "      <th>civil_servant</th>\n",
       "      <td>22781.1910</td>\n",
       "    </tr>\n",
       "    <tr>\n",
       "      <th>employee</th>\n",
       "      <td>22160.9305</td>\n",
       "    </tr>\n",
       "    <tr>\n",
       "      <th>parent_leave</th>\n",
       "      <td>8612.6610</td>\n",
       "    </tr>\n",
       "    <tr>\n",
       "      <th>retiree</th>\n",
       "      <td>22359.8005</td>\n",
       "    </tr>\n",
       "    <tr>\n",
       "      <th rowspan=\"4\" valign=\"top\">3.0</th>\n",
       "      <th>business</th>\n",
       "      <td>27835.9060</td>\n",
       "    </tr>\n",
       "    <tr>\n",
       "      <th>civil_servant</th>\n",
       "      <td>25909.3695</td>\n",
       "    </tr>\n",
       "    <tr>\n",
       "      <th>employee</th>\n",
       "      <td>23113.1695</td>\n",
       "    </tr>\n",
       "    <tr>\n",
       "      <th>retiree</th>\n",
       "      <td>18953.4285</td>\n",
       "    </tr>\n",
       "    <tr>\n",
       "      <th rowspan=\"4\" valign=\"top\">4.0</th>\n",
       "      <th>business</th>\n",
       "      <td>23488.4815</td>\n",
       "    </tr>\n",
       "    <tr>\n",
       "      <th>civil_servant</th>\n",
       "      <td>27209.0255</td>\n",
       "    </tr>\n",
       "    <tr>\n",
       "      <th>employee</th>\n",
       "      <td>25210.9740</td>\n",
       "    </tr>\n",
       "    <tr>\n",
       "      <th>retiree</th>\n",
       "      <td>24522.2160</td>\n",
       "    </tr>\n",
       "    <tr>\n",
       "      <th rowspan=\"3\" valign=\"top\">5.0</th>\n",
       "      <th>business</th>\n",
       "      <td>29816.2255</td>\n",
       "    </tr>\n",
       "    <tr>\n",
       "      <th>civil_servant</th>\n",
       "      <td>20176.3440</td>\n",
       "    </tr>\n",
       "    <tr>\n",
       "      <th>employee</th>\n",
       "      <td>34007.2590</td>\n",
       "    </tr>\n",
       "  </tbody>\n",
       "</table>\n",
       "</div>"
      ],
      "text/plain": [
       "                        total_income\n",
       "children income_type                \n",
       "0.0      business         27929.0980\n",
       "         civil_servant    24969.7880\n",
       "         employee         22872.1825\n",
       "         entrepreneur     79866.1030\n",
       "         retiree          18781.1670\n",
       "         student          15712.2600\n",
       "         unemployed       32435.6020\n",
       "1.0      business         26909.7545\n",
       "         civil_servant    22553.6195\n",
       "         employee         22944.8310\n",
       "         retiree          20051.6480\n",
       "         unemployed        9593.1190\n",
       "2.0      business         27387.2650\n",
       "         civil_servant    22781.1910\n",
       "         employee         22160.9305\n",
       "         parent_leave      8612.6610\n",
       "         retiree          22359.8005\n",
       "3.0      business         27835.9060\n",
       "         civil_servant    25909.3695\n",
       "         employee         23113.1695\n",
       "         retiree          18953.4285\n",
       "4.0      business         23488.4815\n",
       "         civil_servant    27209.0255\n",
       "         employee         25210.9740\n",
       "         retiree          24522.2160\n",
       "5.0      business         29816.2255\n",
       "         civil_servant    20176.3440\n",
       "         employee         34007.2590"
      ]
     },
     "metadata": {},
     "output_type": "display_data"
    }
   ],
   "source": [
    "numeric_columns = ['total_income']\n",
    "\n",
    "# Calcular las medias agrupadas por 'income_type' para las columnas en numeric_columns\n",
    "mean_values = credit.groupby(['children','income_type'])[numeric_columns].mean()\n",
    "\n",
    "# Calcular las medianas agrupadas por 'income_type' para las columnas en numeric_columns\n",
    "median_values = credit.groupby(['children','income_type'])[numeric_columns].median()\n",
    "\n",
    "\n",
    "\n",
    "# Comprobando el resultado\n",
    "display('mean:')\n",
    "display(mean_values)\n",
    "display()\n",
    "display('medians:')\n",
    "display(median_values)"
   ]
  },
  {
   "cell_type": "markdown",
   "metadata": {},
   "source": [
    "Imputar los valores ausentes en 'total_income' utilizando la mediana de los ingresos agrupados por 'children' e 'income_type' para obtener una estimación más representativa del ingreso de cada cliente en función de su situación particular de 'children' e 'income_type'.\n"
   ]
  },
  {
   "cell_type": "code",
   "execution_count": 52,
   "metadata": {},
   "outputs": [],
   "source": [
    "# Crear una tabla externa con las medianas de 'total_income' para cada combinación de 'income_type' y 'children'\n",
    "total_income_median = credit.groupby(['income_type', 'children'])['total_income'].median()\n",
    "\n",
    "# Función para imputar los valores ausentes en 'total_income'\n",
    "def total_income_nan(row):\n",
    "    income_type = row['income_type']\n",
    "    children = row['children']\n",
    "    median_income = total_income_median.loc[income_type, children]\n",
    "    \n",
    "    if pd.isna(row['total_income']):\n",
    "        return median_income\n",
    "    else:\n",
    "        return row['total_income']\n",
    "\n"
   ]
  },
  {
   "cell_type": "code",
   "execution_count": 53,
   "metadata": {},
   "outputs": [],
   "source": [
    "\n",
    "credit['total_income'] = credit.apply(total_income_nan, axis=1)"
   ]
  },
  {
   "cell_type": "code",
   "execution_count": 54,
   "metadata": {},
   "outputs": [
    {
     "name": "stdout",
     "output_type": "stream",
     "text": [
      "<class 'pandas.core.frame.DataFrame'>\n",
      "RangeIndex: 21454 entries, 0 to 21453\n",
      "Data columns (total 13 columns):\n",
      " #   Column            Non-Null Count  Dtype  \n",
      "---  ------            --------------  -----  \n",
      " 0   children          21454 non-null  float64\n",
      " 1   days_employed     19351 non-null  float64\n",
      " 2   dob_years         21454 non-null  int64  \n",
      " 3   education         21454 non-null  object \n",
      " 4   education_id      21454 non-null  int64  \n",
      " 5   family_status     21454 non-null  object \n",
      " 6   family_status_id  21454 non-null  int64  \n",
      " 7   gender            21454 non-null  object \n",
      " 8   income_type       21454 non-null  object \n",
      " 9   debt              21454 non-null  int64  \n",
      " 10  total_income      21454 non-null  float64\n",
      " 11  purpose           21454 non-null  object \n",
      " 12  age_group         21454 non-null  object \n",
      "dtypes: float64(3), int64(4), object(6)\n",
      "memory usage: 2.1+ MB\n"
     ]
    }
   ],
   "source": [
    "# Comprueba si tenemos algún error\n",
    "credit.info()"
   ]
  },
  {
   "cell_type": "code",
   "execution_count": 55,
   "metadata": {},
   "outputs": [
    {
     "data": {
      "text/plain": [
       "children            21454\n",
       "days_employed       19351\n",
       "dob_years           21454\n",
       "education           21454\n",
       "education_id        21454\n",
       "family_status       21454\n",
       "family_status_id    21454\n",
       "gender              21454\n",
       "income_type         21454\n",
       "debt                21454\n",
       "total_income        21454\n",
       "purpose             21454\n",
       "age_group           21454\n",
       "dtype: int64"
      ]
     },
     "execution_count": 55,
     "metadata": {},
     "output_type": "execute_result"
    }
   ],
   "source": [
    "# Comprobar el número de entradas en las columnas\n",
    "\n",
    "credit.count()"
   ]
  },
  {
   "cell_type": "markdown",
   "metadata": {},
   "source": [
    "###  Restaurar valores en `days_employed`"
   ]
  },
  {
   "cell_type": "markdown",
   "metadata": {},
   "source": [
    "Para restaurar los valores ausentes en la columna 'days_employed', podemos seguir un enfoque similar al que utilizamos para restaurar los valores en la columna 'total_income'. Es decir, agrupar los datos por características relevantes y calcular la mediana de 'days_employed' dentro de cada grupo."
   ]
  },
  {
   "cell_type": "code",
   "execution_count": 56,
   "metadata": {
    "pycharm": {
     "name": "#%%\n"
    }
   },
   "outputs": [
    {
     "data": {
      "text/plain": [
       "'mean:'"
      ]
     },
     "metadata": {},
     "output_type": "display_data"
    },
    {
     "data": {
      "text/html": [
       "<div>\n",
       "<style scoped>\n",
       "    .dataframe tbody tr th:only-of-type {\n",
       "        vertical-align: middle;\n",
       "    }\n",
       "\n",
       "    .dataframe tbody tr th {\n",
       "        vertical-align: top;\n",
       "    }\n",
       "\n",
       "    .dataframe thead th {\n",
       "        text-align: right;\n",
       "    }\n",
       "</style>\n",
       "<table border=\"1\" class=\"dataframe\">\n",
       "  <thead>\n",
       "    <tr style=\"text-align: right;\">\n",
       "      <th></th>\n",
       "      <th></th>\n",
       "      <th>days_employed</th>\n",
       "    </tr>\n",
       "    <tr>\n",
       "      <th>education_id</th>\n",
       "      <th>income_type</th>\n",
       "      <th></th>\n",
       "    </tr>\n",
       "  </thead>\n",
       "  <tbody>\n",
       "    <tr>\n",
       "      <th rowspan=\"7\" valign=\"top\">0</th>\n",
       "      <th>business</th>\n",
       "      <td>2018.687160</td>\n",
       "    </tr>\n",
       "    <tr>\n",
       "      <th>civil_servant</th>\n",
       "      <td>3182.314561</td>\n",
       "    </tr>\n",
       "    <tr>\n",
       "      <th>employee</th>\n",
       "      <td>2266.736782</td>\n",
       "    </tr>\n",
       "    <tr>\n",
       "      <th>entrepreneur</th>\n",
       "      <td>520.848083</td>\n",
       "    </tr>\n",
       "    <tr>\n",
       "      <th>retiree</th>\n",
       "      <td>18250.000000</td>\n",
       "    </tr>\n",
       "    <tr>\n",
       "      <th>student</th>\n",
       "      <td>578.751554</td>\n",
       "    </tr>\n",
       "    <tr>\n",
       "      <th>unemployed</th>\n",
       "      <td>18250.000000</td>\n",
       "    </tr>\n",
       "    <tr>\n",
       "      <th rowspan=\"6\" valign=\"top\">1</th>\n",
       "      <th>business</th>\n",
       "      <td>2235.658250</td>\n",
       "    </tr>\n",
       "    <tr>\n",
       "      <th>civil_servant</th>\n",
       "      <td>3604.210297</td>\n",
       "    </tr>\n",
       "    <tr>\n",
       "      <th>employee</th>\n",
       "      <td>2384.626455</td>\n",
       "    </tr>\n",
       "    <tr>\n",
       "      <th>parent_leave</th>\n",
       "      <td>3296.759962</td>\n",
       "    </tr>\n",
       "    <tr>\n",
       "      <th>retiree</th>\n",
       "      <td>18250.000000</td>\n",
       "    </tr>\n",
       "    <tr>\n",
       "      <th>unemployed</th>\n",
       "      <td>18250.000000</td>\n",
       "    </tr>\n",
       "    <tr>\n",
       "      <th rowspan=\"4\" valign=\"top\">2</th>\n",
       "      <th>business</th>\n",
       "      <td>1412.927180</td>\n",
       "    </tr>\n",
       "    <tr>\n",
       "      <th>civil_servant</th>\n",
       "      <td>2216.913600</td>\n",
       "    </tr>\n",
       "    <tr>\n",
       "      <th>employee</th>\n",
       "      <td>1590.509656</td>\n",
       "    </tr>\n",
       "    <tr>\n",
       "      <th>retiree</th>\n",
       "      <td>18250.000000</td>\n",
       "    </tr>\n",
       "    <tr>\n",
       "      <th rowspan=\"4\" valign=\"top\">3</th>\n",
       "      <th>business</th>\n",
       "      <td>2019.310449</td>\n",
       "    </tr>\n",
       "    <tr>\n",
       "      <th>civil_servant</th>\n",
       "      <td>3483.831436</td>\n",
       "    </tr>\n",
       "    <tr>\n",
       "      <th>employee</th>\n",
       "      <td>1853.910264</td>\n",
       "    </tr>\n",
       "    <tr>\n",
       "      <th>retiree</th>\n",
       "      <td>18250.000000</td>\n",
       "    </tr>\n",
       "    <tr>\n",
       "      <th rowspan=\"3\" valign=\"top\">4</th>\n",
       "      <th>civil_servant</th>\n",
       "      <td>5968.075884</td>\n",
       "    </tr>\n",
       "    <tr>\n",
       "      <th>employee</th>\n",
       "      <td>2704.223421</td>\n",
       "    </tr>\n",
       "    <tr>\n",
       "      <th>retiree</th>\n",
       "      <td>18250.000000</td>\n",
       "    </tr>\n",
       "  </tbody>\n",
       "</table>\n",
       "</div>"
      ],
      "text/plain": [
       "                            days_employed\n",
       "education_id income_type                 \n",
       "0            business         2018.687160\n",
       "             civil_servant    3182.314561\n",
       "             employee         2266.736782\n",
       "             entrepreneur      520.848083\n",
       "             retiree         18250.000000\n",
       "             student           578.751554\n",
       "             unemployed      18250.000000\n",
       "1            business         2235.658250\n",
       "             civil_servant    3604.210297\n",
       "             employee         2384.626455\n",
       "             parent_leave     3296.759962\n",
       "             retiree         18250.000000\n",
       "             unemployed      18250.000000\n",
       "2            business         1412.927180\n",
       "             civil_servant    2216.913600\n",
       "             employee         1590.509656\n",
       "             retiree         18250.000000\n",
       "3            business         2019.310449\n",
       "             civil_servant    3483.831436\n",
       "             employee         1853.910264\n",
       "             retiree         18250.000000\n",
       "4            civil_servant    5968.075884\n",
       "             employee         2704.223421\n",
       "             retiree         18250.000000"
      ]
     },
     "metadata": {},
     "output_type": "display_data"
    },
    {
     "data": {
      "text/plain": [
       "'medians:'"
      ]
     },
     "metadata": {},
     "output_type": "display_data"
    },
    {
     "data": {
      "text/html": [
       "<div>\n",
       "<style scoped>\n",
       "    .dataframe tbody tr th:only-of-type {\n",
       "        vertical-align: middle;\n",
       "    }\n",
       "\n",
       "    .dataframe tbody tr th {\n",
       "        vertical-align: top;\n",
       "    }\n",
       "\n",
       "    .dataframe thead th {\n",
       "        text-align: right;\n",
       "    }\n",
       "</style>\n",
       "<table border=\"1\" class=\"dataframe\">\n",
       "  <thead>\n",
       "    <tr style=\"text-align: right;\">\n",
       "      <th></th>\n",
       "      <th></th>\n",
       "      <th>days_employed</th>\n",
       "    </tr>\n",
       "    <tr>\n",
       "      <th>education_id</th>\n",
       "      <th>income_type</th>\n",
       "      <th></th>\n",
       "    </tr>\n",
       "  </thead>\n",
       "  <tbody>\n",
       "    <tr>\n",
       "      <th rowspan=\"7\" valign=\"top\">0</th>\n",
       "      <th>business</th>\n",
       "      <td>1454.659104</td>\n",
       "    </tr>\n",
       "    <tr>\n",
       "      <th>civil_servant</th>\n",
       "      <td>2531.034209</td>\n",
       "    </tr>\n",
       "    <tr>\n",
       "      <th>employee</th>\n",
       "      <td>1556.457266</td>\n",
       "    </tr>\n",
       "    <tr>\n",
       "      <th>entrepreneur</th>\n",
       "      <td>520.848083</td>\n",
       "    </tr>\n",
       "    <tr>\n",
       "      <th>retiree</th>\n",
       "      <td>18250.000000</td>\n",
       "    </tr>\n",
       "    <tr>\n",
       "      <th>student</th>\n",
       "      <td>578.751554</td>\n",
       "    </tr>\n",
       "    <tr>\n",
       "      <th>unemployed</th>\n",
       "      <td>18250.000000</td>\n",
       "    </tr>\n",
       "    <tr>\n",
       "      <th rowspan=\"6\" valign=\"top\">1</th>\n",
       "      <th>business</th>\n",
       "      <td>1670.809068</td>\n",
       "    </tr>\n",
       "    <tr>\n",
       "      <th>civil_servant</th>\n",
       "      <td>2857.770974</td>\n",
       "    </tr>\n",
       "    <tr>\n",
       "      <th>employee</th>\n",
       "      <td>1613.581420</td>\n",
       "    </tr>\n",
       "    <tr>\n",
       "      <th>parent_leave</th>\n",
       "      <td>3296.759962</td>\n",
       "    </tr>\n",
       "    <tr>\n",
       "      <th>retiree</th>\n",
       "      <td>18250.000000</td>\n",
       "    </tr>\n",
       "    <tr>\n",
       "      <th>unemployed</th>\n",
       "      <td>18250.000000</td>\n",
       "    </tr>\n",
       "    <tr>\n",
       "      <th rowspan=\"4\" valign=\"top\">2</th>\n",
       "      <th>business</th>\n",
       "      <td>1017.888120</td>\n",
       "    </tr>\n",
       "    <tr>\n",
       "      <th>civil_servant</th>\n",
       "      <td>1885.183639</td>\n",
       "    </tr>\n",
       "    <tr>\n",
       "      <th>employee</th>\n",
       "      <td>1197.676879</td>\n",
       "    </tr>\n",
       "    <tr>\n",
       "      <th>retiree</th>\n",
       "      <td>18250.000000</td>\n",
       "    </tr>\n",
       "    <tr>\n",
       "      <th rowspan=\"4\" valign=\"top\">3</th>\n",
       "      <th>business</th>\n",
       "      <td>1151.634460</td>\n",
       "    </tr>\n",
       "    <tr>\n",
       "      <th>civil_servant</th>\n",
       "      <td>2787.767403</td>\n",
       "    </tr>\n",
       "    <tr>\n",
       "      <th>employee</th>\n",
       "      <td>1197.176853</td>\n",
       "    </tr>\n",
       "    <tr>\n",
       "      <th>retiree</th>\n",
       "      <td>18250.000000</td>\n",
       "    </tr>\n",
       "    <tr>\n",
       "      <th rowspan=\"3\" valign=\"top\">4</th>\n",
       "      <th>civil_servant</th>\n",
       "      <td>5968.075884</td>\n",
       "    </tr>\n",
       "    <tr>\n",
       "      <th>employee</th>\n",
       "      <td>2351.431934</td>\n",
       "    </tr>\n",
       "    <tr>\n",
       "      <th>retiree</th>\n",
       "      <td>18250.000000</td>\n",
       "    </tr>\n",
       "  </tbody>\n",
       "</table>\n",
       "</div>"
      ],
      "text/plain": [
       "                            days_employed\n",
       "education_id income_type                 \n",
       "0            business         1454.659104\n",
       "             civil_servant    2531.034209\n",
       "             employee         1556.457266\n",
       "             entrepreneur      520.848083\n",
       "             retiree         18250.000000\n",
       "             student           578.751554\n",
       "             unemployed      18250.000000\n",
       "1            business         1670.809068\n",
       "             civil_servant    2857.770974\n",
       "             employee         1613.581420\n",
       "             parent_leave     3296.759962\n",
       "             retiree         18250.000000\n",
       "             unemployed      18250.000000\n",
       "2            business         1017.888120\n",
       "             civil_servant    1885.183639\n",
       "             employee         1197.676879\n",
       "             retiree         18250.000000\n",
       "3            business         1151.634460\n",
       "             civil_servant    2787.767403\n",
       "             employee         1197.176853\n",
       "             retiree         18250.000000\n",
       "4            civil_servant    5968.075884\n",
       "             employee         2351.431934\n",
       "             retiree         18250.000000"
      ]
     },
     "metadata": {},
     "output_type": "display_data"
    }
   ],
   "source": [
    "numeric_columns = [ 'days_employed']\n",
    "\n",
    "# Calcular las medias agrupadas por 'income_type' para las columnas en numeric_columns\n",
    "mean_values = credit.groupby(['education_id','income_type'])[numeric_columns].mean()\n",
    "\n",
    "# Calcular las medianas agrupadas por 'income_type' para las columnas en numeric_columns\n",
    "median_values = credit.groupby(['education_id','income_type'])[numeric_columns].median()\n",
    "\n",
    "\n",
    "\n",
    "# Comprobando el resultado\n",
    "display('mean:')\n",
    "display(mean_values)\n",
    "display()\n",
    "display('medians:')\n",
    "display(median_values)\n"
   ]
  },
  {
   "cell_type": "code",
   "execution_count": 57,
   "metadata": {},
   "outputs": [],
   "source": [
    "# Calcular las medianas agrupadas por 'education_id' e 'income_type' para la columna 'days_employed'\n",
    "median_days_employed = credit.groupby(['education_id', 'income_type'])['days_employed'].median()\n",
    "\n",
    "# Definir la función para imputar los valores ausentes en 'days_employed'\n",
    "def days_employed_nan(row):\n",
    "    if pd.isna(row['days_employed']):\n",
    "        education_id = row['education_id']\n",
    "        income_type = row['income_type']\n",
    "        return median_days_employed.loc[(education_id, income_type)]\n",
    "    return row['days_employed']\n",
    "\n",
    "# Aplicar la función para reemplazar los valores ausentes en 'days_employed'\n",
    "credit['days_employed'] = credit.apply(days_employed_nan, axis=1)"
   ]
  },
  {
   "cell_type": "markdown",
   "metadata": {},
   "source": [
    "<div class=\"alert alert-block alert-success\">\n",
    "<b>Comentario del revisor</b> <a class=\"tocSkip\"></a>\n",
    "    \n",
    "Buen trabajo.\n",
    "</div>"
   ]
  },
  {
   "cell_type": "code",
   "execution_count": 58,
   "metadata": {
    "scrolled": true
   },
   "outputs": [
    {
     "data": {
      "text/plain": [
       "education_id  income_type  \n",
       "0             business          1959.947396\n",
       "              civil_servant     3111.006494\n",
       "              employee          2196.225508\n",
       "              entrepreneur       520.848083\n",
       "              retiree          18250.000000\n",
       "              student            578.751554\n",
       "              unemployed       18250.000000\n",
       "1             business          2179.950213\n",
       "              civil_servant     3536.432198\n",
       "              employee          2310.698331\n",
       "              parent_leave      3296.759962\n",
       "              retiree          18250.000000\n",
       "              unemployed       18250.000000\n",
       "2             business          1384.810521\n",
       "              civil_servant     2178.637066\n",
       "              employee          1551.226378\n",
       "              retiree          18250.000000\n",
       "3             business          1990.387916\n",
       "              civil_servant     3309.815428\n",
       "              employee          1799.559912\n",
       "              retiree          18250.000000\n",
       "4             civil_servant     5968.075884\n",
       "              employee          2704.223421\n",
       "              retiree          18250.000000\n",
       "Name: days_employed, dtype: float64"
      ]
     },
     "execution_count": 58,
     "metadata": {},
     "output_type": "execute_result"
    }
   ],
   "source": [
    "# Distribución de las medias de `days_employed` en función de los parámetros identificados\n",
    "mean_days_employed = credit.groupby(['education_id', 'income_type'])['days_employed'].mean()\n",
    "mean_days_employed"
   ]
  },
  {
   "cell_type": "code",
   "execution_count": 59,
   "metadata": {},
   "outputs": [
    {
     "name": "stdout",
     "output_type": "stream",
     "text": [
      "<class 'pandas.core.frame.DataFrame'>\n",
      "RangeIndex: 21454 entries, 0 to 21453\n",
      "Data columns (total 13 columns):\n",
      " #   Column            Non-Null Count  Dtype  \n",
      "---  ------            --------------  -----  \n",
      " 0   children          21454 non-null  float64\n",
      " 1   days_employed     21454 non-null  float64\n",
      " 2   dob_years         21454 non-null  int64  \n",
      " 3   education         21454 non-null  object \n",
      " 4   education_id      21454 non-null  int64  \n",
      " 5   family_status     21454 non-null  object \n",
      " 6   family_status_id  21454 non-null  int64  \n",
      " 7   gender            21454 non-null  object \n",
      " 8   income_type       21454 non-null  object \n",
      " 9   debt              21454 non-null  int64  \n",
      " 10  total_income      21454 non-null  float64\n",
      " 11  purpose           21454 non-null  object \n",
      " 12  age_group         21454 non-null  object \n",
      "dtypes: float64(3), int64(4), object(6)\n",
      "memory usage: 2.1+ MB\n"
     ]
    }
   ],
   "source": [
    "#comprobando cambios\n",
    "credit.info()"
   ]
  },
  {
   "cell_type": "markdown",
   "metadata": {},
   "source": [
    "## Clasificación de datos\n",
    "\n",
    "\n",
    "La clasificación de los datos nos ayuda a analizar los patrones y tendencias de manera más efectiva y a responder a preguntas específicas sobre grupos particulares.\n"
   ]
  },
  {
   "cell_type": "code",
   "execution_count": 60,
   "metadata": {
    "scrolled": true
   },
   "outputs": [
    {
     "data": {
      "text/html": [
       "<div>\n",
       "<style scoped>\n",
       "    .dataframe tbody tr th:only-of-type {\n",
       "        vertical-align: middle;\n",
       "    }\n",
       "\n",
       "    .dataframe tbody tr th {\n",
       "        vertical-align: top;\n",
       "    }\n",
       "\n",
       "    .dataframe thead th {\n",
       "        text-align: right;\n",
       "    }\n",
       "</style>\n",
       "<table border=\"1\" class=\"dataframe\">\n",
       "  <thead>\n",
       "    <tr style=\"text-align: right;\">\n",
       "      <th></th>\n",
       "      <th>children</th>\n",
       "      <th>days_employed</th>\n",
       "      <th>dob_years</th>\n",
       "      <th>education</th>\n",
       "      <th>education_id</th>\n",
       "      <th>family_status</th>\n",
       "      <th>family_status_id</th>\n",
       "      <th>gender</th>\n",
       "      <th>income_type</th>\n",
       "      <th>debt</th>\n",
       "      <th>total_income</th>\n",
       "      <th>purpose</th>\n",
       "      <th>age_group</th>\n",
       "    </tr>\n",
       "  </thead>\n",
       "  <tbody>\n",
       "    <tr>\n",
       "      <th>0</th>\n",
       "      <td>1.0</td>\n",
       "      <td>8437.673028</td>\n",
       "      <td>42</td>\n",
       "      <td>bachelor_degree</td>\n",
       "      <td>0</td>\n",
       "      <td>married</td>\n",
       "      <td>0</td>\n",
       "      <td>F</td>\n",
       "      <td>employee</td>\n",
       "      <td>0</td>\n",
       "      <td>40620.102</td>\n",
       "      <td>purchase of the house</td>\n",
       "      <td>40-49</td>\n",
       "    </tr>\n",
       "    <tr>\n",
       "      <th>1</th>\n",
       "      <td>1.0</td>\n",
       "      <td>4024.803754</td>\n",
       "      <td>36</td>\n",
       "      <td>secondary_education</td>\n",
       "      <td>1</td>\n",
       "      <td>married</td>\n",
       "      <td>0</td>\n",
       "      <td>F</td>\n",
       "      <td>employee</td>\n",
       "      <td>0</td>\n",
       "      <td>17932.802</td>\n",
       "      <td>car purchase</td>\n",
       "      <td>30-39</td>\n",
       "    </tr>\n",
       "    <tr>\n",
       "      <th>2</th>\n",
       "      <td>0.0</td>\n",
       "      <td>5623.422610</td>\n",
       "      <td>33</td>\n",
       "      <td>secondary_education</td>\n",
       "      <td>1</td>\n",
       "      <td>married</td>\n",
       "      <td>0</td>\n",
       "      <td>M</td>\n",
       "      <td>employee</td>\n",
       "      <td>0</td>\n",
       "      <td>23341.752</td>\n",
       "      <td>purchase of the house</td>\n",
       "      <td>30-39</td>\n",
       "    </tr>\n",
       "    <tr>\n",
       "      <th>3</th>\n",
       "      <td>3.0</td>\n",
       "      <td>4124.747207</td>\n",
       "      <td>32</td>\n",
       "      <td>secondary_education</td>\n",
       "      <td>1</td>\n",
       "      <td>married</td>\n",
       "      <td>0</td>\n",
       "      <td>M</td>\n",
       "      <td>employee</td>\n",
       "      <td>0</td>\n",
       "      <td>42820.568</td>\n",
       "      <td>supplementary education</td>\n",
       "      <td>30-39</td>\n",
       "    </tr>\n",
       "    <tr>\n",
       "      <th>4</th>\n",
       "      <td>0.0</td>\n",
       "      <td>18250.000000</td>\n",
       "      <td>53</td>\n",
       "      <td>secondary_education</td>\n",
       "      <td>1</td>\n",
       "      <td>civil_partnership</td>\n",
       "      <td>1</td>\n",
       "      <td>F</td>\n",
       "      <td>retiree</td>\n",
       "      <td>0</td>\n",
       "      <td>25378.572</td>\n",
       "      <td>to have a wedding</td>\n",
       "      <td>50-59</td>\n",
       "    </tr>\n",
       "    <tr>\n",
       "      <th>...</th>\n",
       "      <td>...</td>\n",
       "      <td>...</td>\n",
       "      <td>...</td>\n",
       "      <td>...</td>\n",
       "      <td>...</td>\n",
       "      <td>...</td>\n",
       "      <td>...</td>\n",
       "      <td>...</td>\n",
       "      <td>...</td>\n",
       "      <td>...</td>\n",
       "      <td>...</td>\n",
       "      <td>...</td>\n",
       "      <td>...</td>\n",
       "    </tr>\n",
       "    <tr>\n",
       "      <th>21449</th>\n",
       "      <td>1.0</td>\n",
       "      <td>4529.316663</td>\n",
       "      <td>43</td>\n",
       "      <td>secondary_education</td>\n",
       "      <td>1</td>\n",
       "      <td>civil_partnership</td>\n",
       "      <td>1</td>\n",
       "      <td>F</td>\n",
       "      <td>business</td>\n",
       "      <td>0</td>\n",
       "      <td>35966.698</td>\n",
       "      <td>housing transactions</td>\n",
       "      <td>40-49</td>\n",
       "    </tr>\n",
       "    <tr>\n",
       "      <th>21450</th>\n",
       "      <td>0.0</td>\n",
       "      <td>18250.000000</td>\n",
       "      <td>67</td>\n",
       "      <td>secondary_education</td>\n",
       "      <td>1</td>\n",
       "      <td>married</td>\n",
       "      <td>0</td>\n",
       "      <td>F</td>\n",
       "      <td>retiree</td>\n",
       "      <td>0</td>\n",
       "      <td>24959.969</td>\n",
       "      <td>purchase of a car</td>\n",
       "      <td>60-69</td>\n",
       "    </tr>\n",
       "    <tr>\n",
       "      <th>21451</th>\n",
       "      <td>1.0</td>\n",
       "      <td>2113.346888</td>\n",
       "      <td>38</td>\n",
       "      <td>secondary_education</td>\n",
       "      <td>1</td>\n",
       "      <td>civil_partnership</td>\n",
       "      <td>1</td>\n",
       "      <td>M</td>\n",
       "      <td>employee</td>\n",
       "      <td>1</td>\n",
       "      <td>14347.610</td>\n",
       "      <td>property</td>\n",
       "      <td>30-39</td>\n",
       "    </tr>\n",
       "    <tr>\n",
       "      <th>21452</th>\n",
       "      <td>3.0</td>\n",
       "      <td>3112.481705</td>\n",
       "      <td>38</td>\n",
       "      <td>secondary_education</td>\n",
       "      <td>1</td>\n",
       "      <td>married</td>\n",
       "      <td>0</td>\n",
       "      <td>M</td>\n",
       "      <td>employee</td>\n",
       "      <td>1</td>\n",
       "      <td>39054.888</td>\n",
       "      <td>buying my own car</td>\n",
       "      <td>30-39</td>\n",
       "    </tr>\n",
       "    <tr>\n",
       "      <th>21453</th>\n",
       "      <td>2.0</td>\n",
       "      <td>1984.507589</td>\n",
       "      <td>40</td>\n",
       "      <td>secondary_education</td>\n",
       "      <td>1</td>\n",
       "      <td>married</td>\n",
       "      <td>0</td>\n",
       "      <td>F</td>\n",
       "      <td>employee</td>\n",
       "      <td>0</td>\n",
       "      <td>13127.587</td>\n",
       "      <td>to buy a car</td>\n",
       "      <td>40-49</td>\n",
       "    </tr>\n",
       "  </tbody>\n",
       "</table>\n",
       "<p>21454 rows × 13 columns</p>\n",
       "</div>"
      ],
      "text/plain": [
       "       children  days_employed  dob_years            education  education_id  \\\n",
       "0           1.0    8437.673028         42      bachelor_degree             0   \n",
       "1           1.0    4024.803754         36  secondary_education             1   \n",
       "2           0.0    5623.422610         33  secondary_education             1   \n",
       "3           3.0    4124.747207         32  secondary_education             1   \n",
       "4           0.0   18250.000000         53  secondary_education             1   \n",
       "...         ...            ...        ...                  ...           ...   \n",
       "21449       1.0    4529.316663         43  secondary_education             1   \n",
       "21450       0.0   18250.000000         67  secondary_education             1   \n",
       "21451       1.0    2113.346888         38  secondary_education             1   \n",
       "21452       3.0    3112.481705         38  secondary_education             1   \n",
       "21453       2.0    1984.507589         40  secondary_education             1   \n",
       "\n",
       "           family_status  family_status_id gender income_type  debt  \\\n",
       "0                married                 0      F    employee     0   \n",
       "1                married                 0      F    employee     0   \n",
       "2                married                 0      M    employee     0   \n",
       "3                married                 0      M    employee     0   \n",
       "4      civil_partnership                 1      F     retiree     0   \n",
       "...                  ...               ...    ...         ...   ...   \n",
       "21449  civil_partnership                 1      F    business     0   \n",
       "21450            married                 0      F     retiree     0   \n",
       "21451  civil_partnership                 1      M    employee     1   \n",
       "21452            married                 0      M    employee     1   \n",
       "21453            married                 0      F    employee     0   \n",
       "\n",
       "       total_income                  purpose age_group  \n",
       "0         40620.102    purchase of the house     40-49  \n",
       "1         17932.802             car purchase     30-39  \n",
       "2         23341.752    purchase of the house     30-39  \n",
       "3         42820.568  supplementary education     30-39  \n",
       "4         25378.572        to have a wedding     50-59  \n",
       "...             ...                      ...       ...  \n",
       "21449     35966.698     housing transactions     40-49  \n",
       "21450     24959.969        purchase of a car     60-69  \n",
       "21451     14347.610                 property     30-39  \n",
       "21452     39054.888        buying my own car     30-39  \n",
       "21453     13127.587             to buy a car     40-49  \n",
       "\n",
       "[21454 rows x 13 columns]"
      ]
     },
     "execution_count": 60,
     "metadata": {},
     "output_type": "execute_result"
    }
   ],
   "source": [
    "# Muestra los valores de los datos seleccionados para la clasificación\n",
    "\n",
    "credit\n"
   ]
  },
  {
   "cell_type": "markdown",
   "metadata": {},
   "source": [
    "**Comprobando valores únicos en la columna 'total_income' para poder clasificarlos**"
   ]
  },
  {
   "cell_type": "code",
   "execution_count": 61,
   "metadata": {},
   "outputs": [
    {
     "data": {
      "text/plain": [
       "array([40620.102, 17932.802, 23341.752, ..., 14347.61 , 39054.888,\n",
       "       13127.587])"
      ]
     },
     "execution_count": 61,
     "metadata": {},
     "output_type": "execute_result"
    }
   ],
   "source": [
    "# Comprobar los valores únicos para la columna 'total_income'\n",
    "credit['total_income'].unique()"
   ]
  },
  {
   "cell_type": "code",
   "execution_count": 62,
   "metadata": {},
   "outputs": [],
   "source": [
    "# Crear una función para clasificar 'total_income' en diferentes grupos numéricos basándose en rangos\n",
    "def income_group(total_income):\n",
    "    if total_income < 17208.83:\n",
    "        return 'Ingresos bajos'\n",
    "    elif total_income < 22944.831:\n",
    "        return 'Ingresos medios bajos'\n",
    "    elif total_income < 31340.02:\n",
    "        return 'Ingresos medios altos'\n",
    "    elif total_income < 362496.645:\n",
    "        return 'Ingresos altos'\n",
    "    else:\n",
    "        return 'Ingresos muy altos'\n"
   ]
  },
  {
   "cell_type": "code",
   "execution_count": 63,
   "metadata": {},
   "outputs": [],
   "source": [
    "# Crear una columna con categorías\n",
    "\n",
    "credit['income_group'] = credit['total_income'].apply(income_group)\n"
   ]
  },
  {
   "cell_type": "code",
   "execution_count": 64,
   "metadata": {},
   "outputs": [
    {
     "data": {
      "text/plain": [
       "count                     21454\n",
       "unique                        5\n",
       "top       Ingresos medios altos\n",
       "freq                       5405\n",
       "Name: income_group, dtype: object"
      ]
     },
     "execution_count": 64,
     "metadata": {},
     "output_type": "execute_result"
    }
   ],
   "source": [
    "# Contar los valores de cada categoría para ver la distribución\n",
    "credit['income_group'].describe()\n"
   ]
  },
  {
   "cell_type": "markdown",
   "metadata": {},
   "source": [
    "**Comprobando valores únicos en la columna 'children'**"
   ]
  },
  {
   "cell_type": "code",
   "execution_count": 65,
   "metadata": {},
   "outputs": [
    {
     "data": {
      "text/plain": [
       "array([1., 0., 3., 2., 4., 5.])"
      ]
     },
     "execution_count": 65,
     "metadata": {},
     "output_type": "execute_result"
    }
   ],
   "source": [
    "# Comprobar los valores únicos\n",
    "credit['children'].unique()"
   ]
  },
  {
   "cell_type": "markdown",
   "metadata": {},
   "source": [
    "\n",
    "He identificado los siguientes grupos:\n",
    "\n",
    "0    Sin hijos\n",
    "\n",
    "1-2  De 1 a 2 hijos\n",
    "\n",
    "+3   mas de 3 hijos"
   ]
  },
  {
   "cell_type": "code",
   "execution_count": 66,
   "metadata": {},
   "outputs": [],
   "source": [
    "# Crear una función para clasificar 'children' en diferentes grupos numéricos basándose en rangos\n",
    "def children_group(cantidad):\n",
    "    if cantidad==0:\n",
    "        return 'Sin hijos'\n",
    "    if cantidad>=1 and cantidad<3:\n",
    "        return 'De 1 a 2 hijos'\n",
    "    if cantidad>=3:\n",
    "        return 'Más de 3 hijos'\n"
   ]
  },
  {
   "cell_type": "code",
   "execution_count": 67,
   "metadata": {},
   "outputs": [],
   "source": [
    "# Crear una columna con categorías\n",
    "\n",
    "credit['children_group'] = credit['children'].apply(children_group)"
   ]
  },
  {
   "cell_type": "code",
   "execution_count": 68,
   "metadata": {},
   "outputs": [
    {
     "data": {
      "text/plain": [
       "Sin hijos         14138\n",
       "De 1 a 2 hijos     6936\n",
       "Más de 3 hijos      380\n",
       "Name: children_group, dtype: int64"
      ]
     },
     "execution_count": 68,
     "metadata": {},
     "output_type": "execute_result"
    }
   ],
   "source": [
    "# Contar los valores de cada categoría para ver la distribución\n",
    "credit['children_group'].value_counts()"
   ]
  },
  {
   "cell_type": "markdown",
   "metadata": {},
   "source": [
    "**Comprobando valores únicos en la columna 'purpose' para clasificarla ya que contiene muchas entradas para un valor.**"
   ]
  },
  {
   "cell_type": "code",
   "execution_count": 69,
   "metadata": {},
   "outputs": [
    {
     "data": {
      "text/plain": [
       "array(['purchase of the house', 'car purchase', 'supplementary education',\n",
       "       'to have a wedding', 'housing transactions', 'education',\n",
       "       'having a wedding', 'purchase of the house for my family',\n",
       "       'buy real estate', 'buy commercial real estate',\n",
       "       'buy residential real estate', 'construction of own property',\n",
       "       'property', 'building a property', 'buying a second-hand car',\n",
       "       'buying my own car', 'transactions with commercial real estate',\n",
       "       'building a real estate', 'housing',\n",
       "       'transactions with my real estate', 'cars', 'to become educated',\n",
       "       'second-hand car purchase', 'getting an education', 'car',\n",
       "       'wedding ceremony', 'to get a supplementary education',\n",
       "       'purchase of my own house', 'real estate transactions',\n",
       "       'getting higher education', 'to own a car', 'purchase of a car',\n",
       "       'profile education', 'university education',\n",
       "       'buying property for renting out', 'to buy a car',\n",
       "       'housing renovation', 'going to university'], dtype=object)"
      ]
     },
     "execution_count": 69,
     "metadata": {},
     "output_type": "execute_result"
    }
   ],
   "source": [
    "# Comprobar los valores únicos\n",
    "credit['purpose'].unique()"
   ]
  },
  {
   "cell_type": "code",
   "execution_count": 70,
   "metadata": {},
   "outputs": [],
   "source": [
    "# Crear una función para clasificar 'purpose' en diferentes grupos numéricos basándose en rangos\n",
    "def purpose_group(valor):\n",
    "    if ('house' in valor) or ('housing' in valor) or ('property' in valor) or ('real estate' in valor):\n",
    "        return 'Property'\n",
    "    if ('car' in valor):\n",
    "        return 'Car'\n",
    "    if ('education' in valor) or ('university' in valor) or ('educated' in valor):\n",
    "        return 'Education'\n",
    "    if ('wedding' in valor):\n",
    "        return 'Wedding'\n",
    "    else:\n",
    "        return 'Other'"
   ]
  },
  {
   "cell_type": "code",
   "execution_count": 71,
   "metadata": {
    "scrolled": true
   },
   "outputs": [],
   "source": [
    "# Crear una columna purpose_group que almacenara la caegorizacion\n",
    "\n",
    "credit['purpose_group'] = credit['purpose'].apply(purpose_group)\n"
   ]
  },
  {
   "cell_type": "code",
   "execution_count": 72,
   "metadata": {},
   "outputs": [
    {
     "data": {
      "text/plain": [
       "Property     10811\n",
       "Car           4306\n",
       "Education     4013\n",
       "Wedding       2324\n",
       "Name: purpose_group, dtype: int64"
      ]
     },
     "execution_count": 72,
     "metadata": {},
     "output_type": "execute_result"
    }
   ],
   "source": [
    "# Contar los valores de purpose_group para ver la distribución\n",
    "credit['purpose_group'].value_counts()"
   ]
  },
  {
   "cell_type": "markdown",
   "metadata": {},
   "source": [
    "<div class=\"alert alert-block alert-success\">\n",
    "<b>Comentario del revisor</b> <a class=\"tocSkip\"></a>\n",
    "\n",
    "Has resumido correctamente las columnas que lo requerían.\n",
    "</div>"
   ]
  },
  {
   "cell_type": "markdown",
   "metadata": {},
   "source": [
    "## Comprobación de las hipótesis\n"
   ]
  },
  {
   "cell_type": "markdown",
   "metadata": {},
   "source": [
    "**¿Existe una correlación entre tener hijos y pagar a tiempo?**"
   ]
  },
  {
   "cell_type": "code",
   "execution_count": 73,
   "metadata": {},
   "outputs": [
    {
     "data": {
      "text/plain": [
       "children_group\n",
       "De 1 a 2 hijos    0.093137\n",
       "Más de 3 hijos    0.081579\n",
       "Sin hijos         0.075258\n",
       "Name: debt, dtype: float64"
      ]
     },
     "execution_count": 73,
     "metadata": {},
     "output_type": "execute_result"
    }
   ],
   "source": [
    "# Agrupar por 'children_group' y calcular la tasa de incumplimiento\n",
    "debt_by_children = credit.groupby('children_group')['debt'].mean()\n",
    "\n",
    "debt_by_children\n"
   ]
  },
  {
   "cell_type": "markdown",
   "metadata": {},
   "source": [
    "**Conclusión**\n",
    "\n",
    "\n",
    "Estos resultados sugieren que hay una ligera tendencia de que los clientes con entre 1 y 2 hijos tengan una tasa de incumplimiento ligeramente mayor que aquellos con más de 3 hijos o sin hijos. Sin embargo, las diferencias en las tasas de incumplimiento entre los grupos no parecen ser muy significativas."
   ]
  },
  {
   "cell_type": "markdown",
   "metadata": {},
   "source": [
    "**¿Existe una correlación entre la situación familiar y el pago a tiempo?**"
   ]
  },
  {
   "cell_type": "code",
   "execution_count": 74,
   "metadata": {},
   "outputs": [
    {
     "data": {
      "text/plain": [
       "family_status\n",
       "civil_partnership    9.347145\n",
       "divorced             7.112971\n",
       "married              7.545182\n",
       "unmarried            9.750890\n",
       "widow_widower        6.569343\n",
       "Name: debt, dtype: float64"
      ]
     },
     "execution_count": 74,
     "metadata": {},
     "output_type": "execute_result"
    }
   ],
   "source": [
    "# Comprueba los datos del estado familiar y los pagos a tiempo\n",
    "debt_by_family_status = credit.groupby('family_status')['debt'].mean()\n",
    "\n",
    "\n",
    "# Calcular la tasa de incumplimiento\n",
    "debt_rate_by_family_status = debt_by_family_status * 100\n",
    "\n",
    "debt_rate_by_family_status"
   ]
  },
  {
   "cell_type": "markdown",
   "metadata": {},
   "source": [
    "**Conclusión**\n",
    "\n",
    "Incumplimiento para cada grupo de estado familiar:\n",
    "\n",
    "Civil partnership: 9.36%\n",
    "Divorced: 7.14%\n",
    "Married: 7.55%\n",
    "Unmarried: 9.77%\n",
    "Widow/Widower: 6.60%\n",
    "Podemos observar que las tasas de incumplimiento son más altas para los clientes en civil partnership y unmarried, mientras que son más bajas para widow/widower. Estos resultados pueden ser útiles para futuros análisis y toma de decisiones en el ámbito financiero."
   ]
  },
  {
   "cell_type": "markdown",
   "metadata": {},
   "source": [
    "**¿Existe una correlación entre el nivel de ingresos y el pago a tiempo?**"
   ]
  },
  {
   "cell_type": "code",
   "execution_count": 75,
   "metadata": {},
   "outputs": [
    {
     "data": {
      "text/plain": [
       "income_group\n",
       "Ingresos altos           7.146856\n",
       "Ingresos bajos           7.964932\n",
       "Ingresos medios altos    8.566142\n",
       "Ingresos medios bajos    8.783784\n",
       "Ingresos muy altos       0.000000\n",
       "Name: debt, dtype: float64"
      ]
     },
     "execution_count": 75,
     "metadata": {},
     "output_type": "execute_result"
    }
   ],
   "source": [
    "\n",
    "# Calcular la tasa de incumplimiento basada en el nivel de ingresos\n",
    "\n",
    "income_debt = credit.groupby('income_group')['debt'].mean() * 100\n",
    "\n",
    "income_debt"
   ]
  },
  {
   "cell_type": "markdown",
   "metadata": {},
   "source": [
    "**Conclusión**\n",
    "\n",
    "Categorizamos los ingresos en diferentes grupos utilizando umbrales definidos. Observamos que la tasa de incumplimiento varía según el nivel de ingresos, mostrando una tendencia a ser menor para aquellos con ingresos más altos."
   ]
  },
  {
   "cell_type": "markdown",
   "metadata": {},
   "source": [
    "**¿Cómo afecta el propósito del crédito a la tasa de incumplimiento?**"
   ]
  },
  {
   "cell_type": "code",
   "execution_count": 76,
   "metadata": {},
   "outputs": [
    {
     "data": {
      "text/plain": [
       "purpose_group\n",
       "Car          9.359034\n",
       "Education    9.220035\n",
       "Wedding      8.003442\n",
       "Property     7.233373\n",
       "Name: debt, dtype: float64"
      ]
     },
     "execution_count": 76,
     "metadata": {},
     "output_type": "execute_result"
    }
   ],
   "source": [
    "# Consulta los porcentajes de tasa de incumplimiento para cada propósito del crédito y analízalos\n",
    "\n",
    "purpose_group = credit.groupby('purpose_group')['debt'].mean().sort_values(ascending=False) * 100\n",
    "purpose_group"
   ]
  },
  {
   "cell_type": "markdown",
   "metadata": {},
   "source": [
    "**Conclusión**\n",
    "\n",
    "Podemos observar que los préstamos para comprar un automóvil y para fines educativos tienen las tasas de incumplimiento más altas, con un 9.36% y un 9.24%, respectivamente. Por otro lado, los préstamos para bodas tienen una tasa de incumplimiento del 8.01%, mientras que los préstamos para adquirir bienes raíces tienen la tasa de incumplimiento más baja con un 7.25%."
   ]
  },
  {
   "cell_type": "markdown",
   "metadata": {},
   "source": [
    "<div class=\"alert alert-block alert-success\">\n",
    "<b>Comentario del revisor</b> <a class=\"tocSkip\"></a>\n",
    "    \n",
    "Buen trabajo en esta sección y coincido con tus conclusiones.\n",
    "</div>"
   ]
  },
  {
   "cell_type": "markdown",
   "metadata": {},
   "source": [
    "\n",
    "## Conclusión general \n",
    "\n",
    "\n",
    "1. Valores ausentes: El conjunto de datos presentaba valores ausentes en las columnas 'days_employed' y 'total_income', que correspondían a la información laboral y de ingresos de los clientes. Se observó que estos valores ausentes estaban correlacionados y se encontraron patrones consistentes en otras características de los clientes con valores faltantes en 'days_employed'. Se utilizó la mediana agrupada por 'income_type' y 'education' para imputar los valores ausentes en 'days_employed', y la media agrupada por 'children' y 'income_type' para imputar los valores ausentes en 'total_income'.\n",
    "\n",
    "2. Valores negativos en 'days_employed': Se identificó que algunos registros tenían valores negativos en 'days_employed', lo que no era coherente con la naturaleza de la columna que debería representar días trabajados. Se supuso que esto podría deberse a problemas técnicos y se optó por corregir los valores negativos utilizando el valor absoluto.\n",
    "\n",
    "3. Valores extremadamente altos en 'days_employed': Además de los valores negativos, se encontraron valores extremadamente altos en 'days_employed', lo que podría deberse a errores en los datos. Se estableció un límite razonable para considerar valores extremadamente altos y se reemplazaron utilizando la mediana agrupada por 'income_type' y 'education'.\n",
    "\n",
    "4. Valores sospechosos en 'dob_years': Se identificaron valores sospechosos en la columna 'dob_years', con edades de 0 y mayores o iguales a 85 años. Se optó por imputar estos valores utilizando la mediana agrupada por 'education' e 'income_type'.\n",
    "\n",
    "5. Categorización de ingresos: Se agruparon los valores de 'total_income' en categorías basadas en percentiles para una mejor clasificación y análisis. Esto permitió evaluar la relación entre los niveles de ingresos y la tasa de incumplimiento.\n",
    "\n",
    "6. Análisis de la tasa de incumplimiento: Se realizó un análisis de la tasa de incumplimiento en función de diferentes características, como el número de hijos, el estado familiar, el nivel de ingresos y el propósito del crédito. Se encontraron diferencias significativas en las tasas de incumplimiento entre diferentes grupos, lo que proporciona información valiosa para ajustar las políticas de préstamo y evaluar riesgos.\n",
    "\n",
    "En resumen, el procesamiento y análisis de los datos implicaron abordar valores ausentes, valores negativos, valores extremadamente altos en las columnas. Se utilizaron enfoques de imputación basados en medianas y medias agrupadas por características relevantes. Además, se realizó un análisis detallado de la tasa de incumplimiento en función de diferentes características para obtener información valiosa sobre los riesgos y comportamientos de los clientes.\n",
    "\n",
    "Para determinar si el estado civil y el número de hijos de los clientes tienen un impacto en el incumplimiento de pago de un préstamo, hemos realizado el siguiente análisis:\n",
    "\n",
    "1. Estado civil y tasa de incumplimiento: Observamos que los clientes con estado civil \"civil partnership\" (unión civil) tienen la tasa de incumplimiento más alta, seguidos de \"unmarried\" (solteros) y \"divorced\" (divorciados). Por otro lado, los clientes viudos (\"widow_widower\") presentan la tasa de incumplimiento más baja. Esto sugiere que el estado civil puede tener cierta influencia en el incumplimiento de pagos.\n",
    "\n",
    "2. Número de hijos y tasa de incumplimiento: Al analizar el número de hijos, encontramos que los clientes con más de 3 hijos tienen una tasa de incumplimiento ligeramente mayor que aquellos con 1 o 2 hijos. Los clientes sin hijos tienen la tasa de incumplimiento más baja. Esto indica que el número de hijos también podría tener cierta relación con el incumplimiento de pagos.\n",
    "\n",
    "En conclusión, el análisis preliminar muestra que tanto el estado civil como el número de hijos pueden estar relacionados con la tasa de incumplimiento de pago de un préstamo, pero se requiere una investigación más profunda para comprender mejor estas relaciones y tomar decisiones informadas en la evaluación de riesgos crediticios."
   ]
  },
  {
   "cell_type": "markdown",
   "metadata": {},
   "source": [
    "<div class=\"alert alert-block alert-danger\">\n",
    "    \n",
    "# Conclusiones generales\n",
    "<b>Comentario del revisor</b> <a class=\"tocSkip\"></a>\n",
    "    \n",
    "Excelente trabajo, Cece. Ha sido realmente un placer leer tu proyecto y te felicito por lo aprendido y lo logrado. Tenemos dos pequeños elementos pendientes que no te tomarán mucho tiempo seguramente.\n",
    "</div>"
   ]
  },
  {
   "cell_type": "markdown",
   "metadata": {},
   "source": [
    "<div class=\"alert alert-block alert-success\">\n",
    "    \n",
    "# Conclusiones generales\n",
    "<b>Comentario del revisor</b> <a class=\"tocSkip\"></a>\n",
    "    \n",
    "Buen trabajo, Cece. Todo ha sido corregido y has aprobado un nuevo proyecto.\n",
    "</div>"
   ]
  }
 ],
 "metadata": {
  "ExecuteTimeLog": [
   {
    "duration": 2741,
    "start_time": "2021-10-21T01:08:49.480Z"
   },
   {
    "duration": 52,
    "start_time": "2021-10-21T01:08:53.315Z"
   },
   {
    "duration": 49,
    "start_time": "2021-10-21T01:08:57.432Z"
   },
   {
    "duration": 70,
    "start_time": "2021-10-21T01:09:07.706Z"
   }
  ],
  "celltoolbar": "Raw Cell Format",
  "kernelspec": {
   "display_name": "Python 3 (ipykernel)",
   "language": "python",
   "name": "python3"
  },
  "language_info": {
   "codemirror_mode": {
    "name": "ipython",
    "version": 3
   },
   "file_extension": ".py",
   "mimetype": "text/x-python",
   "name": "python",
   "nbconvert_exporter": "python",
   "pygments_lexer": "ipython3",
   "version": "3.9.5"
  },
  "toc": {
   "base_numbering": 1,
   "nav_menu": {},
   "number_sections": true,
   "sideBar": true,
   "skip_h1_title": true,
   "title_cell": "Table of Contents",
   "title_sidebar": "Contents",
   "toc_cell": true,
   "toc_position": {
    "height": "calc(100% - 180px)",
    "left": "10px",
    "top": "150px",
    "width": "165px"
   },
   "toc_section_display": true,
   "toc_window_display": false
  }
 },
 "nbformat": 4,
 "nbformat_minor": 2
}
